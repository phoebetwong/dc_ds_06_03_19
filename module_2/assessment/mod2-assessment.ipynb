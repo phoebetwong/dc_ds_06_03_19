{
 "cells": [
  {
   "cell_type": "markdown",
   "metadata": {},
   "source": [
    "## Mod 2 Assessment \n",
    "## Phoebe Wong"
   ]
  },
  {
   "cell_type": "code",
   "execution_count": 122,
   "metadata": {},
   "outputs": [],
   "source": [
    "# put all imports here\n",
    "import json\n",
    "import requests\n",
    "import pandas as pd\n",
    "import pymongo\n",
    "import sqlite3\n",
    "from bs4 import BeautifulSoup\n",
    "from bson.json_util import loads"
   ]
  },
  {
   "cell_type": "markdown",
   "metadata": {},
   "source": [
    "### SQL (10 Minutes)\n",
    "There is a sqlite3 database in `assets/books.db`. The SQL to create this is also in `assets/books.sql`, if you want to run it manually (you can also import this using https://sqliteonline.com/, or run the SQL file directly).  Both have the same schema and data.\n",
    "\n",
    "The schema has three tables. You can explore the schema in the fiddle posted above.  Please answer the following questions.\n",
    "\n",
    "1. Connect to the database using sqlite3"
   ]
  },
  {
   "cell_type": "code",
   "execution_count": 125,
   "metadata": {},
   "outputs": [],
   "source": [
    "# Your code here\n",
    "conn = sqlite3.connect('assets/books.db')\n",
    "c = conn.cursor()"
   ]
  },
  {
   "cell_type": "code",
   "execution_count": 126,
   "metadata": {},
   "outputs": [
    {
     "name": "stdout",
     "output_type": "stream",
     "text": [
      "[('author', 'table'), ('book', 'table'), ('book_author', 'table')]\n"
     ]
    }
   ],
   "source": [
    "c.execute(\"SELECT name, type FROM sqlite_master;\")\n",
    "print(c.fetchall())"
   ]
  },
  {
   "cell_type": "markdown",
   "metadata": {},
   "source": [
    "2. Querying the DB: how many pages are in the book \"Nine Stories\"?"
   ]
  },
  {
   "cell_type": "code",
   "execution_count": 127,
   "metadata": {
    "scrolled": true
   },
   "outputs": [
    {
     "data": {
      "text/plain": [
       "[(1, 'The Catcher in the Rye', 500),\n",
       " (2, 'Nine Stories', 600),\n",
       " (3, 'Franny and Zooey', 700),\n",
       " (4, 'The Great Gatsby', 800),\n",
       " (5, 'Tender id the Night', 200),\n",
       " (6, 'Pride and Prejudice', 30000),\n",
       " (7, 'Professional ASP.NET 4.5 in C# and VB', 3)]"
      ]
     },
     "execution_count": 127,
     "metadata": {},
     "output_type": "execute_result"
    }
   ],
   "source": [
    "# Your code here\n",
    "c.execute(\"SELECT * FROM book;\").fetchall()"
   ]
  },
  {
   "cell_type": "code",
   "execution_count": 128,
   "metadata": {
    "scrolled": true
   },
   "outputs": [
    {
     "data": {
      "text/plain": [
       "(('book_id', None, None, None, None, None, None),\n",
       " ('title', None, None, None, None, None, None),\n",
       " ('pages', None, None, None, None, None, None))"
      ]
     },
     "execution_count": 128,
     "metadata": {},
     "output_type": "execute_result"
    }
   ],
   "source": [
    "c.description"
   ]
  },
  {
   "cell_type": "code",
   "execution_count": 129,
   "metadata": {
    "scrolled": true
   },
   "outputs": [],
   "source": [
    "p = c.execute('''select pages from book where title='Nine Stories' ''').fetchall()"
   ]
  },
  {
   "cell_type": "code",
   "execution_count": 130,
   "metadata": {},
   "outputs": [
    {
     "name": "stdout",
     "output_type": "stream",
     "text": [
      "Number of pages in Nine Stories: 600\n"
     ]
    }
   ],
   "source": [
    "print(f\"Number of pages in Nine Stories: {p[0][0]}\")"
   ]
  },
  {
   "cell_type": "markdown",
   "metadata": {},
   "source": [
    "3. How many authors are from the USA?"
   ]
  },
  {
   "cell_type": "code",
   "execution_count": 131,
   "metadata": {
    "scrolled": false
   },
   "outputs": [
    {
     "data": {
      "text/plain": [
       "[(1, 'J.D. Salinger', 'USA'),\n",
       " (2, 'F. Scott. Fitzgerald', 'USA'),\n",
       " (3, 'Jane Austen', 'UK'),\n",
       " (4, 'Scott Hanselman', 'USA'),\n",
       " (5, 'Jason N. Gaylord', 'USA'),\n",
       " (6, 'Pranav Rastogi', 'India'),\n",
       " (7, 'Todd Miranda', 'USA'),\n",
       " (8, 'Christian Wenz', 'USA')]"
      ]
     },
     "execution_count": 131,
     "metadata": {},
     "output_type": "execute_result"
    }
   ],
   "source": [
    "# Your code here\n",
    "c.execute(\"SELECT * FROM author;\").fetchall()"
   ]
  },
  {
   "cell_type": "code",
   "execution_count": 132,
   "metadata": {
    "scrolled": true
   },
   "outputs": [
    {
     "data": {
      "text/plain": [
       "(('author_id', None, None, None, None, None, None),\n",
       " ('name', None, None, None, None, None, None),\n",
       " ('country', None, None, None, None, None, None))"
      ]
     },
     "execution_count": 132,
     "metadata": {},
     "output_type": "execute_result"
    }
   ],
   "source": [
    "c.description"
   ]
  },
  {
   "cell_type": "code",
   "execution_count": 133,
   "metadata": {},
   "outputs": [],
   "source": [
    "a = c.execute('''select count(author_id) from author where country='USA'; ''' ).fetchall()"
   ]
  },
  {
   "cell_type": "code",
   "execution_count": 134,
   "metadata": {},
   "outputs": [
    {
     "name": "stdout",
     "output_type": "stream",
     "text": [
      "Number of authors from USA: 6\n"
     ]
    }
   ],
   "source": [
    "print(f\"Number of authors from USA: {a[0][0]}\")"
   ]
  },
  {
   "cell_type": "markdown",
   "metadata": {},
   "source": [
    "4. How many authors does the book \"Professional ASP.NET 4.5 in C# and VB\" have?"
   ]
  },
  {
   "cell_type": "code",
   "execution_count": 135,
   "metadata": {
    "scrolled": false
   },
   "outputs": [
    {
     "data": {
      "text/plain": [
       "[(1, 1),\n",
       " (1, 2),\n",
       " (1, 3),\n",
       " (2, 4),\n",
       " (2, 5),\n",
       " (3, 6),\n",
       " (4, 7),\n",
       " (5, 7),\n",
       " (6, 7),\n",
       " (7, 7),\n",
       " (8, 7)]"
      ]
     },
     "execution_count": 135,
     "metadata": {},
     "output_type": "execute_result"
    }
   ],
   "source": [
    "# Your code here\n",
    "c.execute(\"SELECT * FROM book_author;\").fetchall()"
   ]
  },
  {
   "cell_type": "code",
   "execution_count": 136,
   "metadata": {
    "scrolled": true
   },
   "outputs": [
    {
     "data": {
      "text/plain": [
       "(('author_id', None, None, None, None, None, None),\n",
       " ('book_id', None, None, None, None, None, None))"
      ]
     },
     "execution_count": 136,
     "metadata": {},
     "output_type": "execute_result"
    }
   ],
   "source": [
    "c.description"
   ]
  },
  {
   "cell_type": "code",
   "execution_count": 141,
   "metadata": {},
   "outputs": [
    {
     "name": "stdout",
     "output_type": "stream",
     "text": [
      "Number of authors in Professional ASP.NET 4.5 in C# and VB: 5\n"
     ]
    }
   ],
   "source": [
    "# Your code here\n",
    "pa = c.execute('''select count(author_id), title from book join book_author using(book_id) join author using(author_id)\n",
    "             where title = 'Professional ASP.NET 4.5 in C# and VB';''').fetchall()\n",
    "print(f\"Number of authors in {pa[0][1]}: {pa[0][0]}\")\n"
   ]
  },
  {
   "cell_type": "markdown",
   "metadata": {},
   "source": [
    "5. How many pages total have been written by non-American authors?"
   ]
  },
  {
   "cell_type": "code",
   "execution_count": 142,
   "metadata": {
    "scrolled": true
   },
   "outputs": [
    {
     "data": {
      "text/plain": [
       "[(1, 'The Catcher in the Rye', 500, 1, 'J.D. Salinger', 'USA'),\n",
       " (2, 'Nine Stories', 600, 1, 'J.D. Salinger', 'USA'),\n",
       " (3, 'Franny and Zooey', 700, 1, 'J.D. Salinger', 'USA'),\n",
       " (4, 'The Great Gatsby', 800, 2, 'F. Scott. Fitzgerald', 'USA'),\n",
       " (5, 'Tender id the Night', 200, 2, 'F. Scott. Fitzgerald', 'USA'),\n",
       " (6, 'Pride and Prejudice', 30000, 3, 'Jane Austen', 'UK'),\n",
       " (7, 'Professional ASP.NET 4.5 in C# and VB', 3, 4, 'Scott Hanselman', 'USA'),\n",
       " (7, 'Professional ASP.NET 4.5 in C# and VB', 3, 5, 'Jason N. Gaylord', 'USA'),\n",
       " (7, 'Professional ASP.NET 4.5 in C# and VB', 3, 6, 'Pranav Rastogi', 'India'),\n",
       " (7, 'Professional ASP.NET 4.5 in C# and VB', 3, 7, 'Todd Miranda', 'USA'),\n",
       " (7, 'Professional ASP.NET 4.5 in C# and VB', 3, 8, 'Christian Wenz', 'USA')]"
      ]
     },
     "execution_count": 142,
     "metadata": {},
     "output_type": "execute_result"
    }
   ],
   "source": [
    "# Your code here\n",
    "c.execute('''select * from book join book_author using(book_id) join author using(author_id);''').fetchall()"
   ]
  },
  {
   "cell_type": "code",
   "execution_count": 147,
   "metadata": {},
   "outputs": [],
   "source": [
    "# Your code here\n",
    "na=  c.execute('''select sum(pages), country from book join book_author using(book_id) join author using(author_id)\n",
    "             group by country having country != 'USA';''').fetchall()"
   ]
  },
  {
   "cell_type": "code",
   "execution_count": 148,
   "metadata": {},
   "outputs": [
    {
     "name": "stdout",
     "output_type": "stream",
     "text": [
      "Page total of authors from India: 3\n",
      "Page total of authors from UK: 30000\n"
     ]
    }
   ],
   "source": [
    "print(f\"Page total of authors from {na[0][1]}: {na[0][0]}\")\n",
    "print(f\"Page total of authors from {na[1][1]}: {na[1][0]}\")"
   ]
  },
  {
   "cell_type": "markdown",
   "metadata": {},
   "source": [
    "### Object Oriented Programming (15 Minutes)\n",
    "Below is the stub of some classes. Make the classes adhere to the following rules. The code beneath the cell should  run successfully.\n",
    "1. Force every new instance of `WeWorkMember` to pass in a value to set the attribute `name`.\n",
    "1. Give every new instance of `WeWorkMember` an attribute `caffeinated` that is set to `False`. \n",
    "1. Give `WeWorkMember` an **instance** method called `caffeinate()` that prints out \"Getting coffee!\" and sets the attribute `caffeinated` to `True`.\n",
    "1. Make it so that `Staff` and `Student` inherit from `WeWorkMember`\n",
    "1. Give `Staff` a **static** method called `cheer()` that prints out \"Goooooooo Flatiron Students!\"\n",
    "1. Give `Students` a **class** method called `learn()` that takes in an integer and returns that number +1"
   ]
  },
  {
   "cell_type": "code",
   "execution_count": 296,
   "metadata": {},
   "outputs": [],
   "source": [
    "# Modify this cell\n",
    "class WeWorkMember(object):\n",
    "\n",
    "    def __init__(self, name):\n",
    "        self.name = name\n",
    "        self.caffeinated = False\n",
    "\n",
    "    def caffeinate(self):\n",
    "        print(\"Getting coffee!\")\n",
    "        self.caffeinated = True\n",
    "\n",
    "\n",
    "class Staff(WeWorkMember):\n",
    "\n",
    "    def __init__(self, name):\n",
    "        super().__init__(name)\n",
    "\n",
    "    def cheer():\n",
    "        print(\"Goooooooo Flatiron Students!\")\n",
    "\n",
    "\n",
    "class Student(WeWorkMember):\n",
    "\n",
    "    def __init__(self, name):\n",
    "        super().__init__(name)\n",
    "\n",
    "    def something(self):\n",
    "        print('sth')\n",
    "\n",
    "    @classmethod\n",
    "    def learn(cls, i):\n",
    "        i += 1\n",
    "        return i"
   ]
  },
  {
   "cell_type": "code",
   "execution_count": 297,
   "metadata": {},
   "outputs": [
    {
     "name": "stdout",
     "output_type": "stream",
     "text": [
      "Getting coffee!\n",
      "Goooooooo Flatiron Students!\n",
      "Getting coffee!\n"
     ]
    },
    {
     "data": {
      "text/plain": [
       "100"
      ]
     },
     "execution_count": 297,
     "metadata": {},
     "output_type": "execute_result"
    }
   ],
   "source": [
    "# DO NOT MODIFY this cell. if you want to add more tests, add them in a new cell!\n",
    "try:\n",
    "    nobody = Staff()\n",
    "    raise RuntimeError('Staff needs a name!')\n",
    "except TypeError:\n",
    "    pass\n",
    "\n",
    "andy = Staff('Andy')\n",
    "assert andy.caffeinated is False\n",
    "andy.caffeinate()\n",
    "assert andy.caffeinated is True\n",
    "\n",
    "Staff.cheer()\n",
    "\n",
    "bobby = Student('Bobby Tables')\n",
    "assert bobby.caffeinated is False\n",
    "bobby.caffeinate()\n",
    "assert bobby.caffeinated is True\n",
    "\n",
    "Student.learn(99)"
   ]
  },
  {
   "cell_type": "markdown",
   "metadata": {},
   "source": [
    "### APIs (10 Minutes)\n",
    "Using this API (http://www.nokeynoshade.party/api/judges) about RuPaul's Drag Race (docs: https://drag-race-api.readme.io/docs/get-all-judges), tell me how many judges of each **`type`** there were in the first 50 records the API returns.\n",
    " - the 50 judges will have **`id`** ranging from 1 to 53\n",
    " - you can do the aggregation in pure Python, Pandas, SQL-- whatever's easiest for you"
   ]
  },
  {
   "cell_type": "code",
   "execution_count": 175,
   "metadata": {},
   "outputs": [
    {
     "data": {
      "text/plain": [
       "b'[{\"id\":1,\"name\":\"Rupaul\",\"image_url\":\"https://vignette.wikia.nocookie.net/logosrupaulsdragrace/images/b/ba/Rupaul_blackpink_final.jpg/revision/latest/scale-to-width-down/350?cb=20110731183922\",\"bio\":\"Drag performer, actor, television host, and recording artist\",\"type\":\"regular\",\"createdAt\":\"2018-01-11T00:43:31.258Z\",\"updatedAt\":\"2018-01-11T00:43:31.258Z\"},{\"id\":2,\"name\":\"Bob Mackie\",\"image_url\":null,\"bio\":\"Fashion Designer\",\"type\":\"guest\",\"createdAt\":\"2017-08-22T00:27:40.731Z\",\"updatedAt\":\"2017-08-22T00:27:40.731Z\"},{\"id\":3,\"name\":\"Mike Ruiz\",\"image_url\":\"https://vignette3.wikia.nocookie.net/logosrupaulsdragrace/images/7/7c/Mike_Ruiz.jpg/revision/latest/scale-to-width-down/350?cb=20110731184513\",\"bio\":\"Photographer\",\"type\":\"regular\",\"createdAt\":\"2017-08-22T00:46:35.279Z\",\"updatedAt\":\"2017-08-22T00:46:35.279Z\"},{\"id\":4,\"name\":\"Michelle Williams\",\"image_url\":\"https://upload.wikimedia.org/wikipedia/commons/thumb/a/a0/Michelle_Williams_2015.jpg/220px-Michelle_Williams_2015.jpg\",\"bio\":\"Singer\",\"type\":\"guest\",\"createdAt\":\"2017-08-22T00:49:01.253Z\",\"updatedAt\":\"2017-08-22T00:49:01.253Z\"},{\"id\":5,\"name\":\"Frank Gatson, Jr.\",\"image_url\":null,\"bio\":\"Choreographer and Director\",\"type\":\"guest\",\"createdAt\":\"2017-08-22T00:51:15.898Z\",\"updatedAt\":\"2017-08-22T00:51:15.898Z\"},{\"id\":6,\"name\":\"Debra Wilson\",\"image_url\":\"https://upload.wikimedia.org/wikipedia/commons/thumb/6/66/Debra_Wilson_Skelton_2010.jpg/220px-Debra_Wilson_Skelton_2010.jpg\",\"bio\":\"Actress and Comedian\",\"type\":\"guest\",\"createdAt\":\"2017-08-22T00:52:23.876Z\",\"updatedAt\":\"2017-08-22T00:52:23.876Z\"},{\"id\":7,\"name\":\"Howard Bragman\",\"image_url\":null,\"bio\":\"Public Relations\",\"type\":\"guest\",\"createdAt\":\"2017-08-22T00:53:06.547Z\",\"updatedAt\":\"2017-08-22T00:53:06.547Z\"},{\"id\":8,\"name\":\"Jenny Shimizu\",\"image_url\":\"https://upload.wikimedia.org/wikipedia/commons/thumb/9/9d/Jenny_Shimizu.jpg/175px-Jenny_Shimizu.jpg\",\"bio\":\"Model and Actress\",\"type\":\"guest\",\"createdAt\":\"2017-08-22T00:55:31.608Z\",\"updatedAt\":\"2017-08-22T00:55:31.608Z\"},{\"id\":9,\"name\":\"Gordon Espinet\",\"image_url\":null,\"bio\":\"Makeup Artistry, MAC Cosmetics\",\"type\":\"guest\",\"createdAt\":\"2017-08-22T00:56:25.421Z\",\"updatedAt\":\"2017-08-22T00:56:25.421Z\"},{\"id\":10,\"name\":\"Lucy Lawless\",\"image_url\":\"https://upload.wikimedia.org/wikipedia/commons/thumb/1/14/Lucy_Lawless_by_Gage_Skidmore_2.jpg/220px-Lucy_Lawless_by_Gage_Skidmore_2.jpg\",\"bio\":\"Actress\",\"type\":\"guest\",\"createdAt\":\"2017-08-22T00:57:39.975Z\",\"updatedAt\":\"2017-08-22T00:57:39.975Z\"},{\"id\":11,\"name\":\"Robin Antin\",\"image_url\":\"https://upload.wikimedia.org/wikipedia/commons/thumb/2/24/Robin_Antin.jpg/200px-Robin_Antin.jpg\",\"bio\":\"Singer\",\"type\":\"guest\",\"createdAt\":\"2017-08-22T00:58:33.516Z\",\"updatedAt\":\"2017-08-22T00:58:33.516Z\"},{\"id\":12,\"name\":\"Jeffrey Moran\",\"image_url\":null,\"bio\":\"Image Consultant\",\"type\":\"guest\",\"createdAt\":\"2017-08-22T01:00:44.596Z\",\"updatedAt\":\"2017-08-22T01:00:44.596Z\"},{\"id\":13,\"name\":\"Mar\\xc3\\xada Conchita Alonso\",\"image_url\":\"https://upload.wikimedia.org/wikipedia/commons/thumb/2/23/Maria_Conchita_Alonso_LA_Pride_2011.jpg/220px-Maria_Conchita_Alonso_LA_Pride_2011.jpg\",\"bio\":\"Singer/Songwriter and Actress\",\"type\":\"guest\",\"createdAt\":\"2017-08-22T01:08:13.175Z\",\"updatedAt\":\"2017-08-22T01:08:13.175Z\"},{\"id\":14,\"name\":\"Kathy Griffin\",\"image_url\":\"https://upload.wikimedia.org/wikipedia/commons/thumb/8/8a/Kathy_Griffin_2015_TCA_Press_Tour_%28cropped%29.jpg/220px-Kathy_Griffin_2015_TCA_Press_Tour_%28cropped%29.jpg\",\"bio\":\"Actress, Comedian, Writer, Producer, and Television Host\",\"type\":\"guest\",\"createdAt\":\"2017-08-22T01:11:10.176Z\",\"updatedAt\":\"2017-08-22T01:11:10.176Z\"},{\"id\":15,\"name\":\"Kim Coles\",\"image_url\":\"https://upload.wikimedia.org/wikipedia/commons/thumb/3/35/Kim_Coles.jpg/220px-Kim_Coles.jpg\",\"bio\":\"Actress, Comedian and Gameshow Host\",\"type\":\"guest\",\"createdAt\":\"2017-08-22T01:13:00.823Z\",\"updatedAt\":\"2017-08-22T01:13:00.823Z\"},{\"id\":16,\"name\":\"Dita Von Teese\",\"image_url\":\"https://upload.wikimedia.org/wikipedia/commons/thumb/6/6f/Dita_Von_Teese_at_Cannes_2007.jpg/220px-Dita_Von_Teese_at_Cannes_2007.jpg\",\"bio\":\"Burlesque Dancer, Model, Costume Designer\",\"type\":\"guest\",\"createdAt\":\"2017-08-22T01:14:23.109Z\",\"updatedAt\":\"2017-08-22T01:14:23.109Z\"},{\"id\":17,\"name\":\"Kathy Najimy\",\"image_url\":\"https://upload.wikimedia.org/wikipedia/commons/thumb/3/3c/Kathy_Najimy.jpg/220px-Kathy_Najimy.jpg\",\"bio\":\"Actress and Comedian\",\"type\":\"guest\",\"createdAt\":\"2017-08-22T01:16:00.413Z\",\"updatedAt\":\"2017-08-22T01:16:00.413Z\"},{\"id\":18,\"name\":\"Tanya Tucker\",\"image_url\":\"https://upload.wikimedia.org/wikipedia/commons/thumb/7/77/Tanya_Tucker.png/250px-Tanya_Tucker.png\",\"bio\":\"Country Music Artist\",\"type\":\"guest\",\"createdAt\":\"2017-08-22T01:18:00.077Z\",\"updatedAt\":\"2017-08-22T01:18:00.077Z\"},{\"id\":19,\"name\":\"Lisa Rinna\",\"image_url\":\"https://upload.wikimedia.org/wikipedia/commons/d/d2/Lisa_Rinna6crop.jpg\",\"bio\":\"Actress and Television Host\",\"type\":\"guest\",\"createdAt\":\"2017-08-22T01:19:31.389Z\",\"updatedAt\":\"2017-08-22T01:19:31.389Z\"},{\"id\":20,\"name\":\"Niecy Nash\",\"image_url\":\"https://upload.wikimedia.org/wikipedia/commons/thumb/b/b7/Niecy_Nash_2010.jpg/220px-Niecy_Nash_2010.jpg\",\"bio\":\"Comedian, Model, Actress, and Producer\",\"type\":\"guest\",\"createdAt\":\"2017-08-22T01:20:31.627Z\",\"updatedAt\":\"2017-08-22T01:20:31.627Z\"},{\"id\":21,\"name\":\"Mathu Andersen\",\"image_url\":\"https://vignette1.wikia.nocookie.net/logosrupaulsdragrace/images/9/95/Mathu_Andersen.jpeg/revision/latest/scale-to-width-down/350?cb=20160415221021\",\"bio\":\"Makeup Artist\",\"type\":\"guest\",\"createdAt\":\"2017-10-18T00:51:16.710Z\",\"updatedAt\":\"2017-10-18T00:51:16.710Z\"},{\"id\":22,\"name\":\"Martha Wash\",\"image_url\":\"https://upload.wikimedia.org/wikipedia/commons/thumb/3/3e/Martha_Wash.jpg/220px-Martha_Wash.jpg\",\"bio\":\"Singer and Songwriter\",\"type\":\"guest\",\"createdAt\":\"2017-10-18T00:55:22.512Z\",\"updatedAt\":\"2017-10-18T00:55:22.512Z\"},{\"id\":23,\"name\":\"Henry Rollins\",\"image_url\":\"https://upload.wikimedia.org/wikipedia/commons/thumb/e/e5/HenryRollins2010.jpg/250px-HenryRollins2010.jpg\",\"bio\":\"Musician\",\"type\":\"guest\",\"createdAt\":\"2017-10-18T00:57:00.718Z\",\"updatedAt\":\"2017-10-18T00:57:00.718Z\"},{\"id\":24,\"name\":\"Terri Nunn\",\"image_url\":\"https://upload.wikimedia.org/wikipedia/commons/thumb/e/e9/Terri_Nunn_at_OpenWorld_crop.jpg/220px-Terri_Nunn_at_OpenWorld_crop.jpg\",\"bio\":\"Singer and Actress\",\"type\":\"guest\",\"createdAt\":\"2017-10-18T00:58:58.414Z\",\"updatedAt\":\"2017-10-18T00:58:58.414Z\"},{\"id\":25,\"name\":\"Gigi Levangie Grazer\",\"image_url\":null,\"bio\":\"Novelist, Screenwriter, and Producer\",\"type\":\"guest\",\"createdAt\":\"2017-10-18T01:02:21.102Z\",\"updatedAt\":\"2017-10-18T01:02:21.102Z\"},{\"id\":26,\"name\":\"Jackie Collins\",\"image_url\":\"https://upload.wikimedia.org/wikipedia/commons/thumb/2/21/Jackie_Collins.jpg/220px-Jackie_Collins.jpg\",\"bio\":\"Romance Novelist\",\"type\":\"guest\",\"createdAt\":\"2017-10-18T01:06:41.873Z\",\"updatedAt\":\"2017-10-18T01:06:41.873Z\"},{\"id\":27,\"name\":\"Debbie Reynolds\",\"image_url\":\"https://upload.wikimedia.org/wikipedia/commons/thumb/d/d5/Debbie_Reynolds_33.jpg/220px-Debbie_Reynolds_33.jpg\",\"bio\":\"Actress\",\"type\":\"guest\",\"createdAt\":\"2017-10-18T01:08:14.200Z\",\"updatedAt\":\"2017-10-18T01:08:14.200Z\"},{\"id\":28,\"name\":\"Cloris Leachman\",\"image_url\":\"https://upload.wikimedia.org/wikipedia/commons/thumb/2/22/Cloris_Leachman_1970.JPG/220px-Cloris_Leachman_1970.JPG\",\"bio\":\"Actress\",\"type\":\"guest\",\"createdAt\":\"2017-10-18T01:08:59.558Z\",\"updatedAt\":\"2017-10-18T01:08:59.558Z\"},{\"id\":29,\"name\":\"Toni Ko\",\"image_url\":null,\"bio\":\"NYX Cosmetics Founder\",\"type\":\"guest\",\"createdAt\":\"2017-10-18T01:10:07.021Z\",\"updatedAt\":\"2017-10-18T01:10:07.021Z\"},{\"id\":30,\"name\":\"Tatum O\\'Neal\",\"image_url\":\"https://upload.wikimedia.org/wikipedia/commons/thumb/8/88/Tatum_O%27Neal_-_November_2014_%28cropped%29.jpg/220px-Tatum_O%27Neal_-_November_2014_%28cropped%29.jpg\",\"bio\":\"Actress and Author\",\"type\":\"guest\",\"createdAt\":\"2017-10-18T01:10:58.088Z\",\"updatedAt\":\"2017-10-18T01:10:58.088Z\"},{\"id\":31,\"name\":\"Marissa Jaret Winokur\",\"image_url\":\"https://upload.wikimedia.org/wikipedia/commons/thumb/5/51/Marissa_Jaret_Winokur.jpg/220px-Marissa_Jaret_Winokur.jpg\",\"bio\":\"Actress\",\"type\":\"guest\",\"createdAt\":\"2017-10-18T01:13:28.239Z\",\"updatedAt\":\"2017-10-18T01:13:28.239Z\"},{\"id\":32,\"name\":\"Bruce Vilanch\",\"image_url\":\"https://upload.wikimedia.org/wikipedia/commons/thumb/a/af/Brucevilanch.jpg/165px-Brucevilanch.jpg\",\"bio\":\"Comedy Writer, Songwriter, and Actor\",\"type\":\"guest\",\"createdAt\":\"2017-10-18T01:18:15.861Z\",\"updatedAt\":\"2017-10-18T01:18:15.861Z\"},{\"id\":33,\"name\":\"Vanessa Williams\",\"image_url\":\"https://upload.wikimedia.org/wikipedia/commons/thumb/a/ae/VanessaWilliamsHWoFMar2012.jpg/220px-VanessaWilliamsHWoFMar2012.jpg\",\"bio\":\"Actress, Singer, and former Miss America\",\"type\":\"guest\",\"createdAt\":\"2017-10-18T01:19:37.317Z\",\"updatedAt\":\"2017-10-18T01:19:37.317Z\"},{\"id\":34,\"name\":\"Lily Tomlin\",\"image_url\":\"https://upload.wikimedia.org/wikipedia/commons/thumb/6/63/Lily_Tomlin_2014.jpg/220px-Lily_Tomlin_2014.jpg\",\"bio\":\"Actress and Comedian\",\"type\":\"guest\",\"createdAt\":\"2017-10-18T01:21:08.770Z\",\"updatedAt\":\"2017-10-18T01:21:08.770Z\"},{\"id\":35,\"name\":\"Alessandra Torresani\",\"image_url\":\"https://upload.wikimedia.org/wikipedia/commons/thumb/2/24/AlessandraTorresaniApr09.jpg/250px-AlessandraTorresaniApr09.jpg\",\"bio\":\"Actress\",\"type\":\"guest\",\"createdAt\":\"2017-10-18T01:21:56.375Z\",\"updatedAt\":\"2017-10-18T01:21:56.375Z\"},{\"id\":36,\"name\":\"LaToya Jackson\",\"image_url\":\"https://upload.wikimedia.org/wikipedia/commons/thumb/a/ab/La_Toya_Jackson_cropped.jpg/220px-La_Toya_Jackson_cropped.jpg\",\"bio\":\"Singer\",\"type\":\"guest\",\"createdAt\":\"2017-10-18T01:25:31.321Z\",\"updatedAt\":\"2017-10-18T01:25:31.321Z\"},{\"id\":37,\"name\":\"Susan Powter\",\"image_url\":null,\"bio\":\"Motivational Speaker and Fitness Guru\",\"type\":\"guest\",\"createdAt\":\"2017-10-18T01:26:35.090Z\",\"updatedAt\":\"2017-10-18T01:26:35.090Z\"},{\"id\":38,\"name\":\"Billy B\",\"image_url\":\"https://images-na.ssl-images-amazon.com/images/M/MV5BMTM1MjA0Njg1N15BMl5BanBnXkFtZTcwMDEwMzIzMQ@@._V1_.jpg\",\"bio\":\"Makeup Artist\",\"type\":\"interim\",\"createdAt\":\"2017-11-08T00:33:47.079Z\",\"updatedAt\":\"2017-11-08T00:33:47.079Z\"},{\"id\":39,\"name\":\"Margaret Cho\",\"image_url\":\"https://en.wikipedia.org/wiki/File:Margaret_Cho,_2011_Cannes_(crop).png\",\"bio\":\"Actress and Comedian\",\"type\":\"guest\",\"createdAt\":\"2017-11-08T00:36:51.418Z\",\"updatedAt\":\"2017-11-08T00:36:51.418Z\"},{\"id\":40,\"name\":\"Eliza Dushku\",\"image_url\":\"https://en.wikipedia.org/wiki/File:Eliza_Dushku_2,_2012.jpg\",\"bio\":\"Actress\",\"type\":\"guest\",\"createdAt\":\"2017-11-08T00:38:47.096Z\",\"updatedAt\":\"2017-11-08T00:38:47.096Z\"},{\"id\":41,\"name\":\"Carmen Electra\",\"image_url\":\"https://upload.wikimedia.org/wikipedia/commons/thumb/b/bb/Carmen_Electra_2013.jpg/220px-Carmen_Electra_2013.jpg\",\"bio\":\"Actress\",\"type\":\"guest\",\"createdAt\":\"2017-11-08T00:48:29.247Z\",\"updatedAt\":\"2017-11-08T00:48:29.247Z\"},{\"id\":42,\"name\":\"Fantasia Barrino\",\"image_url\":\"https://en.wikipedia.org/wiki/File:Fantasia_Barrino.jpg\",\"bio\":\"Singer, Actress, and Author\",\"type\":\"guest\",\"createdAt\":\"2017-11-08T00:51:01.149Z\",\"updatedAt\":\"2017-11-08T00:51:01.149Z\"},{\"id\":46,\"name\":\"Debbie Matenopoulos\",\"image_url\":\"NULL\",\"bio\":\"Television Host\",\"type\":\"guest\",\"createdAt\":\"2017-11-08T00:57:56.016Z\",\"updatedAt\":\"2017-11-08T00:57:56.016Z\"},{\"id\":47,\"name\":\"Wayne Brady\",\"image_url\":\"https://upload.wikimedia.org/wikipedia/commons/thumb/b/bb/Wayne_Brady_2015.jpg/220px-Wayne_Brady_2015.jpg\",\"bio\":\"Actor, Comedian, and Singer\",\"type\":\"guest\",\"createdAt\":\"2017-11-08T00:59:02.441Z\",\"updatedAt\":\"2017-11-08T00:59:02.441Z\"},{\"id\":48,\"name\":\"Arden Myrin\",\"image_url\":\"https://en.wikipedia.org/wiki/File:Arden_V._Myrin.jpg\",\"bio\":\"Comedian, Former Cast Member of MADtv\",\"type\":\"guest\",\"createdAt\":\"2017-11-08T01:00:27.594Z\",\"updatedAt\":\"2017-11-08T01:00:27.594Z\"},{\"id\":49,\"name\":\"Sharon Osbourne\",\"image_url\":\"https://en.wikipedia.org/wiki/File:Sharon_Osbourne_2,_2012.jpg\",\"bio\":\"Television Host and Reality Television Personality\",\"type\":\"guest\",\"createdAt\":\"2017-11-08T01:02:03.123Z\",\"updatedAt\":\"2017-11-08T01:02:03.123Z\"},{\"id\":50,\"name\":\"Amber Rose\",\"image_url\":\"https://upload.wikimedia.org/wikipedia/commons/thumb/2/2c/Amber_Rose_-_2014_People_Magazine_Awards_%28cropped%29.jpg/220px-Amber_Rose_-_2014_People_Magazine_Awards_%28cropped%29.jpg\",\"bio\":\"Model\",\"type\":\"guest\",\"createdAt\":\"2017-11-08T01:04:04.016Z\",\"updatedAt\":\"2017-11-08T01:04:04.016Z\"},{\"id\":51,\"name\":\"Rita Rudner\",\"image_url\":\"https://upload.wikimedia.org/wikipedia/commons/thumb/4/4f/Rita_Rudner.jpg/220px-Rita_Rudner.jpg\",\"bio\":\"Comedian\",\"type\":\"guest\",\"createdAt\":\"2017-11-08T01:07:08.437Z\",\"updatedAt\":\"2017-11-08T01:07:08.437Z\"},{\"id\":52,\"name\":\"Sara Rue\",\"image_url\":\"https://en.wikipedia.org/wiki/File:Sara_Rue.jpg\",\"bio\":\"Actress\",\"type\":\"guest\",\"createdAt\":\"2017-11-08T01:10:47.782Z\",\"updatedAt\":\"2017-11-08T01:10:47.782Z\"},{\"id\":53,\"name\":\"Chloe Sevigny\",\"image_url\":\"https://upload.wikimedia.org/wikipedia/commons/thumb/0/0f/Chloe_Sevigny_Horror_premiere_2015.jpg/220px-Chloe_Sevigny_Horror_premiere_2015.jpg\",\"bio\":\"Actress and Model\",\"type\":\"guest\",\"createdAt\":\"2017-11-08T01:12:23.561Z\",\"updatedAt\":\"2017-11-08T01:12:23.561Z\"}]'"
      ]
     },
     "execution_count": 175,
     "metadata": {},
     "output_type": "execute_result"
    }
   ],
   "source": [
    "limit= {'limit':50}\n",
    "url='http://www.nokeynoshade.party/api/judges'\n",
    "response = requests.request(\"GET\", url, params=limit)\n",
    "response.content"
   ]
  },
  {
   "cell_type": "code",
   "execution_count": 177,
   "metadata": {},
   "outputs": [
    {
     "data": {
      "text/plain": [
       "[{'id': 1,\n",
       "  'name': 'Rupaul',\n",
       "  'image_url': 'https://vignette.wikia.nocookie.net/logosrupaulsdragrace/images/b/ba/Rupaul_blackpink_final.jpg/revision/latest/scale-to-width-down/350?cb=20110731183922',\n",
       "  'bio': 'Drag performer, actor, television host, and recording artist',\n",
       "  'type': 'regular',\n",
       "  'createdAt': '2018-01-11T00:43:31.258Z',\n",
       "  'updatedAt': '2018-01-11T00:43:31.258Z'},\n",
       " {'id': 2,\n",
       "  'name': 'Bob Mackie',\n",
       "  'image_url': None,\n",
       "  'bio': 'Fashion Designer',\n",
       "  'type': 'guest',\n",
       "  'createdAt': '2017-08-22T00:27:40.731Z',\n",
       "  'updatedAt': '2017-08-22T00:27:40.731Z'},\n",
       " {'id': 3,\n",
       "  'name': 'Mike Ruiz',\n",
       "  'image_url': 'https://vignette3.wikia.nocookie.net/logosrupaulsdragrace/images/7/7c/Mike_Ruiz.jpg/revision/latest/scale-to-width-down/350?cb=20110731184513',\n",
       "  'bio': 'Photographer',\n",
       "  'type': 'regular',\n",
       "  'createdAt': '2017-08-22T00:46:35.279Z',\n",
       "  'updatedAt': '2017-08-22T00:46:35.279Z'},\n",
       " {'id': 4,\n",
       "  'name': 'Michelle Williams',\n",
       "  'image_url': 'https://upload.wikimedia.org/wikipedia/commons/thumb/a/a0/Michelle_Williams_2015.jpg/220px-Michelle_Williams_2015.jpg',\n",
       "  'bio': 'Singer',\n",
       "  'type': 'guest',\n",
       "  'createdAt': '2017-08-22T00:49:01.253Z',\n",
       "  'updatedAt': '2017-08-22T00:49:01.253Z'},\n",
       " {'id': 5,\n",
       "  'name': 'Frank Gatson, Jr.',\n",
       "  'image_url': None,\n",
       "  'bio': 'Choreographer and Director',\n",
       "  'type': 'guest',\n",
       "  'createdAt': '2017-08-22T00:51:15.898Z',\n",
       "  'updatedAt': '2017-08-22T00:51:15.898Z'},\n",
       " {'id': 6,\n",
       "  'name': 'Debra Wilson',\n",
       "  'image_url': 'https://upload.wikimedia.org/wikipedia/commons/thumb/6/66/Debra_Wilson_Skelton_2010.jpg/220px-Debra_Wilson_Skelton_2010.jpg',\n",
       "  'bio': 'Actress and Comedian',\n",
       "  'type': 'guest',\n",
       "  'createdAt': '2017-08-22T00:52:23.876Z',\n",
       "  'updatedAt': '2017-08-22T00:52:23.876Z'},\n",
       " {'id': 7,\n",
       "  'name': 'Howard Bragman',\n",
       "  'image_url': None,\n",
       "  'bio': 'Public Relations',\n",
       "  'type': 'guest',\n",
       "  'createdAt': '2017-08-22T00:53:06.547Z',\n",
       "  'updatedAt': '2017-08-22T00:53:06.547Z'},\n",
       " {'id': 8,\n",
       "  'name': 'Jenny Shimizu',\n",
       "  'image_url': 'https://upload.wikimedia.org/wikipedia/commons/thumb/9/9d/Jenny_Shimizu.jpg/175px-Jenny_Shimizu.jpg',\n",
       "  'bio': 'Model and Actress',\n",
       "  'type': 'guest',\n",
       "  'createdAt': '2017-08-22T00:55:31.608Z',\n",
       "  'updatedAt': '2017-08-22T00:55:31.608Z'},\n",
       " {'id': 9,\n",
       "  'name': 'Gordon Espinet',\n",
       "  'image_url': None,\n",
       "  'bio': 'Makeup Artistry, MAC Cosmetics',\n",
       "  'type': 'guest',\n",
       "  'createdAt': '2017-08-22T00:56:25.421Z',\n",
       "  'updatedAt': '2017-08-22T00:56:25.421Z'},\n",
       " {'id': 10,\n",
       "  'name': 'Lucy Lawless',\n",
       "  'image_url': 'https://upload.wikimedia.org/wikipedia/commons/thumb/1/14/Lucy_Lawless_by_Gage_Skidmore_2.jpg/220px-Lucy_Lawless_by_Gage_Skidmore_2.jpg',\n",
       "  'bio': 'Actress',\n",
       "  'type': 'guest',\n",
       "  'createdAt': '2017-08-22T00:57:39.975Z',\n",
       "  'updatedAt': '2017-08-22T00:57:39.975Z'},\n",
       " {'id': 11,\n",
       "  'name': 'Robin Antin',\n",
       "  'image_url': 'https://upload.wikimedia.org/wikipedia/commons/thumb/2/24/Robin_Antin.jpg/200px-Robin_Antin.jpg',\n",
       "  'bio': 'Singer',\n",
       "  'type': 'guest',\n",
       "  'createdAt': '2017-08-22T00:58:33.516Z',\n",
       "  'updatedAt': '2017-08-22T00:58:33.516Z'},\n",
       " {'id': 12,\n",
       "  'name': 'Jeffrey Moran',\n",
       "  'image_url': None,\n",
       "  'bio': 'Image Consultant',\n",
       "  'type': 'guest',\n",
       "  'createdAt': '2017-08-22T01:00:44.596Z',\n",
       "  'updatedAt': '2017-08-22T01:00:44.596Z'},\n",
       " {'id': 13,\n",
       "  'name': 'María Conchita Alonso',\n",
       "  'image_url': 'https://upload.wikimedia.org/wikipedia/commons/thumb/2/23/Maria_Conchita_Alonso_LA_Pride_2011.jpg/220px-Maria_Conchita_Alonso_LA_Pride_2011.jpg',\n",
       "  'bio': 'Singer/Songwriter and Actress',\n",
       "  'type': 'guest',\n",
       "  'createdAt': '2017-08-22T01:08:13.175Z',\n",
       "  'updatedAt': '2017-08-22T01:08:13.175Z'},\n",
       " {'id': 14,\n",
       "  'name': 'Kathy Griffin',\n",
       "  'image_url': 'https://upload.wikimedia.org/wikipedia/commons/thumb/8/8a/Kathy_Griffin_2015_TCA_Press_Tour_%28cropped%29.jpg/220px-Kathy_Griffin_2015_TCA_Press_Tour_%28cropped%29.jpg',\n",
       "  'bio': 'Actress, Comedian, Writer, Producer, and Television Host',\n",
       "  'type': 'guest',\n",
       "  'createdAt': '2017-08-22T01:11:10.176Z',\n",
       "  'updatedAt': '2017-08-22T01:11:10.176Z'},\n",
       " {'id': 15,\n",
       "  'name': 'Kim Coles',\n",
       "  'image_url': 'https://upload.wikimedia.org/wikipedia/commons/thumb/3/35/Kim_Coles.jpg/220px-Kim_Coles.jpg',\n",
       "  'bio': 'Actress, Comedian and Gameshow Host',\n",
       "  'type': 'guest',\n",
       "  'createdAt': '2017-08-22T01:13:00.823Z',\n",
       "  'updatedAt': '2017-08-22T01:13:00.823Z'},\n",
       " {'id': 16,\n",
       "  'name': 'Dita Von Teese',\n",
       "  'image_url': 'https://upload.wikimedia.org/wikipedia/commons/thumb/6/6f/Dita_Von_Teese_at_Cannes_2007.jpg/220px-Dita_Von_Teese_at_Cannes_2007.jpg',\n",
       "  'bio': 'Burlesque Dancer, Model, Costume Designer',\n",
       "  'type': 'guest',\n",
       "  'createdAt': '2017-08-22T01:14:23.109Z',\n",
       "  'updatedAt': '2017-08-22T01:14:23.109Z'},\n",
       " {'id': 17,\n",
       "  'name': 'Kathy Najimy',\n",
       "  'image_url': 'https://upload.wikimedia.org/wikipedia/commons/thumb/3/3c/Kathy_Najimy.jpg/220px-Kathy_Najimy.jpg',\n",
       "  'bio': 'Actress and Comedian',\n",
       "  'type': 'guest',\n",
       "  'createdAt': '2017-08-22T01:16:00.413Z',\n",
       "  'updatedAt': '2017-08-22T01:16:00.413Z'},\n",
       " {'id': 18,\n",
       "  'name': 'Tanya Tucker',\n",
       "  'image_url': 'https://upload.wikimedia.org/wikipedia/commons/thumb/7/77/Tanya_Tucker.png/250px-Tanya_Tucker.png',\n",
       "  'bio': 'Country Music Artist',\n",
       "  'type': 'guest',\n",
       "  'createdAt': '2017-08-22T01:18:00.077Z',\n",
       "  'updatedAt': '2017-08-22T01:18:00.077Z'},\n",
       " {'id': 19,\n",
       "  'name': 'Lisa Rinna',\n",
       "  'image_url': 'https://upload.wikimedia.org/wikipedia/commons/d/d2/Lisa_Rinna6crop.jpg',\n",
       "  'bio': 'Actress and Television Host',\n",
       "  'type': 'guest',\n",
       "  'createdAt': '2017-08-22T01:19:31.389Z',\n",
       "  'updatedAt': '2017-08-22T01:19:31.389Z'},\n",
       " {'id': 20,\n",
       "  'name': 'Niecy Nash',\n",
       "  'image_url': 'https://upload.wikimedia.org/wikipedia/commons/thumb/b/b7/Niecy_Nash_2010.jpg/220px-Niecy_Nash_2010.jpg',\n",
       "  'bio': 'Comedian, Model, Actress, and Producer',\n",
       "  'type': 'guest',\n",
       "  'createdAt': '2017-08-22T01:20:31.627Z',\n",
       "  'updatedAt': '2017-08-22T01:20:31.627Z'},\n",
       " {'id': 21,\n",
       "  'name': 'Mathu Andersen',\n",
       "  'image_url': 'https://vignette1.wikia.nocookie.net/logosrupaulsdragrace/images/9/95/Mathu_Andersen.jpeg/revision/latest/scale-to-width-down/350?cb=20160415221021',\n",
       "  'bio': 'Makeup Artist',\n",
       "  'type': 'guest',\n",
       "  'createdAt': '2017-10-18T00:51:16.710Z',\n",
       "  'updatedAt': '2017-10-18T00:51:16.710Z'},\n",
       " {'id': 22,\n",
       "  'name': 'Martha Wash',\n",
       "  'image_url': 'https://upload.wikimedia.org/wikipedia/commons/thumb/3/3e/Martha_Wash.jpg/220px-Martha_Wash.jpg',\n",
       "  'bio': 'Singer and Songwriter',\n",
       "  'type': 'guest',\n",
       "  'createdAt': '2017-10-18T00:55:22.512Z',\n",
       "  'updatedAt': '2017-10-18T00:55:22.512Z'},\n",
       " {'id': 23,\n",
       "  'name': 'Henry Rollins',\n",
       "  'image_url': 'https://upload.wikimedia.org/wikipedia/commons/thumb/e/e5/HenryRollins2010.jpg/250px-HenryRollins2010.jpg',\n",
       "  'bio': 'Musician',\n",
       "  'type': 'guest',\n",
       "  'createdAt': '2017-10-18T00:57:00.718Z',\n",
       "  'updatedAt': '2017-10-18T00:57:00.718Z'},\n",
       " {'id': 24,\n",
       "  'name': 'Terri Nunn',\n",
       "  'image_url': 'https://upload.wikimedia.org/wikipedia/commons/thumb/e/e9/Terri_Nunn_at_OpenWorld_crop.jpg/220px-Terri_Nunn_at_OpenWorld_crop.jpg',\n",
       "  'bio': 'Singer and Actress',\n",
       "  'type': 'guest',\n",
       "  'createdAt': '2017-10-18T00:58:58.414Z',\n",
       "  'updatedAt': '2017-10-18T00:58:58.414Z'},\n",
       " {'id': 25,\n",
       "  'name': 'Gigi Levangie Grazer',\n",
       "  'image_url': None,\n",
       "  'bio': 'Novelist, Screenwriter, and Producer',\n",
       "  'type': 'guest',\n",
       "  'createdAt': '2017-10-18T01:02:21.102Z',\n",
       "  'updatedAt': '2017-10-18T01:02:21.102Z'},\n",
       " {'id': 26,\n",
       "  'name': 'Jackie Collins',\n",
       "  'image_url': 'https://upload.wikimedia.org/wikipedia/commons/thumb/2/21/Jackie_Collins.jpg/220px-Jackie_Collins.jpg',\n",
       "  'bio': 'Romance Novelist',\n",
       "  'type': 'guest',\n",
       "  'createdAt': '2017-10-18T01:06:41.873Z',\n",
       "  'updatedAt': '2017-10-18T01:06:41.873Z'},\n",
       " {'id': 27,\n",
       "  'name': 'Debbie Reynolds',\n",
       "  'image_url': 'https://upload.wikimedia.org/wikipedia/commons/thumb/d/d5/Debbie_Reynolds_33.jpg/220px-Debbie_Reynolds_33.jpg',\n",
       "  'bio': 'Actress',\n",
       "  'type': 'guest',\n",
       "  'createdAt': '2017-10-18T01:08:14.200Z',\n",
       "  'updatedAt': '2017-10-18T01:08:14.200Z'},\n",
       " {'id': 28,\n",
       "  'name': 'Cloris Leachman',\n",
       "  'image_url': 'https://upload.wikimedia.org/wikipedia/commons/thumb/2/22/Cloris_Leachman_1970.JPG/220px-Cloris_Leachman_1970.JPG',\n",
       "  'bio': 'Actress',\n",
       "  'type': 'guest',\n",
       "  'createdAt': '2017-10-18T01:08:59.558Z',\n",
       "  'updatedAt': '2017-10-18T01:08:59.558Z'},\n",
       " {'id': 29,\n",
       "  'name': 'Toni Ko',\n",
       "  'image_url': None,\n",
       "  'bio': 'NYX Cosmetics Founder',\n",
       "  'type': 'guest',\n",
       "  'createdAt': '2017-10-18T01:10:07.021Z',\n",
       "  'updatedAt': '2017-10-18T01:10:07.021Z'},\n",
       " {'id': 30,\n",
       "  'name': \"Tatum O'Neal\",\n",
       "  'image_url': 'https://upload.wikimedia.org/wikipedia/commons/thumb/8/88/Tatum_O%27Neal_-_November_2014_%28cropped%29.jpg/220px-Tatum_O%27Neal_-_November_2014_%28cropped%29.jpg',\n",
       "  'bio': 'Actress and Author',\n",
       "  'type': 'guest',\n",
       "  'createdAt': '2017-10-18T01:10:58.088Z',\n",
       "  'updatedAt': '2017-10-18T01:10:58.088Z'},\n",
       " {'id': 31,\n",
       "  'name': 'Marissa Jaret Winokur',\n",
       "  'image_url': 'https://upload.wikimedia.org/wikipedia/commons/thumb/5/51/Marissa_Jaret_Winokur.jpg/220px-Marissa_Jaret_Winokur.jpg',\n",
       "  'bio': 'Actress',\n",
       "  'type': 'guest',\n",
       "  'createdAt': '2017-10-18T01:13:28.239Z',\n",
       "  'updatedAt': '2017-10-18T01:13:28.239Z'},\n",
       " {'id': 32,\n",
       "  'name': 'Bruce Vilanch',\n",
       "  'image_url': 'https://upload.wikimedia.org/wikipedia/commons/thumb/a/af/Brucevilanch.jpg/165px-Brucevilanch.jpg',\n",
       "  'bio': 'Comedy Writer, Songwriter, and Actor',\n",
       "  'type': 'guest',\n",
       "  'createdAt': '2017-10-18T01:18:15.861Z',\n",
       "  'updatedAt': '2017-10-18T01:18:15.861Z'},\n",
       " {'id': 33,\n",
       "  'name': 'Vanessa Williams',\n",
       "  'image_url': 'https://upload.wikimedia.org/wikipedia/commons/thumb/a/ae/VanessaWilliamsHWoFMar2012.jpg/220px-VanessaWilliamsHWoFMar2012.jpg',\n",
       "  'bio': 'Actress, Singer, and former Miss America',\n",
       "  'type': 'guest',\n",
       "  'createdAt': '2017-10-18T01:19:37.317Z',\n",
       "  'updatedAt': '2017-10-18T01:19:37.317Z'},\n",
       " {'id': 34,\n",
       "  'name': 'Lily Tomlin',\n",
       "  'image_url': 'https://upload.wikimedia.org/wikipedia/commons/thumb/6/63/Lily_Tomlin_2014.jpg/220px-Lily_Tomlin_2014.jpg',\n",
       "  'bio': 'Actress and Comedian',\n",
       "  'type': 'guest',\n",
       "  'createdAt': '2017-10-18T01:21:08.770Z',\n",
       "  'updatedAt': '2017-10-18T01:21:08.770Z'},\n",
       " {'id': 35,\n",
       "  'name': 'Alessandra Torresani',\n",
       "  'image_url': 'https://upload.wikimedia.org/wikipedia/commons/thumb/2/24/AlessandraTorresaniApr09.jpg/250px-AlessandraTorresaniApr09.jpg',\n",
       "  'bio': 'Actress',\n",
       "  'type': 'guest',\n",
       "  'createdAt': '2017-10-18T01:21:56.375Z',\n",
       "  'updatedAt': '2017-10-18T01:21:56.375Z'},\n",
       " {'id': 36,\n",
       "  'name': 'LaToya Jackson',\n",
       "  'image_url': 'https://upload.wikimedia.org/wikipedia/commons/thumb/a/ab/La_Toya_Jackson_cropped.jpg/220px-La_Toya_Jackson_cropped.jpg',\n",
       "  'bio': 'Singer',\n",
       "  'type': 'guest',\n",
       "  'createdAt': '2017-10-18T01:25:31.321Z',\n",
       "  'updatedAt': '2017-10-18T01:25:31.321Z'},\n",
       " {'id': 37,\n",
       "  'name': 'Susan Powter',\n",
       "  'image_url': None,\n",
       "  'bio': 'Motivational Speaker and Fitness Guru',\n",
       "  'type': 'guest',\n",
       "  'createdAt': '2017-10-18T01:26:35.090Z',\n",
       "  'updatedAt': '2017-10-18T01:26:35.090Z'},\n",
       " {'id': 38,\n",
       "  'name': 'Billy B',\n",
       "  'image_url': 'https://images-na.ssl-images-amazon.com/images/M/MV5BMTM1MjA0Njg1N15BMl5BanBnXkFtZTcwMDEwMzIzMQ@@._V1_.jpg',\n",
       "  'bio': 'Makeup Artist',\n",
       "  'type': 'interim',\n",
       "  'createdAt': '2017-11-08T00:33:47.079Z',\n",
       "  'updatedAt': '2017-11-08T00:33:47.079Z'},\n",
       " {'id': 39,\n",
       "  'name': 'Margaret Cho',\n",
       "  'image_url': 'https://en.wikipedia.org/wiki/File:Margaret_Cho,_2011_Cannes_(crop).png',\n",
       "  'bio': 'Actress and Comedian',\n",
       "  'type': 'guest',\n",
       "  'createdAt': '2017-11-08T00:36:51.418Z',\n",
       "  'updatedAt': '2017-11-08T00:36:51.418Z'},\n",
       " {'id': 40,\n",
       "  'name': 'Eliza Dushku',\n",
       "  'image_url': 'https://en.wikipedia.org/wiki/File:Eliza_Dushku_2,_2012.jpg',\n",
       "  'bio': 'Actress',\n",
       "  'type': 'guest',\n",
       "  'createdAt': '2017-11-08T00:38:47.096Z',\n",
       "  'updatedAt': '2017-11-08T00:38:47.096Z'},\n",
       " {'id': 41,\n",
       "  'name': 'Carmen Electra',\n",
       "  'image_url': 'https://upload.wikimedia.org/wikipedia/commons/thumb/b/bb/Carmen_Electra_2013.jpg/220px-Carmen_Electra_2013.jpg',\n",
       "  'bio': 'Actress',\n",
       "  'type': 'guest',\n",
       "  'createdAt': '2017-11-08T00:48:29.247Z',\n",
       "  'updatedAt': '2017-11-08T00:48:29.247Z'},\n",
       " {'id': 42,\n",
       "  'name': 'Fantasia Barrino',\n",
       "  'image_url': 'https://en.wikipedia.org/wiki/File:Fantasia_Barrino.jpg',\n",
       "  'bio': 'Singer, Actress, and Author',\n",
       "  'type': 'guest',\n",
       "  'createdAt': '2017-11-08T00:51:01.149Z',\n",
       "  'updatedAt': '2017-11-08T00:51:01.149Z'},\n",
       " {'id': 46,\n",
       "  'name': 'Debbie Matenopoulos',\n",
       "  'image_url': 'NULL',\n",
       "  'bio': 'Television Host',\n",
       "  'type': 'guest',\n",
       "  'createdAt': '2017-11-08T00:57:56.016Z',\n",
       "  'updatedAt': '2017-11-08T00:57:56.016Z'},\n",
       " {'id': 47,\n",
       "  'name': 'Wayne Brady',\n",
       "  'image_url': 'https://upload.wikimedia.org/wikipedia/commons/thumb/b/bb/Wayne_Brady_2015.jpg/220px-Wayne_Brady_2015.jpg',\n",
       "  'bio': 'Actor, Comedian, and Singer',\n",
       "  'type': 'guest',\n",
       "  'createdAt': '2017-11-08T00:59:02.441Z',\n",
       "  'updatedAt': '2017-11-08T00:59:02.441Z'},\n",
       " {'id': 48,\n",
       "  'name': 'Arden Myrin',\n",
       "  'image_url': 'https://en.wikipedia.org/wiki/File:Arden_V._Myrin.jpg',\n",
       "  'bio': 'Comedian, Former Cast Member of MADtv',\n",
       "  'type': 'guest',\n",
       "  'createdAt': '2017-11-08T01:00:27.594Z',\n",
       "  'updatedAt': '2017-11-08T01:00:27.594Z'},\n",
       " {'id': 49,\n",
       "  'name': 'Sharon Osbourne',\n",
       "  'image_url': 'https://en.wikipedia.org/wiki/File:Sharon_Osbourne_2,_2012.jpg',\n",
       "  'bio': 'Television Host and Reality Television Personality',\n",
       "  'type': 'guest',\n",
       "  'createdAt': '2017-11-08T01:02:03.123Z',\n",
       "  'updatedAt': '2017-11-08T01:02:03.123Z'},\n",
       " {'id': 50,\n",
       "  'name': 'Amber Rose',\n",
       "  'image_url': 'https://upload.wikimedia.org/wikipedia/commons/thumb/2/2c/Amber_Rose_-_2014_People_Magazine_Awards_%28cropped%29.jpg/220px-Amber_Rose_-_2014_People_Magazine_Awards_%28cropped%29.jpg',\n",
       "  'bio': 'Model',\n",
       "  'type': 'guest',\n",
       "  'createdAt': '2017-11-08T01:04:04.016Z',\n",
       "  'updatedAt': '2017-11-08T01:04:04.016Z'},\n",
       " {'id': 51,\n",
       "  'name': 'Rita Rudner',\n",
       "  'image_url': 'https://upload.wikimedia.org/wikipedia/commons/thumb/4/4f/Rita_Rudner.jpg/220px-Rita_Rudner.jpg',\n",
       "  'bio': 'Comedian',\n",
       "  'type': 'guest',\n",
       "  'createdAt': '2017-11-08T01:07:08.437Z',\n",
       "  'updatedAt': '2017-11-08T01:07:08.437Z'},\n",
       " {'id': 52,\n",
       "  'name': 'Sara Rue',\n",
       "  'image_url': 'https://en.wikipedia.org/wiki/File:Sara_Rue.jpg',\n",
       "  'bio': 'Actress',\n",
       "  'type': 'guest',\n",
       "  'createdAt': '2017-11-08T01:10:47.782Z',\n",
       "  'updatedAt': '2017-11-08T01:10:47.782Z'},\n",
       " {'id': 53,\n",
       "  'name': 'Chloe Sevigny',\n",
       "  'image_url': 'https://upload.wikimedia.org/wikipedia/commons/thumb/0/0f/Chloe_Sevigny_Horror_premiere_2015.jpg/220px-Chloe_Sevigny_Horror_premiere_2015.jpg',\n",
       "  'bio': 'Actress and Model',\n",
       "  'type': 'guest',\n",
       "  'createdAt': '2017-11-08T01:12:23.561Z',\n",
       "  'updatedAt': '2017-11-08T01:12:23.561Z'}]"
      ]
     },
     "execution_count": 177,
     "metadata": {},
     "output_type": "execute_result"
    }
   ],
   "source": [
    "data = json.loads(response.content)\n",
    "data"
   ]
  },
  {
   "cell_type": "code",
   "execution_count": 178,
   "metadata": {},
   "outputs": [
    {
     "name": "stdout",
     "output_type": "stream",
     "text": [
      "['regular', 'guest', 'regular', 'guest', 'guest', 'guest', 'guest', 'guest', 'guest', 'guest', 'guest', 'guest', 'guest', 'guest', 'guest', 'guest', 'guest', 'guest', 'guest', 'guest', 'guest', 'guest', 'guest', 'guest', 'guest', 'guest', 'guest', 'guest', 'guest', 'guest', 'guest', 'guest', 'guest', 'guest', 'guest', 'guest', 'guest', 'interim', 'guest', 'guest', 'guest', 'guest', 'guest', 'guest', 'guest', 'guest', 'guest', 'guest', 'guest', 'guest']\n",
      "{'interim', 'guest', 'regular'}\n"
     ]
    }
   ],
   "source": [
    "type=[]\n",
    "for d in data:\n",
    "    type.append(d['type'])\n",
    "print(type)\n",
    "print(set(type))"
   ]
  },
  {
   "cell_type": "code",
   "execution_count": 181,
   "metadata": {},
   "outputs": [
    {
     "name": "stdout",
     "output_type": "stream",
     "text": [
      "Number of interim judges:1\n",
      "Number of guest judges: 47\n",
      "Number of regular judges: 2\n"
     ]
    }
   ],
   "source": [
    "interim = 0\n",
    "guest = 0\n",
    "regular = 0\n",
    "for t in type:\n",
    "    if t == 'regular':\n",
    "        regular += 1\n",
    "    elif t == 'guest':\n",
    "        guest += 1\n",
    "    else:\n",
    "        interim += 1\n",
    "        \n",
    "print(f\"Number of interim judges:{interim}\")\n",
    "print(f\"Number of guest judges: {guest}\")\n",
    "print(f\"Number of regular judges: {regular}\")"
   ]
  },
  {
   "cell_type": "markdown",
   "metadata": {},
   "source": [
    "### Web Scraping (15 Minutes)\n",
    "Scrape the website [http://quotes.toscrape.com/](http://quotes.toscrape.com/).  Turn each quote on the page into a Pandas dataframe consisting of two columns: the author of the quote and the quote itself. The final result should be a dataframe of 10 rows (not counting header) and 2 columns (not counting index)."
   ]
  },
  {
   "cell_type": "code",
   "execution_count": 180,
   "metadata": {},
   "outputs": [
    {
     "name": "stdout",
     "output_type": "stream",
     "text": [
      "<bound method Tag.prettify of <!DOCTYPE html>\n",
      "<html lang=\"en\">\n",
      "<head>\n",
      "<meta charset=\"utf-8\"/>\n",
      "<title>Quotes to Scrape</title>\n",
      "<link href=\"/static/bootstrap.min.css\" rel=\"stylesheet\"/>\n",
      "<link href=\"/static/main.css\" rel=\"stylesheet\"/>\n",
      "</head>\n",
      "<body>\n",
      "<div class=\"container\">\n",
      "<div class=\"row header-box\">\n",
      "<div class=\"col-md-8\">\n",
      "<h1>\n",
      "<a href=\"/\" style=\"text-decoration: none\">Quotes to Scrape</a>\n",
      "</h1>\n",
      "</div>\n",
      "<div class=\"col-md-4\">\n",
      "<p>\n",
      "<a href=\"/login\">Login</a>\n",
      "</p>\n",
      "</div>\n",
      "</div>\n",
      "<div class=\"row\">\n",
      "<div class=\"col-md-8\">\n",
      "<div class=\"quote\" itemscope=\"\" itemtype=\"http://schema.org/CreativeWork\">\n",
      "<span class=\"text\" itemprop=\"text\">“The world as we have created it is a process of our thinking. It cannot be changed without changing our thinking.”</span>\n",
      "<span>by <small class=\"author\" itemprop=\"author\">Albert Einstein</small>\n",
      "<a href=\"/author/Albert-Einstein\">(about)</a>\n",
      "</span>\n",
      "<div class=\"tags\">\n",
      "            Tags:\n",
      "            <meta class=\"keywords\" content=\"change,deep-thoughts,thinking,world\" itemprop=\"keywords\"/>\n",
      "<a class=\"tag\" href=\"/tag/change/page/1/\">change</a>\n",
      "<a class=\"tag\" href=\"/tag/deep-thoughts/page/1/\">deep-thoughts</a>\n",
      "<a class=\"tag\" href=\"/tag/thinking/page/1/\">thinking</a>\n",
      "<a class=\"tag\" href=\"/tag/world/page/1/\">world</a>\n",
      "</div>\n",
      "</div>\n",
      "<div class=\"quote\" itemscope=\"\" itemtype=\"http://schema.org/CreativeWork\">\n",
      "<span class=\"text\" itemprop=\"text\">“It is our choices, Harry, that show what we truly are, far more than our abilities.”</span>\n",
      "<span>by <small class=\"author\" itemprop=\"author\">J.K. Rowling</small>\n",
      "<a href=\"/author/J-K-Rowling\">(about)</a>\n",
      "</span>\n",
      "<div class=\"tags\">\n",
      "            Tags:\n",
      "            <meta class=\"keywords\" content=\"abilities,choices\" itemprop=\"keywords\"/>\n",
      "<a class=\"tag\" href=\"/tag/abilities/page/1/\">abilities</a>\n",
      "<a class=\"tag\" href=\"/tag/choices/page/1/\">choices</a>\n",
      "</div>\n",
      "</div>\n",
      "<div class=\"quote\" itemscope=\"\" itemtype=\"http://schema.org/CreativeWork\">\n",
      "<span class=\"text\" itemprop=\"text\">“There are only two ways to live your life. One is as though nothing is a miracle. The other is as though everything is a miracle.”</span>\n",
      "<span>by <small class=\"author\" itemprop=\"author\">Albert Einstein</small>\n",
      "<a href=\"/author/Albert-Einstein\">(about)</a>\n",
      "</span>\n",
      "<div class=\"tags\">\n",
      "            Tags:\n",
      "            <meta class=\"keywords\" content=\"inspirational,life,live,miracle,miracles\" itemprop=\"keywords\"/>\n",
      "<a class=\"tag\" href=\"/tag/inspirational/page/1/\">inspirational</a>\n",
      "<a class=\"tag\" href=\"/tag/life/page/1/\">life</a>\n",
      "<a class=\"tag\" href=\"/tag/live/page/1/\">live</a>\n",
      "<a class=\"tag\" href=\"/tag/miracle/page/1/\">miracle</a>\n",
      "<a class=\"tag\" href=\"/tag/miracles/page/1/\">miracles</a>\n",
      "</div>\n",
      "</div>\n",
      "<div class=\"quote\" itemscope=\"\" itemtype=\"http://schema.org/CreativeWork\">\n",
      "<span class=\"text\" itemprop=\"text\">“The person, be it gentleman or lady, who has not pleasure in a good novel, must be intolerably stupid.”</span>\n",
      "<span>by <small class=\"author\" itemprop=\"author\">Jane Austen</small>\n",
      "<a href=\"/author/Jane-Austen\">(about)</a>\n",
      "</span>\n",
      "<div class=\"tags\">\n",
      "            Tags:\n",
      "            <meta class=\"keywords\" content=\"aliteracy,books,classic,humor\" itemprop=\"keywords\"/>\n",
      "<a class=\"tag\" href=\"/tag/aliteracy/page/1/\">aliteracy</a>\n",
      "<a class=\"tag\" href=\"/tag/books/page/1/\">books</a>\n",
      "<a class=\"tag\" href=\"/tag/classic/page/1/\">classic</a>\n",
      "<a class=\"tag\" href=\"/tag/humor/page/1/\">humor</a>\n",
      "</div>\n",
      "</div>\n",
      "<div class=\"quote\" itemscope=\"\" itemtype=\"http://schema.org/CreativeWork\">\n",
      "<span class=\"text\" itemprop=\"text\">“Imperfection is beauty, madness is genius and it's better to be absolutely ridiculous than absolutely boring.”</span>\n",
      "<span>by <small class=\"author\" itemprop=\"author\">Marilyn Monroe</small>\n",
      "<a href=\"/author/Marilyn-Monroe\">(about)</a>\n",
      "</span>\n",
      "<div class=\"tags\">\n",
      "            Tags:\n",
      "            <meta class=\"keywords\" content=\"be-yourself,inspirational\" itemprop=\"keywords\"/>\n",
      "<a class=\"tag\" href=\"/tag/be-yourself/page/1/\">be-yourself</a>\n",
      "<a class=\"tag\" href=\"/tag/inspirational/page/1/\">inspirational</a>\n",
      "</div>\n",
      "</div>\n",
      "<div class=\"quote\" itemscope=\"\" itemtype=\"http://schema.org/CreativeWork\">\n",
      "<span class=\"text\" itemprop=\"text\">“Try not to become a man of success. Rather become a man of value.”</span>\n",
      "<span>by <small class=\"author\" itemprop=\"author\">Albert Einstein</small>\n",
      "<a href=\"/author/Albert-Einstein\">(about)</a>\n",
      "</span>\n",
      "<div class=\"tags\">\n",
      "            Tags:\n",
      "            <meta class=\"keywords\" content=\"adulthood,success,value\" itemprop=\"keywords\"/>\n",
      "<a class=\"tag\" href=\"/tag/adulthood/page/1/\">adulthood</a>\n",
      "<a class=\"tag\" href=\"/tag/success/page/1/\">success</a>\n",
      "<a class=\"tag\" href=\"/tag/value/page/1/\">value</a>\n",
      "</div>\n",
      "</div>\n",
      "<div class=\"quote\" itemscope=\"\" itemtype=\"http://schema.org/CreativeWork\">\n",
      "<span class=\"text\" itemprop=\"text\">“It is better to be hated for what you are than to be loved for what you are not.”</span>\n",
      "<span>by <small class=\"author\" itemprop=\"author\">André Gide</small>\n",
      "<a href=\"/author/Andre-Gide\">(about)</a>\n",
      "</span>\n",
      "<div class=\"tags\">\n",
      "            Tags:\n",
      "            <meta class=\"keywords\" content=\"life,love\" itemprop=\"keywords\"/>\n",
      "<a class=\"tag\" href=\"/tag/life/page/1/\">life</a>\n",
      "<a class=\"tag\" href=\"/tag/love/page/1/\">love</a>\n",
      "</div>\n",
      "</div>\n",
      "<div class=\"quote\" itemscope=\"\" itemtype=\"http://schema.org/CreativeWork\">\n",
      "<span class=\"text\" itemprop=\"text\">“I have not failed. I've just found 10,000 ways that won't work.”</span>\n",
      "<span>by <small class=\"author\" itemprop=\"author\">Thomas A. Edison</small>\n",
      "<a href=\"/author/Thomas-A-Edison\">(about)</a>\n",
      "</span>\n",
      "<div class=\"tags\">\n",
      "            Tags:\n",
      "            <meta class=\"keywords\" content=\"edison,failure,inspirational,paraphrased\" itemprop=\"keywords\"/>\n",
      "<a class=\"tag\" href=\"/tag/edison/page/1/\">edison</a>\n",
      "<a class=\"tag\" href=\"/tag/failure/page/1/\">failure</a>\n",
      "<a class=\"tag\" href=\"/tag/inspirational/page/1/\">inspirational</a>\n",
      "<a class=\"tag\" href=\"/tag/paraphrased/page/1/\">paraphrased</a>\n",
      "</div>\n",
      "</div>\n",
      "<div class=\"quote\" itemscope=\"\" itemtype=\"http://schema.org/CreativeWork\">\n",
      "<span class=\"text\" itemprop=\"text\">“A woman is like a tea bag; you never know how strong it is until it's in hot water.”</span>\n",
      "<span>by <small class=\"author\" itemprop=\"author\">Eleanor Roosevelt</small>\n",
      "<a href=\"/author/Eleanor-Roosevelt\">(about)</a>\n",
      "</span>\n",
      "<div class=\"tags\">\n",
      "            Tags:\n",
      "            <meta class=\"keywords\" content=\"misattributed-eleanor-roosevelt\" itemprop=\"keywords\"/>\n",
      "<a class=\"tag\" href=\"/tag/misattributed-eleanor-roosevelt/page/1/\">misattributed-eleanor-roosevelt</a>\n",
      "</div>\n",
      "</div>\n",
      "<div class=\"quote\" itemscope=\"\" itemtype=\"http://schema.org/CreativeWork\">\n",
      "<span class=\"text\" itemprop=\"text\">“A day without sunshine is like, you know, night.”</span>\n",
      "<span>by <small class=\"author\" itemprop=\"author\">Steve Martin</small>\n",
      "<a href=\"/author/Steve-Martin\">(about)</a>\n",
      "</span>\n",
      "<div class=\"tags\">\n",
      "            Tags:\n",
      "            <meta class=\"keywords\" content=\"humor,obvious,simile\" itemprop=\"keywords\"/>\n",
      "<a class=\"tag\" href=\"/tag/humor/page/1/\">humor</a>\n",
      "<a class=\"tag\" href=\"/tag/obvious/page/1/\">obvious</a>\n",
      "<a class=\"tag\" href=\"/tag/simile/page/1/\">simile</a>\n",
      "</div>\n",
      "</div>\n",
      "<nav>\n",
      "<ul class=\"pager\">\n",
      "<li class=\"next\">\n",
      "<a href=\"/page/2/\">Next <span aria-hidden=\"true\">→</span></a>\n",
      "</li>\n",
      "</ul>\n",
      "</nav>\n",
      "</div>\n",
      "<div class=\"col-md-4 tags-box\">\n",
      "<h2>Top Ten tags</h2>\n",
      "<span class=\"tag-item\">\n",
      "<a class=\"tag\" href=\"/tag/love/\" style=\"font-size: 28px\">love</a>\n",
      "</span>\n",
      "<span class=\"tag-item\">\n",
      "<a class=\"tag\" href=\"/tag/inspirational/\" style=\"font-size: 26px\">inspirational</a>\n",
      "</span>\n",
      "<span class=\"tag-item\">\n",
      "<a class=\"tag\" href=\"/tag/life/\" style=\"font-size: 26px\">life</a>\n",
      "</span>\n",
      "<span class=\"tag-item\">\n",
      "<a class=\"tag\" href=\"/tag/humor/\" style=\"font-size: 24px\">humor</a>\n",
      "</span>\n",
      "<span class=\"tag-item\">\n",
      "<a class=\"tag\" href=\"/tag/books/\" style=\"font-size: 22px\">books</a>\n",
      "</span>\n",
      "<span class=\"tag-item\">\n",
      "<a class=\"tag\" href=\"/tag/reading/\" style=\"font-size: 14px\">reading</a>\n",
      "</span>\n",
      "<span class=\"tag-item\">\n",
      "<a class=\"tag\" href=\"/tag/friendship/\" style=\"font-size: 10px\">friendship</a>\n",
      "</span>\n",
      "<span class=\"tag-item\">\n",
      "<a class=\"tag\" href=\"/tag/friends/\" style=\"font-size: 8px\">friends</a>\n",
      "</span>\n",
      "<span class=\"tag-item\">\n",
      "<a class=\"tag\" href=\"/tag/truth/\" style=\"font-size: 8px\">truth</a>\n",
      "</span>\n",
      "<span class=\"tag-item\">\n",
      "<a class=\"tag\" href=\"/tag/simile/\" style=\"font-size: 6px\">simile</a>\n",
      "</span>\n",
      "</div>\n",
      "</div>\n",
      "</div>\n",
      "<footer class=\"footer\">\n",
      "<div class=\"container\">\n",
      "<p class=\"text-muted\">\n",
      "                Quotes by: <a href=\"https://www.goodreads.com/quotes\">GoodReads.com</a>\n",
      "</p>\n",
      "<p class=\"copyright\">\n",
      "                Made with <span class=\"sh-red\">❤</span> by <a href=\"https://scrapinghub.com\">Scrapinghub</a>\n",
      "</p>\n",
      "</div>\n",
      "</footer>\n",
      "</body>\n",
      "</html>>\n"
     ]
    }
   ],
   "source": [
    "response = requests.get('http://quotes.toscrape.com/')\n",
    "soup = BeautifulSoup(response.text)\n",
    "print(soup.prettify)"
   ]
  },
  {
   "cell_type": "code",
   "execution_count": 182,
   "metadata": {
    "scrolled": true
   },
   "outputs": [
    {
     "data": {
      "text/plain": [
       "['“The world as we have created it is a process of our thinking. It cannot be changed without changing our thinking.”',\n",
       " '“It is our choices, Harry, that show what we truly are, far more than our abilities.”',\n",
       " '“There are only two ways to live your life. One is as though nothing is a miracle. The other is as though everything is a miracle.”',\n",
       " '“The person, be it gentleman or lady, who has not pleasure in a good novel, must be intolerably stupid.”',\n",
       " \"“Imperfection is beauty, madness is genius and it's better to be absolutely ridiculous than absolutely boring.”\",\n",
       " '“Try not to become a man of success. Rather become a man of value.”',\n",
       " '“It is better to be hated for what you are than to be loved for what you are not.”',\n",
       " \"“I have not failed. I've just found 10,000 ways that won't work.”\",\n",
       " \"“A woman is like a tea bag; you never know how strong it is until it's in hot water.”\",\n",
       " '“A day without sunshine is like, you know, night.”']"
      ]
     },
     "execution_count": 182,
     "metadata": {},
     "output_type": "execute_result"
    }
   ],
   "source": [
    "quotes = soup.find_all('span', class_='text')\n",
    "ql=[]\n",
    "for q in quotes:\n",
    "    ql.append(q.get_text())\n",
    "ql "
   ]
  },
  {
   "cell_type": "code",
   "execution_count": 183,
   "metadata": {
    "scrolled": true
   },
   "outputs": [
    {
     "data": {
      "text/plain": [
       "['Albert Einstein',\n",
       " 'J.K. Rowling',\n",
       " 'Albert Einstein',\n",
       " 'Jane Austen',\n",
       " 'Marilyn Monroe',\n",
       " 'Albert Einstein',\n",
       " 'André Gide',\n",
       " 'Thomas A. Edison',\n",
       " 'Eleanor Roosevelt',\n",
       " 'Steve Martin']"
      ]
     },
     "execution_count": 183,
     "metadata": {},
     "output_type": "execute_result"
    }
   ],
   "source": [
    "authors = soup.find_all('small', class_= 'author')\n",
    "al = []\n",
    "for a in authors:\n",
    "    al.append(a.get_text())\n",
    "al"
   ]
  },
  {
   "cell_type": "code",
   "execution_count": 184,
   "metadata": {},
   "outputs": [
    {
     "data": {
      "text/html": [
       "<div>\n",
       "<style scoped>\n",
       "    .dataframe tbody tr th:only-of-type {\n",
       "        vertical-align: middle;\n",
       "    }\n",
       "\n",
       "    .dataframe tbody tr th {\n",
       "        vertical-align: top;\n",
       "    }\n",
       "\n",
       "    .dataframe thead th {\n",
       "        text-align: right;\n",
       "    }\n",
       "</style>\n",
       "<table border=\"1\" class=\"dataframe\">\n",
       "  <thead>\n",
       "    <tr style=\"text-align: right;\">\n",
       "      <th></th>\n",
       "      <th>authors</th>\n",
       "      <th>quotes</th>\n",
       "    </tr>\n",
       "  </thead>\n",
       "  <tbody>\n",
       "    <tr>\n",
       "      <th>0</th>\n",
       "      <td>Albert Einstein</td>\n",
       "      <td>“The world as we have created it is a process ...</td>\n",
       "    </tr>\n",
       "    <tr>\n",
       "      <th>1</th>\n",
       "      <td>J.K. Rowling</td>\n",
       "      <td>“It is our choices, Harry, that show what we t...</td>\n",
       "    </tr>\n",
       "    <tr>\n",
       "      <th>2</th>\n",
       "      <td>Albert Einstein</td>\n",
       "      <td>“There are only two ways to live your life. On...</td>\n",
       "    </tr>\n",
       "    <tr>\n",
       "      <th>3</th>\n",
       "      <td>Jane Austen</td>\n",
       "      <td>“The person, be it gentleman or lady, who has ...</td>\n",
       "    </tr>\n",
       "    <tr>\n",
       "      <th>4</th>\n",
       "      <td>Marilyn Monroe</td>\n",
       "      <td>“Imperfection is beauty, madness is genius and...</td>\n",
       "    </tr>\n",
       "    <tr>\n",
       "      <th>5</th>\n",
       "      <td>Albert Einstein</td>\n",
       "      <td>“Try not to become a man of success. Rather be...</td>\n",
       "    </tr>\n",
       "    <tr>\n",
       "      <th>6</th>\n",
       "      <td>André Gide</td>\n",
       "      <td>“It is better to be hated for what you are tha...</td>\n",
       "    </tr>\n",
       "    <tr>\n",
       "      <th>7</th>\n",
       "      <td>Thomas A. Edison</td>\n",
       "      <td>“I have not failed. I've just found 10,000 way...</td>\n",
       "    </tr>\n",
       "    <tr>\n",
       "      <th>8</th>\n",
       "      <td>Eleanor Roosevelt</td>\n",
       "      <td>“A woman is like a tea bag; you never know how...</td>\n",
       "    </tr>\n",
       "    <tr>\n",
       "      <th>9</th>\n",
       "      <td>Steve Martin</td>\n",
       "      <td>“A day without sunshine is like, you know, nig...</td>\n",
       "    </tr>\n",
       "  </tbody>\n",
       "</table>\n",
       "</div>"
      ],
      "text/plain": [
       "             authors                                             quotes\n",
       "0    Albert Einstein  “The world as we have created it is a process ...\n",
       "1       J.K. Rowling  “It is our choices, Harry, that show what we t...\n",
       "2    Albert Einstein  “There are only two ways to live your life. On...\n",
       "3        Jane Austen  “The person, be it gentleman or lady, who has ...\n",
       "4     Marilyn Monroe  “Imperfection is beauty, madness is genius and...\n",
       "5    Albert Einstein  “Try not to become a man of success. Rather be...\n",
       "6         André Gide  “It is better to be hated for what you are tha...\n",
       "7   Thomas A. Edison  “I have not failed. I've just found 10,000 way...\n",
       "8  Eleanor Roosevelt  “A woman is like a tea bag; you never know how...\n",
       "9       Steve Martin  “A day without sunshine is like, you know, nig..."
      ]
     },
     "execution_count": 184,
     "metadata": {},
     "output_type": "execute_result"
    }
   ],
   "source": [
    "df = pd.DataFrame({'authors': al, 'quotes': ql})\n",
    "df"
   ]
  },
  {
   "cell_type": "markdown",
   "metadata": {},
   "source": [
    "### NoSQL (10 Minutes)\n",
    "Answer all of the following questions by querying Mongo and manipulating the results in Python\n",
    "1. Load data from `assets/grades.json` into Mongo (this code is written for you)"
   ]
  },
  {
   "cell_type": "code",
   "execution_count": 186,
   "metadata": {},
   "outputs": [
    {
     "data": {
      "text/plain": [
       "<pymongo.results.InsertManyResult at 0x7fabdaaf42c8>"
      ]
     },
     "execution_count": 186,
     "metadata": {},
     "output_type": "execute_result"
    }
   ],
   "source": [
    "# you shouldn't need to edit this cell!\n",
    "with open('assets/grades.jsonl') as f:\n",
    "    # loads() comes from the bson library\n",
    "    file_data = [loads(line) for line in f.readlines()]\n",
    "\n",
    "client = pymongo.MongoClient(\"mongodb://localhost:27017/\")\n",
    "db = client[\"mod2db\"]\n",
    "coll = db[\"testcoll\"]\n",
    "\n",
    "coll.insert_many(file_data)"
   ]
  },
  {
   "cell_type": "markdown",
   "metadata": {},
   "source": [
    "2. How many records are there total?"
   ]
  },
  {
   "cell_type": "code",
   "execution_count": 188,
   "metadata": {},
   "outputs": [
    {
     "name": "stdout",
     "output_type": "stream",
     "text": [
      "Total # of records: 280\n",
      "{'_id': ObjectId('50b59cd75bed76f46522c34e'), 'student_id': 0, 'class_id': 2, 'scores': [{'type': 'exam', 'score': 57.92947112575566}, {'type': 'quiz', 'score': 21.24542588206755}, {'type': 'homework', 'score': 68.1956781058743}, {'type': 'homework', 'score': 67.95019716560351}, {'type': 'homework', 'score': 18.81037253352722}]}\n",
      "{'_id': ObjectId('50b59cd75bed76f46522c34f'), 'student_id': 0, 'class_id': 28, 'scores': [{'type': 'exam', 'score': 39.17749400402234}, {'type': 'quiz', 'score': 78.44172815491468}, {'type': 'homework', 'score': 20.81782269075502}, {'type': 'homework', 'score': 70.44520452408949}, {'type': 'homework', 'score': 50.66616327819226}, {'type': 'homework', 'score': 53.84983118363991}]}\n",
      "{'_id': ObjectId('50b59cd75bed76f46522c350'), 'student_id': 0, 'class_id': 5, 'scores': [{'type': 'exam', 'score': 88.22950674232497}, {'type': 'quiz', 'score': 79.28962650427184}, {'type': 'homework', 'score': 18.66254946562674}, {'type': 'homework', 'score': 40.28154176513361}, {'type': 'homework', 'score': 1.23735944117882}, {'type': 'homework', 'score': 88.96101200683958}]}\n",
      "{'_id': ObjectId('50b59cd75bed76f46522c351'), 'student_id': 0, 'class_id': 16, 'scores': [{'type': 'exam', 'score': 59.1805667559299}, {'type': 'quiz', 'score': 47.58960202938239}, {'type': 'homework', 'score': 6.48470951607214}, {'type': 'homework', 'score': 68.33519637418685}, {'type': 'homework', 'score': 78.53068038180965}]}\n",
      "{'_id': ObjectId('50b59cd75bed76f46522c352'), 'student_id': 0, 'class_id': 24, 'scores': [{'type': 'exam', 'score': 4.444435759027499}, {'type': 'quiz', 'score': 28.63057857803885}, {'type': 'homework', 'score': 86.79352850434199}, {'type': 'homework', 'score': 83.9164548767836}]}\n",
      "{'_id': ObjectId('50b59cd75bed76f46522c353'), 'student_id': 0, 'class_id': 30, 'scores': [{'type': 'exam', 'score': 14.34345947841966}, {'type': 'quiz', 'score': 47.65945482174327}, {'type': 'homework', 'score': 83.42772189120254}, {'type': 'homework', 'score': 49.86812935368258}, {'type': 'homework', 'score': 39.85525554437086}]}\n",
      "{'_id': ObjectId('50b59cd75bed76f46522c354'), 'student_id': 0, 'class_id': 7, 'scores': [{'type': 'exam', 'score': 18.20492211025179}, {'type': 'quiz', 'score': 60.4769945611789}, {'type': 'homework', 'score': 75.62999921143397}, {'type': 'homework', 'score': 72.41228797373115}, {'type': 'homework', 'score': 74.06744381708968}]}\n",
      "{'_id': ObjectId('50b59cd75bed76f46522c355'), 'student_id': 0, 'class_id': 6, 'scores': [{'type': 'exam', 'score': 56.81981513867912}, {'type': 'quiz', 'score': 15.03004654140545}, {'type': 'homework', 'score': 59.58797547174019}, {'type': 'homework', 'score': 67.42173915928456}, {'type': 'homework', 'score': 71.25502554312342}, {'type': 'homework', 'score': 94.46662737566072}]}\n",
      "{'_id': ObjectId('50b59cd75bed76f46522c356'), 'student_id': 0, 'class_id': 27, 'scores': [{'type': 'exam', 'score': 60.19473636151568}, {'type': 'quiz', 'score': 64.15966210014162}, {'type': 'homework', 'score': 82.80835343023551}]}\n",
      "{'_id': ObjectId('50b59cd75bed76f46522c357'), 'student_id': 0, 'class_id': 11, 'scores': [{'type': 'exam', 'score': 58.83297411100884}, {'type': 'quiz', 'score': 49.66835710930263}, {'type': 'homework', 'score': 18.05861540807023}, {'type': 'homework', 'score': 80.04086698967356}]}\n",
      "{'_id': ObjectId('50b59cd75bed76f46522c358'), 'student_id': 0, 'class_id': 10, 'scores': [{'type': 'exam', 'score': 30.93065784731665}, {'type': 'quiz', 'score': 55.98003281528393}, {'type': 'homework', 'score': 55.6752702814148}, {'type': 'homework', 'score': 63.15391302252755}]}\n",
      "{'_id': ObjectId('50b59cd75bed76f46522c359'), 'student_id': 1, 'class_id': 18, 'scores': [{'type': 'exam', 'score': 63.09737877102438}, {'type': 'quiz', 'score': 69.08175868397933}, {'type': 'homework', 'score': 34.6879008789745}]}\n",
      "{'_id': ObjectId('50b59cd75bed76f46522c35a'), 'student_id': 1, 'class_id': 22, 'scores': [{'type': 'exam', 'score': 47.38775906993299}, {'type': 'quiz', 'score': 9.963742963372834}, {'type': 'homework', 'score': 22.17993073237026}, {'type': 'homework', 'score': 33.7647119689925}, {'type': 'homework', 'score': 18.29543263797219}]}\n",
      "{'_id': ObjectId('50b59cd75bed76f46522c35b'), 'student_id': 1, 'class_id': 28, 'scores': [{'type': 'exam', 'score': 24.05118737353409}, {'type': 'quiz', 'score': 77.89233366199049}, {'type': 'homework', 'score': 68.81640554493546}, {'type': 'homework', 'score': 87.88279757549473}, {'type': 'homework', 'score': 83.36858109902629}]}\n",
      "{'_id': ObjectId('50b59cd75bed76f46522c35c'), 'student_id': 1, 'class_id': 16, 'scores': [{'type': 'exam', 'score': 80.6212442791788}, {'type': 'quiz', 'score': 40.64514700062569}, {'type': 'homework', 'score': 91.50521146788955}, {'type': 'homework', 'score': 82.1425639828968}, {'type': 'homework', 'score': 16.64633943981927}]}\n",
      "{'_id': ObjectId('50b59cd75bed76f46522c35d'), 'student_id': 1, 'class_id': 13, 'scores': [{'type': 'exam', 'score': 68.93370297588363}, {'type': 'quiz', 'score': 65.39942932033274}, {'type': 'homework', 'score': 43.10650652263911}, {'type': 'homework', 'score': 56.89478543605922}]}\n",
      "{'_id': ObjectId('50b59cd75bed76f46522c35e'), 'student_id': 2, 'class_id': 25, 'scores': [{'type': 'exam', 'score': 5.231166018738698}, {'type': 'quiz', 'score': 9.922444955766851}, {'type': 'homework', 'score': 76.7208591903267}, {'type': 'homework', 'score': 41.14461420390943}, {'type': 'homework', 'score': 30.18199391733215}]}\n",
      "{'_id': ObjectId('50b59cd75bed76f46522c35f'), 'student_id': 2, 'class_id': 27, 'scores': [{'type': 'exam', 'score': 70.32953992025745}, {'type': 'quiz', 'score': 66.24220071248318}, {'type': 'homework', 'score': 79.21965885764142}, {'type': 'homework', 'score': 78.68052791237751}]}\n",
      "{'_id': ObjectId('50b59cd75bed76f46522c360'), 'student_id': 2, 'class_id': 24, 'scores': [{'type': 'exam', 'score': 76.01876674517686}, {'type': 'quiz', 'score': 47.44729578274631}, {'type': 'homework', 'score': 4.735101893467009}, {'type': 'homework', 'score': 92.65331076863312}]}\n",
      "{'_id': ObjectId('50b59cd75bed76f46522c361'), 'student_id': 3, 'class_id': 10, 'scores': [{'type': 'exam', 'score': 35.47946463550763}, {'type': 'quiz', 'score': 94.14222652833352}, {'type': 'homework', 'score': 58.43343860077279}, {'type': 'homework', 'score': 66.83562834109681}]}\n",
      "{'_id': ObjectId('50b59cd75bed76f46522c362'), 'student_id': 3, 'class_id': 9, 'scores': [{'type': 'exam', 'score': 47.71786215806567}, {'type': 'quiz', 'score': 82.48705096247578}, {'type': 'homework', 'score': 75.44141239006737}, {'type': 'homework', 'score': 93.67951940270194}, {'type': 'homework', 'score': 59.86914451038889}, {'type': 'homework', 'score': 79.22570296763764}]}\n",
      "{'_id': ObjectId('50b59cd75bed76f46522c363'), 'student_id': 3, 'class_id': 25, 'scores': [{'type': 'exam', 'score': 88.80822542748272}, {'type': 'quiz', 'score': 42.19859496158491}, {'type': 'homework', 'score': 14.97229131876052}, {'type': 'homework', 'score': 39.93448876447816}]}\n",
      "{'_id': ObjectId('50b59cd75bed76f46522c364'), 'student_id': 3, 'class_id': 12, 'scores': [{'type': 'exam', 'score': 95.99100704101919}, {'type': 'quiz', 'score': 70.27334558182262}, {'type': 'homework', 'score': 48.76991564672726}, {'type': 'homework', 'score': 7.832018287711584}]}\n",
      "{'_id': ObjectId('50b59cd75bed76f46522c365'), 'student_id': 3, 'class_id': 11, 'scores': [{'type': 'exam', 'score': 95.7950561891157}, {'type': 'quiz', 'score': 99.70947557740388}, {'type': 'homework', 'score': 91.7396297504769}, {'type': 'homework', 'score': 96.83139133632076}, {'type': 'homework', 'score': 50.26710948208495}]}\n",
      "{'_id': ObjectId('50b59cd75bed76f46522c366'), 'student_id': 3, 'class_id': 3, 'scores': [{'type': 'exam', 'score': 86.2587791014086}, {'type': 'quiz', 'score': 0.7165465872248866}, {'type': 'homework', 'score': 70.07859698701473}, {'type': 'homework', 'score': 61.00984159293741}]}\n",
      "{'_id': ObjectId('50b59cd75bed76f46522c367'), 'student_id': 3, 'class_id': 13, 'scores': [{'type': 'exam', 'score': 8.942018968262111}, {'type': 'quiz', 'score': 66.81472071182077}, {'type': 'homework', 'score': 70.07131773257854}, {'type': 'homework', 'score': 61.30296955199896}, {'type': 'homework', 'score': 64.57682057262923}, {'type': 'homework', 'score': 28.33686497561957}]}\n",
      "{'_id': ObjectId('50b59cd75bed76f46522c368'), 'student_id': 3, 'class_id': 7, 'scores': [{'type': 'exam', 'score': 31.08963442339938}, {'type': 'quiz', 'score': 78.15707965575122}, {'type': 'homework', 'score': 40.75250769320247}, {'type': 'homework', 'score': 55.00421620686067}, {'type': 'homework', 'score': 28.21576655747814}, {'type': 'homework', 'score': 31.41446966140843}]}\n",
      "{'_id': ObjectId('50b59cd75bed76f46522c369'), 'student_id': 3, 'class_id': 16, 'scores': [{'type': 'exam', 'score': 0.5998735189206239}, {'type': 'quiz', 'score': 78.6776346269843}, {'type': 'homework', 'score': 64.11811985669685}]}\n",
      "{'_id': ObjectId('50b59cd75bed76f46522c36a'), 'student_id': 4, 'class_id': 5, 'scores': [{'type': 'exam', 'score': 5.466727688497352}, {'type': 'quiz', 'score': 48.70365097712529}, {'type': 'homework', 'score': 84.00121183981668}, {'type': 'homework', 'score': 67.53163246780703}, {'type': 'homework', 'score': 66.19091789853015}]}\n",
      "{'_id': ObjectId('50b59cd75bed76f46522c36b'), 'student_id': 4, 'class_id': 26, 'scores': [{'type': 'exam', 'score': 44.49334356888737}, {'type': 'quiz', 'score': 89.45022655920948}, {'type': 'homework', 'score': 43.21248942312994}, {'type': 'homework', 'score': 84.06963419960047}]}\n",
      "{'_id': ObjectId('50b59cd75bed76f46522c36c'), 'student_id': 4, 'class_id': 24, 'scores': [{'type': 'exam', 'score': 46.17925407652636}, {'type': 'quiz', 'score': 82.2008703054845}, {'type': 'homework', 'score': 84.69188163941084}, {'type': 'homework', 'score': 62.0124356065548}, {'type': 'homework', 'score': 64.92031477448502}, {'type': 'homework', 'score': 55.57211978265683}]}\n",
      "{'_id': ObjectId('50b59cd75bed76f46522c36d'), 'student_id': 4, 'class_id': 8, 'scores': [{'type': 'exam', 'score': 60.13912489935064}, {'type': 'quiz', 'score': 16.49453097445802}, {'type': 'homework', 'score': 20.64686745448644}, {'type': 'homework', 'score': 72.03200074025955}, {'type': 'homework', 'score': 23.97256438707867}]}\n",
      "{'_id': ObjectId('50b59cd75bed76f46522c36e'), 'student_id': 4, 'class_id': 19, 'scores': [{'type': 'exam', 'score': 91.60286135110157}, {'type': 'quiz', 'score': 77.86504954396824}, {'type': 'homework', 'score': 56.59544639677979}, {'type': 'homework', 'score': 79.14974103516604}]}\n",
      "{'_id': ObjectId('50b59cd75bed76f46522c36f'), 'student_id': 4, 'class_id': 12, 'scores': [{'type': 'exam', 'score': 0.6543096786026048}, {'type': 'quiz', 'score': 65.75264763263029}, {'type': 'homework', 'score': 73.2728520505146}, {'type': 'homework', 'score': 25.5620551543699}]}\n",
      "{'_id': ObjectId('50b59cd75bed76f46522c370'), 'student_id': 4, 'class_id': 0, 'scores': [{'type': 'exam', 'score': 67.50593066420024}, {'type': 'quiz', 'score': 60.43052278095685}, {'type': 'homework', 'score': 98.634640715799}, {'type': 'homework', 'score': 6.719346717934882}, {'type': 'homework', 'score': 43.61408080940507}, {'type': 'homework', 'score': 92.01607786819618}]}\n",
      "{'_id': ObjectId('50b59cd75bed76f46522c371'), 'student_id': 5, 'class_id': 19, 'scores': [{'type': 'exam', 'score': 15.36563152024366}, {'type': 'quiz', 'score': 15.0564655717795}, {'type': 'homework', 'score': 23.96468260067017}, {'type': 'homework', 'score': 72.72838189684599}, {'type': 'homework', 'score': 89.70059719539753}]}\n",
      "{'_id': ObjectId('50b59cd75bed76f46522c372'), 'student_id': 5, 'class_id': 30, 'scores': [{'type': 'exam', 'score': 73.48459944869943}, {'type': 'quiz', 'score': 75.01135493297872}, {'type': 'homework', 'score': 86.41339666607082}, {'type': 'homework', 'score': 6.271389125317883}, {'type': 'homework', 'score': 98.50624323298936}]}\n",
      "{'_id': ObjectId('50b59cd75bed76f46522c373'), 'student_id': 5, 'class_id': 18, 'scores': [{'type': 'exam', 'score': 73.04238861317688}, {'type': 'quiz', 'score': 27.95508924539547}, {'type': 'homework', 'score': 22.86693784286485}, {'type': 'homework', 'score': 48.16973377404425}, {'type': 'homework', 'score': 35.72781103246233}]}\n",
      "{'_id': ObjectId('50b59cd75bed76f46522c374'), 'student_id': 5, 'class_id': 23, 'scores': [{'type': 'exam', 'score': 21.58296008740177}, {'type': 'quiz', 'score': 3.634580210966121}, {'type': 'homework', 'score': 68.24631403391534}, {'type': 'homework', 'score': 9.131946981596894}, {'type': 'homework', 'score': 29.69618758646132}, {'type': 'homework', 'score': 78.33555189838114}]}\n",
      "{'_id': ObjectId('50b59cd75bed76f46522c375'), 'student_id': 5, 'class_id': 0, 'scores': [{'type': 'exam', 'score': 43.64758440439862}, {'type': 'quiz', 'score': 62.64445726673731}, {'type': 'homework', 'score': 89.13292408748923}, {'type': 'homework', 'score': 52.8809215943369}]}\n",
      "{'_id': ObjectId('50b59cd75bed76f46522c376'), 'student_id': 5, 'class_id': 8, 'scores': [{'type': 'exam', 'score': 22.38732080941065}, {'type': 'quiz', 'score': 61.0978008569998}, {'type': 'homework', 'score': 95.21804913043248}, {'type': 'homework', 'score': 18.58695956072932}, {'type': 'homework', 'score': 36.07345601237352}]}\n",
      "{'_id': ObjectId('50b59cd75bed76f46522c377'), 'student_id': 5, 'class_id': 16, 'scores': [{'type': 'exam', 'score': 33.39752665396672}, {'type': 'quiz', 'score': 92.72484425390054}, {'type': 'homework', 'score': 69.96783822606294}, {'type': 'homework', 'score': 60.84747157970097}]}\n",
      "{'_id': ObjectId('50b59cd75bed76f46522c378'), 'student_id': 6, 'class_id': 21, 'scores': [{'type': 'exam', 'score': 46.17900883744647}, {'type': 'quiz', 'score': 91.53032883789334}, {'type': 'homework', 'score': 38.57523921619017}]}\n",
      "{'_id': ObjectId('50b59cd75bed76f46522c379'), 'student_id': 6, 'class_id': 9, 'scores': [{'type': 'exam', 'score': 98.34929309113583}, {'type': 'quiz', 'score': 34.61107720578603}, {'type': 'homework', 'score': 47.3557826474249}]}\n",
      "{'_id': ObjectId('50b59cd75bed76f46522c37a'), 'student_id': 6, 'class_id': 20, 'scores': [{'type': 'exam', 'score': 55.41495979162525}, {'type': 'quiz', 'score': 80.78090944766167}, {'type': 'homework', 'score': 5.32775635719569}]}\n",
      "{'_id': ObjectId('50b59cd75bed76f46522c37b'), 'student_id': 6, 'class_id': 22, 'scores': [{'type': 'exam', 'score': 7.222854650083555}, {'type': 'quiz', 'score': 0.8564411896032409}, {'type': 'homework', 'score': 76.58867223308357}, {'type': 'homework', 'score': 7.347454388743602}]}\n",
      "{'_id': ObjectId('50b59cd75bed76f46522c37c'), 'student_id': 6, 'class_id': 29, 'scores': [{'type': 'exam', 'score': 62.87126631711959}, {'type': 'quiz', 'score': 29.45861846986217}, {'type': 'homework', 'score': 32.02141665410046}, {'type': 'homework', 'score': 12.39580012928427}, {'type': 'homework', 'score': 52.61677218894912}]}\n",
      "{'_id': ObjectId('50b59cd75bed76f46522c37d'), 'student_id': 6, 'class_id': 28, 'scores': [{'type': 'exam', 'score': 54.53656528205627}, {'type': 'quiz', 'score': 8.360280660111563}, {'type': 'homework', 'score': 7.107174438890274}, {'type': 'homework', 'score': 45.80634796309143}]}\n",
      "{'_id': ObjectId('50b59cd75bed76f46522c37e'), 'student_id': 6, 'class_id': 8, 'scores': [{'type': 'exam', 'score': 24.77044309013654}, {'type': 'quiz', 'score': 67.44847261883595}, {'type': 'homework', 'score': 10.17399168331673}, {'type': 'homework', 'score': 61.43163522261202}, {'type': 'homework', 'score': 59.42690819885932}, {'type': 'homework', 'score': 6.249430376468201}]}\n",
      "{'_id': ObjectId('50b59cd75bed76f46522c37f'), 'student_id': 6, 'class_id': 17, 'scores': [{'type': 'exam', 'score': 28.33650041402588}, {'type': 'quiz', 'score': 3.74478787151008}, {'type': 'homework', 'score': 83.20252315956937}, {'type': 'homework', 'score': 48.86672932982401}, {'type': 'homework', 'score': 26.63526362444173}, {'type': 'homework', 'score': 10.93021918882537}]}\n",
      "{'_id': ObjectId('50b59cd75bed76f46522c380'), 'student_id': 7, 'class_id': 17, 'scores': [{'type': 'exam', 'score': 62.60252103833057}, {'type': 'quiz', 'score': 32.67097391228319}, {'type': 'homework', 'score': 62.43367651747793}, {'type': 'homework', 'score': 91.4071849280275}, {'type': 'homework', 'score': 25.84007051255202}]}\n",
      "{'_id': ObjectId('50b59cd75bed76f46522c381'), 'student_id': 8, 'class_id': 29, 'scores': [{'type': 'exam', 'score': 7.338334503537625}, {'type': 'quiz', 'score': 68.788026894638}, {'type': 'homework', 'score': 84.12135157457064}]}\n",
      "{'_id': ObjectId('50b59cd75bed76f46522c382'), 'student_id': 8, 'class_id': 4, 'scores': [{'type': 'exam', 'score': 43.22861106831134}, {'type': 'quiz', 'score': 48.71070968047805}, {'type': 'homework', 'score': 85.91363173416465}, {'type': 'homework', 'score': 87.13683468459158}, {'type': 'homework', 'score': 52.41439144537605}, {'type': 'homework', 'score': 51.05496684863587}]}\n",
      "{'_id': ObjectId('50b59cd75bed76f46522c383'), 'student_id': 8, 'class_id': 11, 'scores': [{'type': 'exam', 'score': 89.12537830331416}, {'type': 'quiz', 'score': 11.48939533818351}, {'type': 'homework', 'score': 16.96585149869495}, {'type': 'homework', 'score': 17.8760904208101}, {'type': 'homework', 'score': 80.93286662099982}, {'type': 'homework', 'score': 28.93004389653184}]}\n",
      "{'_id': ObjectId('50b59cd75bed76f46522c384'), 'student_id': 8, 'class_id': 13, 'scores': [{'type': 'exam', 'score': 40.25329160007334}, {'type': 'quiz', 'score': 69.09906512872507}, {'type': 'homework', 'score': 86.444816454273}, {'type': 'homework', 'score': 7.827044836091501}]}\n",
      "{'_id': ObjectId('50b59cd75bed76f46522c385'), 'student_id': 8, 'class_id': 0, 'scores': [{'type': 'exam', 'score': 11.45806169674712}, {'type': 'quiz', 'score': 1.85065192236068}, {'type': 'homework', 'score': 61.65417646075115}]}\n",
      "{'_id': ObjectId('50b59cd75bed76f46522c386'), 'student_id': 8, 'class_id': 20, 'scores': [{'type': 'exam', 'score': 85.2953832985916}, {'type': 'quiz', 'score': 8.005305468056001}, {'type': 'homework', 'score': 88.79988885134861}]}\n",
      "{'_id': ObjectId('50b59cd75bed76f46522c387'), 'student_id': 9, 'class_id': 0, 'scores': [{'type': 'exam', 'score': 84.86830900347616}, {'type': 'quiz', 'score': 16.5663048704576}, {'type': 'homework', 'score': 18.51093851402572}, {'type': 'homework', 'score': 15.86472649082751}, {'type': 'homework', 'score': 24.97295249285152}, {'type': 'homework', 'score': 74.3247337485668}]}\n",
      "{'_id': ObjectId('50b59cd75bed76f46522c388'), 'student_id': 9, 'class_id': 14, 'scores': [{'type': 'exam', 'score': 58.04134989803556}, {'type': 'quiz', 'score': 11.00392184079301}, {'type': 'homework', 'score': 98.92399283514497}]}\n",
      "{'_id': ObjectId('50b59cd75bed76f46522c389'), 'student_id': 9, 'class_id': 30, 'scores': [{'type': 'exam', 'score': 32.06467118890522}, {'type': 'quiz', 'score': 5.033390080862244}, {'type': 'homework', 'score': 4.653283709330058}, {'type': 'homework', 'score': 9.570455018093737}]}\n",
      "{'_id': ObjectId('50b59cd75bed76f46522c38a'), 'student_id': 9, 'class_id': 9, 'scores': [{'type': 'exam', 'score': 68.49249612707904}, {'type': 'quiz', 'score': 86.58313888406278}, {'type': 'homework', 'score': 60.05047817130475}, {'type': 'homework', 'score': 19.41878138891581}, {'type': 'homework', 'score': 66.2693404206736}]}\n",
      "{'_id': ObjectId('50b59cd75bed76f46522c38b'), 'student_id': 9, 'class_id': 3, 'scores': [{'type': 'exam', 'score': 64.93468525135532}, {'type': 'quiz', 'score': 32.20214521140379}, {'type': 'homework', 'score': 59.40646343628241}]}\n",
      "{'_id': ObjectId('50b59cd75bed76f46522c38c'), 'student_id': 9, 'class_id': 10, 'scores': [{'type': 'exam', 'score': 73.51414024570775}, {'type': 'quiz', 'score': 90.79209913238653}, {'type': 'homework', 'score': 85.84321121315762}]}\n",
      "{'_id': ObjectId('50b59cd75bed76f46522c38d'), 'student_id': 9, 'class_id': 5, 'scores': [{'type': 'exam', 'score': 56.72772554130411}, {'type': 'quiz', 'score': 12.07144251947577}, {'type': 'homework', 'score': 45.72214778610147}]}\n",
      "{'_id': ObjectId('50b59cd75bed76f46522c38e'), 'student_id': 9, 'class_id': 16, 'scores': [{'type': 'exam', 'score': 85.30603053148313}, {'type': 'quiz', 'score': 63.13172149749776}, {'type': 'homework', 'score': 95.64071228013152}, {'type': 'homework', 'score': 40.28609948997154}, {'type': 'homework', 'score': 15.59403483233826}]}\n",
      "{'_id': ObjectId('50b59cd75bed76f46522c38f'), 'student_id': 9, 'class_id': 8, 'scores': [{'type': 'exam', 'score': 24.14000777332587}, {'type': 'quiz', 'score': 18.71542045987035}, {'type': 'homework', 'score': 69.02053148128002}, {'type': 'homework', 'score': 0.09963853025730662}]}\n",
      "{'_id': ObjectId('50b59cd75bed76f46522c390'), 'student_id': 9, 'class_id': 17, 'scores': [{'type': 'exam', 'score': 76.4386250061283}, {'type': 'quiz', 'score': 24.01487604578166}, {'type': 'homework', 'score': 11.5105043026943}, {'type': 'homework', 'score': 55.21991394868171}, {'type': 'homework', 'score': 68.81384613107457}, {'type': 'homework', 'score': 53.37561583843274}]}\n",
      "{'_id': ObjectId('50b59cd75bed76f46522c391'), 'student_id': 9, 'class_id': 15, 'scores': [{'type': 'exam', 'score': 85.20875356673056}, {'type': 'quiz', 'score': 45.50089366701895}, {'type': 'homework', 'score': 52.77197861787801}]}\n",
      "{'_id': ObjectId('50b59cd75bed76f46522c392'), 'student_id': 10, 'class_id': 5, 'scores': [{'type': 'exam', 'score': 69.17634380939022}, {'type': 'quiz', 'score': 61.20182926719762}, {'type': 'homework', 'score': 73.3293624199466}, {'type': 'homework', 'score': 15.2063140426229}, {'type': 'homework', 'score': 36.75297723087603}, {'type': 'homework', 'score': 64.42913107330241}]}\n",
      "{'_id': ObjectId('50b59cd75bed76f46522c393'), 'student_id': 11, 'class_id': 24, 'scores': [{'type': 'exam', 'score': 46.4063271595364}, {'type': 'quiz', 'score': 10.18101146173288}, {'type': 'homework', 'score': 46.31414846236896}]}\n",
      "{'_id': ObjectId('50b59cd75bed76f46522c394'), 'student_id': 11, 'class_id': 25, 'scores': [{'type': 'exam', 'score': 8.556777030290785}, {'type': 'quiz', 'score': 5.209884343208115}, {'type': 'homework', 'score': 41.32019707941892}, {'type': 'homework', 'score': 42.29046202603015}, {'type': 'homework', 'score': 72.34988111961346}]}\n",
      "{'_id': ObjectId('50b59cd75bed76f46522c395'), 'student_id': 12, 'class_id': 21, 'scores': [{'type': 'exam', 'score': 13.20781281549066}, {'type': 'quiz', 'score': 26.92398141399055}, {'type': 'homework', 'score': 23.12908585024626}, {'type': 'homework', 'score': 4.054670860875886}]}\n",
      "{'_id': ObjectId('50b59cd75bed76f46522c396'), 'student_id': 12, 'class_id': 13, 'scores': [{'type': 'exam', 'score': 9.877062317036877}, {'type': 'quiz', 'score': 4.953393735585532}, {'type': 'homework', 'score': 86.98095779449527}, {'type': 'homework', 'score': 10.80408218350192}, {'type': 'homework', 'score': 96.90960888352346}, {'type': 'homework', 'score': 77.89350860178497}]}\n",
      "{'_id': ObjectId('50b59cd75bed76f46522c397'), 'student_id': 12, 'class_id': 27, 'scores': [{'type': 'exam', 'score': 49.62461375883145}, {'type': 'quiz', 'score': 59.85828762774739}, {'type': 'homework', 'score': 99.45407211904612}, {'type': 'homework', 'score': 16.66649929315922}, {'type': 'homework', 'score': 39.34336258471443}]}\n",
      "{'_id': ObjectId('50b59cd75bed76f46522c398'), 'student_id': 12, 'class_id': 10, 'scores': [{'type': 'exam', 'score': 43.9267068724095}, {'type': 'quiz', 'score': 82.5964497229221}, {'type': 'homework', 'score': 30.59181042678939}, {'type': 'homework', 'score': 48.15439299082232}, {'type': 'homework', 'score': 27.22553216629407}]}\n",
      "{'_id': ObjectId('50b59cd75bed76f46522c399'), 'student_id': 12, 'class_id': 3, 'scores': [{'type': 'exam', 'score': 30.85759731987745}, {'type': 'quiz', 'score': 87.65532558125324}, {'type': 'homework', 'score': 92.24588895467643}]}\n",
      "{'_id': ObjectId('50b59cd75bed76f46522c39a'), 'student_id': 12, 'class_id': 11, 'scores': [{'type': 'exam', 'score': 78.2043346988088}, {'type': 'quiz', 'score': 81.94971547795645}, {'type': 'homework', 'score': 0.04794785051871475}, {'type': 'homework', 'score': 38.92307952846414}, {'type': 'homework', 'score': 86.99268421821665}]}\n",
      "{'_id': ObjectId('50b59cd75bed76f46522c39b'), 'student_id': 12, 'class_id': 23, 'scores': [{'type': 'exam', 'score': 26.9857216299485}, {'type': 'quiz', 'score': 50.03333080935277}, {'type': 'homework', 'score': 97.37669830304746}, {'type': 'homework', 'score': 66.74833018740628}, {'type': 'homework', 'score': 47.82042469815191}]}\n",
      "{'_id': ObjectId('50b59cd75bed76f46522c39c'), 'student_id': 12, 'class_id': 4, 'scores': [{'type': 'exam', 'score': 74.51653633796917}, {'type': 'quiz', 'score': 1.117448948398614}, {'type': 'homework', 'score': 81.77015538228966}, {'type': 'homework', 'score': 38.80702095392017}, {'type': 'homework', 'score': 49.51759142259007}, {'type': 'homework', 'score': 9.48049922977977}]}\n",
      "{'_id': ObjectId('50b59cd75bed76f46522c39d'), 'student_id': 13, 'class_id': 22, 'scores': [{'type': 'exam', 'score': 93.68723184311095}, {'type': 'quiz', 'score': 97.4439171714572}, {'type': 'homework', 'score': 22.11304425855482}, {'type': 'homework', 'score': 81.86156978969015}, {'type': 'homework', 'score': 0.43214511051749}, {'type': 'homework', 'score': 21.43022161019728}]}\n",
      "{'_id': ObjectId('50b59cd75bed76f46522c39e'), 'student_id': 14, 'class_id': 11, 'scores': [{'type': 'exam', 'score': 83.04970441614537}, {'type': 'quiz', 'score': 74.58039014002811}, {'type': 'homework', 'score': 9.692635268459316}, {'type': 'homework', 'score': 76.84904388576037}]}\n",
      "{'_id': ObjectId('50b59cd75bed76f46522c39f'), 'student_id': 14, 'class_id': 20, 'scores': [{'type': 'exam', 'score': 99.70054435154259}, {'type': 'quiz', 'score': 51.98658582965007}, {'type': 'homework', 'score': 93.55713517562553}]}\n",
      "{'_id': ObjectId('50b59cd75bed76f46522c3a0'), 'student_id': 14, 'class_id': 7, 'scores': [{'type': 'exam', 'score': 79.77321187176855}, {'type': 'quiz', 'score': 72.01016416852167}, {'type': 'homework', 'score': 67.34988551028735}, {'type': 'homework', 'score': 39.90912451571174}]}\n",
      "{'_id': ObjectId('50b59cd75bed76f46522c3a1'), 'student_id': 14, 'class_id': 6, 'scores': [{'type': 'exam', 'score': 99.49380951735357}, {'type': 'quiz', 'score': 20.61870341640834}, {'type': 'homework', 'score': 1.823502497587659}, {'type': 'homework', 'score': 26.09772017429695}]}\n",
      "{'_id': ObjectId('50b59cd75bed76f46522c3a2'), 'student_id': 14, 'class_id': 17, 'scores': [{'type': 'exam', 'score': 36.82195390538512}, {'type': 'quiz', 'score': 1.241847277126595}, {'type': 'homework', 'score': 5.60149960580254}, {'type': 'homework', 'score': 79.95124448139045}, {'type': 'homework', 'score': 53.03916326939456}]}\n",
      "{'_id': ObjectId('50b59cd75bed76f46522c3a3'), 'student_id': 15, 'class_id': 11, 'scores': [{'type': 'exam', 'score': 22.3221275426679}, {'type': 'quiz', 'score': 95.35941060150446}, {'type': 'homework', 'score': 19.33941754361318}, {'type': 'homework', 'score': 19.4639618196161}]}\n",
      "{'_id': ObjectId('50b59cd75bed76f46522c3a4'), 'student_id': 15, 'class_id': 17, 'scores': [{'type': 'exam', 'score': 94.08333146697787}, {'type': 'quiz', 'score': 90.86607454748169}, {'type': 'homework', 'score': 3.505396519418735}, {'type': 'homework', 'score': 2.114086877174615}, {'type': 'homework', 'score': 45.73982290186242}, {'type': 'homework', 'score': 53.40371959561195}]}\n",
      "{'_id': ObjectId('50b59cd75bed76f46522c3a5'), 'student_id': 15, 'class_id': 6, 'scores': [{'type': 'exam', 'score': 4.439674531772653}, {'type': 'quiz', 'score': 15.02882805391498}, {'type': 'homework', 'score': 48.34414645448949}, {'type': 'homework', 'score': 9.7290462311318}, {'type': 'homework', 'score': 69.76955706983179}, {'type': 'homework', 'score': 34.02044648836511}]}\n",
      "{'_id': ObjectId('50b59cd75bed76f46522c3a6'), 'student_id': 15, 'class_id': 0, 'scores': [{'type': 'exam', 'score': 84.22482529114681}, {'type': 'quiz', 'score': 68.51195197931716}, {'type': 'homework', 'score': 48.135589104224}]}\n",
      "{'_id': ObjectId('50b59cd75bed76f46522c3a7'), 'student_id': 15, 'class_id': 27, 'scores': [{'type': 'exam', 'score': 26.10647186162772}, {'type': 'quiz', 'score': 44.00942221757141}, {'type': 'homework', 'score': 39.47916529425859}, {'type': 'homework', 'score': 45.43364304635258}]}\n",
      "{'_id': ObjectId('50b59cd75bed76f46522c3a8'), 'student_id': 15, 'class_id': 24, 'scores': [{'type': 'exam', 'score': 77.02148190132719}, {'type': 'quiz', 'score': 3.349620900937544}, {'type': 'homework', 'score': 42.69070894579981}, {'type': 'homework', 'score': 48.40440600813179}, {'type': 'homework', 'score': 46.44118853416733}]}\n",
      "{'_id': ObjectId('50b59cd75bed76f46522c3a9'), 'student_id': 15, 'class_id': 18, 'scores': [{'type': 'exam', 'score': 53.36498760735608}, {'type': 'quiz', 'score': 45.11331116892846}, {'type': 'homework', 'score': 3.437100156261408}, {'type': 'homework', 'score': 52.72418084863588}, {'type': 'homework', 'score': 11.09505685365971}]}\n",
      "{'_id': ObjectId('50b59cd75bed76f46522c3aa'), 'student_id': 15, 'class_id': 21, 'scores': [{'type': 'exam', 'score': 25.84221979468727}, {'type': 'quiz', 'score': 12.95283344636241}, {'type': 'homework', 'score': 97.93077636423412}, {'type': 'homework', 'score': 74.72833943836015}, {'type': 'homework', 'score': 2.476072116651795}]}\n",
      "{'_id': ObjectId('50b59cd75bed76f46522c3ab'), 'student_id': 15, 'class_id': 14, 'scores': [{'type': 'exam', 'score': 69.73816690726252}, {'type': 'quiz', 'score': 74.53609942016858}, {'type': 'homework', 'score': 87.00277746948923}]}\n",
      "{'_id': ObjectId('50b59cd75bed76f46522c3ac'), 'student_id': 15, 'class_id': 22, 'scores': [{'type': 'exam', 'score': 25.57730073212775}, {'type': 'quiz', 'score': 85.78485865073884}, {'type': 'homework', 'score': 6.985868784647964}, {'type': 'homework', 'score': 71.74897599012183}, {'type': 'homework', 'score': 0.1041550509233824}]}\n",
      "{'_id': ObjectId('50b59cd75bed76f46522c3ad'), 'student_id': 16, 'class_id': 15, 'scores': [{'type': 'exam', 'score': 96.96878730277227}, {'type': 'quiz', 'score': 44.16698336965398}, {'type': 'homework', 'score': 33.15513048960109}]}\n",
      "{'_id': ObjectId('50b59cd75bed76f46522c3ae'), 'student_id': 16, 'class_id': 9, 'scores': [{'type': 'exam', 'score': 75.93420367047675}, {'type': 'quiz', 'score': 70.6069936954556}, {'type': 'homework', 'score': 14.04793568835913}, {'type': 'homework', 'score': 93.849793917102}, {'type': 'homework', 'score': 60.08159877144862}, {'type': 'homework', 'score': 90.80688783854058}]}\n",
      "{'_id': ObjectId('50b59cd75bed76f46522c3af'), 'student_id': 17, 'class_id': 19, 'scores': [{'type': 'exam', 'score': 65.20513624319982}, {'type': 'quiz', 'score': 57.29567421570596}, {'type': 'homework', 'score': 90.7612079888898}, {'type': 'homework', 'score': 4.343769428299527}, {'type': 'homework', 'score': 5.130598231283412}]}\n",
      "{'_id': ObjectId('50b59cd75bed76f46522c3b0'), 'student_id': 17, 'class_id': 30, 'scores': [{'type': 'exam', 'score': 43.77979215204155}, {'type': 'quiz', 'score': 73.37223540028083}, {'type': 'homework', 'score': 17.19265914443542}, {'type': 'homework', 'score': 70.22148356805738}, {'type': 'homework', 'score': 29.81795536677843}]}\n",
      "{'_id': ObjectId('50b59cd75bed76f46522c3b1'), 'student_id': 18, 'class_id': 4, 'scores': [{'type': 'exam', 'score': 50.45224812249776}, {'type': 'quiz', 'score': 92.1455996917289}, {'type': 'homework', 'score': 63.58903419857691}]}\n",
      "{'_id': ObjectId('50b59cd75bed76f46522c3b2'), 'student_id': 18, 'class_id': 12, 'scores': [{'type': 'exam', 'score': 28.44616239797351}, {'type': 'quiz', 'score': 61.68253532026511}, {'type': 'homework', 'score': 48.70395034065579}, {'type': 'homework', 'score': 60.14281257828002}, {'type': 'homework', 'score': 67.1876659792913}, {'type': 'homework', 'score': 88.01503433639428}]}\n",
      "{'_id': ObjectId('50b59cd75bed76f46522c3b3'), 'student_id': 18, 'class_id': 21, 'scores': [{'type': 'exam', 'score': 47.52492485990862}, {'type': 'quiz', 'score': 47.40642694125606}, {'type': 'homework', 'score': 38.44163896654238}, {'type': 'homework', 'score': 84.9343766512288}, {'type': 'homework', 'score': 94.21378296771904}]}\n",
      "{'_id': ObjectId('50b59cd75bed76f46522c3b4'), 'student_id': 18, 'class_id': 23, 'scores': [{'type': 'exam', 'score': 19.09718044780793}, {'type': 'quiz', 'score': 58.75595822875913}, {'type': 'homework', 'score': 25.46104714653531}, {'type': 'homework', 'score': 21.68105819974997}]}\n",
      "{'_id': ObjectId('50b59cd75bed76f46522c3b5'), 'student_id': 18, 'class_id': 20, 'scores': [{'type': 'exam', 'score': 49.38182410610186}, {'type': 'quiz', 'score': 78.27223014707987}, {'type': 'homework', 'score': 2.450566155310629}, {'type': 'homework', 'score': 47.43852459418538}, {'type': 'homework', 'score': 81.88557116376475}]}\n",
      "{'_id': ObjectId('50b59cd75bed76f46522c3b6'), 'student_id': 18, 'class_id': 16, 'scores': [{'type': 'exam', 'score': 24.20577196444662}, {'type': 'quiz', 'score': 72.48098701821297}, {'type': 'homework', 'score': 5.242316195530805}, {'type': 'homework', 'score': 23.73615078332194}, {'type': 'homework', 'score': 90.78241298306662}, {'type': 'homework', 'score': 90.32454649632744}]}\n",
      "{'_id': ObjectId('50b59cd75bed76f46522c3b7'), 'student_id': 18, 'class_id': 8, 'scores': [{'type': 'exam', 'score': 16.78164261379724}, {'type': 'quiz', 'score': 3.422248849785503}, {'type': 'homework', 'score': 10.41606853424734}]}\n",
      "{'_id': ObjectId('50b59cd75bed76f46522c3b8'), 'student_id': 18, 'class_id': 3, 'scores': [{'type': 'exam', 'score': 46.1566435041489}, {'type': 'quiz', 'score': 16.13198066471438}, {'type': 'homework', 'score': 50.35542752939291}, {'type': 'homework', 'score': 64.23321169777468}]}\n",
      "{'_id': ObjectId('50b59cd75bed76f46522c3b9'), 'student_id': 18, 'class_id': 5, 'scores': [{'type': 'exam', 'score': 33.72760733197209}, {'type': 'quiz', 'score': 45.87139678723763}, {'type': 'homework', 'score': 67.44122827228165}, {'type': 'homework', 'score': 64.59618985782753}, {'type': 'homework', 'score': 87.34397733221864}]}\n",
      "{'_id': ObjectId('50b59cd75bed76f46522c3ba'), 'student_id': 19, 'class_id': 22, 'scores': [{'type': 'exam', 'score': 18.14021056015449}, {'type': 'quiz', 'score': 64.6745057346024}, {'type': 'homework', 'score': 85.06374144543638}, {'type': 'homework', 'score': 17.53889347657805}, {'type': 'homework', 'score': 8.496705983728248}]}\n",
      "{'_id': ObjectId('50b59cd75bed76f46522c3bb'), 'student_id': 19, 'class_id': 29, 'scores': [{'type': 'exam', 'score': 92.8813997808383}, {'type': 'quiz', 'score': 3.507527031194757}, {'type': 'homework', 'score': 39.56717120277167}, {'type': 'homework', 'score': 65.97113006156208}, {'type': 'homework', 'score': 53.65342174743992}]}\n",
      "{'_id': ObjectId('50b59cd75bed76f46522c3bc'), 'student_id': 20, 'class_id': 29, 'scores': [{'type': 'exam', 'score': 86.1090106009861}, {'type': 'quiz', 'score': 79.0764076312228}, {'type': 'homework', 'score': 4.449146004101944}, {'type': 'homework', 'score': 68.83534456579761}, {'type': 'homework', 'score': 96.02676879891634}]}\n",
      "{'_id': ObjectId('50b59cd75bed76f46522c3bd'), 'student_id': 20, 'class_id': 25, 'scores': [{'type': 'exam', 'score': 12.06610692616781}, {'type': 'quiz', 'score': 27.32898252378393}, {'type': 'homework', 'score': 47.0191853733133}, {'type': 'homework', 'score': 4.37867042854233}, {'type': 'homework', 'score': 43.85828758424952}, {'type': 'homework', 'score': 20.12600756572279}]}\n",
      "{'_id': ObjectId('50b59cd75bed76f46522c3be'), 'student_id': 20, 'class_id': 12, 'scores': [{'type': 'exam', 'score': 7.234524500896045}, {'type': 'quiz', 'score': 59.81730315697359}, {'type': 'homework', 'score': 57.65840340396059}, {'type': 'homework', 'score': 47.71179327010496}]}\n",
      "{'_id': ObjectId('50b59cd75bed76f46522c3bf'), 'student_id': 20, 'class_id': 3, 'scores': [{'type': 'exam', 'score': 61.46652938611871}, {'type': 'quiz', 'score': 23.892030332276}, {'type': 'homework', 'score': 57.83654276253935}, {'type': 'homework', 'score': 26.84058841696616}, {'type': 'homework', 'score': 64.13150013000825}, {'type': 'homework', 'score': 51.16747936179576}]}\n",
      "{'_id': ObjectId('50b59cd75bed76f46522c3c0'), 'student_id': 20, 'class_id': 6, 'scores': [{'type': 'exam', 'score': 46.20489588578886}, {'type': 'quiz', 'score': 3.792353011601834}, {'type': 'homework', 'score': 53.76374723192568}]}\n",
      "{'_id': ObjectId('50b59cd75bed76f46522c3c1'), 'student_id': 20, 'class_id': 30, 'scores': [{'type': 'exam', 'score': 64.0027795852982}, {'type': 'quiz', 'score': 35.13031109467001}, {'type': 'homework', 'score': 41.38040391071949}, {'type': 'homework', 'score': 20.0423638438902}, {'type': 'homework', 'score': 67.33236737784982}]}\n",
      "{'_id': ObjectId('50b59cd75bed76f46522c3c2'), 'student_id': 20, 'class_id': 26, 'scores': [{'type': 'exam', 'score': 55.93900885847822}, {'type': 'quiz', 'score': 48.33321376523833}, {'type': 'homework', 'score': 3.749294423551464}, {'type': 'homework', 'score': 42.1742672055957}, {'type': 'homework', 'score': 51.99083016668821}, {'type': 'homework', 'score': 80.16223644749422}]}\n",
      "{'_id': ObjectId('50b59cd75bed76f46522c3c3'), 'student_id': 20, 'class_id': 16, 'scores': [{'type': 'exam', 'score': 27.68631636784475}, {'type': 'quiz', 'score': 25.21038363378704}, {'type': 'homework', 'score': 66.32564092703578}, {'type': 'homework', 'score': 45.75538585286493}, {'type': 'homework', 'score': 27.88983871571887}, {'type': 'homework', 'score': 56.13277947647338}]}\n",
      "{'_id': ObjectId('50b59cd75bed76f46522c3c4'), 'student_id': 20, 'class_id': 1, 'scores': [{'type': 'exam', 'score': 82.81431543635354}, {'type': 'quiz', 'score': 26.88697937035753}, {'type': 'homework', 'score': 91.90995097889115}]}\n",
      "{'_id': ObjectId('50b59cd75bed76f46522c3c5'), 'student_id': 21, 'class_id': 11, 'scores': [{'type': 'exam', 'score': 32.88633760355745}, {'type': 'quiz', 'score': 82.3741668200383}, {'type': 'homework', 'score': 11.50124563388024}]}\n",
      "{'_id': ObjectId('50b59cd75bed76f46522c3c6'), 'student_id': 21, 'class_id': 10, 'scores': [{'type': 'exam', 'score': 89.94206596683296}, {'type': 'quiz', 'score': 75.88411750777676}, {'type': 'homework', 'score': 31.84916688586861}, {'type': 'homework', 'score': 54.70314019170181}]}\n",
      "{'_id': ObjectId('50b59cd75bed76f46522c3c7'), 'student_id': 21, 'class_id': 22, 'scores': [{'type': 'exam', 'score': 90.0252219271815}, {'type': 'quiz', 'score': 11.50285668334039}, {'type': 'homework', 'score': 92.5491094093554}, {'type': 'homework', 'score': 86.83187969953255}, {'type': 'homework', 'score': 60.83637822223815}, {'type': 'homework', 'score': 15.07683820321754}]}\n",
      "{'_id': ObjectId('50b59cd75bed76f46522c3c8'), 'student_id': 21, 'class_id': 25, 'scores': [{'type': 'exam', 'score': 47.1685980067183}, {'type': 'quiz', 'score': 99.9092162705742}, {'type': 'homework', 'score': 8.166538588067674}, {'type': 'homework', 'score': 98.53813228764548}, {'type': 'homework', 'score': 42.31572524896063}, {'type': 'homework', 'score': 49.63010966350694}]}\n",
      "{'_id': ObjectId('50b59cd75bed76f46522c3c9'), 'student_id': 21, 'class_id': 30, 'scores': [{'type': 'exam', 'score': 21.10611312823029}, {'type': 'quiz', 'score': 41.75700423895986}, {'type': 'homework', 'score': 81.8417656995416}, {'type': 'homework', 'score': 42.46232086085254}, {'type': 'homework', 'score': 99.62785870384556}, {'type': 'homework', 'score': 89.44679902951272}]}\n",
      "{'_id': ObjectId('50b59cd75bed76f46522c3ca'), 'student_id': 21, 'class_id': 26, 'scores': [{'type': 'exam', 'score': 30.86519770355717}, {'type': 'quiz', 'score': 77.97577991129313}, {'type': 'homework', 'score': 45.128923518568}]}\n",
      "{'_id': ObjectId('50b59cd75bed76f46522c3cb'), 'student_id': 22, 'class_id': 19, 'scores': [{'type': 'exam', 'score': 55.0522480640462}, {'type': 'quiz', 'score': 95.20009756393695}, {'type': 'homework', 'score': 79.9471080072943}]}\n",
      "{'_id': ObjectId('50b59cd75bed76f46522c3cc'), 'student_id': 22, 'class_id': 8, 'scores': [{'type': 'exam', 'score': 84.12365401503675}, {'type': 'quiz', 'score': 82.22294460616185}, {'type': 'homework', 'score': 36.83389376019068}]}\n",
      "{'_id': ObjectId('50b59cd75bed76f46522c3cd'), 'student_id': 22, 'class_id': 1, 'scores': [{'type': 'exam', 'score': 50.24004738652367}, {'type': 'quiz', 'score': 55.86202467303837}, {'type': 'homework', 'score': 26.51620273376862}, {'type': 'homework', 'score': 82.96748644970963}]}\n",
      "{'_id': ObjectId('50b59cd75bed76f46522c3ce'), 'student_id': 23, 'class_id': 20, 'scores': [{'type': 'exam', 'score': 88.66959370612344}, {'type': 'quiz', 'score': 3.686746312882527}, {'type': 'homework', 'score': 10.71346184091022}, {'type': 'homework', 'score': 15.14038061879386}, {'type': 'homework', 'score': 12.59010100284684}]}\n",
      "{'_id': ObjectId('50b59cd75bed76f46522c3cf'), 'student_id': 23, 'class_id': 18, 'scores': [{'type': 'exam', 'score': 39.86292841842742}, {'type': 'quiz', 'score': 65.21955690464051}, {'type': 'homework', 'score': 25.76757580818705}]}\n",
      "{'_id': ObjectId('50b59cd75bed76f46522c3d0'), 'student_id': 23, 'class_id': 8, 'scores': [{'type': 'exam', 'score': 49.56498666479339}, {'type': 'quiz', 'score': 45.96281436909623}, {'type': 'homework', 'score': 3.642173058021936}, {'type': 'homework', 'score': 15.60563475019373}]}\n",
      "{'_id': ObjectId('50b59cd75bed76f46522c3d1'), 'student_id': 23, 'class_id': 3, 'scores': [{'type': 'exam', 'score': 21.95879966083859}, {'type': 'quiz', 'score': 81.92635927496852}, {'type': 'homework', 'score': 66.3903661215627}, {'type': 'homework', 'score': 37.14382732175467}, {'type': 'homework', 'score': 82.98701965772985}, {'type': 'homework', 'score': 20.68358557071086}]}\n",
      "{'_id': ObjectId('50b59cd75bed76f46522c3d2'), 'student_id': 23, 'class_id': 11, 'scores': [{'type': 'exam', 'score': 92.6824506435827}, {'type': 'quiz', 'score': 10.42383027538696}, {'type': 'homework', 'score': 35.47524336463789}, {'type': 'homework', 'score': 5.078125803865008}, {'type': 'homework', 'score': 88.90326699388295}, {'type': 'homework', 'score': 39.74271794291903}]}\n",
      "{'_id': ObjectId('50b59cd75bed76f46522c3d3'), 'student_id': 23, 'class_id': 27, 'scores': [{'type': 'exam', 'score': 5.581375819844281}, {'type': 'quiz', 'score': 22.29885171748077}, {'type': 'homework', 'score': 72.5148868295698}, {'type': 'homework', 'score': 27.58862591024009}, {'type': 'homework', 'score': 40.6901998180344}, {'type': 'homework', 'score': 60.62882362452143}]}\n",
      "{'_id': ObjectId('50b59cd75bed76f46522c3d4'), 'student_id': 23, 'class_id': 7, 'scores': [{'type': 'exam', 'score': 18.55546894995527}, {'type': 'quiz', 'score': 68.99413115338837}, {'type': 'homework', 'score': 20.46767095667299}, {'type': 'homework', 'score': 19.97027655850313}, {'type': 'homework', 'score': 20.79627924788043}]}\n",
      "{'_id': ObjectId('50b59cd75bed76f46522c3d5'), 'student_id': 23, 'class_id': 17, 'scores': [{'type': 'exam', 'score': 68.06174666755967}, {'type': 'quiz', 'score': 53.65887157964902}, {'type': 'homework', 'score': 67.52386849564552}]}\n",
      "{'_id': ObjectId('50b59cd75bed76f46522c3d6'), 'student_id': 23, 'class_id': 24, 'scores': [{'type': 'exam', 'score': 3.063427506586214}, {'type': 'quiz', 'score': 22.87364071734163}, {'type': 'homework', 'score': 18.84297793511524}, {'type': 'homework', 'score': 54.97821615988537}, {'type': 'homework', 'score': 77.00845740928497}, {'type': 'homework', 'score': 53.03574992358852}]}\n",
      "{'_id': ObjectId('50b59cd75bed76f46522c3d7'), 'student_id': 23, 'class_id': 10, 'scores': [{'type': 'exam', 'score': 71.88314875263234}, {'type': 'quiz', 'score': 70.36173048856206}, {'type': 'homework', 'score': 1.091907541829884}, {'type': 'homework', 'score': 98.42316462960497}, {'type': 'homework', 'score': 67.61751942914567}]}\n",
      "{'_id': ObjectId('50b59cd75bed76f46522c3d8'), 'student_id': 24, 'class_id': 22, 'scores': [{'type': 'exam', 'score': 18.25873184124802}, {'type': 'quiz', 'score': 33.07221585133989}, {'type': 'homework', 'score': 97.60356805516503}, {'type': 'homework', 'score': 4.732689215044283}, {'type': 'homework', 'score': 1.961887236992144}, {'type': 'homework', 'score': 13.55944778399209}]}\n",
      "{'_id': ObjectId('50b59cd75bed76f46522c3d9'), 'student_id': 24, 'class_id': 23, 'scores': [{'type': 'exam', 'score': 80.37041372359649}, {'type': 'quiz', 'score': 85.25532383006757}, {'type': 'homework', 'score': 22.58401220794147}]}\n",
      "{'_id': ObjectId('50b59cd75bed76f46522c3da'), 'student_id': 24, 'class_id': 26, 'scores': [{'type': 'exam', 'score': 18.66440295626736}, {'type': 'quiz', 'score': 38.29092892188126}, {'type': 'homework', 'score': 37.73256413492206}]}\n",
      "{'_id': ObjectId('50b59cd75bed76f46522c3db'), 'student_id': 24, 'class_id': 14, 'scores': [{'type': 'exam', 'score': 16.91857605196919}, {'type': 'quiz', 'score': 55.27468917764441}, {'type': 'homework', 'score': 29.27598813351773}, {'type': 'homework', 'score': 18.39744019711347}, {'type': 'homework', 'score': 26.35372735126518}, {'type': 'homework', 'score': 29.70066447826814}]}\n",
      "{'_id': ObjectId('50b59cd75bed76f46522c3dc'), 'student_id': 24, 'class_id': 2, 'scores': [{'type': 'exam', 'score': 54.63228514853508}, {'type': 'quiz', 'score': 80.32204290538087}, {'type': 'homework', 'score': 71.15014362299445}, {'type': 'homework', 'score': 57.08053079622877}]}\n",
      "{'_id': ObjectId('50b59cd75bed76f46522c3dd'), 'student_id': 25, 'class_id': 2, 'scores': [{'type': 'exam', 'score': 39.8052260869232}, {'type': 'quiz', 'score': 85.59336208703981}, {'type': 'homework', 'score': 16.3016460205172}, {'type': 'homework', 'score': 4.62963742991297}]}\n",
      "{'_id': ObjectId('50b59cd75bed76f46522c3de'), 'student_id': 25, 'class_id': 7, 'scores': [{'type': 'exam', 'score': 44.97970926653762}, {'type': 'quiz', 'score': 85.31845508940518}, {'type': 'homework', 'score': 93.04356050702344}, {'type': 'homework', 'score': 60.2923050160344}, {'type': 'homework', 'score': 79.63780753145487}]}\n",
      "{'_id': ObjectId('50b59cd75bed76f46522c3df'), 'student_id': 25, 'class_id': 15, 'scores': [{'type': 'exam', 'score': 61.5008555738809}, {'type': 'quiz', 'score': 29.30294509992831}, {'type': 'homework', 'score': 25.63640815732606}, {'type': 'homework', 'score': 57.93101000461009}, {'type': 'homework', 'score': 58.85540592376152}, {'type': 'homework', 'score': 29.70426767006597}]}\n",
      "{'_id': ObjectId('50b59cd75bed76f46522c3e0'), 'student_id': 25, 'class_id': 18, 'scores': [{'type': 'exam', 'score': 22.97682716622042}, {'type': 'quiz', 'score': 89.75582289783684}, {'type': 'homework', 'score': 10.40978261840015}, {'type': 'homework', 'score': 63.99609252611357}]}\n",
      "{'_id': ObjectId('50b59cd75bed76f46522c3e1'), 'student_id': 25, 'class_id': 0, 'scores': [{'type': 'exam', 'score': 60.29183399202943}, {'type': 'quiz', 'score': 35.21382430742381}, {'type': 'homework', 'score': 78.78531385395219}, {'type': 'homework', 'score': 14.08119604820635}]}\n",
      "{'_id': ObjectId('50b59cd75bed76f46522c3e2'), 'student_id': 25, 'class_id': 19, 'scores': [{'type': 'exam', 'score': 14.00159037053725}, {'type': 'quiz', 'score': 24.2134251927383}, {'type': 'homework', 'score': 3.658617310526702}, {'type': 'homework', 'score': 40.21671947082074}, {'type': 'homework', 'score': 85.52518827208891}]}\n",
      "{'_id': ObjectId('50b59cd75bed76f46522c3e3'), 'student_id': 26, 'class_id': 12, 'scores': [{'type': 'exam', 'score': 44.08051047561329}, {'type': 'quiz', 'score': 24.85357266177852}, {'type': 'homework', 'score': 11.80437048193518}, {'type': 'homework', 'score': 71.25080163274878}, {'type': 'homework', 'score': 21.91871493410248}]}\n",
      "{'_id': ObjectId('50b59cd75bed76f46522c3e4'), 'student_id': 26, 'class_id': 6, 'scores': [{'type': 'exam', 'score': 3.799251840068141}, {'type': 'quiz', 'score': 37.60048035637249}, {'type': 'homework', 'score': 81.30287670207669}, {'type': 'homework', 'score': 37.80491429858801}]}\n",
      "{'_id': ObjectId('50b59cd75bed76f46522c3e5'), 'student_id': 26, 'class_id': 25, 'scores': [{'type': 'exam', 'score': 42.23071231306863}, {'type': 'quiz', 'score': 71.6278279822968}, {'type': 'homework', 'score': 32.75059720307034}, {'type': 'homework', 'score': 47.76436918565891}]}\n",
      "{'_id': ObjectId('50b59cd75bed76f46522c3e6'), 'student_id': 27, 'class_id': 27, 'scores': [{'type': 'exam', 'score': 46.26853900690158}, {'type': 'quiz', 'score': 9.674333465365558}, {'type': 'homework', 'score': 33.9710580669943}]}\n",
      "{'_id': ObjectId('50b59cd75bed76f46522c3e7'), 'student_id': 27, 'class_id': 9, 'scores': [{'type': 'exam', 'score': 76.7030883158744}, {'type': 'quiz', 'score': 35.74373289906013}, {'type': 'homework', 'score': 29.1963965555344}, {'type': 'homework', 'score': 18.4727851393206}]}\n",
      "{'_id': ObjectId('50b59cd75bed76f46522c3e8'), 'student_id': 28, 'class_id': 5, 'scores': [{'type': 'exam', 'score': 82.15236482200076}, {'type': 'quiz', 'score': 10.10828361810044}, {'type': 'homework', 'score': 11.89060339251475}, {'type': 'homework', 'score': 96.19877427986863}]}\n",
      "{'_id': ObjectId('50b59cd75bed76f46522c3e9'), 'student_id': 28, 'class_id': 23, 'scores': [{'type': 'exam', 'score': 68.81555755982043}, {'type': 'quiz', 'score': 66.2603763984926}, {'type': 'homework', 'score': 87.79508217805342}, {'type': 'homework', 'score': 67.74796757821422}, {'type': 'homework', 'score': 64.16334311562537}]}\n",
      "{'_id': ObjectId('50b59cd75bed76f46522c3ea'), 'student_id': 28, 'class_id': 29, 'scores': [{'type': 'exam', 'score': 62.47836617718976}, {'type': 'quiz', 'score': 85.90694876370223}, {'type': 'homework', 'score': 16.79272564501346}]}\n",
      "{'_id': ObjectId('50b59cd75bed76f46522c3eb'), 'student_id': 29, 'class_id': 6, 'scores': [{'type': 'exam', 'score': 77.14694340810587}, {'type': 'quiz', 'score': 32.45833146726866}, {'type': 'homework', 'score': 11.33537033218648}, {'type': 'homework', 'score': 16.83029107179869}, {'type': 'homework', 'score': 18.05123520278903}]}\n",
      "{'_id': ObjectId('50b59cd75bed76f46522c3ec'), 'student_id': 29, 'class_id': 9, 'scores': [{'type': 'exam', 'score': 18.4880853900922}, {'type': 'quiz', 'score': 14.37023503861652}, {'type': 'homework', 'score': 29.59770271307264}]}\n",
      "{'_id': ObjectId('50b59cd75bed76f46522c3ed'), 'student_id': 29, 'class_id': 4, 'scores': [{'type': 'exam', 'score': 34.14048449962188}, {'type': 'quiz', 'score': 45.21754999801829}, {'type': 'homework', 'score': 33.49373008499901}, {'type': 'homework', 'score': 92.49613107517658}]}\n",
      "{'_id': ObjectId('50b59cd75bed76f46522c3ee'), 'student_id': 29, 'class_id': 16, 'scores': [{'type': 'exam', 'score': 91.10262572056217}, {'type': 'quiz', 'score': 70.14828216439895}, {'type': 'homework', 'score': 31.13659535964025}, {'type': 'homework', 'score': 54.67251294280713}]}\n",
      "{'_id': ObjectId('50b59cd75bed76f46522c3ef'), 'student_id': 29, 'class_id': 22, 'scores': [{'type': 'exam', 'score': 48.53687570033242}, {'type': 'quiz', 'score': 54.25500149817004}, {'type': 'homework', 'score': 38.84255122391169}, {'type': 'homework', 'score': 24.9198727509439}, {'type': 'homework', 'score': 55.71410164272018}]}\n",
      "{'_id': ObjectId('50b59cd75bed76f46522c3f0'), 'student_id': 29, 'class_id': 1, 'scores': [{'type': 'exam', 'score': 13.57476838068458}, {'type': 'quiz', 'score': 28.27997159485266}, {'type': 'homework', 'score': 72.40032853109204}]}\n",
      "{'_id': ObjectId('50b59cd75bed76f46522c3f1'), 'student_id': 29, 'class_id': 7, 'scores': [{'type': 'exam', 'score': 63.15698088911974}, {'type': 'quiz', 'score': 30.41484529536909}, {'type': 'homework', 'score': 9.362100057782852}, {'type': 'homework', 'score': 4.489357836698893}]}\n",
      "{'_id': ObjectId('50b59cd75bed76f46522c3f2'), 'student_id': 29, 'class_id': 28, 'scores': [{'type': 'exam', 'score': 63.86968577495493}, {'type': 'quiz', 'score': 18.90484991792141}, {'type': 'homework', 'score': 93.74556854603652}]}\n",
      "{'_id': ObjectId('50b59cd75bed76f46522c3f3'), 'student_id': 29, 'class_id': 12, 'scores': [{'type': 'exam', 'score': 7.197485627846945}, {'type': 'quiz', 'score': 27.7618127958813}, {'type': 'homework', 'score': 3.7060336127553}, {'type': 'homework', 'score': 45.81943528862846}, {'type': 'homework', 'score': 20.08304512589836}, {'type': 'homework', 'score': 63.3109259597675}]}\n",
      "{'_id': ObjectId('50b59cd75bed76f46522c3f4'), 'student_id': 29, 'class_id': 11, 'scores': [{'type': 'exam', 'score': 10.03145875682203}, {'type': 'quiz', 'score': 80.05275112373326}, {'type': 'homework', 'score': 95.51703509928473}]}\n",
      "{'_id': ObjectId('50b59cd75bed76f46522c3f5'), 'student_id': 30, 'class_id': 25, 'scores': [{'type': 'exam', 'score': 8.523475334629937}, {'type': 'quiz', 'score': 15.12734250887849}, {'type': 'homework', 'score': 36.23107285089671}, {'type': 'homework', 'score': 18.92291644871093}, {'type': 'homework', 'score': 45.51781863980386}]}\n",
      "{'_id': ObjectId('50b59cd75bed76f46522c3f6'), 'student_id': 30, 'class_id': 2, 'scores': [{'type': 'exam', 'score': 1.197841916345654}, {'type': 'quiz', 'score': 20.31340369190809}, {'type': 'homework', 'score': 81.24718860728508}]}\n",
      "{'_id': ObjectId('50b59cd75bed76f46522c3f7'), 'student_id': 30, 'class_id': 15, 'scores': [{'type': 'exam', 'score': 91.54192511209713}, {'type': 'quiz', 'score': 57.2169595786427}, {'type': 'homework', 'score': 51.30647960726883}, {'type': 'homework', 'score': 7.190141060050781}, {'type': 'homework', 'score': 10.58892715213427}]}\n",
      "{'_id': ObjectId('50b59cd75bed76f46522c3f8'), 'student_id': 30, 'class_id': 4, 'scores': [{'type': 'exam', 'score': 52.88413576882487}, {'type': 'quiz', 'score': 70.81561908160717}, {'type': 'homework', 'score': 68.17945550278581}, {'type': 'homework', 'score': 47.54804857702254}, {'type': 'homework', 'score': 84.66123625542802}, {'type': 'homework', 'score': 66.31027988699951}]}\n",
      "{'_id': ObjectId('50b59cd75bed76f46522c3f9'), 'student_id': 30, 'class_id': 17, 'scores': [{'type': 'exam', 'score': 20.90675318131353}, {'type': 'quiz', 'score': 32.10270760837204}, {'type': 'homework', 'score': 46.12170275711451}, {'type': 'homework', 'score': 8.383536405321157}, {'type': 'homework', 'score': 94.27553314384267}]}\n",
      "{'_id': ObjectId('50b59cd75bed76f46522c3fa'), 'student_id': 30, 'class_id': 7, 'scores': [{'type': 'exam', 'score': 74.81463283288625}, {'type': 'quiz', 'score': 64.04420250468628}, {'type': 'homework', 'score': 15.4830813222264}]}\n",
      "{'_id': ObjectId('50b59cd75bed76f46522c3fb'), 'student_id': 30, 'class_id': 3, 'scores': [{'type': 'exam', 'score': 62.52802784634457}, {'type': 'quiz', 'score': 82.10574723679358}, {'type': 'homework', 'score': 37.63519405892302}]}\n",
      "{'_id': ObjectId('50b59cd75bed76f46522c3fc'), 'student_id': 30, 'class_id': 0, 'scores': [{'type': 'exam', 'score': 22.0401025053437}, {'type': 'quiz', 'score': 27.99165432644689}, {'type': 'homework', 'score': 34.38961275690694}, {'type': 'homework', 'score': 47.1044493935048}, {'type': 'homework', 'score': 3.04468118192156}, {'type': 'homework', 'score': 56.42007160295321}]}\n",
      "{'_id': ObjectId('50b59cd75bed76f46522c3fd'), 'student_id': 30, 'class_id': 16, 'scores': [{'type': 'exam', 'score': 49.74571914767485}, {'type': 'quiz', 'score': 78.31908865276087}, {'type': 'homework', 'score': 21.60918291980615}]}\n",
      "{'_id': ObjectId('50b59cd75bed76f46522c3fe'), 'student_id': 30, 'class_id': 6, 'scores': [{'type': 'exam', 'score': 91.86971179652961}, {'type': 'quiz', 'score': 93.82838419004693}, {'type': 'homework', 'score': 28.81846612618807}, {'type': 'homework', 'score': 95.04044710906683}, {'type': 'homework', 'score': 69.02391738983644}, {'type': 'homework', 'score': 46.1184202223522}]}\n",
      "{'_id': ObjectId('50b59cd75bed76f46522c3ff'), 'student_id': 30, 'class_id': 29, 'scores': [{'type': 'exam', 'score': 60.52540562709612}, {'type': 'quiz', 'score': 87.60791437180268}, {'type': 'homework', 'score': 72.34681049956629}, {'type': 'homework', 'score': 51.5889521849404}]}\n",
      "{'_id': ObjectId('50b59cd75bed76f46522c400'), 'student_id': 31, 'class_id': 1, 'scores': [{'type': 'exam', 'score': 65.16484983487209}, {'type': 'quiz', 'score': 11.9909094548269}, {'type': 'homework', 'score': 80.7746997721192}, {'type': 'homework', 'score': 39.35983042793237}]}\n",
      "{'_id': ObjectId('50b59cd75bed76f46522c401'), 'student_id': 31, 'class_id': 19, 'scores': [{'type': 'exam', 'score': 46.67153015586837}, {'type': 'quiz', 'score': 69.55041828769882}, {'type': 'homework', 'score': 90.20775980179084}, {'type': 'homework', 'score': 6.364889213038927}, {'type': 'homework', 'score': 18.63715000430529}, {'type': 'homework', 'score': 72.76387645970551}]}\n",
      "{'_id': ObjectId('50b59cd75bed76f46522c402'), 'student_id': 31, 'class_id': 2, 'scores': [{'type': 'exam', 'score': 6.052900823901808}, {'type': 'quiz', 'score': 65.71585059236634}, {'type': 'homework', 'score': 48.25042888976557}]}\n",
      "{'_id': ObjectId('50b59cd75bed76f46522c403'), 'student_id': 31, 'class_id': 0, 'scores': [{'type': 'exam', 'score': 80.21806952984706}, {'type': 'quiz', 'score': 91.30483796178443}, {'type': 'homework', 'score': 22.03875276641491}, {'type': 'homework', 'score': 11.77044700894856}, {'type': 'homework', 'score': 60.89655655399731}, {'type': 'homework', 'score': 67.77118423321332}]}\n",
      "{'_id': ObjectId('50b59cd75bed76f46522c404'), 'student_id': 32, 'class_id': 22, 'scores': [{'type': 'exam', 'score': 22.56922328403837}, {'type': 'quiz', 'score': 88.74529382167816}, {'type': 'homework', 'score': 60.26207937906094}, {'type': 'homework', 'score': 85.15296271411029}, {'type': 'homework', 'score': 48.25866362860927}, {'type': 'homework', 'score': 17.55124023580077}]}\n",
      "{'_id': ObjectId('50b59cd75bed76f46522c405'), 'student_id': 32, 'class_id': 29, 'scores': [{'type': 'exam', 'score': 89.46403932201346}, {'type': 'quiz', 'score': 0.8499494511616135}, {'type': 'homework', 'score': 34.04407982362429}]}\n",
      "{'_id': ObjectId('50b59cd75bed76f46522c406'), 'student_id': 32, 'class_id': 16, 'scores': [{'type': 'exam', 'score': 86.86094230004599}, {'type': 'quiz', 'score': 46.6188402038773}, {'type': 'homework', 'score': 27.08114079653116}, {'type': 'homework', 'score': 76.50580932676144}]}\n",
      "{'_id': ObjectId('50b59cd75bed76f46522c407'), 'student_id': 32, 'class_id': 24, 'scores': [{'type': 'exam', 'score': 17.24327232656743}, {'type': 'quiz', 'score': 48.59985910249745}, {'type': 'homework', 'score': 49.05830596615824}, {'type': 'homework', 'score': 63.08196088201188}, {'type': 'homework', 'score': 52.12056921986796}, {'type': 'homework', 'score': 53.16854130589464}]}\n",
      "{'_id': ObjectId('50b59cd75bed76f46522c408'), 'student_id': 32, 'class_id': 2, 'scores': [{'type': 'exam', 'score': 91.62924972289747}, {'type': 'quiz', 'score': 97.01440713189035}, {'type': 'homework', 'score': 15.77310518920165}]}\n",
      "{'_id': ObjectId('50b59cd75bed76f46522c409'), 'student_id': 32, 'class_id': 23, 'scores': [{'type': 'exam', 'score': 33.20785003318431}, {'type': 'quiz', 'score': 27.22336013509992}, {'type': 'homework', 'score': 75.00435837594333}, {'type': 'homework', 'score': 81.06187249440833}, {'type': 'homework', 'score': 97.45345391278933}]}\n",
      "{'_id': ObjectId('50b59cd75bed76f46522c40a'), 'student_id': 33, 'class_id': 1, 'scores': [{'type': 'exam', 'score': 82.78088535014962}, {'type': 'quiz', 'score': 10.67562416836095}, {'type': 'homework', 'score': 59.82907300967116}, {'type': 'homework', 'score': 37.99484750683537}, {'type': 'homework', 'score': 76.82965148874469}]}\n",
      "{'_id': ObjectId('50b59cd75bed76f46522c40b'), 'student_id': 33, 'class_id': 15, 'scores': [{'type': 'exam', 'score': 25.92668846441097}, {'type': 'quiz', 'score': 72.31941994246876}, {'type': 'homework', 'score': 50.01521383171767}]}\n",
      "{'_id': ObjectId('50b59cd75bed76f46522c40c'), 'student_id': 33, 'class_id': 12, 'scores': [{'type': 'exam', 'score': 19.8030020350975}, {'type': 'quiz', 'score': 92.91751825381145}, {'type': 'homework', 'score': 21.0276676082449}, {'type': 'homework', 'score': 76.21677602199676}]}\n",
      "{'_id': ObjectId('50b59cd75bed76f46522c40d'), 'student_id': 33, 'class_id': 23, 'scores': [{'type': 'exam', 'score': 56.66053079698089}, {'type': 'quiz', 'score': 23.67646968617499}, {'type': 'homework', 'score': 9.792591762688607}, {'type': 'homework', 'score': 61.71754460659857}, {'type': 'homework', 'score': 30.69319858676928}]}\n",
      "{'_id': ObjectId('50b59cd75bed76f46522c40e'), 'student_id': 33, 'class_id': 5, 'scores': [{'type': 'exam', 'score': 48.82801321262126}, {'type': 'quiz', 'score': 83.41833907561055}, {'type': 'homework', 'score': 65.70480348988953}, {'type': 'homework', 'score': 55.62001551498989}]}\n",
      "{'_id': ObjectId('50b59cd75bed76f46522c40f'), 'student_id': 33, 'class_id': 30, 'scores': [{'type': 'exam', 'score': 16.10973163213354}, {'type': 'quiz', 'score': 68.0692393650192}, {'type': 'homework', 'score': 87.06302889010865}]}\n",
      "{'_id': ObjectId('50b59cd75bed76f46522c410'), 'student_id': 34, 'class_id': 25, 'scores': [{'type': 'exam', 'score': 82.18693351320584}, {'type': 'quiz', 'score': 96.8838062316172}, {'type': 'homework', 'score': 93.24257315563042}, {'type': 'homework', 'score': 51.5609126390052}, {'type': 'homework', 'score': 44.05782507111001}, {'type': 'homework', 'score': 58.10217867174995}]}\n",
      "{'_id': ObjectId('50b59cd75bed76f46522c411'), 'student_id': 34, 'class_id': 27, 'scores': [{'type': 'exam', 'score': 29.7911264695992}, {'type': 'quiz', 'score': 9.769294989369094}, {'type': 'homework', 'score': 47.35469161333693}, {'type': 'homework', 'score': 42.96575953459764}, {'type': 'homework', 'score': 44.1057952829673}]}\n",
      "{'_id': ObjectId('50b59cd75bed76f46522c412'), 'student_id': 34, 'class_id': 10, 'scores': [{'type': 'exam', 'score': 65.48768417122758}, {'type': 'quiz', 'score': 72.48639163117014}, {'type': 'homework', 'score': 13.17507849008371}]}\n",
      "{'_id': ObjectId('50b59cd75bed76f46522c413'), 'student_id': 34, 'class_id': 28, 'scores': [{'type': 'exam', 'score': 4.124401822522639}, {'type': 'quiz', 'score': 61.57783758820974}, {'type': 'homework', 'score': 30.19667763445735}, {'type': 'homework', 'score': 33.23722607815048}, {'type': 'homework', 'score': 41.38965315554172}]}\n",
      "{'_id': ObjectId('50b59cd75bed76f46522c414'), 'student_id': 34, 'class_id': 7, 'scores': [{'type': 'exam', 'score': 48.72692860591258}, {'type': 'quiz', 'score': 54.37177067159516}, {'type': 'homework', 'score': 72.75056577825335}, {'type': 'homework', 'score': 21.98864339485649}, {'type': 'homework', 'score': 34.45287983858181}]}\n",
      "{'_id': ObjectId('50b59cd75bed76f46522c415'), 'student_id': 34, 'class_id': 26, 'scores': [{'type': 'exam', 'score': 12.80489240368481}, {'type': 'quiz', 'score': 94.59469765489223}, {'type': 'homework', 'score': 73.65844372994793}, {'type': 'homework', 'score': 74.25441031649301}, {'type': 'homework', 'score': 58.28760122479565}, {'type': 'homework', 'score': 55.8013641533115}]}\n",
      "{'_id': ObjectId('50b59cd75bed76f46522c416'), 'student_id': 35, 'class_id': 22, 'scores': [{'type': 'exam', 'score': 97.8564701823195}, {'type': 'quiz', 'score': 31.66095229730885}, {'type': 'homework', 'score': 94.94742487858808}, {'type': 'homework', 'score': 19.48411910283132}, {'type': 'homework', 'score': 70.07733857892777}]}\n",
      "{'_id': ObjectId('50b59cd75bed76f46522c417'), 'student_id': 35, 'class_id': 18, 'scores': [{'type': 'exam', 'score': 92.08083280191694}, {'type': 'quiz', 'score': 13.60234664800169}, {'type': 'homework', 'score': 42.34289422759002}, {'type': 'homework', 'score': 84.67290475503576}, {'type': 'homework', 'score': 22.40953456506334}, {'type': 'homework', 'score': 1.449655772785341}]}\n",
      "{'_id': ObjectId('50b59cd75bed76f46522c418'), 'student_id': 36, 'class_id': 10, 'scores': [{'type': 'exam', 'score': 39.81586731434415}, {'type': 'quiz', 'score': 60.36730462226805}, {'type': 'homework', 'score': 44.14221226461935}]}\n",
      "{'_id': ObjectId('50b59cd75bed76f46522c419'), 'student_id': 36, 'class_id': 23, 'scores': [{'type': 'exam', 'score': 51.21876399762824}, {'type': 'quiz', 'score': 57.59874771681874}, {'type': 'homework', 'score': 79.46253185252202}, {'type': 'homework', 'score': 61.94009830808581}, {'type': 'homework', 'score': 29.13645240710895}, {'type': 'homework', 'score': 5.110032807379716}]}\n",
      "{'_id': ObjectId('50b59cd75bed76f46522c41a'), 'student_id': 36, 'class_id': 6, 'scores': [{'type': 'exam', 'score': 88.90192270390575}, {'type': 'quiz', 'score': 53.35327612164252}, {'type': 'homework', 'score': 16.20834249000125}, {'type': 'homework', 'score': 71.83241422555218}, {'type': 'homework', 'score': 17.00694169713035}]}\n",
      "{'_id': ObjectId('50b59cd75bed76f46522c41b'), 'student_id': 36, 'class_id': 14, 'scores': [{'type': 'exam', 'score': 23.77918245042849}, {'type': 'quiz', 'score': 93.31664706509761}, {'type': 'homework', 'score': 4.934602984056225}]}\n",
      "{'_id': ObjectId('50b59cd75bed76f46522c41c'), 'student_id': 37, 'class_id': 26, 'scores': [{'type': 'exam', 'score': 72.29196114881886}, {'type': 'quiz', 'score': 45.38168516092212}, {'type': 'homework', 'score': 85.8076154631249}]}\n",
      "{'_id': ObjectId('50b59cd75bed76f46522c41d'), 'student_id': 37, 'class_id': 16, 'scores': [{'type': 'exam', 'score': 66.65315783778532}, {'type': 'quiz', 'score': 83.16993132971119}, {'type': 'homework', 'score': 89.8145959817882}]}\n",
      "{'_id': ObjectId('50b59cd75bed76f46522c41e'), 'student_id': 37, 'class_id': 25, 'scores': [{'type': 'exam', 'score': 51.6105118928439}, {'type': 'quiz', 'score': 48.96321415473307}, {'type': 'homework', 'score': 54.82890231090774}]}\n",
      "{'_id': ObjectId('50b59cd75bed76f46522c41f'), 'student_id': 37, 'class_id': 28, 'scores': [{'type': 'exam', 'score': 0.4957879936947296}, {'type': 'quiz', 'score': 15.45496464442214}, {'type': 'homework', 'score': 24.72541538858814}]}\n",
      "{'_id': ObjectId('50b59cd75bed76f46522c420'), 'student_id': 37, 'class_id': 3, 'scores': [{'type': 'exam', 'score': 84.58698402414078}, {'type': 'quiz', 'score': 30.56115255168037}, {'type': 'homework', 'score': 20.00893939139527}, {'type': 'homework', 'score': 41.95108282824853}]}\n",
      "{'_id': ObjectId('50b59cd75bed76f46522c421'), 'student_id': 37, 'class_id': 4, 'scores': [{'type': 'exam', 'score': 28.74511427397575}, {'type': 'quiz', 'score': 7.716585599351655}, {'type': 'homework', 'score': 24.95566892017871}]}\n",
      "{'_id': ObjectId('50b59cd75bed76f46522c422'), 'student_id': 37, 'class_id': 7, 'scores': [{'type': 'exam', 'score': 90.64037308364895}, {'type': 'quiz', 'score': 4.252540372265178}, {'type': 'homework', 'score': 39.33924695192964}, {'type': 'homework', 'score': 70.11018403722987}]}\n",
      "{'_id': ObjectId('50b59cd75bed76f46522c423'), 'student_id': 37, 'class_id': 19, 'scores': [{'type': 'exam', 'score': 11.4592222064354}, {'type': 'quiz', 'score': 80.03627322566665}, {'type': 'homework', 'score': 32.88618706958687}]}\n",
      "{'_id': ObjectId('50b59cd75bed76f46522c424'), 'student_id': 38, 'class_id': 30, 'scores': [{'type': 'exam', 'score': 21.62889028480386}, {'type': 'quiz', 'score': 91.97785592232633}, {'type': 'homework', 'score': 44.15725201220676}, {'type': 'homework', 'score': 6.055738078302975}]}\n",
      "{'_id': ObjectId('50b59cd75bed76f46522c425'), 'student_id': 38, 'class_id': 17, 'scores': [{'type': 'exam', 'score': 47.26471309500098}, {'type': 'quiz', 'score': 25.33754474182506}, {'type': 'homework', 'score': 5.284458287115489}, {'type': 'homework', 'score': 41.30099854002849}, {'type': 'homework', 'score': 98.88182867118168}, {'type': 'homework', 'score': 60.91939590823482}]}\n",
      "{'_id': ObjectId('50b59cd75bed76f46522c426'), 'student_id': 38, 'class_id': 23, 'scores': [{'type': 'exam', 'score': 69.05106150047071}, {'type': 'quiz', 'score': 31.07416886864078}, {'type': 'homework', 'score': 54.64296181498389}, {'type': 'homework', 'score': 55.81086146355238}, {'type': 'homework', 'score': 12.01560007140223}, {'type': 'homework', 'score': 59.4617264990586}]}\n",
      "{'_id': ObjectId('50b59cd75bed76f46522c427'), 'student_id': 38, 'class_id': 26, 'scores': [{'type': 'exam', 'score': 59.21880117525654}, {'type': 'quiz', 'score': 88.36333571806333}, {'type': 'homework', 'score': 92.97264887808687}, {'type': 'homework', 'score': 81.95010267434304}]}\n",
      "{'_id': ObjectId('50b59cd75bed76f46522c428'), 'student_id': 38, 'class_id': 0, 'scores': [{'type': 'exam', 'score': 74.17959374099217}, {'type': 'quiz', 'score': 55.7932111119033}, {'type': 'homework', 'score': 20.88656702335926}, {'type': 'homework', 'score': 59.5745160849691}]}\n",
      "{'_id': ObjectId('50b59cd75bed76f46522c429'), 'student_id': 39, 'class_id': 9, 'scores': [{'type': 'exam', 'score': 49.19007315671377}, {'type': 'quiz', 'score': 10.49208109811462}, {'type': 'homework', 'score': 81.16116762560094}, {'type': 'homework', 'score': 46.46539020040569}]}\n",
      "{'_id': ObjectId('50b59cd75bed76f46522c42a'), 'student_id': 39, 'class_id': 3, 'scores': [{'type': 'exam', 'score': 44.94142374519215}, {'type': 'quiz', 'score': 38.23841714609155}, {'type': 'homework', 'score': 39.69674304185035}, {'type': 'homework', 'score': 79.70572081646921}]}\n",
      "{'_id': ObjectId('50b59cd75bed76f46522c42b'), 'student_id': 39, 'class_id': 27, 'scores': [{'type': 'exam', 'score': 46.94576521967891}, {'type': 'quiz', 'score': 72.6380562590861}, {'type': 'homework', 'score': 78.7555898581853}, {'type': 'homework', 'score': 48.25867268615771}, {'type': 'homework', 'score': 12.71946922581826}]}\n",
      "{'_id': ObjectId('50b59cd75bed76f46522c42c'), 'student_id': 39, 'class_id': 8, 'scores': [{'type': 'exam', 'score': 75.37943752456246}, {'type': 'quiz', 'score': 21.93922858950486}, {'type': 'homework', 'score': 49.7854277650604}, {'type': 'homework', 'score': 11.87916547218071}, {'type': 'homework', 'score': 96.19343916628392}]}\n",
      "{'_id': ObjectId('50b59cd75bed76f46522c42d'), 'student_id': 39, 'class_id': 22, 'scores': [{'type': 'exam', 'score': 39.66282994417286}, {'type': 'quiz', 'score': 1.345514577234119}, {'type': 'homework', 'score': 49.30964596793616}]}\n",
      "{'_id': ObjectId('50b59cd75bed76f46522c42e'), 'student_id': 39, 'class_id': 15, 'scores': [{'type': 'exam', 'score': 91.05198696903514}, {'type': 'quiz', 'score': 12.82846153077125}, {'type': 'homework', 'score': 37.89546557976828}]}\n",
      "{'_id': ObjectId('50b59cd75bed76f46522c42f'), 'student_id': 39, 'class_id': 28, 'scores': [{'type': 'exam', 'score': 49.46085540198902}, {'type': 'quiz', 'score': 97.31951018261722}, {'type': 'homework', 'score': 26.17235523313016}]}\n",
      "{'_id': ObjectId('50b59cd75bed76f46522c430'), 'student_id': 39, 'class_id': 23, 'scores': [{'type': 'exam', 'score': 61.04589733978712}, {'type': 'quiz', 'score': 88.82870480428026}, {'type': 'homework', 'score': 17.25008538532257}]}\n",
      "{'_id': ObjectId('50b59cd75bed76f46522c431'), 'student_id': 39, 'class_id': 18, 'scores': [{'type': 'exam', 'score': 92.62628390055252}, {'type': 'quiz', 'score': 3.231542529526799}, {'type': 'homework', 'score': 23.51871692862595}, {'type': 'homework', 'score': 35.35363183034556}, {'type': 'homework', 'score': 26.02268886649889}]}\n",
      "{'_id': ObjectId('50b59cd75bed76f46522c432'), 'student_id': 40, 'class_id': 2, 'scores': [{'type': 'exam', 'score': 22.80162679858944}, {'type': 'quiz', 'score': 48.23349373525351}, {'type': 'homework', 'score': 16.63214380628569}, {'type': 'homework', 'score': 16.4494224518297}]}\n",
      "{'_id': ObjectId('50b59cd75bed76f46522c433'), 'student_id': 40, 'class_id': 14, 'scores': [{'type': 'exam', 'score': 97.19309309833419}, {'type': 'quiz', 'score': 10.44531676292405}, {'type': 'homework', 'score': 88.69715033819143}, {'type': 'homework', 'score': 36.80473888555529}, {'type': 'homework', 'score': 34.31867267616966}, {'type': 'homework', 'score': 40.87297958752891}]}\n",
      "{'_id': ObjectId('50b59cd75bed76f46522c434'), 'student_id': 40, 'class_id': 22, 'scores': [{'type': 'exam', 'score': 18.26684423675485}, {'type': 'quiz', 'score': 66.77702894222148}, {'type': 'homework', 'score': 18.92794602555322}, {'type': 'homework', 'score': 11.3987655343987}, {'type': 'homework', 'score': 71.00265316524415}]}\n",
      "{'_id': ObjectId('50b59cd75bed76f46522c435'), 'student_id': 40, 'class_id': 19, 'scores': [{'type': 'exam', 'score': 20.89850409117038}, {'type': 'quiz', 'score': 25.24485502517496}, {'type': 'homework', 'score': 34.71132256824233}, {'type': 'homework', 'score': 53.78829058713258}]}\n",
      "{'_id': ObjectId('50b59cd75bed76f46522c436'), 'student_id': 40, 'class_id': 16, 'scores': [{'type': 'exam', 'score': 92.71381900055565}, {'type': 'quiz', 'score': 9.087715119568152}, {'type': 'homework', 'score': 0.4421683095170548}, {'type': 'homework', 'score': 27.79240333222202}, {'type': 'homework', 'score': 64.46880870974124}]}\n",
      "{'_id': ObjectId('50b59cd75bed76f46522c437'), 'student_id': 40, 'class_id': 30, 'scores': [{'type': 'exam', 'score': 12.86715721088446}, {'type': 'quiz', 'score': 7.097043200398112}, {'type': 'homework', 'score': 31.7948807815451}]}\n",
      "{'_id': ObjectId('50b59cd75bed76f46522c438'), 'student_id': 40, 'class_id': 24, 'scores': [{'type': 'exam', 'score': 78.93544270898188}, {'type': 'quiz', 'score': 26.23127704642898}, {'type': 'homework', 'score': 34.13541996976689}, {'type': 'homework', 'score': 91.93044066299896}, {'type': 'homework', 'score': 69.68005881324856}, {'type': 'homework', 'score': 33.82057408047704}]}\n",
      "{'_id': ObjectId('50b59cd75bed76f46522c439'), 'student_id': 40, 'class_id': 1, 'scores': [{'type': 'exam', 'score': 15.40746723517317}, {'type': 'quiz', 'score': 71.62867463129528}, {'type': 'homework', 'score': 80.87879864426783}, {'type': 'homework', 'score': 94.40446602076557}, {'type': 'homework', 'score': 94.87221617265294}, {'type': 'homework', 'score': 24.95489678942908}]}\n",
      "{'_id': ObjectId('50b59cd75bed76f46522c43a'), 'student_id': 40, 'class_id': 10, 'scores': [{'type': 'exam', 'score': 42.61385826025987}, {'type': 'quiz', 'score': 64.1918195456369}, {'type': 'homework', 'score': 2.065221974638676}, {'type': 'homework', 'score': 32.58121065854287}, {'type': 'homework', 'score': 68.51088663018378}]}\n",
      "{'_id': ObjectId('50b59cd75bed76f46522c43b'), 'student_id': 40, 'class_id': 15, 'scores': [{'type': 'exam', 'score': 40.18333584415929}, {'type': 'quiz', 'score': 51.02669962393336}, {'type': 'homework', 'score': 11.83152806273957}]}\n",
      "{'_id': ObjectId('50b59cd75bed76f46522c43c'), 'student_id': 40, 'class_id': 18, 'scores': [{'type': 'exam', 'score': 35.1522212882768}, {'type': 'quiz', 'score': 89.47335955343736}, {'type': 'homework', 'score': 84.69409373083462}, {'type': 'homework', 'score': 64.87622552873637}, {'type': 'homework', 'score': 98.42543124682919}]}\n",
      "{'_id': ObjectId('50b59cd75bed76f46522c43d'), 'student_id': 41, 'class_id': 3, 'scores': [{'type': 'exam', 'score': 19.13656369180609}, {'type': 'quiz', 'score': 41.14706360953144}, {'type': 'homework', 'score': 49.42963007104068}]}\n",
      "{'_id': ObjectId('50b59cd75bed76f46522c43e'), 'student_id': 41, 'class_id': 19, 'scores': [{'type': 'exam', 'score': 99.9822072102702}, {'type': 'quiz', 'score': 36.73984850242793}, {'type': 'homework', 'score': 57.64938805866978}]}\n",
      "{'_id': ObjectId('50b59cd75bed76f46522c43f'), 'student_id': 41, 'class_id': 20, 'scores': [{'type': 'exam', 'score': 89.86568333880862}, {'type': 'quiz', 'score': 86.67438818752774}, {'type': 'homework', 'score': 19.65015165400813}, {'type': 'homework', 'score': 41.18037387528079}]}\n",
      "{'_id': ObjectId('50b59cd75bed76f46522c440'), 'student_id': 41, 'class_id': 30, 'scores': [{'type': 'exam', 'score': 42.40027514855241}, {'type': 'quiz', 'score': 7.670831722325566}, {'type': 'homework', 'score': 48.48760190920021}]}\n",
      "{'_id': ObjectId('50b59cd75bed76f46522c441'), 'student_id': 41, 'class_id': 15, 'scores': [{'type': 'exam', 'score': 50.44491555288653}, {'type': 'quiz', 'score': 72.0404340390214}, {'type': 'homework', 'score': 45.37008444253333}, {'type': 'homework', 'score': 56.71508647977355}, {'type': 'homework', 'score': 50.0878132433977}]}\n",
      "{'_id': ObjectId('50b59cd75bed76f46522c442'), 'student_id': 41, 'class_id': 17, 'scores': [{'type': 'exam', 'score': 74.47951045433322}, {'type': 'quiz', 'score': 14.03600353015656}, {'type': 'homework', 'score': 73.55590938125961}]}\n",
      "{'_id': ObjectId('50b59cd75bed76f46522c443'), 'student_id': 41, 'class_id': 10, 'scores': [{'type': 'exam', 'score': 19.914062573459}, {'type': 'quiz', 'score': 51.81408865065868}, {'type': 'homework', 'score': 22.33214671935798}, {'type': 'homework', 'score': 34.44948609689646}]}\n",
      "{'_id': ObjectId('50b59cd75bed76f46522c444'), 'student_id': 41, 'class_id': 5, 'scores': [{'type': 'exam', 'score': 63.67953565646426}, {'type': 'quiz', 'score': 8.46205543695049}, {'type': 'homework', 'score': 94.42833813939652}]}\n",
      "{'_id': ObjectId('50b59cd75bed76f46522c445'), 'student_id': 41, 'class_id': 0, 'scores': [{'type': 'exam', 'score': 74.95288280360568}, {'type': 'quiz', 'score': 66.51502847921927}, {'type': 'homework', 'score': 48.52678171969149}, {'type': 'homework', 'score': 83.31079674713119}, {'type': 'homework', 'score': 3.863512543768077}]}\n",
      "{'_id': ObjectId('50b59cd75bed76f46522c446'), 'student_id': 41, 'class_id': 18, 'scores': [{'type': 'exam', 'score': 46.93728444376126}, {'type': 'quiz', 'score': 8.881863254924482}, {'type': 'homework', 'score': 31.09945738984973}, {'type': 'homework', 'score': 76.53517756358691}, {'type': 'homework', 'score': 56.43348654911537}, {'type': 'homework', 'score': 9.151233862676445}]}\n",
      "{'_id': ObjectId('50b59cd75bed76f46522c447'), 'student_id': 42, 'class_id': 26, 'scores': [{'type': 'exam', 'score': 97.0022877485578}, {'type': 'quiz', 'score': 40.58432014991513}, {'type': 'homework', 'score': 35.47368574435323}]}\n",
      "{'_id': ObjectId('50b59cd75bed76f46522c448'), 'student_id': 42, 'class_id': 14, 'scores': [{'type': 'exam', 'score': 80.30672480792785}, {'type': 'quiz', 'score': 62.98158825167314}, {'type': 'homework', 'score': 99.6826006851697}, {'type': 'homework', 'score': 38.18691081719637}, {'type': 'homework', 'score': 10.61146982761995}]}\n",
      "{'_id': ObjectId('50b59cd75bed76f46522c449'), 'student_id': 42, 'class_id': 18, 'scores': [{'type': 'exam', 'score': 62.72522641162129}, {'type': 'quiz', 'score': 7.749114832407522}, {'type': 'homework', 'score': 38.43335101637653}, {'type': 'homework', 'score': 34.33863562734546}, {'type': 'homework', 'score': 4.430154978243483}, {'type': 'homework', 'score': 91.35280429362194}]}\n",
      "{'_id': ObjectId('50b59cd75bed76f46522c44a'), 'student_id': 42, 'class_id': 5, 'scores': [{'type': 'exam', 'score': 72.65459317298996}, {'type': 'quiz', 'score': 63.20501445700519}, {'type': 'homework', 'score': 74.32988097461292}]}\n",
      "{'_id': ObjectId('50b59cd75bed76f46522c44b'), 'student_id': 43, 'class_id': 23, 'scores': [{'type': 'exam', 'score': 77.70619578573559}, {'type': 'quiz', 'score': 1.829830440056934}, {'type': 'homework', 'score': 78.94705102896188}]}\n",
      "{'_id': ObjectId('50b59cd75bed76f46522c44c'), 'student_id': 43, 'class_id': 2, 'scores': [{'type': 'exam', 'score': 13.11109030811874}, {'type': 'quiz', 'score': 41.14297539001115}, {'type': 'homework', 'score': 48.4189020814422}, {'type': 'homework', 'score': 97.97354273930576}, {'type': 'homework', 'score': 55.19930534809544}, {'type': 'homework', 'score': 26.92606788527824}]}\n",
      "{'_id': ObjectId('50b59cd75bed76f46522c44d'), 'student_id': 43, 'class_id': 10, 'scores': [{'type': 'exam', 'score': 87.72109321427651}, {'type': 'quiz', 'score': 59.63881868385182}, {'type': 'homework', 'score': 28.59104073652086}, {'type': 'homework', 'score': 42.1022048213983}, {'type': 'homework', 'score': 95.27076976124388}, {'type': 'homework', 'score': 53.12159192906183}]}\n",
      "{'_id': ObjectId('50b59cd75bed76f46522c44e'), 'student_id': 43, 'class_id': 11, 'scores': [{'type': 'exam', 'score': 26.72199819394381}, {'type': 'quiz', 'score': 77.18217537716487}, {'type': 'homework', 'score': 83.64388619956452}, {'type': 'homework', 'score': 33.70315793392942}]}\n",
      "{'_id': ObjectId('50b59cd75bed76f46522c44f'), 'student_id': 43, 'class_id': 22, 'scores': [{'type': 'exam', 'score': 64.8611038506224}, {'type': 'quiz', 'score': 28.08953188689932}, {'type': 'homework', 'score': 69.18381646439732}, {'type': 'homework', 'score': 77.58331641313923}, {'type': 'homework', 'score': 21.65032016335737}, {'type': 'homework', 'score': 89.83774538754112}]}\n",
      "{'_id': ObjectId('50b59cd75bed76f46522c450'), 'student_id': 43, 'class_id': 15, 'scores': [{'type': 'exam', 'score': 15.35756627070331}, {'type': 'quiz', 'score': 3.84841477019281}, {'type': 'homework', 'score': 32.06241502644694}, {'type': 'homework', 'score': 38.3129180156557}]}\n",
      "{'_id': ObjectId('50b59cd75bed76f46522c451'), 'student_id': 43, 'class_id': 28, 'scores': [{'type': 'exam', 'score': 22.85840717671925}, {'type': 'quiz', 'score': 32.22322566719188}, {'type': 'homework', 'score': 32.09442950498358}]}\n",
      "{'_id': ObjectId('50b59cd75bed76f46522c452'), 'student_id': 43, 'class_id': 18, 'scores': [{'type': 'exam', 'score': 1.193203475762128}, {'type': 'quiz', 'score': 88.38645185411367}, {'type': 'homework', 'score': 67.11580235593786}]}\n",
      "{'_id': ObjectId('50b59cd75bed76f46522c453'), 'student_id': 43, 'class_id': 27, 'scores': [{'type': 'exam', 'score': 99.4040826043679}, {'type': 'quiz', 'score': 32.50527155322258}, {'type': 'homework', 'score': 49.56581759325126}, {'type': 'homework', 'score': 1.415705488333974}]}\n",
      "{'_id': ObjectId('50b59cd75bed76f46522c454'), 'student_id': 44, 'class_id': 11, 'scores': [{'type': 'exam', 'score': 99.40117530792308}, {'type': 'quiz', 'score': 71.88660613208614}, {'type': 'homework', 'score': 25.06937620518449}, {'type': 'homework', 'score': 65.82160550643421}]}\n",
      "{'_id': ObjectId('50b59cd75bed76f46522c455'), 'student_id': 44, 'class_id': 7, 'scores': [{'type': 'exam', 'score': 99.36623841444576}, {'type': 'quiz', 'score': 65.2625406120369}, {'type': 'homework', 'score': 56.46699884400226}, {'type': 'homework', 'score': 1.500571768719439}, {'type': 'homework', 'score': 78.38127669093991}, {'type': 'homework', 'score': 52.39672281298714}]}\n",
      "{'_id': ObjectId('50b59cd75bed76f46522c456'), 'student_id': 44, 'class_id': 1, 'scores': [{'type': 'exam', 'score': 79.909806461302}, {'type': 'quiz', 'score': 54.01572345708019}, {'type': 'homework', 'score': 62.90185341438151}, {'type': 'homework', 'score': 98.52746459585137}, {'type': 'homework', 'score': 77.56244428465897}]}\n",
      "{'_id': ObjectId('50b59cd75bed76f46522c457'), 'student_id': 44, 'class_id': 21, 'scores': [{'type': 'exam', 'score': 69.57649569536184}, {'type': 'quiz', 'score': 93.3128329969564}, {'type': 'homework', 'score': 60.00644447571928}, {'type': 'homework', 'score': 34.55591835627042}]}\n",
      "{'_id': ObjectId('50b59cd75bed76f46522c458'), 'student_id': 45, 'class_id': 5, 'scores': [{'type': 'exam', 'score': 3.32563649221076}, {'type': 'quiz', 'score': 44.84328257103856}, {'type': 'homework', 'score': 73.90266040833421}]}\n",
      "{'_id': ObjectId('50b59cd75bed76f46522c459'), 'student_id': 45, 'class_id': 13, 'scores': [{'type': 'exam', 'score': 89.10486662181998}, {'type': 'quiz', 'score': 46.38187431691693}, {'type': 'homework', 'score': 29.69314592845149}]}\n",
      "{'_id': ObjectId('50b59cd75bed76f46522c45a'), 'student_id': 45, 'class_id': 25, 'scores': [{'type': 'exam', 'score': 86.75713891980624}, {'type': 'quiz', 'score': 68.7844886899765}, {'type': 'homework', 'score': 34.28759074333432}, {'type': 'homework', 'score': 31.1059695618172}]}\n",
      "{'_id': ObjectId('50b59cd75bed76f46522c45b'), 'student_id': 45, 'class_id': 6, 'scores': [{'type': 'exam', 'score': 67.95421065641843}, {'type': 'quiz', 'score': 50.40097461510792}, {'type': 'homework', 'score': 86.81824873030551}, {'type': 'homework', 'score': 46.23560038721883}, {'type': 'homework', 'score': 50.83542761697593}, {'type': 'homework', 'score': 16.33296323969162}]}\n",
      "{'_id': ObjectId('50b59cd75bed76f46522c45c'), 'student_id': 45, 'class_id': 29, 'scores': [{'type': 'exam', 'score': 58.96961556046523}, {'type': 'quiz', 'score': 54.65621690274944}, {'type': 'homework', 'score': 33.05273766197541}]}\n",
      "{'_id': ObjectId('50b59cd75bed76f46522c45d'), 'student_id': 46, 'class_id': 3, 'scores': [{'type': 'exam', 'score': 17.15646099501412}, {'type': 'quiz', 'score': 19.18145335084201}, {'type': 'homework', 'score': 1.119885279691335}, {'type': 'homework', 'score': 82.66568607368761}]}\n",
      "{'_id': ObjectId('50b59cd75bed76f46522c45e'), 'student_id': 46, 'class_id': 20, 'scores': [{'type': 'exam', 'score': 27.79390777259294}, {'type': 'quiz', 'score': 29.18509374453628}, {'type': 'homework', 'score': 59.51122184508205}, {'type': 'homework', 'score': 74.05819778852317}, {'type': 'homework', 'score': 86.91457200027877}]}\n",
      "{'_id': ObjectId('50b59cd75bed76f46522c45f'), 'student_id': 47, 'class_id': 22, 'scores': [{'type': 'exam', 'score': 52.05822756328465}, {'type': 'quiz', 'score': 92.27410165031182}, {'type': 'homework', 'score': 10.97882226937978}, {'type': 'homework', 'score': 89.738434177264}]}\n",
      "{'_id': ObjectId('50b59cd75bed76f46522c460'), 'student_id': 48, 'class_id': 2, 'scores': [{'type': 'exam', 'score': 25.42712077857534}, {'type': 'quiz', 'score': 2.69015561825211}, {'type': 'homework', 'score': 4.786214283647661}]}\n",
      "{'_id': ObjectId('50b59cd75bed76f46522c461'), 'student_id': 48, 'class_id': 10, 'scores': [{'type': 'exam', 'score': 19.75901367795435}, {'type': 'quiz', 'score': 88.30270072760786}, {'type': 'homework', 'score': 20.93512284692314}, {'type': 'homework', 'score': 56.73415809224915}, {'type': 'homework', 'score': 14.73286004857093}]}\n",
      "{'_id': ObjectId('50b59cd75bed76f46522c462'), 'student_id': 48, 'class_id': 14, 'scores': [{'type': 'exam', 'score': 66.79008851052096}, {'type': 'quiz', 'score': 6.835625054063376}, {'type': 'homework', 'score': 84.02520582541429}]}\n",
      "{'_id': ObjectId('50b59cd75bed76f46522c463'), 'student_id': 48, 'class_id': 8, 'scores': [{'type': 'exam', 'score': 87.50309579619501}, {'type': 'quiz', 'score': 77.95047998264852}, {'type': 'homework', 'score': 66.57605694803614}, {'type': 'homework', 'score': 69.07149939221259}, {'type': 'homework', 'score': 79.2203226663735}, {'type': 'homework', 'score': 25.8743541850703}]}\n",
      "{'_id': ObjectId('50b59cd75bed76f46522c464'), 'student_id': 48, 'class_id': 15, 'scores': [{'type': 'exam', 'score': 17.49112864462374}, {'type': 'quiz', 'score': 26.62981129347384}, {'type': 'homework', 'score': 73.6889883963597}, {'type': 'homework', 'score': 39.87294319273563}, {'type': 'homework', 'score': 43.27472602995442}]}\n",
      "{'_id': ObjectId('50b59cd75bed76f46522c465'), 'student_id': 49, 'class_id': 29, 'scores': [{'type': 'exam', 'score': 26.67878234847454}, {'type': 'quiz', 'score': 43.34576082589281}, {'type': 'homework', 'score': 2.376164818678062}, {'type': 'homework', 'score': 37.78991935258481}]}\n"
     ]
    }
   ],
   "source": [
    "# Your code here\n",
    "query_1 = list(coll.find({}))\n",
    "print(f\"Total # of records: {len(query_1)}\")\n",
    "for x in query_1:\n",
    "    print(x)"
   ]
  },
  {
   "cell_type": "markdown",
   "metadata": {},
   "source": [
    "3. How many students have taken the class with `class_id` = **29**?"
   ]
  },
  {
   "cell_type": "code",
   "execution_count": 189,
   "metadata": {},
   "outputs": [
    {
     "name": "stdout",
     "output_type": "stream",
     "text": [
      "Total # of students with class_29: 9\n",
      "{'_id': ObjectId('50b59cd75bed76f46522c37c'), 'student_id': 6, 'class_id': 29, 'scores': [{'type': 'exam', 'score': 62.87126631711959}, {'type': 'quiz', 'score': 29.45861846986217}, {'type': 'homework', 'score': 32.02141665410046}, {'type': 'homework', 'score': 12.39580012928427}, {'type': 'homework', 'score': 52.61677218894912}]}\n",
      "{'_id': ObjectId('50b59cd75bed76f46522c381'), 'student_id': 8, 'class_id': 29, 'scores': [{'type': 'exam', 'score': 7.338334503537625}, {'type': 'quiz', 'score': 68.788026894638}, {'type': 'homework', 'score': 84.12135157457064}]}\n",
      "{'_id': ObjectId('50b59cd75bed76f46522c3bb'), 'student_id': 19, 'class_id': 29, 'scores': [{'type': 'exam', 'score': 92.8813997808383}, {'type': 'quiz', 'score': 3.507527031194757}, {'type': 'homework', 'score': 39.56717120277167}, {'type': 'homework', 'score': 65.97113006156208}, {'type': 'homework', 'score': 53.65342174743992}]}\n",
      "{'_id': ObjectId('50b59cd75bed76f46522c3bc'), 'student_id': 20, 'class_id': 29, 'scores': [{'type': 'exam', 'score': 86.1090106009861}, {'type': 'quiz', 'score': 79.0764076312228}, {'type': 'homework', 'score': 4.449146004101944}, {'type': 'homework', 'score': 68.83534456579761}, {'type': 'homework', 'score': 96.02676879891634}]}\n",
      "{'_id': ObjectId('50b59cd75bed76f46522c3ea'), 'student_id': 28, 'class_id': 29, 'scores': [{'type': 'exam', 'score': 62.47836617718976}, {'type': 'quiz', 'score': 85.90694876370223}, {'type': 'homework', 'score': 16.79272564501346}]}\n",
      "{'_id': ObjectId('50b59cd75bed76f46522c3ff'), 'student_id': 30, 'class_id': 29, 'scores': [{'type': 'exam', 'score': 60.52540562709612}, {'type': 'quiz', 'score': 87.60791437180268}, {'type': 'homework', 'score': 72.34681049956629}, {'type': 'homework', 'score': 51.5889521849404}]}\n",
      "{'_id': ObjectId('50b59cd75bed76f46522c405'), 'student_id': 32, 'class_id': 29, 'scores': [{'type': 'exam', 'score': 89.46403932201346}, {'type': 'quiz', 'score': 0.8499494511616135}, {'type': 'homework', 'score': 34.04407982362429}]}\n",
      "{'_id': ObjectId('50b59cd75bed76f46522c45c'), 'student_id': 45, 'class_id': 29, 'scores': [{'type': 'exam', 'score': 58.96961556046523}, {'type': 'quiz', 'score': 54.65621690274944}, {'type': 'homework', 'score': 33.05273766197541}]}\n",
      "{'_id': ObjectId('50b59cd75bed76f46522c465'), 'student_id': 49, 'class_id': 29, 'scores': [{'type': 'exam', 'score': 26.67878234847454}, {'type': 'quiz', 'score': 43.34576082589281}, {'type': 'homework', 'score': 2.376164818678062}, {'type': 'homework', 'score': 37.78991935258481}]}\n"
     ]
    }
   ],
   "source": [
    "# Your code here\n",
    "query_2 = list(coll.find({'class_id': 29}))\n",
    "print(f\"Total # of students with class_29: {len(query_2)}\")\n",
    "for item in query_2:\n",
    "    print(item)"
   ]
  },
  {
   "cell_type": "markdown",
   "metadata": {},
   "source": [
    "4. Super bonus question: for student **12** in class **23**, what grade did they get on their exam?"
   ]
  },
  {
   "cell_type": "code",
   "execution_count": 192,
   "metadata": {
    "scrolled": true
   },
   "outputs": [
    {
     "name": "stdout",
     "output_type": "stream",
     "text": [
      "{'_id': ObjectId('50b59cd75bed76f46522c39b'), 'scores': [{'type': 'exam', 'score': 26.9857216299485}, {'type': 'quiz', 'score': 50.03333080935277}, {'type': 'homework', 'score': 97.37669830304746}, {'type': 'homework', 'score': 66.74833018740628}, {'type': 'homework', 'score': 47.82042469815191}]}\n"
     ]
    },
    {
     "data": {
      "text/plain": [
       "{'type': 'exam', 'score': 26.9857216299485}"
      ]
     },
     "execution_count": 192,
     "metadata": {},
     "output_type": "execute_result"
    }
   ],
   "source": [
    "# Your code here\n",
    "query_3 = list(coll.find({'class_id': 23, 'student_id': 12}, {'scores':1}))\n",
    "for item in query_3:\n",
    "    print(item)\n",
    "query_3[0]['scores'][0]"
   ]
  },
  {
   "cell_type": "code",
   "execution_count": 190,
   "metadata": {},
   "outputs": [
    {
     "name": "stdout",
     "output_type": "stream",
     "text": [
      "Student 12 in class 23 score: 26.9857216299485\n"
     ]
    }
   ],
   "source": [
    "print(f\"Student 12 in class 23 score: {query_3[0]['scores'][0]['score']}\")"
   ]
  },
  {
   "cell_type": "code",
   "execution_count": 185,
   "metadata": {},
   "outputs": [],
   "source": [
    "# for when you're done with this portion, this deletes the data we added.\n",
    "client.drop_database(\"mod2db\")"
   ]
  },
  {
   "cell_type": "markdown",
   "metadata": {},
   "source": [
    "## Assessment submission (2 Minutes)\n",
    "Please save your completed file as `mod2-assessment.ipynb` and upload it using [this form](https://docs.google.com/forms/d/e/1FAIpQLSczNVM9Q6Dr3w1YR3kkg4PNaOsfDO-qIvh1wLy6rR0SEwTwIQ/viewform?usp=sf_link)"
   ]
  },
  {
   "cell_type": "markdown",
   "metadata": {},
   "source": [
    "# ***Submission ends***"
   ]
  },
  {
   "cell_type": "markdown",
   "metadata": {},
   "source": [
    "# Phoebe's personal notes"
   ]
  },
  {
   "cell_type": "code",
   "execution_count": 286,
   "metadata": {},
   "outputs": [],
   "source": [
    "# Modify this cell\n",
    "class WeWorkMember(object):\n",
    "\n",
    "    def __init__(self, name):\n",
    "        self.name = name\n",
    "        self.caffeinated = False\n",
    "\n",
    "    def caffeinate(self):\n",
    "        print(\"Getting coffee!\")\n",
    "        self.caffeinated = True\n",
    "\n",
    "\n",
    "class Staff(WeWorkMember):\n",
    "\n",
    "    def __init__(self, name):\n",
    "        super().__init__(name)\n",
    "\n",
    "    def cheer():\n",
    "        print(\"Goooooooo Flatiron Students!\")\n",
    "\n",
    "\n",
    "class Student(WeWorkMember):\n",
    "\n",
    "    def __init__(self, name):\n",
    "        super().__init__(name)\n",
    "\n",
    "    def something(self):\n",
    "        print('sth')\n",
    "\n",
    "    @classmethod\n",
    "    def learn(cls, i):\n",
    "        i += 1\n",
    "        return print(f\"{i}, {Staff.cheer()}\")"
   ]
  },
  {
   "cell_type": "code",
   "execution_count": 287,
   "metadata": {
    "scrolled": true
   },
   "outputs": [
    {
     "data": {
      "text/plain": [
       "False"
      ]
     },
     "execution_count": 287,
     "metadata": {},
     "output_type": "execute_result"
    }
   ],
   "source": [
    "nick = Staff('Nick')\n",
    "nick.caffeinated"
   ]
  },
  {
   "cell_type": "code",
   "execution_count": 288,
   "metadata": {},
   "outputs": [
    {
     "ename": "TypeError",
     "evalue": "cheer() takes 0 positional arguments but 1 was given",
     "output_type": "error",
     "traceback": [
      "\u001b[0;31m---------------------------------------------------------------------------\u001b[0m",
      "\u001b[0;31mTypeError\u001b[0m                                 Traceback (most recent call last)",
      "\u001b[0;32m<ipython-input-288-d96454a16bb9>\u001b[0m in \u001b[0;36m<module>\u001b[0;34m\u001b[0m\n\u001b[0;32m----> 1\u001b[0;31m \u001b[0mnick\u001b[0m\u001b[0;34m.\u001b[0m\u001b[0mcheer\u001b[0m\u001b[0;34m(\u001b[0m\u001b[0;34m)\u001b[0m\u001b[0;34m\u001b[0m\u001b[0;34m\u001b[0m\u001b[0m\n\u001b[0m",
      "\u001b[0;31mTypeError\u001b[0m: cheer() takes 0 positional arguments but 1 was given"
     ]
    }
   ],
   "source": [
    "nick.cheer()"
   ]
  },
  {
   "cell_type": "code",
   "execution_count": 289,
   "metadata": {
    "scrolled": true
   },
   "outputs": [
    {
     "name": "stdout",
     "output_type": "stream",
     "text": [
      "Goooooooo Flatiron Students!\n"
     ]
    }
   ],
   "source": [
    "Staff.cheer()"
   ]
  },
  {
   "cell_type": "code",
   "execution_count": 290,
   "metadata": {
    "scrolled": true
   },
   "outputs": [],
   "source": [
    "phoebe = Student('Phoebe')\n"
   ]
  },
  {
   "cell_type": "code",
   "execution_count": 291,
   "metadata": {
    "scrolled": true
   },
   "outputs": [
    {
     "name": "stdout",
     "output_type": "stream",
     "text": [
      "Getting coffee!\n"
     ]
    }
   ],
   "source": [
    "phoebe.caffeinate()"
   ]
  },
  {
   "cell_type": "code",
   "execution_count": 292,
   "metadata": {},
   "outputs": [
    {
     "data": {
      "text/plain": [
       "True"
      ]
     },
     "execution_count": 292,
     "metadata": {},
     "output_type": "execute_result"
    }
   ],
   "source": [
    "phoebe.caffeinated"
   ]
  },
  {
   "cell_type": "code",
   "execution_count": 293,
   "metadata": {},
   "outputs": [
    {
     "name": "stdout",
     "output_type": "stream",
     "text": [
      "Goooooooo Flatiron Students!\n",
      "2, None\n"
     ]
    }
   ],
   "source": [
    "phoebe.learn(1)"
   ]
  },
  {
   "cell_type": "code",
   "execution_count": 12,
   "metadata": {},
   "outputs": [],
   "source": [
    "# Modify this cell\n",
    "class WeWorkMember(object):\n",
    "    k=1\n",
    "    def __init__(self, name):\n",
    "        self.name = name\n",
    "        self.caffeinated = False\n",
    "        self.j = 1\n",
    "        \n",
    "    def caffeinate(self):\n",
    "        print(\"Getting coffee!\")\n",
    "        self.caffeinated = True\n",
    "\n",
    "\n",
    "class Staff(WeWorkMember):\n",
    "\n",
    "    def __init__(self, name):\n",
    "        super().__init__(name)\n",
    "\n",
    "    def cheer():\n",
    "        print(\"Goooooooo Flatiron Students!\")\n",
    "\n",
    "\n",
    "class Student(WeWorkMember):\n",
    "\n",
    "    def __init__(self, name):\n",
    "        super().__init__(name)\n",
    "\n",
    "    @classmethod\n",
    "    def learn(cls,i):\n",
    "        i += 1\n",
    "        self.j += 1\n",
    "        cls.k += 2\n",
    "        return i, self.j, cls.k\n",
    "        "
   ]
  },
  {
   "cell_type": "code",
   "execution_count": 6,
   "metadata": {},
   "outputs": [
    {
     "data": {
      "text/plain": [
       "(2, 5)"
      ]
     },
     "execution_count": 6,
     "metadata": {},
     "output_type": "execute_result"
    }
   ],
   "source": [
    "Student.learn(1)"
   ]
  },
  {
   "cell_type": "code",
   "execution_count": null,
   "metadata": {},
   "outputs": [],
   "source": [
    "Student."
   ]
  },
  {
   "cell_type": "code",
   "execution_count": 13,
   "metadata": {},
   "outputs": [],
   "source": [
    "phoebe = Student('phoebe')"
   ]
  },
  {
   "cell_type": "code",
   "execution_count": 15,
   "metadata": {},
   "outputs": [
    {
     "ename": "NameError",
     "evalue": "name 'self' is not defined",
     "output_type": "error",
     "traceback": [
      "\u001b[0;31m---------------------------------------------------------------------------\u001b[0m",
      "\u001b[0;31mNameError\u001b[0m                                 Traceback (most recent call last)",
      "\u001b[0;32m<ipython-input-15-a13277176af6>\u001b[0m in \u001b[0;36m<module>\u001b[0;34m\u001b[0m\n\u001b[0;32m----> 1\u001b[0;31m \u001b[0mphoebe\u001b[0m\u001b[0;34m.\u001b[0m\u001b[0mlearn\u001b[0m\u001b[0;34m(\u001b[0m\u001b[0;36m1\u001b[0m\u001b[0;34m)\u001b[0m\u001b[0;34m\u001b[0m\u001b[0;34m\u001b[0m\u001b[0m\n\u001b[0m",
      "\u001b[0;32m<ipython-input-12-7dfd05e5dc50>\u001b[0m in \u001b[0;36mlearn\u001b[0;34m(cls, i)\u001b[0m\n\u001b[1;32m     29\u001b[0m     \u001b[0;32mdef\u001b[0m \u001b[0mlearn\u001b[0m\u001b[0;34m(\u001b[0m\u001b[0mcls\u001b[0m\u001b[0;34m,\u001b[0m\u001b[0mi\u001b[0m\u001b[0;34m)\u001b[0m\u001b[0;34m:\u001b[0m\u001b[0;34m\u001b[0m\u001b[0;34m\u001b[0m\u001b[0m\n\u001b[1;32m     30\u001b[0m         \u001b[0mi\u001b[0m \u001b[0;34m+=\u001b[0m \u001b[0;36m1\u001b[0m\u001b[0;34m\u001b[0m\u001b[0;34m\u001b[0m\u001b[0m\n\u001b[0;32m---> 31\u001b[0;31m         \u001b[0mself\u001b[0m\u001b[0;34m.\u001b[0m\u001b[0mj\u001b[0m \u001b[0;34m+=\u001b[0m \u001b[0;36m1\u001b[0m\u001b[0;34m\u001b[0m\u001b[0;34m\u001b[0m\u001b[0m\n\u001b[0m\u001b[1;32m     32\u001b[0m         \u001b[0mcls\u001b[0m\u001b[0;34m.\u001b[0m\u001b[0mk\u001b[0m \u001b[0;34m+=\u001b[0m \u001b[0;36m2\u001b[0m\u001b[0;34m\u001b[0m\u001b[0;34m\u001b[0m\u001b[0m\n\u001b[1;32m     33\u001b[0m         \u001b[0;32mreturn\u001b[0m \u001b[0mi\u001b[0m\u001b[0;34m,\u001b[0m \u001b[0mself\u001b[0m\u001b[0;34m.\u001b[0m\u001b[0mj\u001b[0m\u001b[0;34m,\u001b[0m \u001b[0mcls\u001b[0m\u001b[0;34m.\u001b[0m\u001b[0mk\u001b[0m\u001b[0;34m\u001b[0m\u001b[0;34m\u001b[0m\u001b[0m\n",
      "\u001b[0;31mNameError\u001b[0m: name 'self' is not defined"
     ]
    }
   ],
   "source": [
    "phoebe.learn(1)"
   ]
  },
  {
   "cell_type": "code",
   "execution_count": null,
   "metadata": {},
   "outputs": [],
   "source": []
  }
 ],
 "metadata": {
  "kernelspec": {
   "display_name": "Python 3",
   "language": "python",
   "name": "python3"
  },
  "language_info": {
   "codemirror_mode": {
    "name": "ipython",
    "version": 3
   },
   "file_extension": ".py",
   "mimetype": "text/x-python",
   "name": "python",
   "nbconvert_exporter": "python",
   "pygments_lexer": "ipython3",
   "version": "3.7.3"
  }
 },
 "nbformat": 4,
 "nbformat_minor": 2
}
