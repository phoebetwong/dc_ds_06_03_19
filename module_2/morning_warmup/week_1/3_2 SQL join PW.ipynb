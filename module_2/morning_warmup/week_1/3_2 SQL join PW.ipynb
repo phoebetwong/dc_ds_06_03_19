{
 "cells": [
  {
   "cell_type": "code",
   "execution_count": null,
   "metadata": {},
   "outputs": [],
   "source": [
    "# SQL Joins"
   ]
  },
  {
   "cell_type": "code",
   "execution_count": 2,
   "metadata": {},
   "outputs": [],
   "source": [
    "### Import packages \n",
    "import sqlite3\n",
    "import pandas as pd\n",
    "   "
   ]
  },
  {
   "cell_type": "code",
   "execution_count": 40,
   "metadata": {
    "scrolled": true
   },
   "outputs": [
    {
     "data": {
      "text/plain": [
       "[('Bell', 'Siamese', '1', '4'),\n",
       " ('Jackson', 'Balinese', '2', '3'),\n",
       " ('Precious', 'Himalayan', '3', '4'),\n",
       " ('Rocky', 'Egyptian Mau', '4', '2'),\n",
       " ('Samson', 'Javanese', '5', '1'),\n",
       " ('', '', '', ''),\n",
       " ('', '', '', ''),\n",
       " ('', '', '', ''),\n",
       " ('', '', '', ''),\n",
       " ('', '', '', ''),\n",
       " ('', '', '', ''),\n",
       " ('', '', '', ''),\n",
       " ('', '', '', ''),\n",
       " ('', '', '', ''),\n",
       " ('', '', '', ''),\n",
       " ('', '', '', ''),\n",
       " ('', '', '', ''),\n",
       " ('', '', '', ''),\n",
       " ('', '', '', ''),\n",
       " ('', '', '', ''),\n",
       " ('', '', '', None)]"
      ]
     },
     "execution_count": 40,
     "metadata": {},
     "output_type": "execute_result"
    }
   ],
   "source": [
    "### Connect to databases cats.db, dogs.db and owners.db using sqlite3 (use for example conn = sqlite3.connect('cats.db') and then c = conn.cursor())\n",
    "\n",
    "conn = sqlite3.connect('cats.db') \n",
    "c = conn.cursor()\n",
    "conn = sqlite3.connect('cats.db')\n",
    "c = conn.cursor()\n",
    "c.execute('ATTACH DATABASE \"dogs.db\" AS db_dogs')\n",
    "c.execute('ATTACH DATABASE \"owners.db\" AS db_owners')\n",
    "c.execute('''select * from cats;''').fetchall()\n"
   ]
  },
  {
   "cell_type": "code",
   "execution_count": 35,
   "metadata": {},
   "outputs": [
    {
     "data": {
      "text/plain": [
       "(('Name', None, None, None, None, None, None),\n",
       " ('Breed', None, None, None, None, None, None),\n",
       " ('House_Number', None, None, None, None, None, None),\n",
       " ('Owner_ID', None, None, None, None, None, None))"
      ]
     },
     "execution_count": 35,
     "metadata": {},
     "output_type": "execute_result"
    }
   ],
   "source": [
    "c.description"
   ]
  },
  {
   "cell_type": "code",
   "execution_count": 16,
   "metadata": {
    "scrolled": false
   },
   "outputs": [
    {
     "data": {
      "text/plain": [
       "[('Bell', 'Siamese', '1', '4')]"
      ]
     },
     "execution_count": 16,
     "metadata": {},
     "output_type": "execute_result"
    }
   ],
   "source": [
    "c.execute('''select * from cats where breed LIKE 'S%';''').fetchall()"
   ]
  },
  {
   "cell_type": "code",
   "execution_count": 23,
   "metadata": {},
   "outputs": [
    {
     "data": {
      "text/plain": [
       "[('Bell', 'Siamese', '1', '4')]"
      ]
     },
     "execution_count": 23,
     "metadata": {},
     "output_type": "execute_result"
    }
   ],
   "source": [
    "c.execute('''select * from cats where substr(breed,0,2) = 'S';''').fetchall()"
   ]
  },
  {
   "cell_type": "code",
   "execution_count": 22,
   "metadata": {
    "scrolled": true
   },
   "outputs": [
    {
     "data": {
      "text/plain": [
       "[('Bell', 'Siamese', '1', '4')]"
      ]
     },
     "execution_count": 22,
     "metadata": {},
     "output_type": "execute_result"
    }
   ],
   "source": [
    "c.execute('''select * from cats where substr(breed,0,3) = 'Si';''').fetchall()"
   ]
  },
  {
   "cell_type": "code",
   "execution_count": 28,
   "metadata": {},
   "outputs": [
    {
     "data": {
      "text/plain": [
       "[('Bell', 'Siamese', '1', '4'),\n",
       " ('Precious', 'Himalayan', '3', '4'),\n",
       " ('Samson', 'Javanese', '5', '1'),\n",
       " ('', '', '', ''),\n",
       " ('', '', '', ''),\n",
       " ('', '', '', ''),\n",
       " ('', '', '', ''),\n",
       " ('', '', '', ''),\n",
       " ('', '', '', ''),\n",
       " ('', '', '', ''),\n",
       " ('', '', '', ''),\n",
       " ('', '', '', ''),\n",
       " ('', '', '', ''),\n",
       " ('', '', '', ''),\n",
       " ('', '', '', ''),\n",
       " ('', '', '', ''),\n",
       " ('', '', '', ''),\n",
       " ('', '', '', ''),\n",
       " ('', '', '', None)]"
      ]
     },
     "execution_count": 28,
     "metadata": {},
     "output_type": "execute_result"
    }
   ],
   "source": [
    "c.execute('''select * from cats where house_number !=2 and house_number != 4;''').fetchall()"
   ]
  },
  {
   "cell_type": "code",
   "execution_count": 31,
   "metadata": {
    "scrolled": true
   },
   "outputs": [
    {
     "data": {
      "text/plain": [
       "[('Bell', 'Siamese', '1', '4')]"
      ]
     },
     "execution_count": 31,
     "metadata": {},
     "output_type": "execute_result"
    }
   ],
   "source": [
    "c.execute('''select * from cats where substr(breed,0,2) = 'S' and house_number not in (2,4);''').fetchall()"
   ]
  },
  {
   "cell_type": "code",
   "execution_count": 30,
   "metadata": {
    "scrolled": false
   },
   "outputs": [
    {
     "data": {
      "text/plain": [
       "[('Jackson', 'Balinese', '2', '3'),\n",
       " ('Precious', 'Himalayan', '3', '4'),\n",
       " ('Rocky', 'Egyptian Mau', '4', '2'),\n",
       " ('Samson', 'Javanese', '5', '1')]"
      ]
     },
     "execution_count": 30,
     "metadata": {},
     "output_type": "execute_result"
    }
   ],
   "source": [
    "c.execute('''select * from cats where house_number >1;''').fetchall()"
   ]
  },
  {
   "cell_type": "code",
   "execution_count": 38,
   "metadata": {
    "scrolled": false
   },
   "outputs": [
    {
     "data": {
      "text/plain": [
       "[('1', 1)]"
      ]
     },
     "execution_count": 38,
     "metadata": {},
     "output_type": "execute_result"
    }
   ],
   "source": [
    "c.execute('''select house_number, count(*) as cats2vac from cats where substr(breed,0,2) = 'S' group by house_number;''').fetchall()"
   ]
  },
  {
   "cell_type": "code",
   "execution_count": 43,
   "metadata": {},
   "outputs": [
    {
     "data": {
      "text/plain": [
       "[('', 16), ('1', 1), ('2', 1), ('3', 1), ('4', 1), ('5', 1)]"
      ]
     },
     "execution_count": 43,
     "metadata": {},
     "output_type": "execute_result"
    }
   ],
   "source": [
    "c.execute('''select house_number, count(*) as numcats from cats group by house_number order by numcats desc;''').fetchall()\n"
   ]
  },
  {
   "cell_type": "code",
   "execution_count": 44,
   "metadata": {
    "scrolled": true
   },
   "outputs": [
    {
     "data": {
      "text/plain": [
       "[('1', 2), ('2', 2), ('3', 1), ('4', 1)]"
      ]
     },
     "execution_count": 44,
     "metadata": {},
     "output_type": "execute_result"
    }
   ],
   "source": [
    "c.execute('''select house_number, count(*) as numdogs from dogs group by house_number order by numdogs desc;''').fetchall()\n"
   ]
  },
  {
   "cell_type": "code",
   "execution_count": 55,
   "metadata": {},
   "outputs": [
    {
     "data": {
      "text/plain": [
       "<sqlite3.Cursor at 0x7ff1a0212a40>"
      ]
     },
     "execution_count": 55,
     "metadata": {},
     "output_type": "execute_result"
    }
   ],
   "source": [
    "c.execute('''with cats_num as (select house_number, count(*) as numcats from cats group by house_number order by numcats desc),\n",
    "dogs_num as (select house_number, count(*) as numdogs from dogs group by house_number order by numdogs desc)\n",
    "select cats_num.house_number, coalesce(cast(numcats as decimal)/ cast(numcats + numdogs as decimal),0) as cats_ratio\n",
    "from cats_num\n",
    "left join dogs_num on cats_num.house_number = dogs_num.house_number\n",
    "order by cats_ratio desc;''')"
   ]
  },
  {
   "cell_type": "code",
   "execution_count": 56,
   "metadata": {},
   "outputs": [
    {
     "data": {
      "text/html": [
       "<div>\n",
       "<style scoped>\n",
       "    .dataframe tbody tr th:only-of-type {\n",
       "        vertical-align: middle;\n",
       "    }\n",
       "\n",
       "    .dataframe tbody tr th {\n",
       "        vertical-align: top;\n",
       "    }\n",
       "\n",
       "    .dataframe thead th {\n",
       "        text-align: right;\n",
       "    }\n",
       "</style>\n",
       "<table border=\"1\" class=\"dataframe\">\n",
       "  <thead>\n",
       "    <tr style=\"text-align: right;\">\n",
       "      <th></th>\n",
       "      <th>house_number</th>\n",
       "      <th>cats_ratio</th>\n",
       "    </tr>\n",
       "  </thead>\n",
       "  <tbody>\n",
       "    <tr>\n",
       "      <th>0</th>\n",
       "      <td></td>\n",
       "      <td>0</td>\n",
       "    </tr>\n",
       "    <tr>\n",
       "      <th>1</th>\n",
       "      <td>1</td>\n",
       "      <td>0</td>\n",
       "    </tr>\n",
       "    <tr>\n",
       "      <th>2</th>\n",
       "      <td>2</td>\n",
       "      <td>0</td>\n",
       "    </tr>\n",
       "    <tr>\n",
       "      <th>3</th>\n",
       "      <td>3</td>\n",
       "      <td>0</td>\n",
       "    </tr>\n",
       "    <tr>\n",
       "      <th>4</th>\n",
       "      <td>4</td>\n",
       "      <td>0</td>\n",
       "    </tr>\n",
       "  </tbody>\n",
       "</table>\n",
       "</div>"
      ],
      "text/plain": [
       "  house_number  cats_ratio\n",
       "0                        0\n",
       "1            1           0\n",
       "2            2           0\n",
       "3            3           0\n",
       "4            4           0"
      ]
     },
     "execution_count": 56,
     "metadata": {},
     "output_type": "execute_result"
    }
   ],
   "source": [
    "df = pd.DataFrame(c.fetchall())\n",
    "df.columns = [x[0] for x in c.description]\n",
    "df.head()"
   ]
  },
  {
   "cell_type": "code",
   "execution_count": 63,
   "metadata": {},
   "outputs": [
    {
     "data": {
      "text/plain": [
       "[('Bell', 'Siamese', '1', '4', 'Justin Bieber', '4103810987', 'None', '4'),\n",
       " ('Jackson',\n",
       "  'Balinese',\n",
       "  '2',\n",
       "  '3',\n",
       "  'Avi Flombaum',\n",
       "  '4698780125',\n",
       "  '1776 New York Ave',\n",
       "  '3'),\n",
       " ('Precious',\n",
       "  'Himalayan',\n",
       "  '3',\n",
       "  '4',\n",
       "  'Justin Bieber',\n",
       "  '4103810987',\n",
       "  'None',\n",
       "  '4'),\n",
       " ('Rocky',\n",
       "  'Egyptian Mau',\n",
       "  '4',\n",
       "  '2',\n",
       "  'Alison Peebles Madigan',\n",
       "  '2147098190',\n",
       "  'None',\n",
       "  '2'),\n",
       " ('Samson',\n",
       "  'Javanese',\n",
       "  '5',\n",
       "  '1',\n",
       "  'Josh Daniell',\n",
       "  '3132879573',\n",
       "  '1440 G st.',\n",
       "  '1'),\n",
       " ('', '', '', '', None, None, None, None),\n",
       " ('', '', '', '', None, None, None, None),\n",
       " ('', '', '', '', None, None, None, None),\n",
       " ('', '', '', '', None, None, None, None),\n",
       " ('', '', '', '', None, None, None, None),\n",
       " ('', '', '', '', None, None, None, None),\n",
       " ('', '', '', '', None, None, None, None),\n",
       " ('', '', '', '', None, None, None, None),\n",
       " ('', '', '', '', None, None, None, None),\n",
       " ('', '', '', '', None, None, None, None),\n",
       " ('', '', '', '', None, None, None, None),\n",
       " ('', '', '', '', None, None, None, None),\n",
       " ('', '', '', '', None, None, None, None),\n",
       " ('', '', '', '', None, None, None, None),\n",
       " ('', '', '', '', None, None, None, None),\n",
       " ('', '', '', None, None, None, None, None)]"
      ]
     },
     "execution_count": 63,
     "metadata": {},
     "output_type": "execute_result"
    }
   ],
   "source": [
    "c.execute('''select * from cats left join owners on owners.id = cats.owner_id''').fetchall()\n"
   ]
  },
  {
   "cell_type": "code",
   "execution_count": 64,
   "metadata": {
    "scrolled": true
   },
   "outputs": [
    {
     "data": {
      "text/plain": [
       "[('Bell', 'Siamese', '1', '4', 'Justin Bieber', '4103810987', 'None', '4'),\n",
       " ('Jackson',\n",
       "  'Balinese',\n",
       "  '2',\n",
       "  '3',\n",
       "  'Avi Flombaum',\n",
       "  '4698780125',\n",
       "  '1776 New York Ave',\n",
       "  '3'),\n",
       " ('Precious',\n",
       "  'Himalayan',\n",
       "  '3',\n",
       "  '4',\n",
       "  'Justin Bieber',\n",
       "  '4103810987',\n",
       "  'None',\n",
       "  '4'),\n",
       " ('Rocky',\n",
       "  'Egyptian Mau',\n",
       "  '4',\n",
       "  '2',\n",
       "  'Alison Peebles Madigan',\n",
       "  '2147098190',\n",
       "  'None',\n",
       "  '2'),\n",
       " ('Samson',\n",
       "  'Javanese',\n",
       "  '5',\n",
       "  '1',\n",
       "  'Josh Daniell',\n",
       "  '3132879573',\n",
       "  '1440 G st.',\n",
       "  '1')]"
      ]
     },
     "execution_count": 64,
     "metadata": {},
     "output_type": "execute_result"
    }
   ],
   "source": [
    "c.execute('''select * from cats inner join owners on owners.id = cats.owner_id''').fetchall()\n"
   ]
  },
  {
   "cell_type": "code",
   "execution_count": 67,
   "metadata": {
    "scrolled": true
   },
   "outputs": [
    {
     "data": {
      "text/plain": [
       "[(None, ''),\n",
       " (None, ''),\n",
       " (None, ''),\n",
       " (None, ''),\n",
       " (None, ''),\n",
       " (None, ''),\n",
       " (None, ''),\n",
       " (None, ''),\n",
       " (None, ''),\n",
       " (None, ''),\n",
       " (None, ''),\n",
       " (None, ''),\n",
       " (None, ''),\n",
       " (None, ''),\n",
       " (None, ''),\n",
       " (None, '')]"
      ]
     },
     "execution_count": 67,
     "metadata": {},
     "output_type": "execute_result"
    }
   ],
   "source": [
    "c.execute('''select owners.name, cats.name as cat_name from cats left join owners on owners.id = cats.owner_id where owners.name is null''').fetchall()\n"
   ]
  },
  {
   "cell_type": "code",
   "execution_count": null,
   "metadata": {},
   "outputs": [],
   "source": [
    "Let's try and work through some exercises to recap and retain the foundational knowledge of the language that our beloved databases use.\n",
    "\n",
    "In the suburbs of Capitol Hill, there is a new pet daycare starting up that distributes pets among 4 houses.\n",
    "Down below we have tables representing cats and dogs in the particular houses, and corresponding owners. \n",
    "\n",
    "Cats Table:\n",
    "\n",
    "Name  \t\t\t | Breed \t\t\t| House_Number| Owner_ID|       \n",
    "------------- | ------------- | ------------|---------\n",
    "Bell  \t\t\t| Siamese\t\t\t|\t\t1\t    | 4\n",
    "Jackson  \t\t| Balinese \t\t|       2     |3\n",
    "Precious  \t| Himalayan  \t\t|         3    | 4\n",
    "Rocky\t\t\t| Egyptian Mau \t| 4 \t\t    | 2\n",
    "Samson\t\t\t| Javanese\t\t|\t4\t\t| 1\n",
    "\n",
    "Dogs Table:\n",
    "\n",
    "Name  \t\t\t | Breed \t| House_Number\t|Owner_ID|\n",
    "-------------| ------------- | ------------|-----   \n",
    "Rex  \t\t\t| Chihuahua  \t\t|\t\t1\t    |3\n",
    "Clifford  \t| German Shepherd|     2        |2\n",
    "Lucky  \t\t| Daschund  \t\t|     3        |1\n",
    "Bobo\t\t\t| Shih-Tzu\t\t|    2\t\t   | 4\n",
    "Buddy\t\t\t| Golden Retriever | 4\t\t   | 2\n",
    "Leo\t\t\t\t| English Bulldog | 1 | 2\n",
    "\n",
    "Owners Table:\n",
    "\n",
    "Name  \t\t| Phone\t| Address\t|ID| \n",
    "-------------| ------------- | ------------|-----\n",
    "Josh Daniell  | 313-287-9573  |1440 G St. |1\n",
    "Alison Peebles Madigan| 214-709-8190| None |2\n",
    "Avi Flombaum\t| 469-878-0125  |  1776 New York Ave| 3\n",
    "Justin Bieber | 410-381-0987 | None | 4\n",
    "\n",
    "\n",
    "Write the appropriate SQL queries to satisfy the following prompts:\n",
    "\n",
    "A. Write a SQL query that can grab the names of all pets owned by the founder of Flatiron School, Avi Flombaum"
   ]
  },
  {
   "cell_type": "code",
   "execution_count": null,
   "metadata": {},
   "outputs": [],
   "source": [
    "B. Which House_Number contains the most number of pets in it and how many?\n",
    "\n",
    "C. The daycare realized that House 4 needs the owners of its pets to update their addresses. Grab the names and phone numbers of owners with pets in house 4 that do not currently have an address."
   ]
  },
  {
   "cell_type": "code",
   "execution_count": null,
   "metadata": {},
   "outputs": [],
   "source": [
    "select * from pick;\n",
    "select date, outboundprocess, spi, rank() over (partition by grouping order by spi desc) from \n",
    "(select *, 1 as grouping from pick) as pick_w_group;"
   ]
  }
 ],
 "metadata": {
  "kernelspec": {
   "display_name": "Python 3",
   "language": "python",
   "name": "python3"
  },
  "language_info": {
   "codemirror_mode": {
    "name": "ipython",
    "version": 3
   },
   "file_extension": ".py",
   "mimetype": "text/x-python",
   "name": "python",
   "nbconvert_exporter": "python",
   "pygments_lexer": "ipython3",
   "version": "3.7.3"
  }
 },
 "nbformat": 4,
 "nbformat_minor": 2
}
