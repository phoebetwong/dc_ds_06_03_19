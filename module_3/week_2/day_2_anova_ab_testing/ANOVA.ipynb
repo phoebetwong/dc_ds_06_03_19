{
 "cells": [
  {
   "cell_type": "markdown",
   "metadata": {},
   "source": [
    "## Starting Off\n",
    "\n",
    "You are the manager of a SAT Prep course and want to develop marketing materials to show the value of your program. Identify which statistical tests you would use in the following situations. \n",
    "\n",
    "1. You want to prove that the people who attend the course score significantly higher than student who don't attend your course.\n",
    "\n",
    "2. You take attendance every session and can split the students into three groups, 'perfect', 'tardies',  and 'truants'. You believe that students who got a scholarship to the course are more likely to be better attendance than student who paid full price. \n",
    "\n",
    "2. You believe that students with better attendance will have a larger increase in their their SAT scores."
   ]
  },
  {
   "cell_type": "markdown",
   "metadata": {},
   "source": [
    "# A Simple Introduction to ANOVA  "
   ]
  },
  {
   "cell_type": "markdown",
   "metadata": {},
   "source": [
    "**Analysis of variance (ANOVA)** is a statistical technique that is used to check if the means of two or more groups are significantly different from each other. ANOVA checks the impact of one or more factors by comparing the means of different samples.\n",
    "\n",
    "We can use ANOVA to prove/disprove if attendance group has an impact on the increase in SAT scores."
   ]
  },
  {
   "cell_type": "markdown",
   "metadata": {},
   "source": [
    "## Terminologies related to ANOVA you need to know\n"
   ]
  },
  {
   "cell_type": "markdown",
   "metadata": {},
   "source": [
    "### Grand Mean\n",
    "\n",
    "There are two kinds of means that we use in ANOVA calculations, which are separate sample means ($\\mu_1, \\mu_2, \\mu_3$) and the grand mean $\\mu$  . The grand mean is the mean of sample means or the mean of all observations combined, irrespective of the sample."
   ]
  },
  {
   "cell_type": "markdown",
   "metadata": {},
   "source": [
    "### Hypothesis\n",
    "\n",
    "The Null hypothesis in ANOVA is valid when all the sample means are equal, or they don’t have any significant difference. Thus, they can be considered as a part of a larger set of the population. On the other hand, the alternate hypothesis is valid when at least one of the sample means is different from the rest of the sample means. In mathematical form, they can be represented as:\n",
    "\n",
    "$H_0: \\mu_1 = \\mu_2 = \\mu_3 ...$\n",
    "\n",
    "$H_a: \\mu_1 \\neq \\mu_m $"
   ]
  },
  {
   "cell_type": "markdown",
   "metadata": {},
   "source": [
    "In other words, the null hypothesis states that all the sample means are equal or the factor did not have any significant effect on the results. Whereas, the alternate hypothesis states that at least one of the sample means is different from another.  \n",
    "\n",
    "We still can’t tell which one specifically. For that, we will use other methods that we will discuss later in this article."
   ]
  },
  {
   "cell_type": "markdown",
   "metadata": {},
   "source": [
    "### Between Group Variability\n",
    "\n",
    "Consider the distributions of the below two samples. As these samples overlap, their individual means won’t differ by a great margin. Hence the difference between their individual means and grand mean won’t be significant enough.\n",
    "\n",
    "<img src=\"img/between.png\" width=\"300\"/>"
   ]
  },
  {
   "cell_type": "markdown",
   "metadata": {},
   "source": [
    "As the samples differ from each other by a big margin, their individual means would also differ. The difference between the individual means and grand mean would therefore also be significant.\n",
    "\n",
    "<img src=\"img/very_different.png\" width=\"300\"/>"
   ]
  },
  {
   "cell_type": "markdown",
   "metadata": {},
   "source": [
    "Such variability between the distributions called Between-group variability. It refers to variations between the distributions of individual groups (or levels) as the values within each group are different.\n",
    "\n",
    "<img src=\"img/comparison_within.png\" width=\"400\"/>"
   ]
  },
  {
   "cell_type": "markdown",
   "metadata": {},
   "source": [
    "We multiply each squared deviation by each sample size and add them up. This is called the **sum-of-squares for between-group variability*.* \n",
    "\n",
    "<img src=\"img/ss_between.png\" width=\"400\"/>"
   ]
  },
  {
   "cell_type": "markdown",
   "metadata": {},
   "source": [
    "For our between-group variability, we will find each squared deviation, weigh them by their sample size, sum them up, and divide by the degrees of freedom, which in the case of between-group variability is the number of sample means (k) minus 1.\n",
    "\n",
    "<img src=\"img/ms_between.png\" width=\"400\"/>"
   ]
  },
  {
   "cell_type": "markdown",
   "metadata": {},
   "source": [
    "### Within Group Variability\n",
    "\n",
    "<img src=\"img/within_group.png\" width=\"400\"/>\n",
    "\n",
    "Such variations within a sample are denoted by Within-group variation. It refers to variations caused by differences within individual groups (or levels) as not all the values within each group are the same. Each sample is looked at on its own and variability between the individual points in the sample is calculated."
   ]
  },
  {
   "cell_type": "markdown",
   "metadata": {},
   "source": [
    "\n",
    "We can measure Within-group variability by looking at how much each value in each sample differs from its respective sample mean. So first, we’ll take the squared deviation of each value from its respective sample mean and add them up. This is the sum of squares for within-group variability.\n",
    "\n",
    "<img src=\"img/ss_within.png\" width=\"500\"/>\n"
   ]
  },
  {
   "cell_type": "markdown",
   "metadata": {},
   "source": [
    "Like between-group variability, we then divide the sum of squared deviations by the degrees of freedom  to find a less-biased estimator for the average squared deviation. \n",
    "\n",
    "<img src=\"img/df_within.png\" width=\"700\"/>\n",
    "\n",
    "<img src=\"img/ms_within.png\" width=\"400\"/>\n"
   ]
  },
  {
   "cell_type": "markdown",
   "metadata": {},
   "source": [
    "## F-Statistic\n",
    "\n",
    "The statistic which measures if the means of different samples are significantly different or not is called the F-Ratio. Lower the F-Ratio, more similar are the sample means.\n",
    "\n",
    "#### F = Between group variability / Within group variability\n",
    "\n"
   ]
  },
  {
   "cell_type": "markdown",
   "metadata": {},
   "source": [
    "<img src=\"img/betweeN_and_within.png\" width=\"400\"/>\n"
   ]
  },
  {
   "cell_type": "markdown",
   "metadata": {},
   "source": [
    "This F-statistic calculated here is compared with the F-critical value for making a conclusion. If the value of the calculated F-statistic is more than the F-critical value (for a specific α/significance level), then we reject the null hypothesis and can say that the treatment had a significant effect."
   ]
  },
  {
   "cell_type": "code",
   "execution_count": 1,
   "metadata": {},
   "outputs": [
    {
     "data": {
      "text/plain": [
       "count    15.000000\n",
       "mean      3.466667\n",
       "std       1.767430\n",
       "min       1.000000\n",
       "25%       2.000000\n",
       "50%       3.000000\n",
       "75%       4.500000\n",
       "max       7.000000\n",
       "Name: libido, dtype: float64"
      ]
     },
     "execution_count": 1,
     "metadata": {},
     "output_type": "execute_result"
    }
   ],
   "source": [
    "import pandas as pd\n",
    "import scipy.stats as stats\n",
    "import statsmodels.api as sm\n",
    "from statsmodels.formula.api import ols\n",
    "    \n",
    "import matplotlib.pyplot as plt\n",
    "\n",
    "# Loading data\n",
    "df = pd.read_csv(\"https://raw.githubusercontent.com/Opensourcefordatascience/Data-sets/master/difficile.csv\")\n",
    "df.drop('person', axis= 1, inplace= True)\n",
    "\n",
    "# Recoding value from numeric to string\n",
    "df['dose'].replace({1: 'placebo', 2: 'low', 3: 'high'}, inplace= True)\n",
    "    \n",
    "# Gettin summary statistics\n",
    "df['libido'].describe()"
   ]
  },
  {
   "cell_type": "code",
   "execution_count": 2,
   "metadata": {},
   "outputs": [
    {
     "data": {
      "text/html": [
       "<div>\n",
       "<style scoped>\n",
       "    .dataframe tbody tr th:only-of-type {\n",
       "        vertical-align: middle;\n",
       "    }\n",
       "\n",
       "    .dataframe tbody tr th {\n",
       "        vertical-align: top;\n",
       "    }\n",
       "\n",
       "    .dataframe thead th {\n",
       "        text-align: right;\n",
       "    }\n",
       "</style>\n",
       "<table border=\"1\" class=\"dataframe\">\n",
       "  <thead>\n",
       "    <tr style=\"text-align: right;\">\n",
       "      <th></th>\n",
       "      <th>count</th>\n",
       "      <th>mean</th>\n",
       "      <th>std</th>\n",
       "      <th>min</th>\n",
       "      <th>25%</th>\n",
       "      <th>50%</th>\n",
       "      <th>75%</th>\n",
       "      <th>max</th>\n",
       "    </tr>\n",
       "    <tr>\n",
       "      <th>dose</th>\n",
       "      <th></th>\n",
       "      <th></th>\n",
       "      <th></th>\n",
       "      <th></th>\n",
       "      <th></th>\n",
       "      <th></th>\n",
       "      <th></th>\n",
       "      <th></th>\n",
       "    </tr>\n",
       "  </thead>\n",
       "  <tbody>\n",
       "    <tr>\n",
       "      <th>high</th>\n",
       "      <td>5.0</td>\n",
       "      <td>5.0</td>\n",
       "      <td>1.581139</td>\n",
       "      <td>3.0</td>\n",
       "      <td>4.0</td>\n",
       "      <td>5.0</td>\n",
       "      <td>6.0</td>\n",
       "      <td>7.0</td>\n",
       "    </tr>\n",
       "    <tr>\n",
       "      <th>low</th>\n",
       "      <td>5.0</td>\n",
       "      <td>3.2</td>\n",
       "      <td>1.303840</td>\n",
       "      <td>2.0</td>\n",
       "      <td>2.0</td>\n",
       "      <td>3.0</td>\n",
       "      <td>4.0</td>\n",
       "      <td>5.0</td>\n",
       "    </tr>\n",
       "    <tr>\n",
       "      <th>placebo</th>\n",
       "      <td>5.0</td>\n",
       "      <td>2.2</td>\n",
       "      <td>1.303840</td>\n",
       "      <td>1.0</td>\n",
       "      <td>1.0</td>\n",
       "      <td>2.0</td>\n",
       "      <td>3.0</td>\n",
       "      <td>4.0</td>\n",
       "    </tr>\n",
       "  </tbody>\n",
       "</table>\n",
       "</div>"
      ],
      "text/plain": [
       "         count  mean       std  min  25%  50%  75%  max\n",
       "dose                                                   \n",
       "high       5.0   5.0  1.581139  3.0  4.0  5.0  6.0  7.0\n",
       "low        5.0   3.2  1.303840  2.0  2.0  3.0  4.0  5.0\n",
       "placebo    5.0   2.2  1.303840  1.0  1.0  2.0  3.0  4.0"
      ]
     },
     "execution_count": 2,
     "metadata": {},
     "output_type": "execute_result"
    }
   ],
   "source": [
    "df['libido'].groupby(df['dose']).describe()\n"
   ]
  },
  {
   "cell_type": "code",
   "execution_count": 3,
   "metadata": {},
   "outputs": [
    {
     "data": {
      "text/plain": [
       "F_onewayResult(statistic=5.11864406779661, pvalue=0.024694289538222603)"
      ]
     },
     "execution_count": 3,
     "metadata": {},
     "output_type": "execute_result"
    }
   ],
   "source": [
    "stats.f_oneway(df['libido'][df['dose'] == 'high'], \n",
    "             df['libido'][df['dose'] == 'low'],\n",
    "             df['libido'][df['dose'] == 'placebo'])"
   ]
  },
  {
   "cell_type": "markdown",
   "metadata": {},
   "source": [
    "The F-statistic= 5.119 and the p-value= 0.025 which is indicating that there is an overall significant effect of medication on libido. However, we don’t know where the difference between dosing/groups is yet. This is in the post-hoc section"
   ]
  },
  {
   "cell_type": "markdown",
   "metadata": {},
   "source": [
    "model_name = ols('outcome_variable ~ group1 + group2 + groupN', data=your_data).fit()\n",
    "\n"
   ]
  },
  {
   "cell_type": "code",
   "execution_count": 4,
   "metadata": {},
   "outputs": [
    {
     "name": "stderr",
     "output_type": "stream",
     "text": [
      "/usr/local/lib/python3.7/site-packages/scipy/stats/stats.py:1416: UserWarning: kurtosistest only valid for n>=20 ... continuing anyway, n=15\n",
      "  \"anyway, n=%i\" % int(n))\n"
     ]
    },
    {
     "data": {
      "text/html": [
       "<table class=\"simpletable\">\n",
       "<caption>OLS Regression Results</caption>\n",
       "<tr>\n",
       "  <th>Dep. Variable:</th>         <td>libido</td>      <th>  R-squared:         </th> <td>   0.460</td>\n",
       "</tr>\n",
       "<tr>\n",
       "  <th>Model:</th>                   <td>OLS</td>       <th>  Adj. R-squared:    </th> <td>   0.370</td>\n",
       "</tr>\n",
       "<tr>\n",
       "  <th>Method:</th>             <td>Least Squares</td>  <th>  F-statistic:       </th> <td>   5.119</td>\n",
       "</tr>\n",
       "<tr>\n",
       "  <th>Date:</th>             <td>Tue, 09 Jul 2019</td> <th>  Prob (F-statistic):</th>  <td>0.0247</td> \n",
       "</tr>\n",
       "<tr>\n",
       "  <th>Time:</th>                 <td>11:35:15</td>     <th>  Log-Likelihood:    </th> <td> -24.683</td>\n",
       "</tr>\n",
       "<tr>\n",
       "  <th>No. Observations:</th>      <td>    15</td>      <th>  AIC:               </th> <td>   55.37</td>\n",
       "</tr>\n",
       "<tr>\n",
       "  <th>Df Residuals:</th>          <td>    12</td>      <th>  BIC:               </th> <td>   57.49</td>\n",
       "</tr>\n",
       "<tr>\n",
       "  <th>Df Model:</th>              <td>     2</td>      <th>                     </th>     <td> </td>   \n",
       "</tr>\n",
       "<tr>\n",
       "  <th>Covariance Type:</th>      <td>nonrobust</td>    <th>                     </th>     <td> </td>   \n",
       "</tr>\n",
       "</table>\n",
       "<table class=\"simpletable\">\n",
       "<tr>\n",
       "           <td></td>             <th>coef</th>     <th>std err</th>      <th>t</th>      <th>P>|t|</th>  <th>[0.025</th>    <th>0.975]</th>  \n",
       "</tr>\n",
       "<tr>\n",
       "  <th>Intercept</th>          <td>    5.0000</td> <td>    0.627</td> <td>    7.972</td> <td> 0.000</td> <td>    3.634</td> <td>    6.366</td>\n",
       "</tr>\n",
       "<tr>\n",
       "  <th>C(dose)[T.low]</th>     <td>   -1.8000</td> <td>    0.887</td> <td>   -2.029</td> <td> 0.065</td> <td>   -3.732</td> <td>    0.132</td>\n",
       "</tr>\n",
       "<tr>\n",
       "  <th>C(dose)[T.placebo]</th> <td>   -2.8000</td> <td>    0.887</td> <td>   -3.157</td> <td> 0.008</td> <td>   -4.732</td> <td>   -0.868</td>\n",
       "</tr>\n",
       "</table>\n",
       "<table class=\"simpletable\">\n",
       "<tr>\n",
       "  <th>Omnibus:</th>       <td> 2.517</td> <th>  Durbin-Watson:     </th> <td>   2.408</td>\n",
       "</tr>\n",
       "<tr>\n",
       "  <th>Prob(Omnibus):</th> <td> 0.284</td> <th>  Jarque-Bera (JB):  </th> <td>   1.108</td>\n",
       "</tr>\n",
       "<tr>\n",
       "  <th>Skew:</th>          <td> 0.195</td> <th>  Prob(JB):          </th> <td>   0.575</td>\n",
       "</tr>\n",
       "<tr>\n",
       "  <th>Kurtosis:</th>      <td> 1.727</td> <th>  Cond. No.          </th> <td>    3.73</td>\n",
       "</tr>\n",
       "</table><br/><br/>Warnings:<br/>[1] Standard Errors assume that the covariance matrix of the errors is correctly specified."
      ],
      "text/plain": [
       "<class 'statsmodels.iolib.summary.Summary'>\n",
       "\"\"\"\n",
       "                            OLS Regression Results                            \n",
       "==============================================================================\n",
       "Dep. Variable:                 libido   R-squared:                       0.460\n",
       "Model:                            OLS   Adj. R-squared:                  0.370\n",
       "Method:                 Least Squares   F-statistic:                     5.119\n",
       "Date:                Tue, 09 Jul 2019   Prob (F-statistic):             0.0247\n",
       "Time:                        11:35:15   Log-Likelihood:                -24.683\n",
       "No. Observations:                  15   AIC:                             55.37\n",
       "Df Residuals:                      12   BIC:                             57.49\n",
       "Df Model:                           2                                         \n",
       "Covariance Type:            nonrobust                                         \n",
       "======================================================================================\n",
       "                         coef    std err          t      P>|t|      [0.025      0.975]\n",
       "--------------------------------------------------------------------------------------\n",
       "Intercept              5.0000      0.627      7.972      0.000       3.634       6.366\n",
       "C(dose)[T.low]        -1.8000      0.887     -2.029      0.065      -3.732       0.132\n",
       "C(dose)[T.placebo]    -2.8000      0.887     -3.157      0.008      -4.732      -0.868\n",
       "==============================================================================\n",
       "Omnibus:                        2.517   Durbin-Watson:                   2.408\n",
       "Prob(Omnibus):                  0.284   Jarque-Bera (JB):                1.108\n",
       "Skew:                           0.195   Prob(JB):                        0.575\n",
       "Kurtosis:                       1.727   Cond. No.                         3.73\n",
       "==============================================================================\n",
       "\n",
       "Warnings:\n",
       "[1] Standard Errors assume that the covariance matrix of the errors is correctly specified.\n",
       "\"\"\""
      ]
     },
     "execution_count": 4,
     "metadata": {},
     "output_type": "execute_result"
    }
   ],
   "source": [
    "results = ols('libido ~ C(dose)', data=df).fit()\n",
    "results.summary()"
   ]
  },
  {
   "cell_type": "code",
   "execution_count": 5,
   "metadata": {},
   "outputs": [
    {
     "data": {
      "text/html": [
       "<div>\n",
       "<style scoped>\n",
       "    .dataframe tbody tr th:only-of-type {\n",
       "        vertical-align: middle;\n",
       "    }\n",
       "\n",
       "    .dataframe tbody tr th {\n",
       "        vertical-align: top;\n",
       "    }\n",
       "\n",
       "    .dataframe thead th {\n",
       "        text-align: right;\n",
       "    }\n",
       "</style>\n",
       "<table border=\"1\" class=\"dataframe\">\n",
       "  <thead>\n",
       "    <tr style=\"text-align: right;\">\n",
       "      <th></th>\n",
       "      <th>df</th>\n",
       "      <th>sum_sq</th>\n",
       "      <th>mean_sq</th>\n",
       "      <th>F</th>\n",
       "      <th>PR(&gt;F)</th>\n",
       "    </tr>\n",
       "  </thead>\n",
       "  <tbody>\n",
       "    <tr>\n",
       "      <th>C(dose)</th>\n",
       "      <td>2.0</td>\n",
       "      <td>20.133333</td>\n",
       "      <td>10.066667</td>\n",
       "      <td>5.118644</td>\n",
       "      <td>0.024694</td>\n",
       "    </tr>\n",
       "    <tr>\n",
       "      <th>Residual</th>\n",
       "      <td>12.0</td>\n",
       "      <td>23.600000</td>\n",
       "      <td>1.966667</td>\n",
       "      <td>NaN</td>\n",
       "      <td>NaN</td>\n",
       "    </tr>\n",
       "  </tbody>\n",
       "</table>\n",
       "</div>"
      ],
      "text/plain": [
       "            df     sum_sq    mean_sq         F    PR(>F)\n",
       "C(dose)    2.0  20.133333  10.066667  5.118644  0.024694\n",
       "Residual  12.0  23.600000   1.966667       NaN       NaN"
      ]
     },
     "execution_count": 5,
     "metadata": {},
     "output_type": "execute_result"
    }
   ],
   "source": [
    "aov_table = sm.stats.anova_lm(results, type=2)\n",
    "aov_table\n"
   ]
  },
  {
   "cell_type": "markdown",
   "metadata": {},
   "source": [
    "### ANOVA Assumptions\n",
    "There are 3 assumptions that need to be met for the results of an ANOVA test to be considered accurate and trust worthy. It’s important to note the the assumptions apply to the residuals and not the variables themselves. The ANOVA assumptions are the same as for linear regression and are:\n",
    "\n",
    "- Normality\n",
    "\n",
    "- Homogeneity of variance\n",
    "\n",
    "- Independent observations"
   ]
  },
  {
   "cell_type": "code",
   "execution_count": 6,
   "metadata": {},
   "outputs": [
    {
     "data": {
      "text/plain": [
       "{'condno': 3.732050807568878,\n",
       " 'jb': 1.108027577642525,\n",
       " 'jbpv': 0.5746386969445544,\n",
       " 'kurtosis': 1.726659006032749,\n",
       " 'mineigval': 1.339745962155613,\n",
       " 'omni': 2.517358660775962,\n",
       " 'omnipv': 0.2840288872319992,\n",
       " 'skew': 0.19458085550133966}"
      ]
     },
     "execution_count": 6,
     "metadata": {},
     "output_type": "execute_result"
    }
   ],
   "source": [
    "results.diagn"
   ]
  },
  {
   "cell_type": "markdown",
   "metadata": {},
   "source": [
    "These are the same diagnostics from the bottom of the regression table from before. The Durban-Watson tests is to detect the presence of autocorrelation (not provided when calling diagnostics this way), Jarque-Bera (jb; jbpv is p-value) tests the assumption of normality, Omnibus (omni; omnipv is p-value) tests the assumption of homogeneity of variance, and the Condition Number (condno) assess multicollinearity. Condition Number values over 20 are indicative of multicollinearity."
   ]
  },
  {
   "cell_type": "markdown",
   "metadata": {},
   "source": [
    "## Post-hoc Testing\n",
    "\n",
    "\n",
    "The overall model was significant, now to test which groups differ. Deciding which groups to compare should be theory driven. \n",
    "\n",
    "There are a few different techniques that each have different ways of controlling for familywise error rate. 3 common methods are:"
   ]
  },
  {
   "cell_type": "markdown",
   "metadata": {},
   "source": [
    "- Fisher’s Least Significant Difference (LSD): Take the groups you want to compare and conduct multiple t-tests. This method requires that the ANOVA model be significant. This method is easy, but receives push back since it doesn’t account for familywise error rate. The argument is that since the overall model was significant, one is protected from increasing the familywise error rate.\n",
    "\n",
    "\n",
    "- Bonferroni correction: Take the alpha the ANOVA was tested at, 0.05, then divide it by the number of planned comparisons. In this case, 0.05/3 = 0.0167. A post-hoc test would have to have an alpha level < 0.0167 to be considered significant. To test the groups, conduct multiple t-tests, but set the alpha value to the corrected value. This method is quick, but often considered too conservative.\n",
    "\n",
    "\n",
    "- Tukey’s HSD: Method also controls for familywise error rate with a different method than Bonferroni, and is also considered conservative.\n"
   ]
  },
  {
   "cell_type": "markdown",
   "metadata": {},
   "source": [
    "### Tukey’s HSD Post-Hoc Comparison\n"
   ]
  },
  {
   "cell_type": "code",
   "execution_count": 7,
   "metadata": {},
   "outputs": [
    {
     "name": "stdout",
     "output_type": "stream",
     "text": [
      "Multiple Comparison of Means - Tukey HSD,FWER=0.05\n",
      "==============================================\n",
      "group1  group2 meandiff  lower   upper  reject\n",
      "----------------------------------------------\n",
      " high    low     -1.8   -4.1651  0.5651 False \n",
      " high  placebo   -2.8   -5.1651 -0.4349  True \n",
      " low   placebo   -1.0   -3.3651  1.3651 False \n",
      "----------------------------------------------\n"
     ]
    }
   ],
   "source": [
    "from statsmodels.stats.multicomp import pairwise_tukeyhsd\n",
    "from statsmodels.stats.multicomp import MultiComparison\n",
    "\n",
    "mc = MultiComparison(df['libido'], df['dose'])\n",
    "mc_results = mc.tukeyhsd()\n",
    "print(mc_results)"
   ]
  },
  {
   "cell_type": "markdown",
   "metadata": {},
   "source": [
    "## Starting Off\n",
    "\n",
    "Rate the following 'condiments' on a scale of 1 to 10 with 1 being you hate it and 10 being you love it.\n",
    "\n",
    "- Chocolate Syrup\n",
    "- Ranch Dressing\n",
    "- Soy Sauce\n",
    "- Honey\n",
    "\n",
    "How would those ratings change if I asked you to think about how they go on:\n",
    "\n",
    "- French Fries\n",
    "- Chicken Tenders\n",
    "- Apple Slices"
   ]
  },
  {
   "cell_type": "markdown",
   "metadata": {},
   "source": [
    "## Two-Way ANOVA:\n",
    "\n",
    "When the outcome or dependent variable (in our case the test scores) is affected by two independent variables/factors we use a slightly modified technique called two-way ANOVA.\n",
    "\n",
    "\n",
    "The two-way ANOVA  examines the *main effect* and the *interaction effect* of two factors (attendance and grade-level).\n",
    "\n",
    "The main effect is similiar to a one-way ANOVA where the effect of attendance and grade-level on SAT score increase would be measured separately. \n",
    "\n",
    "The interaction effect also examines whether the two factors affect each other to influence the continuous variable. \n",
    "\n"
   ]
  },
  {
   "cell_type": "markdown",
   "metadata": {},
   "source": [
    "### Creating an Interaction Term\n",
    "\n",
    "Using Pandas, it is very easy to create an interaction term. Simply multiply the two columns together.\n",
    "\n",
    "` df['intercation'] = df['category_a'] * df['category_b']`\n",
    "\n",
    "\n",
    "**Caution:** You will create your interaction terms after creating the dummy variables.  You can not do so before becasue you can't multiple strings.\n",
    "\n"
   ]
  },
  {
   "cell_type": "markdown",
   "metadata": {},
   "source": [
    "### Within our model \n",
    "\n",
    "<img src=\"img/partioning.png\" width=\"600\"/>"
   ]
  },
  {
   "cell_type": "markdown",
   "metadata": {},
   "source": [
    "#### Question\n",
    "\n",
    "The main effects for Factor A and Factor B are straightforward to interpret, but how do we interpret an interaction?\n"
   ]
  },
  {
   "cell_type": "markdown",
   "metadata": {},
   "source": [
    "### Graphically \n",
    " \n",
    "\n",
    "When lines are parallel the response is the same. In plots depicting interactions you notice that the lines cross (or would cross if the lines kept going)."
   ]
  },
  {
   "cell_type": "markdown",
   "metadata": {},
   "source": [
    "<img src=\"img/effect_1.png\" width=\"600\"/>"
   ]
  },
  {
   "cell_type": "markdown",
   "metadata": {},
   "source": [
    "<img src=\"img/effect_2.png\" width=\"600\"/>"
   ]
  },
  {
   "cell_type": "markdown",
   "metadata": {},
   "source": [
    "<img src=\"img/effect_3.png\" width=\"600\"/>"
   ]
  },
  {
   "cell_type": "markdown",
   "metadata": {},
   "source": [
    "### Guess the effect of A, B and the interaction.\n",
    "\n",
    "<img src=\"img/effect_4.png\" width=\"600\"/>"
   ]
  },
  {
   "cell_type": "markdown",
   "metadata": {},
   "source": [
    "### What are the hypotheses of a Two-Way ANOVA?\n",
    "Because the two-way ANOVA consider the effect of two categorical factors, and the effect of the categorical factors on each other, there are three pairs of null or alternative hypotheses for the two-way ANOVA. \n",
    "\n",
    "Here, we present them for our SAT experiment, where grade of the student and their attendance are the two independent variables.\n",
    "\n",
    "- H0: The means of all grade groups are equal\n",
    "- H1: The mean of at least one grade group is different\n",
    "\n",
    "\n",
    "- H0: The means of the attendance groups are equal\n",
    "- H1: The mean of at least one attendance group is different\n",
    "\n",
    "\n",
    "- H0: There is no interaction between the grade and attendance \n",
    "- H1: There is interaction between the grade and attendance "
   ]
  },
  {
   "cell_type": "markdown",
   "metadata": {},
   "source": [
    "<img src=\"img/1way_2way_anova.png\" width=\"400\"/>"
   ]
  },
  {
   "cell_type": "code",
   "execution_count": 17,
   "metadata": {},
   "outputs": [],
   "source": [
    "from statsmodels.stats.anova import anova_lm\n",
    "from statsmodels.graphics.factorplots import interaction_plot\n",
    "\n",
    "\n",
    "datafile = \"data/ToothGrowth.csv\"\n",
    "data = pd.read_csv(datafile, index_col=0)"
   ]
  },
  {
   "cell_type": "markdown",
   "metadata": {},
   "source": [
    "The response is the length of odontoblasts (teeth) in each of 10 guinea pigs at each of three dose levels of Vitamin C (0.5, 1, and 2 mg) with each of two delivery methods (orange juice or ascorbic acid).\n",
    "\n",
    "The ToothGrowth data frame has 60 observations of three variables (len, supp, and dose). The supp variable has two values VC and OJ, while the dose column has three: 0.50, 1.0, and 2.0. The dataset looks as follows"
   ]
  },
  {
   "cell_type": "code",
   "execution_count": 18,
   "metadata": {},
   "outputs": [
    {
     "data": {
      "text/html": [
       "<div>\n",
       "<style scoped>\n",
       "    .dataframe tbody tr th:only-of-type {\n",
       "        vertical-align: middle;\n",
       "    }\n",
       "\n",
       "    .dataframe tbody tr th {\n",
       "        vertical-align: top;\n",
       "    }\n",
       "\n",
       "    .dataframe thead th {\n",
       "        text-align: right;\n",
       "    }\n",
       "</style>\n",
       "<table border=\"1\" class=\"dataframe\">\n",
       "  <thead>\n",
       "    <tr style=\"text-align: right;\">\n",
       "      <th></th>\n",
       "      <th>len</th>\n",
       "      <th>supp</th>\n",
       "      <th>dose</th>\n",
       "    </tr>\n",
       "  </thead>\n",
       "  <tbody>\n",
       "    <tr>\n",
       "      <th>1</th>\n",
       "      <td>4.2</td>\n",
       "      <td>VC</td>\n",
       "      <td>0.5</td>\n",
       "    </tr>\n",
       "    <tr>\n",
       "      <th>2</th>\n",
       "      <td>11.5</td>\n",
       "      <td>VC</td>\n",
       "      <td>0.5</td>\n",
       "    </tr>\n",
       "    <tr>\n",
       "      <th>3</th>\n",
       "      <td>7.3</td>\n",
       "      <td>VC</td>\n",
       "      <td>0.5</td>\n",
       "    </tr>\n",
       "    <tr>\n",
       "      <th>4</th>\n",
       "      <td>5.8</td>\n",
       "      <td>VC</td>\n",
       "      <td>0.5</td>\n",
       "    </tr>\n",
       "    <tr>\n",
       "      <th>5</th>\n",
       "      <td>6.4</td>\n",
       "      <td>VC</td>\n",
       "      <td>0.5</td>\n",
       "    </tr>\n",
       "  </tbody>\n",
       "</table>\n",
       "</div>"
      ],
      "text/plain": [
       "    len supp  dose\n",
       "1   4.2   VC   0.5\n",
       "2  11.5   VC   0.5\n",
       "3   7.3   VC   0.5\n",
       "4   5.8   VC   0.5\n",
       "5   6.4   VC   0.5"
      ]
     },
     "execution_count": 18,
     "metadata": {},
     "output_type": "execute_result"
    }
   ],
   "source": [
    "data.head()"
   ]
  },
  {
   "cell_type": "code",
   "execution_count": 19,
   "metadata": {},
   "outputs": [
    {
     "data": {
      "text/plain": [
       "array([0.5, 1. , 2. ])"
      ]
     },
     "execution_count": 19,
     "metadata": {},
     "output_type": "execute_result"
    }
   ],
   "source": [
    "data.dose.unique()"
   ]
  },
  {
   "cell_type": "markdown",
   "metadata": {},
   "source": [
    "### Context\n",
    "\n",
    "For tooth growth is it better to give a high dosage or a low dosage?"
   ]
  },
  {
   "cell_type": "code",
   "execution_count": 24,
   "metadata": {},
   "outputs": [
    {
     "data": {
      "image/png": "[encoded data removed]",
      "text/plain": [
       "<Figure size 432x288 with 1 Axes>"
      ]
     },
     "metadata": {
      "needs_background": "light"
     },
     "output_type": "display_data"
    }
   ],
   "source": [
    "# Plot\n",
    "plt.scatter(data.dose, data.len, alpha=0.5)\n",
    "plt.title('Scatter plot of doses')\n",
    "plt.xlabel('Dose')\n",
    "plt.ylabel('Toothlength')\n",
    "plt.show()\n"
   ]
  },
  {
   "cell_type": "code",
   "execution_count": 38,
   "metadata": {
    "scrolled": true
   },
   "outputs": [
    {
     "data": {
      "image/png": "[encoded data removed]",
      "text/plain": [
       "<Figure size 432x288 with 1 Axes>"
      ]
     },
     "metadata": {
      "needs_background": "light"
     },
     "output_type": "display_data"
    }
   ],
   "source": [
    "fig = interaction_plot(data.dose.values, data.supp, data.len,\n",
    "             colors=['red','blue'], markers=['D','^'], ms=10, xlabel='Dose')\n"
   ]
  },
  {
   "cell_type": "markdown",
   "metadata": {},
   "source": [
    "### Resources\n",
    "\n",
    "- https://blog.minitab.com/blog/adventures-in-statistics-2/understanding-analysis-of-variance-anova-and-the-f-testz\n",
    "- https://www.marsja.se/three-ways-to-carry-out-2-way-anova-with-python/\n",
    "- https://www.analyticsvidhya.com/blog/2018/01/anova-analysis-of-variance/\n",
    "- https://newonlinecourses.science.psu.edu/stat500/node/216/\n",
    "- https://blog.minitab.com/blog/statistics-in-the-field/a-fun-anova3a-does-milk-affect-the-fluffiness-of-pancakes"
   ]
  },
  {
   "cell_type": "code",
   "execution_count": null,
   "metadata": {},
   "outputs": [],
   "source": []
  }
 ],
 "metadata": {
  "kernelspec": {
   "display_name": "Python 3",
   "language": "python",
   "name": "python3"
  },
  "language_info": {
   "codemirror_mode": {
    "name": "ipython",
    "version": 3
   },
   "file_extension": ".py",
   "mimetype": "text/x-python",
   "name": "python",
   "nbconvert_exporter": "python",
   "pygments_lexer": "ipython3",
   "version": "3.7.3"
  }
 },
 "nbformat": 4,
 "nbformat_minor": 2
}
