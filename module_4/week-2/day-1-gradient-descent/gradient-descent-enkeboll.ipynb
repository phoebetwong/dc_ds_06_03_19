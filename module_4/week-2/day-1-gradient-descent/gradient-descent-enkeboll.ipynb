{
 "cells": [
  {
   "cell_type": "markdown",
   "metadata": {
    "slideshow": {
     "slide_type": "slide"
    }
   },
   "source": [
    "### Linear Algebra, Calculus, and Gradient Descent\n",
    "\n",
    "#### Objectives\n",
    "* Use operations with vectors and matrices to solve systems of linear equations\n",
    "* Identify and describe of scalars, vectors,  matrices, using appropriate mathematical jargon\n",
    "* Set up and solve systems of linear equations with real life examples\n",
    "* Describe gradient descent in relation to slope, derivatives, and step size\n"
   ]
  },
  {
   "cell_type": "markdown",
   "metadata": {
    "slideshow": {
     "slide_type": "slide"
    }
   },
   "source": [
    "## Why Linear Algebra?\n",
    "\n",
    "Linear Algebra is the basis of many machine learning models.\n",
    "\n",
    "Data is usually already set up into a matrix by default!\n",
    "\n",
    "<img src= \"./resources/dataset.jpeg\">"
   ]
  },
  {
   "cell_type": "markdown",
   "metadata": {
    "slideshow": {
     "slide_type": "slide"
    }
   },
   "source": [
    "It can be used to model complicated things like language\n",
    "\n",
    "<img src = \"./resources/Word-Vectors.png\">"
   ]
  },
  {
   "cell_type": "markdown",
   "metadata": {
    "slideshow": {
     "slide_type": "slide"
    }
   },
   "source": [
    "Important for image compression and recognition\n",
    "\n",
    "<img src = \"./resources/images.gif\">"
   ]
  },
  {
   "cell_type": "markdown",
   "metadata": {
    "slideshow": {
     "slide_type": "slide"
    }
   },
   "source": [
    "Recommendation engines are able to make much more sophisticated recommendations by using linear algebra in conjunction with user and content data.\n",
    "\n",
    "<img src = \"./resources/netflix.png\">"
   ]
  },
  {
   "cell_type": "markdown",
   "metadata": {},
   "source": [
    "### Group 1: using code to explain vectors and scalars"
   ]
  },
  {
   "cell_type": "code",
   "execution_count": 1,
   "metadata": {},
   "outputs": [],
   "source": [
    "import numpy as np"
   ]
  },
  {
   "cell_type": "markdown",
   "metadata": {},
   "source": [
    "<img src=\"https://github.com/learn-co-students/nyc-mhtn-ds-031119-lectures/raw/404d31eb8d11bc044187c99b487f4f46082e8f3c/Mod_3/LinAlgebra/resources/linal_types.png\" width=450>"
   ]
  },
  {
   "cell_type": "markdown",
   "metadata": {},
   "source": [
    "## Vectors\n",
    "\n",
    "An array with magnitude and direction. The coordinates of a vector represent where the tip of the vector would be if you travelled from the origin."
   ]
  },
  {
   "cell_type": "markdown",
   "metadata": {},
   "source": [
    "\n",
    "Operations with vectores\n",
    "Assume\n",
    "\n",
    "$ \\vec{v} = \\begin{bmatrix}v_{1} \\\\v_{2}\\end{bmatrix} $\n",
    "\n",
    "\n",
    "$ \\vec{w} = \\begin{bmatrix}w_{1} \\\\w_{2}\\end{bmatrix} $\n",
    "\n",
    "$ \\vec{v} + \\vec{w} = \\begin{bmatrix}v_{1} + w_{1} \\\\v_{2} + w_{2}\\end{bmatrix} $\n",
    "\n",
    "What is happening graphically? Let's look at an example:\n"
   ]
  },
  {
   "cell_type": "code",
   "execution_count": 2,
   "metadata": {},
   "outputs": [
    {
     "data": {
      "text/plain": [
       "array([5, 6])"
      ]
     },
     "execution_count": 2,
     "metadata": {},
     "output_type": "execute_result"
    }
   ],
   "source": [
    "import numpy as np\n",
    "v = np.array([2, 4])\n",
    "w = np.array([3, 2])\n",
    "v + w"
   ]
  },
  {
   "cell_type": "markdown",
   "metadata": {},
   "source": [
    "#### Scalars\n",
    "\n",
    "Have magnitude only. Can be multiplied by a vector or matrix to create a change in **scale** and/or direction.\n",
    "\n",
    "What scalars would you need to change the direction of a vector?"
   ]
  },
  {
   "cell_type": "code",
   "execution_count": 3,
   "metadata": {
    "scrolled": true
   },
   "outputs": [
    {
     "data": {
      "text/plain": [
       "array([ 8, 16])"
      ]
     },
     "execution_count": 3,
     "metadata": {},
     "output_type": "execute_result"
    }
   ],
   "source": [
    "v * 4"
   ]
  },
  {
   "cell_type": "markdown",
   "metadata": {},
   "source": [
    "### Group 2: Desmos to explore vectors and scalars\n",
    "\n",
    "[link to fun desmos interaction](https://www.desmos.com/calculator/yovo2ro9me)\n",
    "\n",
    "To capture the relationship between (*a, b*), to capture the _direction_ rather than the length, what mathematical concept would you use?"
   ]
  },
  {
   "cell_type": "markdown",
   "metadata": {},
   "source": [
    "### Group 3: Youtube vid\n",
    "\n",
    "[Link to good video on scalars and vectors](https://www.youtube.com/watch?v=fNk_zzaMoSs&list=PLZHQObOWTQDPD3MizzM2xVFitgF8hE_ab)"
   ]
  },
  {
   "cell_type": "markdown",
   "metadata": {},
   "source": [
    "## Slide break!"
   ]
  },
  {
   "cell_type": "markdown",
   "metadata": {},
   "source": [
    "[Gradient slide](https://www.youtube.com/watch?v=vWFjqgb-ylQ)"
   ]
  },
  {
   "cell_type": "markdown",
   "metadata": {},
   "source": [
    "**Good video on details of gradient decent**"
   ]
  },
  {
   "cell_type": "markdown",
   "metadata": {},
   "source": [
    "https://www.youtube.com/watch?v=sDv4f4s2SB8"
   ]
  },
  {
   "cell_type": "markdown",
   "metadata": {},
   "source": [
    "### Gradient Descent\n",
    "\n",
    "\n",
    "[slide deck!](https://docs.google.com/presentation/d/1i7FTqyjxWESFVYe6T5BYDzmqq0x7rI2c0va1Tn6WxbM/edit?usp=sharing)"
   ]
  },
  {
   "cell_type": "code",
   "execution_count": 4,
   "metadata": {},
   "outputs": [],
   "source": [
    "import pandas as pd\n",
    "import numpy as np\n",
    "from matplotlib import pyplot as plt\n",
    "import random\n",
    "import seaborn as sns"
   ]
  },
  {
   "cell_type": "code",
   "execution_count": 6,
   "metadata": {},
   "outputs": [
    {
     "data": {
      "text/plain": [
       "array([0., 0., 0., 0., 0., 0., 0., 0., 0., 0.])"
      ]
     },
     "execution_count": 6,
     "metadata": {},
     "output_type": "execute_result"
    }
   ],
   "source": [
    "numPoints=10\n",
    "np.zeros(shape=numPoints)"
   ]
  },
  {
   "cell_type": "code",
   "execution_count": 7,
   "metadata": {},
   "outputs": [],
   "source": [
    "def genData(numPoints, bias, variance):\n",
    "    x = np.zeros(shape=(numPoints, 2))\n",
    "    y = np.zeros(shape=numPoints)\n",
    "    # basically a straight line\n",
    "    for i in range(0, numPoints):\n",
    "        # bias feature\n",
    "        x[i][0] = 1\n",
    "        x[i][1] = i\n",
    "        # our target variable\n",
    "        y[i] = (i + bias) + random.uniform(0, 1) * variance\n",
    "    return x, y"
   ]
  },
  {
   "cell_type": "code",
   "execution_count": 29,
   "metadata": {},
   "outputs": [],
   "source": [
    "# gen 100 points with a bias of 25 and 10 variance as a bit of noise\n",
    "x, y = genData(100, 25, 25)\n",
    "m, n = np.shape(x)"
   ]
  },
  {
   "cell_type": "code",
   "execution_count": 30,
   "metadata": {},
   "outputs": [
    {
     "data": {
      "text/plain": [
       "<matplotlib.axes._subplots.AxesSubplot at 0x12c089630>"
      ]
     },
     "execution_count": 30,
     "metadata": {},
     "output_type": "execute_result"
    },
    {
     "data": {
      "image/png": "[encoded data removed]",
      "text/plain": [
       "<Figure size 432x288 with 1 Axes>"
      ]
     },
     "metadata": {
      "needs_background": "light"
     },
     "output_type": "display_data"
    }
   ],
   "source": [
    "sns.scatterplot(x=x[:, 1], y=y)"
   ]
  },
  {
   "cell_type": "code",
   "execution_count": 32,
   "metadata": {},
   "outputs": [
    {
     "data": {
      "text/plain": [
       "array([  1.90595185,   3.44021645,   4.97448105,   6.50874565,\n",
       "         8.04301025,   9.57727485,  11.11153945,  12.64580405,\n",
       "        14.18006865,  15.71433325,  17.24859785,  18.78286245,\n",
       "        20.31712705,  21.85139165,  23.38565625,  24.91992085,\n",
       "        26.45418545,  27.98845005,  29.52271465,  31.05697925,\n",
       "        32.59124385,  34.12550845,  35.65977305,  37.19403765,\n",
       "        38.72830225,  40.26256685,  41.79683145,  43.33109605,\n",
       "        44.86536065,  46.39962525,  47.93388985,  49.46815445,\n",
       "        51.00241905,  52.53668365,  54.07094825,  55.60521285,\n",
       "        57.13947745,  58.67374205,  60.20800665,  61.74227125,\n",
       "        63.27653585,  64.81080045,  66.34506505,  67.87932965,\n",
       "        69.41359425,  70.94785885,  72.48212345,  74.01638805,\n",
       "        75.55065265,  77.08491725,  78.61918185,  80.15344645,\n",
       "        81.68771105,  83.22197565,  84.75624025,  86.29050485,\n",
       "        87.82476945,  89.35903405,  90.89329865,  92.42756325,\n",
       "        93.96182785,  95.49609245,  97.03035705,  98.56462165,\n",
       "       100.09888625, 101.63315085, 103.16741545, 104.70168005,\n",
       "       106.23594465, 107.77020925, 109.30447385, 110.83873845,\n",
       "       112.37300305, 113.90726765, 115.44153225, 116.97579685,\n",
       "       118.51006145, 120.04432605, 121.57859065, 123.11285525,\n",
       "       124.64711985, 126.18138445, 127.71564905, 129.24991365,\n",
       "       130.78417825, 132.31844285, 133.85270745, 135.38697205,\n",
       "       136.92123665, 138.45550125, 139.98976585, 141.52403045,\n",
       "       143.05829505, 144.59255965, 146.12682425, 147.66108885,\n",
       "       149.19535345, 150.72961805, 152.26388265, 153.79814725])"
      ]
     },
     "execution_count": 32,
     "metadata": {},
     "output_type": "execute_result"
    }
   ],
   "source": [
    "x\n",
    "theta = np.array([1.90595185,1.5342646])\n",
    "np.dot(x, theta)"
   ]
  },
  {
   "cell_type": "code",
   "execution_count": 45,
   "metadata": {},
   "outputs": [],
   "source": [
    "def gradientDescent(x, y, theta, alpha, m, numIterations):\n",
    "    xTrans = x.transpose()\n",
    "    costs = []\n",
    "    for i in range(0, numIterations):\n",
    "        hypothesis = np.dot(x, theta)\n",
    "        loss = hypothesis - y\n",
    "        # avg cost per example (the 2 in 2*m doesn't really matter here.\n",
    "        # But to be consistent with the gradient, I include it)\n",
    "        cost = np.sum(loss ** 2) / (2 * m)\n",
    "        if i % (numIterations // 40) == 0:\n",
    "            print(\"Iteration %d | Cost: %f\" % (i, cost))\n",
    "            print(theta)\n",
    "        costs.append(cost)\n",
    "        # avg gradient per example\n",
    "        gradient = np.dot(xTrans, loss) / m\n",
    "        # update\n",
    "        theta = theta - alpha * gradient\n",
    "    sns.scatterplot(y=costs, x=[i for i in range(len(costs))])"
   ]
  },
  {
   "cell_type": "code",
   "execution_count": 46,
   "metadata": {},
   "outputs": [
    {
     "name": "stdout",
     "output_type": "stream",
     "text": [
      "Iteration 0 | Cost: 191.375826\n",
      "[1.90595185 1.5342646 ]\n",
      "Iteration 2500 | Cost: 171.770432\n",
      "[4.11690676 1.50603185]\n",
      "Iteration 5000 | Cost: 154.538461\n",
      "[6.19190673 1.47474803]\n",
      "Iteration 7500 | Cost: 139.359517\n",
      "[8.13937953 1.44538687]\n",
      "Iteration 10000 | Cost: 125.989001\n",
      "[9.96716286 1.41783022]\n",
      "Iteration 12500 | Cost: 114.211455\n",
      "[11.68261269  1.39196717]\n",
      "Iteration 15000 | Cost: 103.837093\n",
      "[13.29263291  1.36769363]\n",
      "Iteration 17500 | Cost: 94.698738\n",
      "[14.80370311  1.34491192]\n",
      "Iteration 20000 | Cost: 86.649131\n",
      "[16.22190463  1.32353035]\n",
      "Iteration 22500 | Cost: 79.558559\n",
      "[17.55294509  1.30346286]\n",
      "Iteration 25000 | Cost: 73.312762\n",
      "[18.80218131  1.2846287 ]\n",
      "Iteration 27500 | Cost: 67.811092\n",
      "[19.97464088  1.26695206]\n",
      "Iteration 30000 | Cost: 62.964894\n",
      "[21.07504241  1.25036181]\n",
      "Iteration 32500 | Cost: 58.696075\n",
      "[22.10781451  1.23479118]\n",
      "Iteration 35000 | Cost: 54.935846\n",
      "[23.0771136  1.2201775]\n",
      "Iteration 37500 | Cost: 51.623612\n",
      "[23.98684066  1.20646196]\n",
      "Iteration 40000 | Cost: 48.705999\n",
      "[24.84065692  1.19358937]\n",
      "Iteration 42500 | Cost: 46.135993\n",
      "[25.6419986   1.18150791]\n",
      "Iteration 45000 | Cost: 43.872178\n",
      "[26.39409072  1.17016896]\n",
      "Iteration 47500 | Cost: 41.878076\n",
      "[27.09996011  1.15952689]\n",
      "Iteration 50000 | Cost: 40.121552\n",
      "[27.76244757  1.14953887]\n",
      "Iteration 52500 | Cost: 38.574301\n",
      "[28.38421929  1.1401647 ]\n",
      "Iteration 55000 | Cost: 37.211391\n",
      "[28.96777763  1.13136666]\n",
      "Iteration 57500 | Cost: 36.010858\n",
      "[29.51547113  1.12310933]\n",
      "Iteration 60000 | Cost: 34.953358\n",
      "[30.02950401  1.1153595 ]\n",
      "Iteration 62500 | Cost: 34.021849\n",
      "[30.511945    1.10808595]\n",
      "Iteration 65000 | Cost: 33.201320\n",
      "[30.96473572  1.10125944]\n",
      "Iteration 67500 | Cost: 32.478550\n",
      "[31.38969843  1.09485247]\n",
      "Iteration 70000 | Cost: 31.841890\n",
      "[31.78854341  1.08883927]\n",
      "Iteration 72500 | Cost: 31.281083\n",
      "[32.16287583  1.08319563]\n",
      "Iteration 75000 | Cost: 30.787091\n",
      "[32.51420221  1.07789884]\n",
      "Iteration 77500 | Cost: 30.351953\n",
      "[32.84393646  1.07292759]\n",
      "Iteration 80000 | Cost: 29.968658\n",
      "[33.15340561  1.06826186]\n",
      "Iteration 82500 | Cost: 29.631028\n",
      "[33.44385514  1.06388289]\n",
      "Iteration 85000 | Cost: 29.333624\n",
      "[33.71645397  1.05977304]\n",
      "Iteration 87500 | Cost: 29.071653\n",
      "[33.97229919  1.05591578]\n",
      "Iteration 90000 | Cost: 28.840894\n",
      "[34.21242045  1.05229558]\n",
      "Iteration 92500 | Cost: 28.637627\n",
      "[34.43778412  1.04889788]\n",
      "Iteration 95000 | Cost: 28.458577\n",
      "[34.6492972   1.04570899]\n",
      "Iteration 97500 | Cost: 28.300860\n",
      "[34.84781092  1.04271609]\n"
     ]
    },
    {
     "data": {
      "image/png": "[encoded data removed]",
      "text/plain": [
       "<Figure size 432x288 with 1 Axes>"
      ]
     },
     "metadata": {
      "needs_background": "light"
     },
     "output_type": "display_data"
    }
   ],
   "source": [
    "numIterations = 100000\n",
    "alpha = 0.0001\n",
    "theta = np.array([1.90595185,1.5342646])\n",
    "gradientDescent(x, y, theta, alpha, m, numIterations)"
   ]
  },
  {
   "cell_type": "code",
   "execution_count": null,
   "metadata": {},
   "outputs": [],
   "source": []
  }
 ],
 "metadata": {
  "kernelspec": {
   "display_name": "Python 3",
   "language": "python",
   "name": "python3"
  },
  "language_info": {
   "codemirror_mode": {
    "name": "ipython",
    "version": 3
   },
   "file_extension": ".py",
   "mimetype": "text/x-python",
   "name": "python",
   "nbconvert_exporter": "python",
   "pygments_lexer": "ipython3",
   "version": "3.7.3"
  }
 },
 "nbformat": 4,
 "nbformat_minor": 2
}
