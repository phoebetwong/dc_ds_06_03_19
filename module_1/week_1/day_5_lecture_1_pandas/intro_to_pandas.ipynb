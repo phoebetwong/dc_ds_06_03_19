{
 "cells": [
  {
   "cell_type": "markdown",
   "metadata": {},
   "source": [
    "# Module 1 - Introduction to Pandas\n",
    "## Pandas Part 1"
   ]
  },
  {
   "cell_type": "markdown",
   "metadata": {},
   "source": [
    "### Introduction\n",
    "\n",
    "![austin](http://www.austintexas.gov/sites/default/files/aac_logo.jpg)\n",
    "You have decided that you want to start your own animal shelter, but you want to get an idea of what that will entail and get more information about planning. You have found out that Austin has one of the largest no-kill animal shelters in the country, and they keep meticulous track of animals that have been taken in and released. However, it is a large file, the online visualization tools provided are terrible, the data is sorted as strings, and the file holds an overwhelming amount  of information. Is there an easy way to look at this data? Can we do this with base Python? Is there a better way?\n",
    "\n",
    "\n",
    "#### _Our goals today are to be able to_: <br/>\n",
    "\n",
    "- Import/read data using Pandas\n",
    "- Identify Pandas objects and manipulate Pandas objects by index and columns\n",
    "- Filter data using Pandas\n",
    "\n",
    "#### _Big questions for this lesson_: <br/>\n",
    "- Why use Pandas? \n",
    " \n",
    " (a) Provides methods able analyze data stored in the format Data Scientist most often encounter (.csv, .tsv, or .xlsx). \n",
    " \n",
    " (b) Makes it very convenient to load, process, and analyze in the aforementioned formats. \n",
    " \n",
    " (c) Along with python visualization packages allows for the visual analysis of tabular data.\n",
    " \n",
    "\n",
    "- When do we want to use NumPy versus Pandas?\n",
    "- What are the advantages of using Pandas?    \n",
    "https://stackabuse.com/beginners-tutorial-on-the-pandas-python-library/\n",
    "- What are the disadvantages of using Pandas?                      \n",
    "https://wesmckinney.com/blog/apache-arrow-pandas-internals/\n",
    "\n",
    "- The data structures in Pandas are implemented using series and dataframe classes.  \n",
    "- A series is a one-dimensional indexed array of some fixed data type.  \n",
    "- While a dataframe is a two-dimensional data structure like a table where each column contains data of the same type.  \n",
    "- DataFrames are great for representing real data: rows correspond to instances (examples, observations, etc.), and columns correspond to features of these instances."
   ]
  },
  {
   "cell_type": "markdown",
   "metadata": {},
   "source": [
    "### Activation:\n",
    "\n",
    "<img src=\"https://cdn-images-1.medium.com/max/1600/1*9IU5fBzJisilYjRAi-f55Q.png\" width=700, height=700>  \n",
    "\n",
    "\n",
    "\n",
    "\n",
    "- The data manipulation capabilities of pandas are built on top of the numpy library.\n",
    "- Pandas dataframe object represents a spreadsheet with cell values, column names, and row index labels."
   ]
  },
  {
   "cell_type": "markdown",
   "metadata": {},
   "source": [
    "### 1. Importing and reading data with Pandas!\n",
    "\n",
    "#### Let's use pandas to read some csv files so we can interact with them.\n",
    "\n"
   ]
  },
  {
   "cell_type": "code",
   "execution_count": 1,
   "metadata": {},
   "outputs": [
    {
     "name": "stdout",
     "output_type": "stream",
     "text": [
      "/Users/phoebe/FlatIron/dc_ds_06_03_19/module_1/week_1/day_5_lecture_1_pandas\n",
      "total 216\n",
      "drwxr-xr-x  8 phoebe  staff    256 Jun  7 13:04 \u001b[1m\u001b[36m.\u001b[m\u001b[m\n",
      "drwxr-xr-x  7 phoebe  staff    224 Jun  7 13:04 \u001b[1m\u001b[36m..\u001b[m\u001b[m\n",
      "drwxr-xr-x  2 phoebe  staff     64 Jun  7 13:04 \u001b[1m\u001b[36m.ipynb_checkpoints\u001b[m\u001b[m\n",
      "-rw-r--r--  1 phoebe  staff     62 Jun  7 13:04 example1.csv\n",
      "-rw-r--r--  1 phoebe  staff  63117 Jun  7 13:04 excelpic.jpg\n",
      "-rw-r--r--  1 phoebe  staff  25872 Jun  7 13:04 intro_to_pandas.ipynb\n",
      "-rw-r--r--  1 phoebe  staff   6782 Jun  7 13:04 lesson_plan.md\n",
      "-rw-r--r--  1 phoebe  staff    238 Jun  7 13:04 made_up_jobs.csv\n"
     ]
    }
   ],
   "source": [
    "# First, let's check which directory we are in so the files we expect to see are there.\n",
    "!pwd\n",
    "!ls -al"
   ]
  },
  {
   "cell_type": "code",
   "execution_count": 3,
   "metadata": {},
   "outputs": [],
   "source": [
    "import pandas as pd\n",
    "pd.set_option(\"display.precision\", 2)\n",
    "example_csv=pd.read_csv('example1.csv')"
   ]
  },
  {
   "cell_type": "markdown",
   "metadata": {},
   "source": [
    "There is also `read_excel` and many other pandas `read` functions.  \n",
    "http://pandas.pydata.org/pandas-docs/stable/user_guide/io.html"
   ]
  },
  {
   "cell_type": "code",
   "execution_count": 4,
   "metadata": {},
   "outputs": [
    {
     "data": {
      "text/html": [
       "<div>\n",
       "<style scoped>\n",
       "    .dataframe tbody tr th:only-of-type {\n",
       "        vertical-align: middle;\n",
       "    }\n",
       "\n",
       "    .dataframe tbody tr th {\n",
       "        vertical-align: top;\n",
       "    }\n",
       "\n",
       "    .dataframe thead th {\n",
       "        text-align: right;\n",
       "    }\n",
       "</style>\n",
       "<table border=\"1\" class=\"dataframe\">\n",
       "  <thead>\n",
       "    <tr style=\"text-align: right;\">\n",
       "      <th></th>\n",
       "      <th>Title1</th>\n",
       "      <th>Title2</th>\n",
       "      <th>Title3</th>\n",
       "    </tr>\n",
       "  </thead>\n",
       "  <tbody>\n",
       "    <tr>\n",
       "      <th>0</th>\n",
       "      <td>one</td>\n",
       "      <td>two</td>\n",
       "      <td>three</td>\n",
       "    </tr>\n",
       "    <tr>\n",
       "      <th>1</th>\n",
       "      <td>example1</td>\n",
       "      <td>example2</td>\n",
       "      <td>example3</td>\n",
       "    </tr>\n",
       "  </tbody>\n",
       "</table>\n",
       "</div>"
      ],
      "text/plain": [
       "     Title1    Title2    Title3\n",
       "0       one       two     three\n",
       "1  example1  example2  example3"
      ]
     },
     "execution_count": 4,
     "metadata": {},
     "output_type": "execute_result"
    }
   ],
   "source": [
    "example_csv.head()"
   ]
  },
  {
   "cell_type": "markdown",
   "metadata": {},
   "source": [
    "Try loading in the example file in the directory called 'made_up_jobs.csv' using pandas."
   ]
  },
  {
   "cell_type": "code",
   "execution_count": 5,
   "metadata": {},
   "outputs": [
    {
     "data": {
      "text/html": [
       "<div>\n",
       "<style scoped>\n",
       "    .dataframe tbody tr th:only-of-type {\n",
       "        vertical-align: middle;\n",
       "    }\n",
       "\n",
       "    .dataframe tbody tr th {\n",
       "        vertical-align: top;\n",
       "    }\n",
       "\n",
       "    .dataframe thead th {\n",
       "        text-align: right;\n",
       "    }\n",
       "</style>\n",
       "<table border=\"1\" class=\"dataframe\">\n",
       "  <thead>\n",
       "    <tr style=\"text-align: right;\">\n",
       "      <th></th>\n",
       "      <th>ID</th>\n",
       "      <th>Name</th>\n",
       "      <th>Job</th>\n",
       "      <th>Years Employed</th>\n",
       "    </tr>\n",
       "  </thead>\n",
       "  <tbody>\n",
       "    <tr>\n",
       "      <th>0</th>\n",
       "      <td>0</td>\n",
       "      <td>Bob Bobberty</td>\n",
       "      <td>Underwater Basket Weaver</td>\n",
       "      <td>13</td>\n",
       "    </tr>\n",
       "    <tr>\n",
       "      <th>1</th>\n",
       "      <td>1</td>\n",
       "      <td>Susan Smells</td>\n",
       "      <td>Salad Spinner</td>\n",
       "      <td>5</td>\n",
       "    </tr>\n",
       "    <tr>\n",
       "      <th>2</th>\n",
       "      <td>2</td>\n",
       "      <td>Alex Lastname</td>\n",
       "      <td>Productivity Manager</td>\n",
       "      <td>2</td>\n",
       "    </tr>\n",
       "    <tr>\n",
       "      <th>3</th>\n",
       "      <td>3</td>\n",
       "      <td>Rudy P.</td>\n",
       "      <td>Being cool</td>\n",
       "      <td>55</td>\n",
       "    </tr>\n",
       "    <tr>\n",
       "      <th>4</th>\n",
       "      <td>4</td>\n",
       "      <td>Rudy G.</td>\n",
       "      <td>Being compared to Rudy P</td>\n",
       "      <td>50</td>\n",
       "    </tr>\n",
       "  </tbody>\n",
       "</table>\n",
       "</div>"
      ],
      "text/plain": [
       "   ID           Name                       Job  Years Employed\n",
       "0   0   Bob Bobberty  Underwater Basket Weaver              13\n",
       "1   1   Susan Smells             Salad Spinner               5\n",
       "2   2  Alex Lastname      Productivity Manager               2\n",
       "3   3        Rudy P.                Being cool              55\n",
       "4   4        Rudy G.  Being compared to Rudy P              50"
      ]
     },
     "execution_count": 5,
     "metadata": {},
     "output_type": "execute_result"
    }
   ],
   "source": [
    "#read in your csv here!\n",
    "made_up=pd.read_csv('made_up_jobs.csv')\n",
    "made_up.head()\n",
    "\n",
    "#remember that it's nice to be able to look at your data, so let's do that here, too."
   ]
  },
  {
   "cell_type": "markdown",
   "metadata": {},
   "source": [
    "You can also load in data by using the url of an associated dataset."
   ]
  },
  {
   "cell_type": "code",
   "execution_count": 8,
   "metadata": {},
   "outputs": [
    {
     "data": {
      "text/html": [
       "<div>\n",
       "<style scoped>\n",
       "    .dataframe tbody tr th:only-of-type {\n",
       "        vertical-align: middle;\n",
       "    }\n",
       "\n",
       "    .dataframe tbody tr th {\n",
       "        vertical-align: top;\n",
       "    }\n",
       "\n",
       "    .dataframe thead th {\n",
       "        text-align: right;\n",
       "    }\n",
       "</style>\n",
       "<table border=\"1\" class=\"dataframe\">\n",
       "  <thead>\n",
       "    <tr style=\"text-align: right;\">\n",
       "      <th></th>\n",
       "      <th>Animal ID</th>\n",
       "      <th>Name</th>\n",
       "      <th>DateTime</th>\n",
       "      <th>MonthYear</th>\n",
       "      <th>Date of Birth</th>\n",
       "      <th>Outcome Type</th>\n",
       "      <th>Outcome Subtype</th>\n",
       "      <th>Animal Type</th>\n",
       "      <th>Sex upon Outcome</th>\n",
       "      <th>Age upon Outcome</th>\n",
       "      <th>Breed</th>\n",
       "      <th>Color</th>\n",
       "    </tr>\n",
       "  </thead>\n",
       "  <tbody>\n",
       "    <tr>\n",
       "      <th>0</th>\n",
       "      <td>A796597</td>\n",
       "      <td>NaN</td>\n",
       "      <td>06/07/2019 10:56:00 AM</td>\n",
       "      <td>06/07/2019 10:56:00 AM</td>\n",
       "      <td>06/03/2014</td>\n",
       "      <td>Euthanasia</td>\n",
       "      <td>Suffering</td>\n",
       "      <td>Dog</td>\n",
       "      <td>Intact Male</td>\n",
       "      <td>5 years</td>\n",
       "      <td>German Shepherd Mix</td>\n",
       "      <td>Brown</td>\n",
       "    </tr>\n",
       "    <tr>\n",
       "      <th>1</th>\n",
       "      <td>A796906</td>\n",
       "      <td>NaN</td>\n",
       "      <td>06/07/2019 10:46:00 AM</td>\n",
       "      <td>06/07/2019 10:46:00 AM</td>\n",
       "      <td>06/07/2014</td>\n",
       "      <td>Euthanasia</td>\n",
       "      <td>Suffering</td>\n",
       "      <td>Cat</td>\n",
       "      <td>Unknown</td>\n",
       "      <td>NaN</td>\n",
       "      <td>Domestic Shorthair</td>\n",
       "      <td>Blue/White</td>\n",
       "    </tr>\n",
       "    <tr>\n",
       "      <th>2</th>\n",
       "      <td>A796905</td>\n",
       "      <td>NaN</td>\n",
       "      <td>06/07/2019 10:27:00 AM</td>\n",
       "      <td>06/07/2019 10:27:00 AM</td>\n",
       "      <td>06/07/2017</td>\n",
       "      <td>Euthanasia</td>\n",
       "      <td>Suffering</td>\n",
       "      <td>Other</td>\n",
       "      <td>Unknown</td>\n",
       "      <td>2 years</td>\n",
       "      <td>Raccoon</td>\n",
       "      <td>Black/Gray</td>\n",
       "    </tr>\n",
       "    <tr>\n",
       "      <th>3</th>\n",
       "      <td>A796904</td>\n",
       "      <td>NaN</td>\n",
       "      <td>06/07/2019 08:48:00 AM</td>\n",
       "      <td>06/07/2019 08:48:00 AM</td>\n",
       "      <td>05/07/2019</td>\n",
       "      <td>Euthanasia</td>\n",
       "      <td>At Vet</td>\n",
       "      <td>Cat</td>\n",
       "      <td>Unknown</td>\n",
       "      <td>4 weeks</td>\n",
       "      <td>Domestic Shorthair</td>\n",
       "      <td>Black</td>\n",
       "    </tr>\n",
       "    <tr>\n",
       "      <th>4</th>\n",
       "      <td>A795041</td>\n",
       "      <td>*Galadriel</td>\n",
       "      <td>06/07/2019 07:51:00 AM</td>\n",
       "      <td>06/07/2019 07:51:00 AM</td>\n",
       "      <td>04/24/2019</td>\n",
       "      <td>Disposal</td>\n",
       "      <td>NaN</td>\n",
       "      <td>Cat</td>\n",
       "      <td>Intact Female</td>\n",
       "      <td>1 month</td>\n",
       "      <td>Domestic Shorthair</td>\n",
       "      <td>Tortie</td>\n",
       "    </tr>\n",
       "  </tbody>\n",
       "</table>\n",
       "</div>"
      ],
      "text/plain": [
       "  Animal ID        Name                DateTime               MonthYear  \\\n",
       "0   A796597         NaN  06/07/2019 10:56:00 AM  06/07/2019 10:56:00 AM   \n",
       "1   A796906         NaN  06/07/2019 10:46:00 AM  06/07/2019 10:46:00 AM   \n",
       "2   A796905         NaN  06/07/2019 10:27:00 AM  06/07/2019 10:27:00 AM   \n",
       "3   A796904         NaN  06/07/2019 08:48:00 AM  06/07/2019 08:48:00 AM   \n",
       "4   A795041  *Galadriel  06/07/2019 07:51:00 AM  06/07/2019 07:51:00 AM   \n",
       "\n",
       "  Date of Birth Outcome Type Outcome Subtype Animal Type Sex upon Outcome  \\\n",
       "0    06/03/2014   Euthanasia       Suffering         Dog      Intact Male   \n",
       "1    06/07/2014   Euthanasia       Suffering         Cat          Unknown   \n",
       "2    06/07/2017   Euthanasia       Suffering       Other          Unknown   \n",
       "3    05/07/2019   Euthanasia          At Vet         Cat          Unknown   \n",
       "4    04/24/2019     Disposal             NaN         Cat    Intact Female   \n",
       "\n",
       "  Age upon Outcome                Breed       Color  \n",
       "0          5 years  German Shepherd Mix       Brown  \n",
       "1              NaN   Domestic Shorthair  Blue/White  \n",
       "2          2 years              Raccoon  Black/Gray  \n",
       "3          4 weeks   Domestic Shorthair       Black  \n",
       "4          1 month   Domestic Shorthair      Tortie  "
      ]
     },
     "execution_count": 8,
     "metadata": {},
     "output_type": "execute_result"
    }
   ],
   "source": [
    "shelter_data=pd.read_csv('https://data.austintexas.gov/api/views/9t4d-g238/rows.csv?accessType=DOWNLOAD') \n",
    "#this link is copied directly from the download option for CSV\n",
    "\n",
    "shelter_data.head()"
   ]
  },
  {
   "cell_type": "markdown",
   "metadata": {},
   "source": [
    "Now that we can read in data, let's get more comfortable with our Pandas data structures."
   ]
  },
  {
   "cell_type": "code",
   "execution_count": 10,
   "metadata": {},
   "outputs": [
    {
     "data": {
      "text/plain": [
       "101278"
      ]
     },
     "execution_count": 10,
     "metadata": {},
     "output_type": "execute_result"
    }
   ],
   "source": [
    "len(shelter_data)"
   ]
  },
  {
   "cell_type": "code",
   "execution_count": 9,
   "metadata": {},
   "outputs": [
    {
     "data": {
      "text/plain": [
       "pandas.core.frame.DataFrame"
      ]
     },
     "execution_count": 9,
     "metadata": {},
     "output_type": "execute_result"
    }
   ],
   "source": [
    "type(shelter_data)"
   ]
  },
  {
   "cell_type": "code",
   "execution_count": 11,
   "metadata": {},
   "outputs": [
    {
     "name": "stdout",
     "output_type": "stream",
     "text": [
      "(101278, 12)\n"
     ]
    }
   ],
   "source": [
    "# Now that data is read let's look at it's shape\n",
    "print(shelter_data.shape)"
   ]
  },
  {
   "cell_type": "code",
   "execution_count": 12,
   "metadata": {},
   "outputs": [
    {
     "name": "stdout",
     "output_type": "stream",
     "text": [
      "Index(['Animal ID', 'Name', 'DateTime', 'MonthYear', 'Date of Birth',\n",
      "       'Outcome Type', 'Outcome Subtype', 'Animal Type', 'Sex upon Outcome',\n",
      "       'Age upon Outcome', 'Breed', 'Color'],\n",
      "      dtype='object')\n"
     ]
    }
   ],
   "source": [
    "#What are the names of the columns\n",
    "print(shelter_data.columns)"
   ]
  },
  {
   "cell_type": "code",
   "execution_count": 13,
   "metadata": {},
   "outputs": [
    {
     "name": "stdout",
     "output_type": "stream",
     "text": [
      "<class 'pandas.core.frame.DataFrame'>\n",
      "RangeIndex: 101278 entries, 0 to 101277\n",
      "Data columns (total 12 columns):\n",
      "Animal ID           101278 non-null object\n",
      "Name                69737 non-null object\n",
      "DateTime            101278 non-null object\n",
      "MonthYear           101278 non-null object\n",
      "Date of Birth       101278 non-null object\n",
      "Outcome Type        101271 non-null object\n",
      "Outcome Subtype     46026 non-null object\n",
      "Animal Type         101278 non-null object\n",
      "Sex upon Outcome    101276 non-null object\n",
      "Age upon Outcome    101263 non-null object\n",
      "Breed               101278 non-null object\n",
      "Color               101278 non-null object\n",
      "dtypes: object(12)\n",
      "memory usage: 9.3+ MB\n",
      "None\n"
     ]
    }
   ],
   "source": [
    "#What are the different data types present in our data\n",
    "print(shelter_data.info())"
   ]
  },
  {
   "cell_type": "code",
   "execution_count": 14,
   "metadata": {},
   "outputs": [
    {
     "data": {
      "text/plain": [
       "dtype('O')"
      ]
     },
     "execution_count": 14,
     "metadata": {},
     "output_type": "execute_result"
    }
   ],
   "source": [
    "# We can find the type of a particular columns in a data frame in this way.\n",
    "ID_series=shelter_data['Animal ID'] \n",
    "shelter_data['Animal ID'].dtypes"
   ]
  },
  {
   "cell_type": "markdown",
   "metadata": {},
   "source": [
    "### 2. Utilizing and identifying Pandas objects\n",
    "\n",
    "- What is a DataFrame object and what is a Series object? \n",
    "- How are they different from Python lists?\n",
    "\n",
    "These are questions we will cover in this section. To start, let's start with this list of fruits."
   ]
  },
  {
   "cell_type": "code",
   "execution_count": 15,
   "metadata": {},
   "outputs": [
    {
     "name": "stdout",
     "output_type": "stream",
     "text": [
      "['Apple', 'Orange', 'Watermelon', 'Lemon', 'Mango']\n"
     ]
    }
   ],
   "source": [
    "#define your list here!\n",
    "\n",
    "fruits = ['Apple','Orange','Watermelon','Lemon','Mango']\n",
    "\n",
    "print(fruits)"
   ]
  },
  {
   "cell_type": "markdown",
   "metadata": {},
   "source": [
    "Using our list of fruits, we can create a pandas object called a 'series' which is much like an array or a vector."
   ]
  },
  {
   "cell_type": "code",
   "execution_count": 16,
   "metadata": {},
   "outputs": [
    {
     "name": "stdout",
     "output_type": "stream",
     "text": [
      "0         Apple\n",
      "1        Orange\n",
      "2    Watermelon\n",
      "3         Lemon\n",
      "4         Mango\n",
      "dtype: object\n"
     ]
    },
    {
     "data": {
      "text/plain": [
       "pandas.core.series.Series"
      ]
     },
     "execution_count": 16,
     "metadata": {},
     "output_type": "execute_result"
    }
   ],
   "source": [
    "fruits_series = pd.Series(fruits)\n",
    "\n",
    "print(fruits_series)\n",
    "type(fruits_series)"
   ]
  },
  {
   "cell_type": "markdown",
   "metadata": {},
   "source": [
    "One difference between python **list objects** and pandas **series objects** is the fact that you can define the index manually for a **series objects**."
   ]
  },
  {
   "cell_type": "code",
   "execution_count": 75,
   "metadata": {},
   "outputs": [
    {
     "name": "stdout",
     "output_type": "stream",
     "text": [
      "a         Apple\n",
      "b        Orange\n",
      "c    Watermelon\n",
      "d         Lemon\n",
      "e         Mango\n",
      "dtype: object\n"
     ]
    }
   ],
   "source": [
    "ind = ['a','b','c','d','e']\n",
    "\n",
    "fruits_series = pd.Series(fruits,index=ind)\n",
    "\n",
    "#index doesn't have to be unique\n",
    "\n",
    "print(fruits_series)"
   ]
  },
  {
   "cell_type": "markdown",
   "metadata": {},
   "source": [
    "With a partner, create your own custom series from a list of lists."
   ]
  },
  {
   "cell_type": "code",
   "execution_count": null,
   "metadata": {},
   "outputs": [],
   "source": [
    "list_of_lists=[['cat'],['dog'],['horse'],['cow'],['macaw']]\n",
    "\n",
    "#create custom indices for your series\n",
    "\n",
    "\n",
    "#create the series using your list objects\n",
    "#for loop\n",
    "lls = []\n",
    "for i in range(0,len(ind)):\n",
    "    ind1=ind[i]\n",
    "    lls1=list_of_lists[i]\n",
    "    lls[i]=[ind1,lls1]\n",
    "print(lls)"
   ]
  },
  {
   "cell_type": "code",
   "execution_count": 78,
   "metadata": {},
   "outputs": [
    {
     "name": "stdout",
     "output_type": "stream",
     "text": [
      "a      [cat]\n",
      "b      [dog]\n",
      "c    [horse]\n",
      "d      [cow]\n",
      "e    [macaw]\n",
      "dtype: object\n"
     ]
    },
    {
     "data": {
      "text/plain": [
       "pandas.core.series.Series"
      ]
     },
     "execution_count": 78,
     "metadata": {},
     "output_type": "execute_result"
    }
   ],
   "source": [
    "#You can use either a for loop or also pd.Series\n",
    "list_of_lists_series = pd.Series(list_of_lists,index=ind)\n",
    "\n",
    "#print your series\n",
    "print(list_of_lists_series )\n",
    "type(list_of_lists_series)"
   ]
  },
  {
   "cell_type": "code",
   "execution_count": 79,
   "metadata": {},
   "outputs": [
    {
     "data": {
      "text/plain": [
       "a      [cat]\n",
       "b      [dog]\n",
       "c    [horse]\n",
       "d      [cow]\n",
       "e    [macaw]\n",
       "dtype: object"
      ]
     },
     "execution_count": 79,
     "metadata": {},
     "output_type": "execute_result"
    }
   ],
   "source": [
    "list_of_lists_series"
   ]
  },
  {
   "cell_type": "code",
   "execution_count": 90,
   "metadata": {},
   "outputs": [
    {
     "ename": "IndexingError",
     "evalue": "Too many indexers",
     "output_type": "error",
     "traceback": [
      "\u001b[0;31m---------------------------------------------------------------------------\u001b[0m",
      "\u001b[0;31mIndexingError\u001b[0m                             Traceback (most recent call last)",
      "\u001b[0;32m<ipython-input-90-23a06109843d>\u001b[0m in \u001b[0;36m<module>\u001b[0;34m\u001b[0m\n\u001b[0;32m----> 1\u001b[0;31m \u001b[0mlist_of_lists_series\u001b[0m\u001b[0;34m.\u001b[0m\u001b[0mloc\u001b[0m\u001b[0;34m[\u001b[0m\u001b[0;34m[\u001b[0m\u001b[0;34m\"b\"\u001b[0m\u001b[0;34m]\u001b[0m\u001b[0;34m,\u001b[0m\u001b[0;34m[\u001b[0m\u001b[0;36m0\u001b[0m\u001b[0;34m]\u001b[0m\u001b[0;34m]\u001b[0m\u001b[0;34m\u001b[0m\u001b[0;34m\u001b[0m\u001b[0m\n\u001b[0m",
      "\u001b[0;32m~/anaconda3/lib/python3.7/site-packages/pandas/core/indexing.py\u001b[0m in \u001b[0;36m__getitem__\u001b[0;34m(self, key)\u001b[0m\n\u001b[1;32m   1492\u001b[0m             \u001b[0;32mexcept\u001b[0m \u001b[0;34m(\u001b[0m\u001b[0mKeyError\u001b[0m\u001b[0;34m,\u001b[0m \u001b[0mIndexError\u001b[0m\u001b[0;34m,\u001b[0m \u001b[0mAttributeError\u001b[0m\u001b[0;34m)\u001b[0m\u001b[0;34m:\u001b[0m\u001b[0;34m\u001b[0m\u001b[0;34m\u001b[0m\u001b[0m\n\u001b[1;32m   1493\u001b[0m                 \u001b[0;32mpass\u001b[0m\u001b[0;34m\u001b[0m\u001b[0;34m\u001b[0m\u001b[0m\n\u001b[0;32m-> 1494\u001b[0;31m             \u001b[0;32mreturn\u001b[0m \u001b[0mself\u001b[0m\u001b[0;34m.\u001b[0m\u001b[0m_getitem_tuple\u001b[0m\u001b[0;34m(\u001b[0m\u001b[0mkey\u001b[0m\u001b[0;34m)\u001b[0m\u001b[0;34m\u001b[0m\u001b[0;34m\u001b[0m\u001b[0m\n\u001b[0m\u001b[1;32m   1495\u001b[0m         \u001b[0;32melse\u001b[0m\u001b[0;34m:\u001b[0m\u001b[0;34m\u001b[0m\u001b[0;34m\u001b[0m\u001b[0m\n\u001b[1;32m   1496\u001b[0m             \u001b[0;31m# we by definition only have the 0th axis\u001b[0m\u001b[0;34m\u001b[0m\u001b[0;34m\u001b[0m\u001b[0;34m\u001b[0m\u001b[0m\n",
      "\u001b[0;32m~/anaconda3/lib/python3.7/site-packages/pandas/core/indexing.py\u001b[0m in \u001b[0;36m_getitem_tuple\u001b[0;34m(self, tup)\u001b[0m\n\u001b[1;32m    871\u001b[0m \u001b[0;34m\u001b[0m\u001b[0m\n\u001b[1;32m    872\u001b[0m         \u001b[0;31m# no multi-index, so validate all of the indexers\u001b[0m\u001b[0;34m\u001b[0m\u001b[0;34m\u001b[0m\u001b[0;34m\u001b[0m\u001b[0m\n\u001b[0;32m--> 873\u001b[0;31m         \u001b[0mself\u001b[0m\u001b[0;34m.\u001b[0m\u001b[0m_has_valid_tuple\u001b[0m\u001b[0;34m(\u001b[0m\u001b[0mtup\u001b[0m\u001b[0;34m)\u001b[0m\u001b[0;34m\u001b[0m\u001b[0;34m\u001b[0m\u001b[0m\n\u001b[0m\u001b[1;32m    874\u001b[0m \u001b[0;34m\u001b[0m\u001b[0m\n\u001b[1;32m    875\u001b[0m         \u001b[0;31m# ugly hack for GH #836\u001b[0m\u001b[0;34m\u001b[0m\u001b[0;34m\u001b[0m\u001b[0;34m\u001b[0m\u001b[0m\n",
      "\u001b[0;32m~/anaconda3/lib/python3.7/site-packages/pandas/core/indexing.py\u001b[0m in \u001b[0;36m_has_valid_tuple\u001b[0;34m(self, key)\u001b[0m\n\u001b[1;32m    219\u001b[0m         \u001b[0;32mfor\u001b[0m \u001b[0mi\u001b[0m\u001b[0;34m,\u001b[0m \u001b[0mk\u001b[0m \u001b[0;32min\u001b[0m \u001b[0menumerate\u001b[0m\u001b[0;34m(\u001b[0m\u001b[0mkey\u001b[0m\u001b[0;34m)\u001b[0m\u001b[0;34m:\u001b[0m\u001b[0;34m\u001b[0m\u001b[0;34m\u001b[0m\u001b[0m\n\u001b[1;32m    220\u001b[0m             \u001b[0;32mif\u001b[0m \u001b[0mi\u001b[0m \u001b[0;34m>=\u001b[0m \u001b[0mself\u001b[0m\u001b[0;34m.\u001b[0m\u001b[0mobj\u001b[0m\u001b[0;34m.\u001b[0m\u001b[0mndim\u001b[0m\u001b[0;34m:\u001b[0m\u001b[0;34m\u001b[0m\u001b[0;34m\u001b[0m\u001b[0m\n\u001b[0;32m--> 221\u001b[0;31m                 \u001b[0;32mraise\u001b[0m \u001b[0mIndexingError\u001b[0m\u001b[0;34m(\u001b[0m\u001b[0;34m'Too many indexers'\u001b[0m\u001b[0;34m)\u001b[0m\u001b[0;34m\u001b[0m\u001b[0;34m\u001b[0m\u001b[0m\n\u001b[0m\u001b[1;32m    222\u001b[0m             \u001b[0;32mtry\u001b[0m\u001b[0;34m:\u001b[0m\u001b[0;34m\u001b[0m\u001b[0;34m\u001b[0m\u001b[0m\n\u001b[1;32m    223\u001b[0m                 \u001b[0mself\u001b[0m\u001b[0;34m.\u001b[0m\u001b[0m_validate_key\u001b[0m\u001b[0;34m(\u001b[0m\u001b[0mk\u001b[0m\u001b[0;34m,\u001b[0m \u001b[0mi\u001b[0m\u001b[0;34m)\u001b[0m\u001b[0;34m\u001b[0m\u001b[0;34m\u001b[0m\u001b[0m\n",
      "\u001b[0;31mIndexingError\u001b[0m: Too many indexers"
     ]
    }
   ],
   "source": [
    "list_of_lists_series.loc[[\"b\"],[0]]"
   ]
  },
  {
   "cell_type": "markdown",
   "metadata": {},
   "source": [
    "We can do a simliar thing with Python dictionaries. This time, however, we will create a DataFrame object from a python dictionary."
   ]
  },
  {
   "cell_type": "code",
   "execution_count": 31,
   "metadata": {},
   "outputs": [
    {
     "data": {
      "text/html": [
       "<div>\n",
       "<style scoped>\n",
       "    .dataframe tbody tr th:only-of-type {\n",
       "        vertical-align: middle;\n",
       "    }\n",
       "\n",
       "    .dataframe tbody tr th {\n",
       "        vertical-align: top;\n",
       "    }\n",
       "\n",
       "    .dataframe thead th {\n",
       "        text-align: right;\n",
       "    }\n",
       "</style>\n",
       "<table border=\"1\" class=\"dataframe\">\n",
       "  <thead>\n",
       "    <tr style=\"text-align: right;\">\n",
       "      <th></th>\n",
       "      <th>name</th>\n",
       "      <th>age</th>\n",
       "      <th>city</th>\n",
       "    </tr>\n",
       "  </thead>\n",
       "  <tbody>\n",
       "    <tr>\n",
       "      <th>0</th>\n",
       "      <td>Samantha</td>\n",
       "      <td>35</td>\n",
       "      <td>Houston</td>\n",
       "    </tr>\n",
       "    <tr>\n",
       "      <th>1</th>\n",
       "      <td>Alex</td>\n",
       "      <td>17</td>\n",
       "      <td>Seattle</td>\n",
       "    </tr>\n",
       "    <tr>\n",
       "      <th>2</th>\n",
       "      <td>Dante</td>\n",
       "      <td>26</td>\n",
       "      <td>New york</td>\n",
       "    </tr>\n",
       "  </tbody>\n",
       "</table>\n",
       "</div>"
      ],
      "text/plain": [
       "       name age      city\n",
       "0  Samantha  35   Houston\n",
       "1      Alex  17   Seattle\n",
       "2     Dante  26  New york"
      ]
     },
     "execution_count": 31,
     "metadata": {},
     "output_type": "execute_result"
    }
   ],
   "source": [
    "# Dictionary with list object in values\n",
    "student_dict = {\n",
    "    'name' : ['Samantha', 'Alex', 'Dante'],\n",
    "    'age' : ['35','17','26'],\n",
    "    'city' : ['Houston', 'Seattle', 'New york']\n",
    "}\n",
    "\n",
    "students_df = pd.DataFrame(student_dict)\n",
    "\n",
    "students_df.head()"
   ]
  },
  {
   "cell_type": "code",
   "execution_count": 33,
   "metadata": {},
   "outputs": [
    {
     "data": {
      "text/plain": [
       "name    object\n",
       "age     object\n",
       "city    object\n",
       "dtype: object"
      ]
     },
     "execution_count": 33,
     "metadata": {},
     "output_type": "execute_result"
    }
   ],
   "source": [
    "#to find data types of columns\n",
    "students_df.dtypes"
   ]
  },
  {
   "cell_type": "markdown",
   "metadata": {},
   "source": [
    "Let's change the data type of ages to int."
   ]
  },
  {
   "cell_type": "code",
   "execution_count": 34,
   "metadata": {},
   "outputs": [
    {
     "data": {
      "text/plain": [
       "name    object\n",
       "age      int64\n",
       "city    object\n",
       "dtype: object"
      ]
     },
     "execution_count": 34,
     "metadata": {},
     "output_type": "execute_result"
    }
   ],
   "source": [
    "# We can also change a columns type but the change has to make sense.\n",
    "students_df.age = students_df.age.astype(int)\n",
    "\n",
    "#Uncomment line below and observe what happens when trying to convert student's name to int or float\n",
    "#students_df.name = students_df.name.astype(int)\n",
    "\n",
    "#How about what happens converting numeric to string\n",
    "#students_df.age = students_df.age.astype(str)\n",
    "\n",
    "students_df.dtypes"
   ]
  },
  {
   "cell_type": "markdown",
   "metadata": {},
   "source": [
    "We can also use a custom index for these items. For example, we might want them to be the individual student ID numbers."
   ]
  },
  {
   "cell_type": "code",
   "execution_count": 35,
   "metadata": {},
   "outputs": [
    {
     "data": {
      "text/html": [
       "<div>\n",
       "<style scoped>\n",
       "    .dataframe tbody tr th:only-of-type {\n",
       "        vertical-align: middle;\n",
       "    }\n",
       "\n",
       "    .dataframe tbody tr th {\n",
       "        vertical-align: top;\n",
       "    }\n",
       "\n",
       "    .dataframe thead th {\n",
       "        text-align: right;\n",
       "    }\n",
       "</style>\n",
       "<table border=\"1\" class=\"dataframe\">\n",
       "  <thead>\n",
       "    <tr style=\"text-align: right;\">\n",
       "      <th></th>\n",
       "      <th>name</th>\n",
       "      <th>age</th>\n",
       "      <th>city</th>\n",
       "    </tr>\n",
       "  </thead>\n",
       "  <tbody>\n",
       "    <tr>\n",
       "      <th>1111</th>\n",
       "      <td>Samantha</td>\n",
       "      <td>35</td>\n",
       "      <td>Houston</td>\n",
       "    </tr>\n",
       "    <tr>\n",
       "      <th>1145</th>\n",
       "      <td>Alex</td>\n",
       "      <td>17</td>\n",
       "      <td>Seattle</td>\n",
       "    </tr>\n",
       "    <tr>\n",
       "      <th>0096</th>\n",
       "      <td>Dante</td>\n",
       "      <td>26</td>\n",
       "      <td>New york</td>\n",
       "    </tr>\n",
       "  </tbody>\n",
       "</table>\n",
       "</div>"
      ],
      "text/plain": [
       "          name age      city\n",
       "1111  Samantha  35   Houston\n",
       "1145      Alex  17   Seattle\n",
       "0096     Dante  26  New york"
      ]
     },
     "execution_count": 35,
     "metadata": {},
     "output_type": "execute_result"
    }
   ],
   "source": [
    "school_ids = ['1111','1145','0096']\n",
    "\n",
    "#Notice here we use pd.DataFrame not pd.Series as we did for a pandas series.\n",
    "students_df = pd.DataFrame(student_dict,index=school_ids)\n",
    "\n",
    "students_df.head()"
   ]
  },
  {
   "cell_type": "markdown",
   "metadata": {},
   "source": [
    "Using Pandas, we can also rename column names."
   ]
  },
  {
   "cell_type": "code",
   "execution_count": 36,
   "metadata": {},
   "outputs": [
    {
     "data": {
      "text/html": [
       "<div>\n",
       "<style scoped>\n",
       "    .dataframe tbody tr th:only-of-type {\n",
       "        vertical-align: middle;\n",
       "    }\n",
       "\n",
       "    .dataframe tbody tr th {\n",
       "        vertical-align: top;\n",
       "    }\n",
       "\n",
       "    .dataframe thead th {\n",
       "        text-align: right;\n",
       "    }\n",
       "</style>\n",
       "<table border=\"1\" class=\"dataframe\">\n",
       "  <thead>\n",
       "    <tr style=\"text-align: right;\">\n",
       "      <th></th>\n",
       "      <th>NAME</th>\n",
       "      <th>AGE</th>\n",
       "      <th>HOME</th>\n",
       "    </tr>\n",
       "  </thead>\n",
       "  <tbody>\n",
       "    <tr>\n",
       "      <th>1111</th>\n",
       "      <td>Samantha</td>\n",
       "      <td>35</td>\n",
       "      <td>Houston</td>\n",
       "    </tr>\n",
       "    <tr>\n",
       "      <th>1145</th>\n",
       "      <td>Alex</td>\n",
       "      <td>17</td>\n",
       "      <td>Seattle</td>\n",
       "    </tr>\n",
       "    <tr>\n",
       "      <th>0096</th>\n",
       "      <td>Dante</td>\n",
       "      <td>26</td>\n",
       "      <td>New york</td>\n",
       "    </tr>\n",
       "  </tbody>\n",
       "</table>\n",
       "</div>"
      ],
      "text/plain": [
       "          NAME AGE      HOME\n",
       "1111  Samantha  35   Houston\n",
       "1145      Alex  17   Seattle\n",
       "0096     Dante  26  New york"
      ]
     },
     "execution_count": 36,
     "metadata": {},
     "output_type": "execute_result"
    }
   ],
   "source": [
    "students_df.columns = ['NAME', 'AGE','HOME']\n",
    "students_df.head()"
   ]
  },
  {
   "cell_type": "markdown",
   "metadata": {},
   "source": [
    "Or, we can also change the column names using the rename function."
   ]
  },
  {
   "cell_type": "code",
   "execution_count": 37,
   "metadata": {},
   "outputs": [
    {
     "data": {
      "text/html": [
       "<div>\n",
       "<style scoped>\n",
       "    .dataframe tbody tr th:only-of-type {\n",
       "        vertical-align: middle;\n",
       "    }\n",
       "\n",
       "    .dataframe tbody tr th {\n",
       "        vertical-align: top;\n",
       "    }\n",
       "\n",
       "    .dataframe thead th {\n",
       "        text-align: right;\n",
       "    }\n",
       "</style>\n",
       "<table border=\"1\" class=\"dataframe\">\n",
       "  <thead>\n",
       "    <tr style=\"text-align: right;\">\n",
       "      <th></th>\n",
       "      <th>NAME</th>\n",
       "      <th>YEARS</th>\n",
       "      <th>HOME</th>\n",
       "    </tr>\n",
       "  </thead>\n",
       "  <tbody>\n",
       "    <tr>\n",
       "      <th>1111</th>\n",
       "      <td>Samantha</td>\n",
       "      <td>35</td>\n",
       "      <td>Houston</td>\n",
       "    </tr>\n",
       "    <tr>\n",
       "      <th>1145</th>\n",
       "      <td>Alex</td>\n",
       "      <td>17</td>\n",
       "      <td>Seattle</td>\n",
       "    </tr>\n",
       "    <tr>\n",
       "      <th>0096</th>\n",
       "      <td>Dante</td>\n",
       "      <td>26</td>\n",
       "      <td>New york</td>\n",
       "    </tr>\n",
       "  </tbody>\n",
       "</table>\n",
       "</div>"
      ],
      "text/plain": [
       "          NAME YEARS      HOME\n",
       "1111  Samantha    35   Houston\n",
       "1145      Alex    17   Seattle\n",
       "0096     Dante    26  New york"
      ]
     },
     "execution_count": 37,
     "metadata": {},
     "output_type": "execute_result"
    }
   ],
   "source": [
    "students_df.rename(columns={'AGE': 'YEARS'})"
   ]
  },
  {
   "cell_type": "code",
   "execution_count": 38,
   "metadata": {},
   "outputs": [
    {
     "data": {
      "text/html": [
       "<div>\n",
       "<style scoped>\n",
       "    .dataframe tbody tr th:only-of-type {\n",
       "        vertical-align: middle;\n",
       "    }\n",
       "\n",
       "    .dataframe tbody tr th {\n",
       "        vertical-align: top;\n",
       "    }\n",
       "\n",
       "    .dataframe thead th {\n",
       "        text-align: right;\n",
       "    }\n",
       "</style>\n",
       "<table border=\"1\" class=\"dataframe\">\n",
       "  <thead>\n",
       "    <tr style=\"text-align: right;\">\n",
       "      <th></th>\n",
       "      <th>NAME</th>\n",
       "      <th>AGE</th>\n",
       "      <th>HOME</th>\n",
       "    </tr>\n",
       "  </thead>\n",
       "  <tbody>\n",
       "    <tr>\n",
       "      <th>1111</th>\n",
       "      <td>Samantha</td>\n",
       "      <td>35</td>\n",
       "      <td>Houston</td>\n",
       "    </tr>\n",
       "    <tr>\n",
       "      <th>1145</th>\n",
       "      <td>Alex</td>\n",
       "      <td>17</td>\n",
       "      <td>Seattle</td>\n",
       "    </tr>\n",
       "    <tr>\n",
       "      <th>0096</th>\n",
       "      <td>Dante</td>\n",
       "      <td>26</td>\n",
       "      <td>New york</td>\n",
       "    </tr>\n",
       "  </tbody>\n",
       "</table>\n",
       "</div>"
      ],
      "text/plain": [
       "          NAME AGE      HOME\n",
       "1111  Samantha  35   Houston\n",
       "1145      Alex  17   Seattle\n",
       "0096     Dante  26  New york"
      ]
     },
     "execution_count": 38,
     "metadata": {},
     "output_type": "execute_result"
    }
   ],
   "source": [
    "# Notice what happens when we print students_df\n",
    "\n",
    "students_df"
   ]
  },
  {
   "cell_type": "code",
   "execution_count": 39,
   "metadata": {},
   "outputs": [
    {
     "data": {
      "text/html": [
       "<div>\n",
       "<style scoped>\n",
       "    .dataframe tbody tr th:only-of-type {\n",
       "        vertical-align: middle;\n",
       "    }\n",
       "\n",
       "    .dataframe tbody tr th {\n",
       "        vertical-align: top;\n",
       "    }\n",
       "\n",
       "    .dataframe thead th {\n",
       "        text-align: right;\n",
       "    }\n",
       "</style>\n",
       "<table border=\"1\" class=\"dataframe\">\n",
       "  <thead>\n",
       "    <tr style=\"text-align: right;\">\n",
       "      <th></th>\n",
       "      <th>NAME</th>\n",
       "      <th>YEARS</th>\n",
       "      <th>HOME</th>\n",
       "    </tr>\n",
       "  </thead>\n",
       "  <tbody>\n",
       "    <tr>\n",
       "      <th>1111</th>\n",
       "      <td>Samantha</td>\n",
       "      <td>35</td>\n",
       "      <td>Houston</td>\n",
       "    </tr>\n",
       "    <tr>\n",
       "      <th>1145</th>\n",
       "      <td>Alex</td>\n",
       "      <td>17</td>\n",
       "      <td>Seattle</td>\n",
       "    </tr>\n",
       "    <tr>\n",
       "      <th>0096</th>\n",
       "      <td>Dante</td>\n",
       "      <td>26</td>\n",
       "      <td>New york</td>\n",
       "    </tr>\n",
       "  </tbody>\n",
       "</table>\n",
       "</div>"
      ],
      "text/plain": [
       "          NAME YEARS      HOME\n",
       "1111  Samantha    35   Houston\n",
       "1145      Alex    17   Seattle\n",
       "0096     Dante    26  New york"
      ]
     },
     "execution_count": 39,
     "metadata": {},
     "output_type": "execute_result"
    }
   ],
   "source": [
    "#If you want the file to save over itself, use the option `inplace = True`.\n",
    "students_df.rename(columns={'AGE': 'YEARS'}, inplace=True)\n",
    "students_df.head()"
   ]
  },
  {
   "cell_type": "markdown",
   "metadata": {},
   "source": [
    "Similarly, there is a tool to remove rows and columns from your DataFrame"
   ]
  },
  {
   "cell_type": "code",
   "execution_count": 40,
   "metadata": {},
   "outputs": [
    {
     "data": {
      "text/html": [
       "<div>\n",
       "<style scoped>\n",
       "    .dataframe tbody tr th:only-of-type {\n",
       "        vertical-align: middle;\n",
       "    }\n",
       "\n",
       "    .dataframe tbody tr th {\n",
       "        vertical-align: top;\n",
       "    }\n",
       "\n",
       "    .dataframe thead th {\n",
       "        text-align: right;\n",
       "    }\n",
       "</style>\n",
       "<table border=\"1\" class=\"dataframe\">\n",
       "  <thead>\n",
       "    <tr style=\"text-align: right;\">\n",
       "      <th></th>\n",
       "      <th>NAME</th>\n",
       "    </tr>\n",
       "  </thead>\n",
       "  <tbody>\n",
       "    <tr>\n",
       "      <th>1111</th>\n",
       "      <td>Samantha</td>\n",
       "    </tr>\n",
       "    <tr>\n",
       "      <th>1145</th>\n",
       "      <td>Alex</td>\n",
       "    </tr>\n",
       "    <tr>\n",
       "      <th>0096</th>\n",
       "      <td>Dante</td>\n",
       "    </tr>\n",
       "  </tbody>\n",
       "</table>\n",
       "</div>"
      ],
      "text/plain": [
       "          NAME\n",
       "1111  Samantha\n",
       "1145      Alex\n",
       "0096     Dante"
      ]
     },
     "execution_count": 40,
     "metadata": {},
     "output_type": "execute_result"
    }
   ],
   "source": [
    "students_df.drop(columns=['YEARS', 'HOME'])"
   ]
  },
  {
   "cell_type": "code",
   "execution_count": 41,
   "metadata": {},
   "outputs": [
    {
     "data": {
      "text/html": [
       "<div>\n",
       "<style scoped>\n",
       "    .dataframe tbody tr th:only-of-type {\n",
       "        vertical-align: middle;\n",
       "    }\n",
       "\n",
       "    .dataframe tbody tr th {\n",
       "        vertical-align: top;\n",
       "    }\n",
       "\n",
       "    .dataframe thead th {\n",
       "        text-align: right;\n",
       "    }\n",
       "</style>\n",
       "<table border=\"1\" class=\"dataframe\">\n",
       "  <thead>\n",
       "    <tr style=\"text-align: right;\">\n",
       "      <th></th>\n",
       "      <th>NAME</th>\n",
       "      <th>YEARS</th>\n",
       "      <th>HOME</th>\n",
       "    </tr>\n",
       "  </thead>\n",
       "  <tbody>\n",
       "    <tr>\n",
       "      <th>1111</th>\n",
       "      <td>Samantha</td>\n",
       "      <td>35</td>\n",
       "      <td>Houston</td>\n",
       "    </tr>\n",
       "    <tr>\n",
       "      <th>1145</th>\n",
       "      <td>Alex</td>\n",
       "      <td>17</td>\n",
       "      <td>Seattle</td>\n",
       "    </tr>\n",
       "    <tr>\n",
       "      <th>0096</th>\n",
       "      <td>Dante</td>\n",
       "      <td>26</td>\n",
       "      <td>New york</td>\n",
       "    </tr>\n",
       "  </tbody>\n",
       "</table>\n",
       "</div>"
      ],
      "text/plain": [
       "          NAME YEARS      HOME\n",
       "1111  Samantha    35   Houston\n",
       "1145      Alex    17   Seattle\n",
       "0096     Dante    26  New york"
      ]
     },
     "execution_count": 41,
     "metadata": {},
     "output_type": "execute_result"
    }
   ],
   "source": [
    "#Notice again what happens if we print students_df \n",
    "students_df"
   ]
  },
  {
   "cell_type": "code",
   "execution_count": null,
   "metadata": {},
   "outputs": [],
   "source": [
    "students_df.drop(columns=['YEARS', 'HOME'], inplace=True)\n",
    "students_df"
   ]
  },
  {
   "cell_type": "markdown",
   "metadata": {},
   "source": [
    "If you want the file to save over itself, use the option `inplace = True`.\n",
    "\n",
    "Every function has options. Let's read more about `drop` [here](https://pandas.pydata.org/pandas-docs/stable/reference/api/pandas.DataFrame.drop.html)"
   ]
  },
  {
   "cell_type": "markdown",
   "metadata": {},
   "source": [
    "### 3. Filtering Data Using Pandas\n",
    "There are several ways to grab particular data from a DataFrame. \n",
    "- Python lists allow for selection of data only through integer location. \n",
    "- You can use a single integer or slice notation to make the selection but NOT a list of integers.\n",
    "- Dictionaries only allow selection with a single label. Slices and lists of labels are not allowed."
   ]
  },
  {
   "cell_type": "code",
   "execution_count": 43,
   "metadata": {},
   "outputs": [
    {
     "ename": "TypeError",
     "evalue": "list indices must be integers or slices, not list",
     "output_type": "error",
     "traceback": [
      "\u001b[0;31m---------------------------------------------------------------------------\u001b[0m",
      "\u001b[0;31mTypeError\u001b[0m                                 Traceback (most recent call last)",
      "\u001b[0;32m<ipython-input-43-bdb0586f82ce>\u001b[0m in \u001b[0;36m<module>\u001b[0;34m\u001b[0m\n\u001b[1;32m      1\u001b[0m \u001b[0ml\u001b[0m\u001b[0;34m=\u001b[0m\u001b[0;34m[\u001b[0m\u001b[0;36m1\u001b[0m\u001b[0;34m,\u001b[0m\u001b[0;36m2\u001b[0m\u001b[0;34m,\u001b[0m\u001b[0;36m3\u001b[0m\u001b[0;34m,\u001b[0m\u001b[0;36m4\u001b[0m\u001b[0;34m,\u001b[0m\u001b[0;36m5\u001b[0m\u001b[0;34m]\u001b[0m\u001b[0;34m\u001b[0m\u001b[0;34m\u001b[0m\u001b[0m\n\u001b[0;32m----> 2\u001b[0;31m \u001b[0ml\u001b[0m\u001b[0;34m[\u001b[0m\u001b[0;34m[\u001b[0m\u001b[0;36m0\u001b[0m\u001b[0;34m,\u001b[0m\u001b[0;36m5\u001b[0m\u001b[0;34m]\u001b[0m\u001b[0;34m]\u001b[0m\u001b[0;34m\u001b[0m\u001b[0;34m\u001b[0m\u001b[0m\n\u001b[0m",
      "\u001b[0;31mTypeError\u001b[0m: list indices must be integers or slices, not list"
     ]
    }
   ],
   "source": [
    "l=[1,2,3,4,5]\n",
    "l[[0,5]]"
   ]
  },
  {
   "cell_type": "markdown",
   "metadata": {},
   "source": [
    "### DataFrames can be indexed by column name (label) or row name (index) or by position.   \n",
    "#### The `.loc` method is used for indexing by name.  \n",
    "#### While `.iloc` is used for indexing by number."
   ]
  },
  {
   "cell_type": "code",
   "execution_count": 52,
   "metadata": {},
   "outputs": [],
   "source": [
    "student_dict = {\n",
    "    'name' : ['Samantha', 'Alex', 'Dante'],\n",
    "    'age' : ['35','17','26'],\n",
    "    'city' : ['Houston', 'Seattle', 'New york']\n",
    "}\n",
    "\n",
    "students_df = pd.DataFrame(student_dict) "
   ]
  },
  {
   "cell_type": "code",
   "execution_count": 53,
   "metadata": {},
   "outputs": [
    {
     "data": {
      "text/html": [
       "<div>\n",
       "<style scoped>\n",
       "    .dataframe tbody tr th:only-of-type {\n",
       "        vertical-align: middle;\n",
       "    }\n",
       "\n",
       "    .dataframe tbody tr th {\n",
       "        vertical-align: top;\n",
       "    }\n",
       "\n",
       "    .dataframe thead th {\n",
       "        text-align: right;\n",
       "    }\n",
       "</style>\n",
       "<table border=\"1\" class=\"dataframe\">\n",
       "  <thead>\n",
       "    <tr style=\"text-align: right;\">\n",
       "      <th></th>\n",
       "      <th>name</th>\n",
       "      <th>age</th>\n",
       "      <th>city</th>\n",
       "    </tr>\n",
       "  </thead>\n",
       "  <tbody>\n",
       "    <tr>\n",
       "      <th>0</th>\n",
       "      <td>Samantha</td>\n",
       "      <td>35</td>\n",
       "      <td>Houston</td>\n",
       "    </tr>\n",
       "    <tr>\n",
       "      <th>1</th>\n",
       "      <td>Alex</td>\n",
       "      <td>17</td>\n",
       "      <td>Seattle</td>\n",
       "    </tr>\n",
       "    <tr>\n",
       "      <th>2</th>\n",
       "      <td>Dante</td>\n",
       "      <td>26</td>\n",
       "      <td>New york</td>\n",
       "    </tr>\n",
       "  </tbody>\n",
       "</table>\n",
       "</div>"
      ],
      "text/plain": [
       "       name age      city\n",
       "0  Samantha  35   Houston\n",
       "1      Alex  17   Seattle\n",
       "2     Dante  26  New york"
      ]
     },
     "execution_count": 53,
     "metadata": {},
     "output_type": "execute_result"
    }
   ],
   "source": [
    "students_df"
   ]
  },
  {
   "cell_type": "markdown",
   "metadata": {},
   "source": [
    "### Let's take a look at `.iloc`\n",
    "#### `.iloc` takes slices based on index position.\n",
    "#### `.iloc` stands for integer location so that should help with remember what it does\n",
    "#### `.iloc`[row , column]"
   ]
  },
  {
   "cell_type": "code",
   "execution_count": 46,
   "metadata": {},
   "outputs": [
    {
     "data": {
      "text/plain": [
       "name    Samantha\n",
       "age           35\n",
       "city     Houston\n",
       "Name: 0, dtype: object"
      ]
     },
     "execution_count": 46,
     "metadata": {},
     "output_type": "execute_result"
    }
   ],
   "source": [
    "#returns the first row\n",
    "students_df.iloc[0] "
   ]
  },
  {
   "cell_type": "code",
   "execution_count": 47,
   "metadata": {},
   "outputs": [
    {
     "data": {
      "text/plain": [
       "0    Samantha\n",
       "1        Alex\n",
       "2       Dante\n",
       "Name: name, dtype: object"
      ]
     },
     "execution_count": 47,
     "metadata": {},
     "output_type": "execute_result"
    }
   ],
   "source": [
    "#returns the first column\n",
    "students_df.iloc[:,0] "
   ]
  },
  {
   "cell_type": "code",
   "execution_count": 48,
   "metadata": {},
   "outputs": [
    {
     "data": {
      "text/html": [
       "<div>\n",
       "<style scoped>\n",
       "    .dataframe tbody tr th:only-of-type {\n",
       "        vertical-align: middle;\n",
       "    }\n",
       "\n",
       "    .dataframe tbody tr th {\n",
       "        vertical-align: top;\n",
       "    }\n",
       "\n",
       "    .dataframe thead th {\n",
       "        text-align: right;\n",
       "    }\n",
       "</style>\n",
       "<table border=\"1\" class=\"dataframe\">\n",
       "  <thead>\n",
       "    <tr style=\"text-align: right;\">\n",
       "      <th></th>\n",
       "      <th>name</th>\n",
       "      <th>age</th>\n",
       "      <th>city</th>\n",
       "    </tr>\n",
       "  </thead>\n",
       "  <tbody>\n",
       "    <tr>\n",
       "      <th>0</th>\n",
       "      <td>Samantha</td>\n",
       "      <td>35</td>\n",
       "      <td>Houston</td>\n",
       "    </tr>\n",
       "    <tr>\n",
       "      <th>1</th>\n",
       "      <td>Alex</td>\n",
       "      <td>17</td>\n",
       "      <td>Seattle</td>\n",
       "    </tr>\n",
       "  </tbody>\n",
       "</table>\n",
       "</div>"
      ],
      "text/plain": [
       "       name age     city\n",
       "0  Samantha  35  Houston\n",
       "1      Alex  17  Seattle"
      ]
     },
     "execution_count": 48,
     "metadata": {},
     "output_type": "execute_result"
    }
   ],
   "source": [
    "#returns first two rows notice that ILOC performs regular python slicing.\n",
    "students_df.iloc[0:2] \n"
   ]
  },
  {
   "cell_type": "code",
   "execution_count": 49,
   "metadata": {},
   "outputs": [
    {
     "data": {
      "text/html": [
       "<div>\n",
       "<style scoped>\n",
       "    .dataframe tbody tr th:only-of-type {\n",
       "        vertical-align: middle;\n",
       "    }\n",
       "\n",
       "    .dataframe tbody tr th {\n",
       "        vertical-align: top;\n",
       "    }\n",
       "\n",
       "    .dataframe thead th {\n",
       "        text-align: right;\n",
       "    }\n",
       "</style>\n",
       "<table border=\"1\" class=\"dataframe\">\n",
       "  <thead>\n",
       "    <tr style=\"text-align: right;\">\n",
       "      <th></th>\n",
       "      <th>name</th>\n",
       "      <th>age</th>\n",
       "    </tr>\n",
       "  </thead>\n",
       "  <tbody>\n",
       "    <tr>\n",
       "      <th>0</th>\n",
       "      <td>Samantha</td>\n",
       "      <td>35</td>\n",
       "    </tr>\n",
       "    <tr>\n",
       "      <th>1</th>\n",
       "      <td>Alex</td>\n",
       "      <td>17</td>\n",
       "    </tr>\n",
       "    <tr>\n",
       "      <th>2</th>\n",
       "      <td>Dante</td>\n",
       "      <td>26</td>\n",
       "    </tr>\n",
       "  </tbody>\n",
       "</table>\n",
       "</div>"
      ],
      "text/plain": [
       "       name age\n",
       "0  Samantha  35\n",
       "1      Alex  17\n",
       "2     Dante  26"
      ]
     },
     "execution_count": 49,
     "metadata": {},
     "output_type": "execute_result"
    }
   ],
   "source": [
    "#returns the first two columns\n",
    "students_df.iloc[:,0:2] "
   ]
  },
  {
   "cell_type": "code",
   "execution_count": 50,
   "metadata": {},
   "outputs": [
    {
     "data": {
      "text/html": [
       "<div>\n",
       "<style scoped>\n",
       "    .dataframe tbody tr th:only-of-type {\n",
       "        vertical-align: middle;\n",
       "    }\n",
       "\n",
       "    .dataframe tbody tr th {\n",
       "        vertical-align: top;\n",
       "    }\n",
       "\n",
       "    .dataframe thead th {\n",
       "        text-align: right;\n",
       "    }\n",
       "</style>\n",
       "<table border=\"1\" class=\"dataframe\">\n",
       "  <thead>\n",
       "    <tr style=\"text-align: right;\">\n",
       "      <th></th>\n",
       "      <th>name</th>\n",
       "      <th>age</th>\n",
       "    </tr>\n",
       "  </thead>\n",
       "  <tbody>\n",
       "    <tr>\n",
       "      <th>0</th>\n",
       "      <td>Samantha</td>\n",
       "      <td>35</td>\n",
       "    </tr>\n",
       "  </tbody>\n",
       "</table>\n",
       "</div>"
      ],
      "text/plain": [
       "       name age\n",
       "0  Samantha  35"
      ]
     },
     "execution_count": 50,
     "metadata": {},
     "output_type": "execute_result"
    }
   ],
   "source": [
    "# returns first row and columns 1 and 2\n",
    "students_df.iloc[0:1,0:2] "
   ]
  },
  {
   "cell_type": "markdown",
   "metadata": {},
   "source": [
    "### How would we use `.iloc` to return the last item in the last row?\n"
   ]
  },
  {
   "cell_type": "code",
   "execution_count": 59,
   "metadata": {},
   "outputs": [
    {
     "data": {
      "text/plain": [
       "name       Dante\n",
       "age           26\n",
       "city    New york\n",
       "Name: 2, dtype: object"
      ]
     },
     "execution_count": 59,
     "metadata": {},
     "output_type": "execute_result"
    }
   ],
   "source": [
    "#return the last item in the last row using iloc\n",
    "students_df.iloc[-1,:]"
   ]
  },
  {
   "cell_type": "code",
   "execution_count": 65,
   "metadata": {},
   "outputs": [
    {
     "data": {
      "text/html": [
       "<div>\n",
       "<style scoped>\n",
       "    .dataframe tbody tr th:only-of-type {\n",
       "        vertical-align: middle;\n",
       "    }\n",
       "\n",
       "    .dataframe tbody tr th {\n",
       "        vertical-align: top;\n",
       "    }\n",
       "\n",
       "    .dataframe thead th {\n",
       "        text-align: right;\n",
       "    }\n",
       "</style>\n",
       "<table border=\"1\" class=\"dataframe\">\n",
       "  <thead>\n",
       "    <tr style=\"text-align: right;\">\n",
       "      <th></th>\n",
       "      <th>name</th>\n",
       "      <th>age</th>\n",
       "      <th>city</th>\n",
       "    </tr>\n",
       "  </thead>\n",
       "  <tbody>\n",
       "    <tr>\n",
       "      <th>0</th>\n",
       "      <td>Samantha</td>\n",
       "      <td>35</td>\n",
       "      <td>Houston</td>\n",
       "    </tr>\n",
       "    <tr>\n",
       "      <th>1</th>\n",
       "      <td>Alex</td>\n",
       "      <td>17</td>\n",
       "      <td>Seattle</td>\n",
       "    </tr>\n",
       "    <tr>\n",
       "      <th>2</th>\n",
       "      <td>Dante</td>\n",
       "      <td>26</td>\n",
       "      <td>New york</td>\n",
       "    </tr>\n",
       "  </tbody>\n",
       "</table>\n",
       "</div>"
      ],
      "text/plain": [
       "       name age      city\n",
       "0  Samantha  35   Houston\n",
       "1      Alex  17   Seattle\n",
       "2     Dante  26  New york"
      ]
     },
     "execution_count": 65,
     "metadata": {},
     "output_type": "execute_result"
    }
   ],
   "source": [
    "#return the last item in the last row using iloc\n",
    "students_df.iloc[:,:]"
   ]
  },
  {
   "cell_type": "markdown",
   "metadata": {},
   "source": [
    "### How would we use `.iloc` to return the last item in the last column?\n"
   ]
  },
  {
   "cell_type": "code",
   "execution_count": 60,
   "metadata": {},
   "outputs": [
    {
     "data": {
      "text/plain": [
       "0     Houston\n",
       "1     Seattle\n",
       "2    New york\n",
       "Name: city, dtype: object"
      ]
     },
     "execution_count": 60,
     "metadata": {},
     "output_type": "execute_result"
    }
   ],
   "source": [
    "#return the last item in the last column using iloc\n",
    "students_df.iloc[:,-1]"
   ]
  },
  {
   "cell_type": "markdown",
   "metadata": {},
   "source": [
    "### What if we only want certain columns or rows?"
   ]
  },
  {
   "cell_type": "code",
   "execution_count": 67,
   "metadata": {},
   "outputs": [
    {
     "data": {
      "text/plain": [
       "'Houston'"
      ]
     },
     "execution_count": 67,
     "metadata": {},
     "output_type": "execute_result"
    }
   ],
   "source": [
    "## Don't do students_df.iloc[0, 2]\n",
    "students_df.iloc[0,2]"
   ]
  },
  {
   "cell_type": "code",
   "execution_count": 63,
   "metadata": {},
   "outputs": [
    {
     "data": {
      "text/html": [
       "<div>\n",
       "<style scoped>\n",
       "    .dataframe tbody tr th:only-of-type {\n",
       "        vertical-align: middle;\n",
       "    }\n",
       "\n",
       "    .dataframe tbody tr th {\n",
       "        vertical-align: top;\n",
       "    }\n",
       "\n",
       "    .dataframe thead th {\n",
       "        text-align: right;\n",
       "    }\n",
       "</style>\n",
       "<table border=\"1\" class=\"dataframe\">\n",
       "  <thead>\n",
       "    <tr style=\"text-align: right;\">\n",
       "      <th></th>\n",
       "      <th>name</th>\n",
       "      <th>city</th>\n",
       "    </tr>\n",
       "  </thead>\n",
       "  <tbody>\n",
       "    <tr>\n",
       "      <th>0</th>\n",
       "      <td>Samantha</td>\n",
       "      <td>Houston</td>\n",
       "    </tr>\n",
       "    <tr>\n",
       "      <th>1</th>\n",
       "      <td>Alex</td>\n",
       "      <td>Seattle</td>\n",
       "    </tr>\n",
       "    <tr>\n",
       "      <th>2</th>\n",
       "      <td>Dante</td>\n",
       "      <td>New york</td>\n",
       "    </tr>\n",
       "  </tbody>\n",
       "</table>\n",
       "</div>"
      ],
      "text/plain": [
       "       name      city\n",
       "0  Samantha   Houston\n",
       "1      Alex   Seattle\n",
       "2     Dante  New york"
      ]
     },
     "execution_count": 63,
     "metadata": {},
     "output_type": "execute_result"
    }
   ],
   "source": [
    "## Don't do students_df.iloc[0, 2]\n",
    "students_df.iloc[:,[0,2]]"
   ]
  },
  {
   "cell_type": "code",
   "execution_count": 66,
   "metadata": {},
   "outputs": [
    {
     "data": {
      "text/html": [
       "<div>\n",
       "<style scoped>\n",
       "    .dataframe tbody tr th:only-of-type {\n",
       "        vertical-align: middle;\n",
       "    }\n",
       "\n",
       "    .dataframe tbody tr th {\n",
       "        vertical-align: top;\n",
       "    }\n",
       "\n",
       "    .dataframe thead th {\n",
       "        text-align: right;\n",
       "    }\n",
       "</style>\n",
       "<table border=\"1\" class=\"dataframe\">\n",
       "  <thead>\n",
       "    <tr style=\"text-align: right;\">\n",
       "      <th></th>\n",
       "      <th>name</th>\n",
       "      <th>age</th>\n",
       "      <th>city</th>\n",
       "    </tr>\n",
       "  </thead>\n",
       "  <tbody>\n",
       "    <tr>\n",
       "      <th>0</th>\n",
       "      <td>Samantha</td>\n",
       "      <td>35</td>\n",
       "      <td>Houston</td>\n",
       "    </tr>\n",
       "    <tr>\n",
       "      <th>2</th>\n",
       "      <td>Dante</td>\n",
       "      <td>26</td>\n",
       "      <td>New york</td>\n",
       "    </tr>\n",
       "  </tbody>\n",
       "</table>\n",
       "</div>"
      ],
      "text/plain": [
       "       name age      city\n",
       "0  Samantha  35   Houston\n",
       "2     Dante  26  New york"
      ]
     },
     "execution_count": 66,
     "metadata": {},
     "output_type": "execute_result"
    }
   ],
   "source": [
    "## Don't do students_df.iloc[0, 2]\n",
    "students_df.iloc[[0,2]]"
   ]
  },
  {
   "cell_type": "code",
   "execution_count": 64,
   "metadata": {},
   "outputs": [
    {
     "data": {
      "text/html": [
       "<div>\n",
       "<style scoped>\n",
       "    .dataframe tbody tr th:only-of-type {\n",
       "        vertical-align: middle;\n",
       "    }\n",
       "\n",
       "    .dataframe tbody tr th {\n",
       "        vertical-align: top;\n",
       "    }\n",
       "\n",
       "    .dataframe thead th {\n",
       "        text-align: right;\n",
       "    }\n",
       "</style>\n",
       "<table border=\"1\" class=\"dataframe\">\n",
       "  <thead>\n",
       "    <tr style=\"text-align: right;\">\n",
       "      <th></th>\n",
       "      <th>name</th>\n",
       "      <th>city</th>\n",
       "    </tr>\n",
       "  </thead>\n",
       "  <tbody>\n",
       "    <tr>\n",
       "      <th>0</th>\n",
       "      <td>Samantha</td>\n",
       "      <td>Houston</td>\n",
       "    </tr>\n",
       "    <tr>\n",
       "      <th>2</th>\n",
       "      <td>Dante</td>\n",
       "      <td>New york</td>\n",
       "    </tr>\n",
       "  </tbody>\n",
       "</table>\n",
       "</div>"
      ],
      "text/plain": [
       "       name      city\n",
       "0  Samantha   Houston\n",
       "2     Dante  New york"
      ]
     },
     "execution_count": 64,
     "metadata": {},
     "output_type": "execute_result"
    }
   ],
   "source": [
    "students_df.iloc[[0,2],[0,2]] "
   ]
  },
  {
   "cell_type": "markdown",
   "metadata": {},
   "source": [
    "### Let's take a look at `.loc`\n",
    "#### Label based method. \n",
    "#### Names or labels of the index is used when taking slices.\n",
    "#### Also supports boolean subsetting."
   ]
  },
  {
   "cell_type": "code",
   "execution_count": 68,
   "metadata": {},
   "outputs": [
    {
     "data": {
      "text/html": [
       "<div>\n",
       "<style scoped>\n",
       "    .dataframe tbody tr th:only-of-type {\n",
       "        vertical-align: middle;\n",
       "    }\n",
       "\n",
       "    .dataframe tbody tr th {\n",
       "        vertical-align: top;\n",
       "    }\n",
       "\n",
       "    .dataframe thead th {\n",
       "        text-align: right;\n",
       "    }\n",
       "</style>\n",
       "<table border=\"1\" class=\"dataframe\">\n",
       "  <thead>\n",
       "    <tr style=\"text-align: right;\">\n",
       "      <th></th>\n",
       "      <th>name</th>\n",
       "      <th>age</th>\n",
       "      <th>city</th>\n",
       "    </tr>\n",
       "  </thead>\n",
       "  <tbody>\n",
       "    <tr>\n",
       "      <th>0</th>\n",
       "      <td>Samantha</td>\n",
       "      <td>35</td>\n",
       "      <td>Houston</td>\n",
       "    </tr>\n",
       "    <tr>\n",
       "      <th>1</th>\n",
       "      <td>Alex</td>\n",
       "      <td>17</td>\n",
       "      <td>Seattle</td>\n",
       "    </tr>\n",
       "    <tr>\n",
       "      <th>2</th>\n",
       "      <td>Dante</td>\n",
       "      <td>26</td>\n",
       "      <td>New york</td>\n",
       "    </tr>\n",
       "  </tbody>\n",
       "</table>\n",
       "</div>"
      ],
      "text/plain": [
       "       name age      city\n",
       "0  Samantha  35   Houston\n",
       "1      Alex  17   Seattle\n",
       "2     Dante  26  New york"
      ]
     },
     "execution_count": 68,
     "metadata": {},
     "output_type": "execute_result"
    }
   ],
   "source": [
    "# We will use loc to return rows and columns based on labels. Let's look at the students_df DataFrame again.\n",
    "students_df"
   ]
  },
  {
   "cell_type": "code",
   "execution_count": 69,
   "metadata": {},
   "outputs": [
    {
     "data": {
      "text/plain": [
       "name    Samantha\n",
       "age           35\n",
       "city     Houston\n",
       "Name: 0, dtype: object"
      ]
     },
     "execution_count": 69,
     "metadata": {},
     "output_type": "execute_result"
    }
   ],
   "source": [
    "#returns the student information associated with index 0\n",
    "students_df.loc[0]"
   ]
  },
  {
   "cell_type": "code",
   "execution_count": 70,
   "metadata": {},
   "outputs": [
    {
     "data": {
      "text/html": [
       "<div>\n",
       "<style scoped>\n",
       "    .dataframe tbody tr th:only-of-type {\n",
       "        vertical-align: middle;\n",
       "    }\n",
       "\n",
       "    .dataframe tbody tr th {\n",
       "        vertical-align: top;\n",
       "    }\n",
       "\n",
       "    .dataframe thead th {\n",
       "        text-align: right;\n",
       "    }\n",
       "</style>\n",
       "<table border=\"1\" class=\"dataframe\">\n",
       "  <thead>\n",
       "    <tr style=\"text-align: right;\">\n",
       "      <th></th>\n",
       "      <th>name</th>\n",
       "      <th>age</th>\n",
       "      <th>city</th>\n",
       "    </tr>\n",
       "  </thead>\n",
       "  <tbody>\n",
       "    <tr>\n",
       "      <th>0</th>\n",
       "      <td>Samantha</td>\n",
       "      <td>35</td>\n",
       "      <td>Houston</td>\n",
       "    </tr>\n",
       "    <tr>\n",
       "      <th>1</th>\n",
       "      <td>Alex</td>\n",
       "      <td>17</td>\n",
       "      <td>Seattle</td>\n",
       "    </tr>\n",
       "    <tr>\n",
       "      <th>2</th>\n",
       "      <td>Dante</td>\n",
       "      <td>26</td>\n",
       "      <td>New york</td>\n",
       "    </tr>\n",
       "  </tbody>\n",
       "</table>\n",
       "</div>"
      ],
      "text/plain": [
       "       name age      city\n",
       "0  Samantha  35   Houston\n",
       "1      Alex  17   Seattle\n",
       "2     Dante  26  New york"
      ]
     },
     "execution_count": 70,
     "metadata": {},
     "output_type": "execute_result"
    }
   ],
   "source": [
    "#returns the student information for row index 0 to 2 inclusive.\n",
    "#note iloc would return normal python slicing not including 2 as demonstrated above.\n",
    "students_df.loc[0:2] "
   ]
  },
  {
   "cell_type": "code",
   "execution_count": 71,
   "metadata": {},
   "outputs": [
    {
     "data": {
      "text/plain": [
       "0    35\n",
       "1    17\n",
       "2    26\n",
       "Name: age, dtype: object"
      ]
     },
     "execution_count": 71,
     "metadata": {},
     "output_type": "execute_result"
    }
   ],
   "source": [
    "#returns the column labeled 'age'\n",
    "students_df.loc[:,'age'] "
   ]
  },
  {
   "cell_type": "code",
   "execution_count": 82,
   "metadata": {},
   "outputs": [
    {
     "data": {
      "text/plain": [
       "1    17\n",
       "2    26\n",
       "Name: age, dtype: object"
      ]
     },
     "execution_count": 82,
     "metadata": {},
     "output_type": "execute_result"
    }
   ],
   "source": [
    "#returns the column labeled 'age' and index values 1 to 2.\n",
    "#gives us the values of the rows with index from 1 to 2 (inclusive)\n",
    "#and columns labeled age\"\n",
    "students_df.loc[1:2,'age'] "
   ]
  },
  {
   "cell_type": "code",
   "execution_count": 83,
   "metadata": {},
   "outputs": [
    {
     "data": {
      "text/html": [
       "<div>\n",
       "<style scoped>\n",
       "    .dataframe tbody tr th:only-of-type {\n",
       "        vertical-align: middle;\n",
       "    }\n",
       "\n",
       "    .dataframe tbody tr th {\n",
       "        vertical-align: top;\n",
       "    }\n",
       "\n",
       "    .dataframe thead th {\n",
       "        text-align: right;\n",
       "    }\n",
       "</style>\n",
       "<table border=\"1\" class=\"dataframe\">\n",
       "  <thead>\n",
       "    <tr style=\"text-align: right;\">\n",
       "      <th></th>\n",
       "      <th>age</th>\n",
       "      <th>city</th>\n",
       "    </tr>\n",
       "  </thead>\n",
       "  <tbody>\n",
       "    <tr>\n",
       "      <th>1</th>\n",
       "      <td>17</td>\n",
       "      <td>Seattle</td>\n",
       "    </tr>\n",
       "    <tr>\n",
       "      <th>2</th>\n",
       "      <td>26</td>\n",
       "      <td>New york</td>\n",
       "    </tr>\n",
       "  </tbody>\n",
       "</table>\n",
       "</div>"
      ],
      "text/plain": [
       "  age      city\n",
       "1  17   Seattle\n",
       "2  26  New york"
      ]
     },
     "execution_count": 83,
     "metadata": {},
     "output_type": "execute_result"
    }
   ],
   "source": [
    "#returns the column labeled 'age' and index values 1 to 2.\n",
    "#gives us the values of the rows with index from 1 to 2 (inclusive)\n",
    "#and columns labeled age to city (inclusive)\"\n",
    "students_df.loc[1:2,'age':'city'] "
   ]
  },
  {
   "cell_type": "code",
   "execution_count": 84,
   "metadata": {},
   "outputs": [
    {
     "data": {
      "text/html": [
       "<div>\n",
       "<style scoped>\n",
       "    .dataframe tbody tr th:only-of-type {\n",
       "        vertical-align: middle;\n",
       "    }\n",
       "\n",
       "    .dataframe tbody tr th {\n",
       "        vertical-align: top;\n",
       "    }\n",
       "\n",
       "    .dataframe thead th {\n",
       "        text-align: right;\n",
       "    }\n",
       "</style>\n",
       "<table border=\"1\" class=\"dataframe\">\n",
       "  <thead>\n",
       "    <tr style=\"text-align: right;\">\n",
       "      <th></th>\n",
       "      <th>name</th>\n",
       "      <th>city</th>\n",
       "    </tr>\n",
       "  </thead>\n",
       "  <tbody>\n",
       "    <tr>\n",
       "      <th>1</th>\n",
       "      <td>Alex</td>\n",
       "      <td>Seattle</td>\n",
       "    </tr>\n",
       "    <tr>\n",
       "      <th>2</th>\n",
       "      <td>Dante</td>\n",
       "      <td>New york</td>\n",
       "    </tr>\n",
       "  </tbody>\n",
       "</table>\n",
       "</div>"
      ],
      "text/plain": [
       "    name      city\n",
       "1   Alex   Seattle\n",
       "2  Dante  New york"
      ]
     },
     "execution_count": 84,
     "metadata": {},
     "output_type": "execute_result"
    }
   ],
   "source": [
    "#What should we get?\n",
    "students_df.loc[1:2,['name', 'city']] "
   ]
  },
  {
   "cell_type": "code",
   "execution_count": 85,
   "metadata": {},
   "outputs": [
    {
     "data": {
      "text/html": [
       "<div>\n",
       "<style scoped>\n",
       "    .dataframe tbody tr th:only-of-type {\n",
       "        vertical-align: middle;\n",
       "    }\n",
       "\n",
       "    .dataframe tbody tr th {\n",
       "        vertical-align: top;\n",
       "    }\n",
       "\n",
       "    .dataframe thead th {\n",
       "        text-align: right;\n",
       "    }\n",
       "</style>\n",
       "<table border=\"1\" class=\"dataframe\">\n",
       "  <thead>\n",
       "    <tr style=\"text-align: right;\">\n",
       "      <th></th>\n",
       "      <th>name</th>\n",
       "      <th>city</th>\n",
       "    </tr>\n",
       "  </thead>\n",
       "  <tbody>\n",
       "    <tr>\n",
       "      <th>0</th>\n",
       "      <td>Samantha</td>\n",
       "      <td>Houston</td>\n",
       "    </tr>\n",
       "    <tr>\n",
       "      <th>2</th>\n",
       "      <td>Dante</td>\n",
       "      <td>New york</td>\n",
       "    </tr>\n",
       "  </tbody>\n",
       "</table>\n",
       "</div>"
      ],
      "text/plain": [
       "       name      city\n",
       "0  Samantha   Houston\n",
       "2     Dante  New york"
      ]
     },
     "execution_count": 85,
     "metadata": {},
     "output_type": "execute_result"
    }
   ],
   "source": [
    "#How about? \n",
    "students_df.loc[[0,2],['name', 'city']] "
   ]
  },
  {
   "cell_type": "code",
   "execution_count": 86,
   "metadata": {},
   "outputs": [],
   "source": [
    "#if index rearranged\n",
    "school_ids = ['5','11','3']\n",
    "students_df = pd.DataFrame(student_dict,index=school_ids)"
   ]
  },
  {
   "cell_type": "code",
   "execution_count": 87,
   "metadata": {},
   "outputs": [
    {
     "ename": "KeyError",
     "evalue": "\"None of [Int64Index([0, 2], dtype='int64')] are in the [index]\"",
     "output_type": "error",
     "traceback": [
      "\u001b[0;31m---------------------------------------------------------------------------\u001b[0m",
      "\u001b[0;31mKeyError\u001b[0m                                  Traceback (most recent call last)",
      "\u001b[0;32m<ipython-input-87-99a5e9cf0694>\u001b[0m in \u001b[0;36m<module>\u001b[0;34m\u001b[0m\n\u001b[1;32m      1\u001b[0m \u001b[0;31m#What should we get now?\u001b[0m\u001b[0;34m\u001b[0m\u001b[0;34m\u001b[0m\u001b[0;34m\u001b[0m\u001b[0m\n\u001b[0;32m----> 2\u001b[0;31m \u001b[0mstudents_df\u001b[0m\u001b[0;34m.\u001b[0m\u001b[0mloc\u001b[0m\u001b[0;34m[\u001b[0m\u001b[0;34m[\u001b[0m\u001b[0;36m0\u001b[0m\u001b[0;34m,\u001b[0m\u001b[0;36m2\u001b[0m\u001b[0;34m]\u001b[0m\u001b[0;34m,\u001b[0m\u001b[0;34m[\u001b[0m\u001b[0;34m'name'\u001b[0m\u001b[0;34m,\u001b[0m \u001b[0;34m'city'\u001b[0m\u001b[0;34m]\u001b[0m\u001b[0;34m]\u001b[0m\u001b[0;34m\u001b[0m\u001b[0;34m\u001b[0m\u001b[0m\n\u001b[0m",
      "\u001b[0;32m~/anaconda3/lib/python3.7/site-packages/pandas/core/indexing.py\u001b[0m in \u001b[0;36m__getitem__\u001b[0;34m(self, key)\u001b[0m\n\u001b[1;32m   1492\u001b[0m             \u001b[0;32mexcept\u001b[0m \u001b[0;34m(\u001b[0m\u001b[0mKeyError\u001b[0m\u001b[0;34m,\u001b[0m \u001b[0mIndexError\u001b[0m\u001b[0;34m,\u001b[0m \u001b[0mAttributeError\u001b[0m\u001b[0;34m)\u001b[0m\u001b[0;34m:\u001b[0m\u001b[0;34m\u001b[0m\u001b[0;34m\u001b[0m\u001b[0m\n\u001b[1;32m   1493\u001b[0m                 \u001b[0;32mpass\u001b[0m\u001b[0;34m\u001b[0m\u001b[0;34m\u001b[0m\u001b[0m\n\u001b[0;32m-> 1494\u001b[0;31m             \u001b[0;32mreturn\u001b[0m \u001b[0mself\u001b[0m\u001b[0;34m.\u001b[0m\u001b[0m_getitem_tuple\u001b[0m\u001b[0;34m(\u001b[0m\u001b[0mkey\u001b[0m\u001b[0;34m)\u001b[0m\u001b[0;34m\u001b[0m\u001b[0;34m\u001b[0m\u001b[0m\n\u001b[0m\u001b[1;32m   1495\u001b[0m         \u001b[0;32melse\u001b[0m\u001b[0;34m:\u001b[0m\u001b[0;34m\u001b[0m\u001b[0;34m\u001b[0m\u001b[0m\n\u001b[1;32m   1496\u001b[0m             \u001b[0;31m# we by definition only have the 0th axis\u001b[0m\u001b[0;34m\u001b[0m\u001b[0;34m\u001b[0m\u001b[0;34m\u001b[0m\u001b[0m\n",
      "\u001b[0;32m~/anaconda3/lib/python3.7/site-packages/pandas/core/indexing.py\u001b[0m in \u001b[0;36m_getitem_tuple\u001b[0;34m(self, tup)\u001b[0m\n\u001b[1;32m    875\u001b[0m         \u001b[0;31m# ugly hack for GH #836\u001b[0m\u001b[0;34m\u001b[0m\u001b[0;34m\u001b[0m\u001b[0;34m\u001b[0m\u001b[0m\n\u001b[1;32m    876\u001b[0m         \u001b[0;32mif\u001b[0m \u001b[0mself\u001b[0m\u001b[0;34m.\u001b[0m\u001b[0m_multi_take_opportunity\u001b[0m\u001b[0;34m(\u001b[0m\u001b[0mtup\u001b[0m\u001b[0;34m)\u001b[0m\u001b[0;34m:\u001b[0m\u001b[0;34m\u001b[0m\u001b[0;34m\u001b[0m\u001b[0m\n\u001b[0;32m--> 877\u001b[0;31m             \u001b[0;32mreturn\u001b[0m \u001b[0mself\u001b[0m\u001b[0;34m.\u001b[0m\u001b[0m_multi_take\u001b[0m\u001b[0;34m(\u001b[0m\u001b[0mtup\u001b[0m\u001b[0;34m)\u001b[0m\u001b[0;34m\u001b[0m\u001b[0;34m\u001b[0m\u001b[0m\n\u001b[0m\u001b[1;32m    878\u001b[0m \u001b[0;34m\u001b[0m\u001b[0m\n\u001b[1;32m    879\u001b[0m         \u001b[0;31m# no shortcut needed\u001b[0m\u001b[0;34m\u001b[0m\u001b[0;34m\u001b[0m\u001b[0;34m\u001b[0m\u001b[0m\n",
      "\u001b[0;32m~/anaconda3/lib/python3.7/site-packages/pandas/core/indexing.py\u001b[0m in \u001b[0;36m_multi_take\u001b[0;34m(self, tup)\u001b[0m\n\u001b[1;32m    932\u001b[0m         \u001b[0mo\u001b[0m \u001b[0;34m=\u001b[0m \u001b[0mself\u001b[0m\u001b[0;34m.\u001b[0m\u001b[0mobj\u001b[0m\u001b[0;34m\u001b[0m\u001b[0;34m\u001b[0m\u001b[0m\n\u001b[1;32m    933\u001b[0m         d = {axis: self._get_listlike_indexer(key, axis)\n\u001b[0;32m--> 934\u001b[0;31m              for (key, axis) in zip(tup, o._AXIS_ORDERS)}\n\u001b[0m\u001b[1;32m    935\u001b[0m         \u001b[0;32mreturn\u001b[0m \u001b[0mo\u001b[0m\u001b[0;34m.\u001b[0m\u001b[0m_reindex_with_indexers\u001b[0m\u001b[0;34m(\u001b[0m\u001b[0md\u001b[0m\u001b[0;34m,\u001b[0m \u001b[0mcopy\u001b[0m\u001b[0;34m=\u001b[0m\u001b[0;32mTrue\u001b[0m\u001b[0;34m,\u001b[0m \u001b[0mallow_dups\u001b[0m\u001b[0;34m=\u001b[0m\u001b[0;32mTrue\u001b[0m\u001b[0;34m)\u001b[0m\u001b[0;34m\u001b[0m\u001b[0;34m\u001b[0m\u001b[0m\n\u001b[1;32m    936\u001b[0m \u001b[0;34m\u001b[0m\u001b[0m\n",
      "\u001b[0;32m~/anaconda3/lib/python3.7/site-packages/pandas/core/indexing.py\u001b[0m in \u001b[0;36m<dictcomp>\u001b[0;34m(.0)\u001b[0m\n\u001b[1;32m    932\u001b[0m         \u001b[0mo\u001b[0m \u001b[0;34m=\u001b[0m \u001b[0mself\u001b[0m\u001b[0;34m.\u001b[0m\u001b[0mobj\u001b[0m\u001b[0;34m\u001b[0m\u001b[0;34m\u001b[0m\u001b[0m\n\u001b[1;32m    933\u001b[0m         d = {axis: self._get_listlike_indexer(key, axis)\n\u001b[0;32m--> 934\u001b[0;31m              for (key, axis) in zip(tup, o._AXIS_ORDERS)}\n\u001b[0m\u001b[1;32m    935\u001b[0m         \u001b[0;32mreturn\u001b[0m \u001b[0mo\u001b[0m\u001b[0;34m.\u001b[0m\u001b[0m_reindex_with_indexers\u001b[0m\u001b[0;34m(\u001b[0m\u001b[0md\u001b[0m\u001b[0;34m,\u001b[0m \u001b[0mcopy\u001b[0m\u001b[0;34m=\u001b[0m\u001b[0;32mTrue\u001b[0m\u001b[0;34m,\u001b[0m \u001b[0mallow_dups\u001b[0m\u001b[0;34m=\u001b[0m\u001b[0;32mTrue\u001b[0m\u001b[0;34m)\u001b[0m\u001b[0;34m\u001b[0m\u001b[0;34m\u001b[0m\u001b[0m\n\u001b[1;32m    936\u001b[0m \u001b[0;34m\u001b[0m\u001b[0m\n",
      "\u001b[0;32m~/anaconda3/lib/python3.7/site-packages/pandas/core/indexing.py\u001b[0m in \u001b[0;36m_get_listlike_indexer\u001b[0;34m(self, key, axis, raise_missing)\u001b[0m\n\u001b[1;32m   1159\u001b[0m         self._validate_read_indexer(keyarr, indexer,\n\u001b[1;32m   1160\u001b[0m                                     \u001b[0mo\u001b[0m\u001b[0;34m.\u001b[0m\u001b[0m_get_axis_number\u001b[0m\u001b[0;34m(\u001b[0m\u001b[0maxis\u001b[0m\u001b[0;34m)\u001b[0m\u001b[0;34m,\u001b[0m\u001b[0;34m\u001b[0m\u001b[0;34m\u001b[0m\u001b[0m\n\u001b[0;32m-> 1161\u001b[0;31m                                     raise_missing=raise_missing)\n\u001b[0m\u001b[1;32m   1162\u001b[0m         \u001b[0;32mreturn\u001b[0m \u001b[0mkeyarr\u001b[0m\u001b[0;34m,\u001b[0m \u001b[0mindexer\u001b[0m\u001b[0;34m\u001b[0m\u001b[0;34m\u001b[0m\u001b[0m\n\u001b[1;32m   1163\u001b[0m \u001b[0;34m\u001b[0m\u001b[0m\n",
      "\u001b[0;32m~/anaconda3/lib/python3.7/site-packages/pandas/core/indexing.py\u001b[0m in \u001b[0;36m_validate_read_indexer\u001b[0;34m(self, key, indexer, axis, raise_missing)\u001b[0m\n\u001b[1;32m   1244\u001b[0m                 raise KeyError(\n\u001b[1;32m   1245\u001b[0m                     u\"None of [{key}] are in the [{axis}]\".format(\n\u001b[0;32m-> 1246\u001b[0;31m                         key=key, axis=self.obj._get_axis_name(axis)))\n\u001b[0m\u001b[1;32m   1247\u001b[0m \u001b[0;34m\u001b[0m\u001b[0m\n\u001b[1;32m   1248\u001b[0m             \u001b[0;31m# We (temporarily) allow for some missing keys with .loc, except in\u001b[0m\u001b[0;34m\u001b[0m\u001b[0;34m\u001b[0m\u001b[0;34m\u001b[0m\u001b[0m\n",
      "\u001b[0;31mKeyError\u001b[0m: \"None of [Int64Index([0, 2], dtype='int64')] are in the [index]\""
     ]
    }
   ],
   "source": [
    "#What should we get now?\n",
    "students_df.loc[[0,2],['name', 'city']]"
   ]
  },
  {
   "cell_type": "code",
   "execution_count": 88,
   "metadata": {},
   "outputs": [
    {
     "data": {
      "text/html": [
       "<div>\n",
       "<style scoped>\n",
       "    .dataframe tbody tr th:only-of-type {\n",
       "        vertical-align: middle;\n",
       "    }\n",
       "\n",
       "    .dataframe tbody tr th {\n",
       "        vertical-align: top;\n",
       "    }\n",
       "\n",
       "    .dataframe thead th {\n",
       "        text-align: right;\n",
       "    }\n",
       "</style>\n",
       "<table border=\"1\" class=\"dataframe\">\n",
       "  <thead>\n",
       "    <tr style=\"text-align: right;\">\n",
       "      <th></th>\n",
       "      <th>name</th>\n",
       "      <th>city</th>\n",
       "    </tr>\n",
       "  </thead>\n",
       "  <tbody>\n",
       "    <tr>\n",
       "      <th>5</th>\n",
       "      <td>Samantha</td>\n",
       "      <td>Houston</td>\n",
       "    </tr>\n",
       "    <tr>\n",
       "      <th>11</th>\n",
       "      <td>Alex</td>\n",
       "      <td>Seattle</td>\n",
       "    </tr>\n",
       "  </tbody>\n",
       "</table>\n",
       "</div>"
      ],
      "text/plain": [
       "        name     city\n",
       "5   Samantha  Houston\n",
       "11      Alex  Seattle"
      ]
     },
     "execution_count": 88,
     "metadata": {},
     "output_type": "execute_result"
    }
   ],
   "source": [
    "#What should we get now?\n",
    "students_df.loc[['5','11'],['name', 'city']]"
   ]
  },
  {
   "cell_type": "code",
   "execution_count": 99,
   "metadata": {},
   "outputs": [
    {
     "data": {
      "text/html": [
       "<div>\n",
       "<style scoped>\n",
       "    .dataframe tbody tr th:only-of-type {\n",
       "        vertical-align: middle;\n",
       "    }\n",
       "\n",
       "    .dataframe tbody tr th {\n",
       "        vertical-align: top;\n",
       "    }\n",
       "\n",
       "    .dataframe thead th {\n",
       "        text-align: right;\n",
       "    }\n",
       "</style>\n",
       "<table border=\"1\" class=\"dataframe\">\n",
       "  <thead>\n",
       "    <tr style=\"text-align: right;\">\n",
       "      <th></th>\n",
       "      <th>age</th>\n",
       "      <th>city</th>\n",
       "      <th>state</th>\n",
       "    </tr>\n",
       "    <tr>\n",
       "      <th>name</th>\n",
       "      <th></th>\n",
       "      <th></th>\n",
       "      <th></th>\n",
       "    </tr>\n",
       "  </thead>\n",
       "  <tbody>\n",
       "    <tr>\n",
       "      <th>Samantha</th>\n",
       "      <td>35</td>\n",
       "      <td>Houston</td>\n",
       "      <td>Texas</td>\n",
       "    </tr>\n",
       "    <tr>\n",
       "      <th>Alex</th>\n",
       "      <td>17</td>\n",
       "      <td>Seattle</td>\n",
       "      <td>Washington</td>\n",
       "    </tr>\n",
       "    <tr>\n",
       "      <th>Dante</th>\n",
       "      <td>26</td>\n",
       "      <td>New york</td>\n",
       "      <td>New York</td>\n",
       "    </tr>\n",
       "    <tr>\n",
       "      <th>Samantha</th>\n",
       "      <td>21</td>\n",
       "      <td>Atlanta</td>\n",
       "      <td>Georgia</td>\n",
       "    </tr>\n",
       "  </tbody>\n",
       "</table>\n",
       "</div>"
      ],
      "text/plain": [
       "         age      city       state\n",
       "name                              \n",
       "Samantha  35   Houston       Texas\n",
       "Alex      17   Seattle  Washington\n",
       "Dante     26  New york    New York\n",
       "Samantha  21   Atlanta     Georgia"
      ]
     },
     "execution_count": 99,
     "metadata": {},
     "output_type": "execute_result"
    }
   ],
   "source": [
    "students_df.set_index(\"name\", inplace=True)\n",
    "students_df"
   ]
  },
  {
   "cell_type": "code",
   "execution_count": 100,
   "metadata": {},
   "outputs": [
    {
     "data": {
      "text/html": [
       "<div>\n",
       "<style scoped>\n",
       "    .dataframe tbody tr th:only-of-type {\n",
       "        vertical-align: middle;\n",
       "    }\n",
       "\n",
       "    .dataframe tbody tr th {\n",
       "        vertical-align: top;\n",
       "    }\n",
       "\n",
       "    .dataframe thead th {\n",
       "        text-align: right;\n",
       "    }\n",
       "</style>\n",
       "<table border=\"1\" class=\"dataframe\">\n",
       "  <thead>\n",
       "    <tr style=\"text-align: right;\">\n",
       "      <th></th>\n",
       "      <th>age</th>\n",
       "      <th>city</th>\n",
       "      <th>state</th>\n",
       "    </tr>\n",
       "    <tr>\n",
       "      <th>name</th>\n",
       "      <th></th>\n",
       "      <th></th>\n",
       "      <th></th>\n",
       "    </tr>\n",
       "  </thead>\n",
       "  <tbody>\n",
       "    <tr>\n",
       "      <th>Samantha</th>\n",
       "      <td>35</td>\n",
       "      <td>Houston</td>\n",
       "      <td>Texas</td>\n",
       "    </tr>\n",
       "    <tr>\n",
       "      <th>Samantha</th>\n",
       "      <td>21</td>\n",
       "      <td>Atlanta</td>\n",
       "      <td>Georgia</td>\n",
       "    </tr>\n",
       "  </tbody>\n",
       "</table>\n",
       "</div>"
      ],
      "text/plain": [
       "         age     city    state\n",
       "name                          \n",
       "Samantha  35  Houston    Texas\n",
       "Samantha  21  Atlanta  Georgia"
      ]
     },
     "execution_count": 100,
     "metadata": {},
     "output_type": "execute_result"
    }
   ],
   "source": [
    "students_df.loc[['Samantha']]"
   ]
  },
  {
   "cell_type": "code",
   "execution_count": null,
   "metadata": {},
   "outputs": [],
   "source": [
    "#Subsetting nonconsecutive rows\n",
    "students_df.loc[['Samantha','Dante']]"
   ]
  },
  {
   "cell_type": "code",
   "execution_count": null,
   "metadata": {},
   "outputs": [],
   "source": [
    "#Samantha to the end\n",
    "students_df.loc['Samantha':]"
   ]
  },
  {
   "cell_type": "code",
   "execution_count": null,
   "metadata": {},
   "outputs": [],
   "source": [
    "#return the first and last rows using one loc command\n",
    "\n"
   ]
  },
  {
   "cell_type": "markdown",
   "metadata": {},
   "source": [
    "### Boolean Subsetting"
   ]
  },
  {
   "cell_type": "code",
   "execution_count": 91,
   "metadata": {},
   "outputs": [],
   "source": [
    "student_dict = {\n",
    "    'name' : ['Samantha', 'Alex', 'Dante','Samantha'],\n",
    "    'age' : ['35','17','26','21'],\n",
    "    'city' : ['Houston', 'Seattle', 'New york','Atlanta'],\n",
    "    'state' :['Texas', 'Washington','New York','Georgia']\n",
    "}\n",
    "\n",
    "students_df = pd.DataFrame(student_dict) "
   ]
  },
  {
   "cell_type": "code",
   "execution_count": 92,
   "metadata": {},
   "outputs": [
    {
     "data": {
      "text/html": [
       "<div>\n",
       "<style scoped>\n",
       "    .dataframe tbody tr th:only-of-type {\n",
       "        vertical-align: middle;\n",
       "    }\n",
       "\n",
       "    .dataframe tbody tr th {\n",
       "        vertical-align: top;\n",
       "    }\n",
       "\n",
       "    .dataframe thead th {\n",
       "        text-align: right;\n",
       "    }\n",
       "</style>\n",
       "<table border=\"1\" class=\"dataframe\">\n",
       "  <thead>\n",
       "    <tr style=\"text-align: right;\">\n",
       "      <th></th>\n",
       "      <th>name</th>\n",
       "      <th>age</th>\n",
       "      <th>city</th>\n",
       "      <th>state</th>\n",
       "    </tr>\n",
       "  </thead>\n",
       "  <tbody>\n",
       "    <tr>\n",
       "      <th>0</th>\n",
       "      <td>Samantha</td>\n",
       "      <td>35</td>\n",
       "      <td>Houston</td>\n",
       "      <td>Texas</td>\n",
       "    </tr>\n",
       "    <tr>\n",
       "      <th>3</th>\n",
       "      <td>Samantha</td>\n",
       "      <td>21</td>\n",
       "      <td>Atlanta</td>\n",
       "      <td>Georgia</td>\n",
       "    </tr>\n",
       "  </tbody>\n",
       "</table>\n",
       "</div>"
      ],
      "text/plain": [
       "       name age     city    state\n",
       "0  Samantha  35  Houston    Texas\n",
       "3  Samantha  21  Atlanta  Georgia"
      ]
     },
     "execution_count": 92,
     "metadata": {},
     "output_type": "execute_result"
    }
   ],
   "source": [
    "#The statement data[‘name’] == ‘Samantha’] produces a Pandas Series with a True/False value for every row \n",
    "#in the ‘data’ DataFrame, where there are “True” values for the rows where the name is “Samantha”. \n",
    "#These type of boolean arrays can be passed directly to the .loc indexer.\n",
    "students_df.loc[students_df['name']=='Samantha']"
   ]
  },
  {
   "cell_type": "code",
   "execution_count": 93,
   "metadata": {},
   "outputs": [
    {
     "data": {
      "text/html": [
       "<div>\n",
       "<style scoped>\n",
       "    .dataframe tbody tr th:only-of-type {\n",
       "        vertical-align: middle;\n",
       "    }\n",
       "\n",
       "    .dataframe tbody tr th {\n",
       "        vertical-align: top;\n",
       "    }\n",
       "\n",
       "    .dataframe thead th {\n",
       "        text-align: right;\n",
       "    }\n",
       "</style>\n",
       "<table border=\"1\" class=\"dataframe\">\n",
       "  <thead>\n",
       "    <tr style=\"text-align: right;\">\n",
       "      <th></th>\n",
       "      <th>city</th>\n",
       "      <th>state</th>\n",
       "    </tr>\n",
       "  </thead>\n",
       "  <tbody>\n",
       "    <tr>\n",
       "      <th>0</th>\n",
       "      <td>Houston</td>\n",
       "      <td>Texas</td>\n",
       "    </tr>\n",
       "    <tr>\n",
       "      <th>3</th>\n",
       "      <td>Atlanta</td>\n",
       "      <td>Georgia</td>\n",
       "    </tr>\n",
       "  </tbody>\n",
       "</table>\n",
       "</div>"
      ],
      "text/plain": [
       "      city    state\n",
       "0  Houston    Texas\n",
       "3  Atlanta  Georgia"
      ]
     },
     "execution_count": 93,
     "metadata": {},
     "output_type": "execute_result"
    }
   ],
   "source": [
    "#What about if we only want the city and state of the selected students with the name Samantha?\n",
    "students_df.loc[students_df['name']=='Samantha',['city','state']]"
   ]
  },
  {
   "cell_type": "code",
   "execution_count": 94,
   "metadata": {},
   "outputs": [
    {
     "data": {
      "text/html": [
       "<div>\n",
       "<style scoped>\n",
       "    .dataframe tbody tr th:only-of-type {\n",
       "        vertical-align: middle;\n",
       "    }\n",
       "\n",
       "    .dataframe tbody tr th {\n",
       "        vertical-align: top;\n",
       "    }\n",
       "\n",
       "    .dataframe thead th {\n",
       "        text-align: right;\n",
       "    }\n",
       "</style>\n",
       "<table border=\"1\" class=\"dataframe\">\n",
       "  <thead>\n",
       "    <tr style=\"text-align: right;\">\n",
       "      <th></th>\n",
       "      <th>name</th>\n",
       "      <th>age</th>\n",
       "      <th>city</th>\n",
       "      <th>state</th>\n",
       "    </tr>\n",
       "  </thead>\n",
       "  <tbody>\n",
       "    <tr>\n",
       "      <th>3</th>\n",
       "      <td>Samantha</td>\n",
       "      <td>21</td>\n",
       "      <td>Atlanta</td>\n",
       "      <td>Georgia</td>\n",
       "    </tr>\n",
       "  </tbody>\n",
       "</table>\n",
       "</div>"
      ],
      "text/plain": [
       "       name age     city    state\n",
       "3  Samantha  21  Atlanta  Georgia"
      ]
     },
     "execution_count": 94,
     "metadata": {},
     "output_type": "execute_result"
    }
   ],
   "source": [
    "#What amount if we want to select a student of a specific age? \n",
    "students_df.loc[students_df['age']=='21']"
   ]
  },
  {
   "cell_type": "code",
   "execution_count": 95,
   "metadata": {},
   "outputs": [
    {
     "data": {
      "text/html": [
       "<div>\n",
       "<style scoped>\n",
       "    .dataframe tbody tr th:only-of-type {\n",
       "        vertical-align: middle;\n",
       "    }\n",
       "\n",
       "    .dataframe tbody tr th {\n",
       "        vertical-align: top;\n",
       "    }\n",
       "\n",
       "    .dataframe thead th {\n",
       "        text-align: right;\n",
       "    }\n",
       "</style>\n",
       "<table border=\"1\" class=\"dataframe\">\n",
       "  <thead>\n",
       "    <tr style=\"text-align: right;\">\n",
       "      <th></th>\n",
       "      <th>name</th>\n",
       "      <th>age</th>\n",
       "      <th>city</th>\n",
       "      <th>state</th>\n",
       "    </tr>\n",
       "  </thead>\n",
       "  <tbody>\n",
       "    <tr>\n",
       "      <th>3</th>\n",
       "      <td>Samantha</td>\n",
       "      <td>21</td>\n",
       "      <td>Atlanta</td>\n",
       "      <td>Georgia</td>\n",
       "    </tr>\n",
       "  </tbody>\n",
       "</table>\n",
       "</div>"
      ],
      "text/plain": [
       "       name age     city    state\n",
       "3  Samantha  21  Atlanta  Georgia"
      ]
     },
     "execution_count": 95,
     "metadata": {},
     "output_type": "execute_result"
    }
   ],
   "source": [
    "#What amount if we want to select a student of a specific age? \n",
    "students_df.loc[(students_df['age']=='21') & (students_df['city']=='Atlanta')]"
   ]
  },
  {
   "cell_type": "code",
   "execution_count": 96,
   "metadata": {},
   "outputs": [
    {
     "data": {
      "text/html": [
       "<div>\n",
       "<style scoped>\n",
       "    .dataframe tbody tr th:only-of-type {\n",
       "        vertical-align: middle;\n",
       "    }\n",
       "\n",
       "    .dataframe tbody tr th {\n",
       "        vertical-align: top;\n",
       "    }\n",
       "\n",
       "    .dataframe thead th {\n",
       "        text-align: right;\n",
       "    }\n",
       "</style>\n",
       "<table border=\"1\" class=\"dataframe\">\n",
       "  <thead>\n",
       "    <tr style=\"text-align: right;\">\n",
       "      <th></th>\n",
       "      <th>name</th>\n",
       "      <th>age</th>\n",
       "      <th>city</th>\n",
       "      <th>state</th>\n",
       "    </tr>\n",
       "  </thead>\n",
       "  <tbody>\n",
       "  </tbody>\n",
       "</table>\n",
       "</div>"
      ],
      "text/plain": [
       "Empty DataFrame\n",
       "Columns: [name, age, city, state]\n",
       "Index: []"
      ]
     },
     "execution_count": 96,
     "metadata": {},
     "output_type": "execute_result"
    }
   ],
   "source": [
    "#What should be returned? \n",
    "students_df.loc[(students_df['age']=='35') & (students_df['city']=='Atlanta')]"
   ]
  },
  {
   "cell_type": "markdown",
   "metadata": {},
   "source": [
    "### Lesson Recap\n",
    "Pandas combines the power of python lists (selection via integer location) and dictionaries (selection by label)\n",
    "\n",
    "`.iloc` is primarily integer position based (from 0 to length-1 of the axis), but may also be used with a boolean array.\n",
    "\n",
    "`.iloc` will raise IndexError if a requested indexer is out-of-bounds, except slice indexers which allow out-of-bounds indexing (this conforms with python/numpy slice semantics).\n",
    "\n",
    "`.loc` is primarily label based, but may also be used with a boolean array.\n",
    "\n",
    "#### Warning Note that contrary to usual python slices, both the start and the stop are included.\n",
    "\n",
    "`.loc` will raise a keyError when any items are not found.\n",
    "\n",
    "### Pandas\n",
    "- The data structures in Pandas are implemented using series and dataframe classes.  \n",
    "- A series is a one-dimensional indexed array of some fixed data type.  \n",
    "- While a dataframe is a two-dimensional data structure like a table where each column contains data of the same type.  \n",
    "- DataFrames are great for representing real data: rows correspond to instances (examples, observations, etc.), and columns correspond to features of these instances.\n"
   ]
  },
  {
   "cell_type": "markdown",
   "metadata": {},
   "source": [
    "### CLASS ASSIGNMENT\n",
    "Now that we have all of these new tools in our tool belt, use these tools on the shelter data set! \n",
    "- Use `shelter_data.columns` to get the list of column names.\n",
    "- Subset the data by '`Outcome Subtype`.\n",
    "- Subset the data by '`Outcome Subtype` `Adoption` and only return the `Animal Type` column. \n",
    "- Subset the data by '`Outcome Subtype` `Adoption` and only return the `Animal Type` column with only `Cat`. \n",
    "- Play around with your new tools on the data set.\n",
    "- For extra credit: What are the data types returned from the different subsetting? Is what returned a series or dataframe?"
   ]
  },
  {
   "cell_type": "code",
   "execution_count": 97,
   "metadata": {},
   "outputs": [
    {
     "data": {
      "text/html": [
       "<div>\n",
       "<style scoped>\n",
       "    .dataframe tbody tr th:only-of-type {\n",
       "        vertical-align: middle;\n",
       "    }\n",
       "\n",
       "    .dataframe tbody tr th {\n",
       "        vertical-align: top;\n",
       "    }\n",
       "\n",
       "    .dataframe thead th {\n",
       "        text-align: right;\n",
       "    }\n",
       "</style>\n",
       "<table border=\"1\" class=\"dataframe\">\n",
       "  <thead>\n",
       "    <tr style=\"text-align: right;\">\n",
       "      <th></th>\n",
       "      <th>Animal ID</th>\n",
       "      <th>Name</th>\n",
       "      <th>DateTime</th>\n",
       "      <th>MonthYear</th>\n",
       "      <th>Date of Birth</th>\n",
       "      <th>Outcome Type</th>\n",
       "      <th>Outcome Subtype</th>\n",
       "      <th>Animal Type</th>\n",
       "      <th>Sex upon Outcome</th>\n",
       "      <th>Age upon Outcome</th>\n",
       "      <th>Breed</th>\n",
       "      <th>Color</th>\n",
       "    </tr>\n",
       "  </thead>\n",
       "  <tbody>\n",
       "    <tr>\n",
       "      <th>0</th>\n",
       "      <td>A793212</td>\n",
       "      <td>*Jelly Bean</td>\n",
       "      <td>06/07/2019 11:27:00 AM</td>\n",
       "      <td>06/07/2019 11:27:00 AM</td>\n",
       "      <td>03/10/2019</td>\n",
       "      <td>Adoption</td>\n",
       "      <td>Foster</td>\n",
       "      <td>Dog</td>\n",
       "      <td>Neutered Male</td>\n",
       "      <td>2 months</td>\n",
       "      <td>Plott Hound Mix</td>\n",
       "      <td>Tricolor</td>\n",
       "    </tr>\n",
       "    <tr>\n",
       "      <th>1</th>\n",
       "      <td>A796843</td>\n",
       "      <td>Jordan</td>\n",
       "      <td>06/07/2019 11:18:00 AM</td>\n",
       "      <td>06/07/2019 11:18:00 AM</td>\n",
       "      <td>06/06/2017</td>\n",
       "      <td>Return to Owner</td>\n",
       "      <td>NaN</td>\n",
       "      <td>Dog</td>\n",
       "      <td>Intact Female</td>\n",
       "      <td>2 years</td>\n",
       "      <td>Doberman Pinsch</td>\n",
       "      <td>Brown/Tan</td>\n",
       "    </tr>\n",
       "    <tr>\n",
       "      <th>2</th>\n",
       "      <td>A796597</td>\n",
       "      <td>NaN</td>\n",
       "      <td>06/07/2019 10:56:00 AM</td>\n",
       "      <td>06/07/2019 10:56:00 AM</td>\n",
       "      <td>06/03/2014</td>\n",
       "      <td>Euthanasia</td>\n",
       "      <td>Suffering</td>\n",
       "      <td>Dog</td>\n",
       "      <td>Intact Male</td>\n",
       "      <td>5 years</td>\n",
       "      <td>German Shepherd Mix</td>\n",
       "      <td>Brown</td>\n",
       "    </tr>\n",
       "    <tr>\n",
       "      <th>3</th>\n",
       "      <td>A796906</td>\n",
       "      <td>NaN</td>\n",
       "      <td>06/07/2019 10:46:00 AM</td>\n",
       "      <td>06/07/2019 10:46:00 AM</td>\n",
       "      <td>06/07/2014</td>\n",
       "      <td>Euthanasia</td>\n",
       "      <td>Suffering</td>\n",
       "      <td>Cat</td>\n",
       "      <td>Unknown</td>\n",
       "      <td>NaN</td>\n",
       "      <td>Domestic Shorthair</td>\n",
       "      <td>Blue/White</td>\n",
       "    </tr>\n",
       "    <tr>\n",
       "      <th>4</th>\n",
       "      <td>A796905</td>\n",
       "      <td>NaN</td>\n",
       "      <td>06/07/2019 10:27:00 AM</td>\n",
       "      <td>06/07/2019 10:27:00 AM</td>\n",
       "      <td>06/07/2017</td>\n",
       "      <td>Euthanasia</td>\n",
       "      <td>Suffering</td>\n",
       "      <td>Other</td>\n",
       "      <td>Unknown</td>\n",
       "      <td>2 years</td>\n",
       "      <td>Raccoon</td>\n",
       "      <td>Black/Gray</td>\n",
       "    </tr>\n",
       "  </tbody>\n",
       "</table>\n",
       "</div>"
      ],
      "text/plain": [
       "  Animal ID         Name                DateTime               MonthYear  \\\n",
       "0   A793212  *Jelly Bean  06/07/2019 11:27:00 AM  06/07/2019 11:27:00 AM   \n",
       "1   A796843       Jordan  06/07/2019 11:18:00 AM  06/07/2019 11:18:00 AM   \n",
       "2   A796597          NaN  06/07/2019 10:56:00 AM  06/07/2019 10:56:00 AM   \n",
       "3   A796906          NaN  06/07/2019 10:46:00 AM  06/07/2019 10:46:00 AM   \n",
       "4   A796905          NaN  06/07/2019 10:27:00 AM  06/07/2019 10:27:00 AM   \n",
       "\n",
       "  Date of Birth     Outcome Type Outcome Subtype Animal Type Sex upon Outcome  \\\n",
       "0    03/10/2019         Adoption          Foster         Dog    Neutered Male   \n",
       "1    06/06/2017  Return to Owner             NaN         Dog    Intact Female   \n",
       "2    06/03/2014       Euthanasia       Suffering         Dog      Intact Male   \n",
       "3    06/07/2014       Euthanasia       Suffering         Cat          Unknown   \n",
       "4    06/07/2017       Euthanasia       Suffering       Other          Unknown   \n",
       "\n",
       "  Age upon Outcome                Breed       Color  \n",
       "0         2 months      Plott Hound Mix    Tricolor  \n",
       "1          2 years      Doberman Pinsch   Brown/Tan  \n",
       "2          5 years  German Shepherd Mix       Brown  \n",
       "3              NaN   Domestic Shorthair  Blue/White  \n",
       "4          2 years              Raccoon  Black/Gray  "
      ]
     },
     "execution_count": 97,
     "metadata": {},
     "output_type": "execute_result"
    }
   ],
   "source": [
    "import pandas as pd\n",
    "shelter_data=pd.read_csv('https://data.austintexas.gov/api/views/9t4d-g238/rows.csv?accessType=DOWNLOAD') \n",
    "shelter_data.head()"
   ]
  },
  {
   "cell_type": "code",
   "execution_count": 98,
   "metadata": {
    "scrolled": false
   },
   "outputs": [
    {
     "data": {
      "text/plain": [
       "Index(['Animal ID', 'Name', 'DateTime', 'MonthYear', 'Date of Birth',\n",
       "       'Outcome Type', 'Outcome Subtype', 'Animal Type', 'Sex upon Outcome',\n",
       "       'Age upon Outcome', 'Breed', 'Color'],\n",
       "      dtype='object')"
      ]
     },
     "execution_count": 98,
     "metadata": {},
     "output_type": "execute_result"
    }
   ],
   "source": [
    "shelter_data.columns"
   ]
  },
  {
   "cell_type": "code",
   "execution_count": 104,
   "metadata": {
    "scrolled": true
   },
   "outputs": [
    {
     "data": {
      "text/plain": [
       "array(['Foster', nan, 'Suffering', 'At Vet', 'In Foster', 'Partner',\n",
       "       'Rabies Risk', 'Snr', 'In Kennel', 'Offsite', 'Behavior',\n",
       "       'Medical', 'In Surgery', 'Field', 'Customer S', 'Enroute',\n",
       "       'Underage', 'Barn', 'Aggressive', 'Court/Investigation',\n",
       "       'Possible Theft', 'SCRP'], dtype=object)"
      ]
     },
     "execution_count": 104,
     "metadata": {},
     "output_type": "execute_result"
    }
   ],
   "source": [
    "ulist=shelter_data['Outcome Subtype'].unique()\n",
    "ulist"
   ]
  },
  {
   "cell_type": "code",
   "execution_count": 117,
   "metadata": {},
   "outputs": [
    {
     "name": "stdout",
     "output_type": "stream",
     "text": [
      "                Name Outcome Subtype\n",
      "0        *Jelly Bean          Foster\n",
      "32            *Basil          Foster\n",
      "33          *Caraway          Foster\n",
      "34           *Fennel          Foster\n",
      "42             *Mars          Foster\n",
      "43          *Ambrose          Foster\n",
      "44               NaN          Foster\n",
      "45               NaN          Foster\n",
      "53           *Pepper          Foster\n",
      "55             *Tony          Foster\n",
      "56               NaN          Foster\n",
      "57               NaN          Foster\n",
      "59               NaN          Foster\n",
      "60               NaN          Foster\n",
      "63           *Sophie          Foster\n",
      "76               Sol          Foster\n",
      "77             *Juno          Foster\n",
      "79               NaN          Foster\n",
      "80            *Betty          Foster\n",
      "101              NaN          Foster\n",
      "102              NaN          Foster\n",
      "134          *Abbott          Foster\n",
      "135        *Costello          Foster\n",
      "136              NaN          Foster\n",
      "182          *Boogie          Foster\n",
      "220             Narf          Foster\n",
      "222             Lala          Foster\n",
      "223         *Giddyup          Foster\n",
      "224              NaN          Foster\n",
      "225            *Bell          Foster\n",
      "...              ...             ...\n",
      "100632          Lucy          Foster\n",
      "100712        *Sandy          Foster\n",
      "100721         Ponyo          Foster\n",
      "100757       *Thelma          Foster\n",
      "100810      *Jackson          Foster\n",
      "100847          Bobo          Foster\n",
      "100864       *Maddie          Foster\n",
      "100905         Roxie          Foster\n",
      "100918         *Gwen          Foster\n",
      "100923        Oliver          Foster\n",
      "100924        *Monty          Foster\n",
      "100934         Sunny          Foster\n",
      "100935          Lexi          Foster\n",
      "100943         Peggy          Foster\n",
      "100944        Albert          Foster\n",
      "100945       *Cooper          Foster\n",
      "100952           NaN          Foster\n",
      "101000         *Lucy          Foster\n",
      "101054    *Sprinkles          Foster\n",
      "101061       Toonchi          Foster\n",
      "101069     *Pop Tart          Foster\n",
      "101073         *Owen          Foster\n",
      "101118   *Creamsicle          Foster\n",
      "101123  *Moon Doggie          Foster\n",
      "101124          Remi          Foster\n",
      "101147        Nugget          Foster\n",
      "101153      *Rooster          Foster\n",
      "101204       *Margot          Foster\n",
      "101227         *Hank          Foster\n",
      "101279       *Dudley          Foster\n",
      "\n",
      "[7726 rows x 2 columns]\n",
      "Empty DataFrame\n",
      "Columns: [Name, Outcome Subtype]\n",
      "Index: []\n",
      "              Name Outcome Subtype\n",
      "2              NaN       Suffering\n",
      "3              NaN       Suffering\n",
      "4              NaN       Suffering\n",
      "90           Rambo       Suffering\n",
      "165            NaN       Suffering\n",
      "292        *Laylah       Suffering\n",
      "381            NaN       Suffering\n",
      "391            NaN       Suffering\n",
      "392            NaN       Suffering\n",
      "412            NaN       Suffering\n",
      "459            NaN       Suffering\n",
      "460            NaN       Suffering\n",
      "461            NaN       Suffering\n",
      "462            NaN       Suffering\n",
      "480            NaN       Suffering\n",
      "483            NaN       Suffering\n",
      "708           Zara       Suffering\n",
      "722            NaN       Suffering\n",
      "819            NaN       Suffering\n",
      "822            NaN       Suffering\n",
      "875            NaN       Suffering\n",
      "974            NaN       Suffering\n",
      "1021           NaN       Suffering\n",
      "1024           NaN       Suffering\n",
      "1149           Cat       Suffering\n",
      "1163           NaN       Suffering\n",
      "1164           NaN       Suffering\n",
      "1223           NaN       Suffering\n",
      "1232           NaN       Suffering\n",
      "1233           NaN       Suffering\n",
      "...            ...             ...\n",
      "100545         NaN       Suffering\n",
      "100595     *Minnie       Suffering\n",
      "100633       Emily       Suffering\n",
      "100695   Frijolito       Suffering\n",
      "100698         NaN       Suffering\n",
      "100700         NaN       Suffering\n",
      "100716         NaN       Suffering\n",
      "100726         NaN       Suffering\n",
      "100734   Fuzzyball       Suffering\n",
      "100781         NaN       Suffering\n",
      "100838         NaN       Suffering\n",
      "100854     *Carrie       Suffering\n",
      "100865         NaN       Suffering\n",
      "100883         NaN       Suffering\n",
      "100885         NaN       Suffering\n",
      "100886        Rock       Suffering\n",
      "100917         NaN       Suffering\n",
      "100920         NaN       Suffering\n",
      "100926         NaN       Suffering\n",
      "100928         NaN       Suffering\n",
      "101105         NaN       Suffering\n",
      "101138  Miss Kitty       Suffering\n",
      "101162         NaN       Suffering\n",
      "101222         NaN       Suffering\n",
      "101226         NaN       Suffering\n",
      "101228         NaN       Suffering\n",
      "101234         NaN       Suffering\n",
      "101239    *Nutella       Suffering\n",
      "101248      Stevie       Suffering\n",
      "101255         NaN       Suffering\n",
      "\n",
      "[2855 rows x 2 columns]\n",
      "            Name Outcome Subtype\n",
      "5            NaN          At Vet\n",
      "158       Tucker          At Vet\n",
      "360          *Jo          At Vet\n",
      "2069         NaN          At Vet\n",
      "2070      Frisco          At Vet\n",
      "2105         NaN          At Vet\n",
      "2794         NaN          At Vet\n",
      "3140         NaN          At Vet\n",
      "3315         NaN          At Vet\n",
      "3352         NaN          At Vet\n",
      "3525         NaN          At Vet\n",
      "3543         NaN          At Vet\n",
      "4831         NaN          At Vet\n",
      "4832   Susie Lee          At Vet\n",
      "4833       Nikki          At Vet\n",
      "4834         NaN          At Vet\n",
      "5494         NaN          At Vet\n",
      "5504         NaN          At Vet\n",
      "6851         NaN          At Vet\n",
      "7544         NaN          At Vet\n",
      "8979         NaN          At Vet\n",
      "8992       Ziggy          At Vet\n",
      "9135        Milo          At Vet\n",
      "10050      *Boop          At Vet\n",
      "10894        NaN          At Vet\n",
      "11201        NaN          At Vet\n",
      "11263     *Spice          At Vet\n",
      "11424     Booyah          At Vet\n",
      "16384  *Rigatoni          At Vet\n",
      "16672        NaN          At Vet\n",
      "...          ...             ...\n",
      "38809        NaN          At Vet\n",
      "39000        NaN          At Vet\n",
      "39681        NaN          At Vet\n",
      "39794     *Libby          At Vet\n",
      "39901       Cash          At Vet\n",
      "39966        NaN          At Vet\n",
      "40694       Lily          At Vet\n",
      "41751        NaN          At Vet\n",
      "42088      Indio          At Vet\n",
      "43668     Goldie          At Vet\n",
      "44334        NaN          At Vet\n",
      "44341     Skippy          At Vet\n",
      "44893        NaN          At Vet\n",
      "44986        NaN          At Vet\n",
      "45164        NaN          At Vet\n",
      "46522  *Cinnabun          At Vet\n",
      "49132        NaN          At Vet\n",
      "49520       Toto          At Vet\n",
      "50171     Buster          At Vet\n",
      "53996        Rex          At Vet\n",
      "55321        NaN          At Vet\n",
      "60817        NaN          At Vet\n",
      "61682      *Will          At Vet\n",
      "62251        NaN          At Vet\n",
      "66308      Spike          At Vet\n",
      "75882   Princess          At Vet\n",
      "89358      *Star          At Vet\n",
      "90344        NaN          At Vet\n",
      "90346   *Sherbet          At Vet\n",
      "95280        NaN          At Vet\n",
      "\n",
      "[119 rows x 2 columns]\n",
      "            Name Outcome Subtype\n",
      "7            NaN       In Foster\n",
      "8       *Lou Lou       In Foster\n",
      "351        *Beth       In Foster\n",
      "423      *Elrond       In Foster\n",
      "882         Mojo       In Foster\n",
      "941          NaN       In Foster\n",
      "946          NaN       In Foster\n",
      "1116       *Bart       In Foster\n",
      "1834     *Jasper       In Foster\n",
      "1911         NaN       In Foster\n",
      "2302         NaN       In Foster\n",
      "2407         NaN       In Foster\n",
      "2531         NaN       In Foster\n",
      "2532         NaN       In Foster\n",
      "2641         NaN       In Foster\n",
      "3387         NaN       In Foster\n",
      "3456         NaN       In Foster\n",
      "3546         NaN       In Foster\n",
      "3686         NaN       In Foster\n",
      "3793     Roswell       In Foster\n",
      "3848     *Minnie       In Foster\n",
      "4235         NaN       In Foster\n",
      "4361         NaN       In Foster\n",
      "4390         NaN       In Foster\n",
      "4393         NaN       In Foster\n",
      "4537         NaN       In Foster\n",
      "4766        King       In Foster\n",
      "5209         NaN       In Foster\n",
      "10035     *Colby       In Foster\n",
      "11455        NaN       In Foster\n",
      "...          ...             ...\n",
      "87133     *Leroy       In Foster\n",
      "87384        NaN       In Foster\n",
      "87518        NaN       In Foster\n",
      "87681        NaN       In Foster\n",
      "87738        NaN       In Foster\n",
      "87878        NaN       In Foster\n",
      "87930        NaN       In Foster\n",
      "88333     *Mikey       In Foster\n",
      "88502        NaN       In Foster\n",
      "88537        NaN       In Foster\n",
      "88993      *Mary       In Foster\n",
      "89397        NaN       In Foster\n",
      "90284     *Ebbie       In Foster\n",
      "90345      *Hawk       In Foster\n",
      "90869      *Wren       In Foster\n",
      "91104        NaN       In Foster\n",
      "91710        NaN       In Foster\n",
      "92224        NaN       In Foster\n",
      "93850       Bobo       In Foster\n",
      "94280     Ranger       In Foster\n",
      "95797      *Vera       In Foster\n",
      "97778     *Figgy       In Foster\n",
      "98071        NaN       In Foster\n",
      "99373    *Noodle       In Foster\n",
      "99868        NaN       In Foster\n",
      "99869        NaN       In Foster\n",
      "99943       Tres       In Foster\n",
      "100179       NaN       In Foster\n",
      "101223       NaN       In Foster\n",
      "101224       NaN       In Foster\n",
      "\n",
      "[241 rows x 2 columns]\n",
      "                Name Outcome Subtype\n",
      "28               NaN         Partner\n",
      "29               NaN         Partner\n",
      "30               NaN         Partner\n",
      "31               NaN         Partner\n",
      "36             Sadie         Partner\n",
      "37            *Maven         Partner\n",
      "38              Elmo         Partner\n",
      "39            *Michi         Partner\n",
      "40           *Violet         Partner\n",
      "49               NaN         Partner\n",
      "50               NaN         Partner\n",
      "51               NaN         Partner\n",
      "52               NaN         Partner\n",
      "54          *Cosette         Partner\n",
      "67               NaN         Partner\n",
      "68               NaN         Partner\n",
      "69               NaN         Partner\n",
      "70               NaN         Partner\n",
      "71               NaN         Partner\n",
      "72               NaN         Partner\n",
      "73               NaN         Partner\n",
      "81               NaN         Partner\n",
      "85               NaN         Partner\n",
      "91      Stevie Nicks         Partner\n",
      "93               NaN         Partner\n",
      "94               NaN         Partner\n",
      "96               NaN         Partner\n",
      "98               NaN         Partner\n",
      "99               NaN         Partner\n",
      "100              NaN         Partner\n",
      "...              ...             ...\n",
      "101195          Oreo         Partner\n",
      "101196         *Ajax         Partner\n",
      "101197      *Roberto         Partner\n",
      "101198           NaN         Partner\n",
      "101199           NaN         Partner\n",
      "101200         Honey         Partner\n",
      "101202           NaN         Partner\n",
      "101206           NaN         Partner\n",
      "101207           NaN         Partner\n",
      "101208           NaN         Partner\n",
      "101209           NaN         Partner\n",
      "101210           NaN         Partner\n",
      "101211           NaN         Partner\n",
      "101217           NaN         Partner\n",
      "101219         Tiger         Partner\n",
      "101220      *Mirabai         Partner\n",
      "101230           NaN         Partner\n",
      "101251           NaN         Partner\n",
      "101252          Buck         Partner\n",
      "101253           NaN         Partner\n",
      "101256           NaN         Partner\n",
      "101257           NaN         Partner\n",
      "101258           NaN         Partner\n",
      "101259           NaN         Partner\n",
      "101260           NaN         Partner\n",
      "101273           NaN         Partner\n",
      "101274           NaN         Partner\n",
      "101276           NaN         Partner\n",
      "101277           NaN         Partner\n",
      "101278           NaN         Partner\n",
      "\n",
      "[25143 rows x 2 columns]\n",
      "         Name Outcome Subtype\n",
      "162       NaN     Rabies Risk\n",
      "163       NaN     Rabies Risk\n",
      "164       NaN     Rabies Risk\n",
      "278       NaN     Rabies Risk\n",
      "299       NaN     Rabies Risk\n",
      "375       NaN     Rabies Risk\n",
      "426       NaN     Rabies Risk\n",
      "429       NaN     Rabies Risk\n",
      "431       NaN     Rabies Risk\n",
      "684       NaN     Rabies Risk\n",
      "876       NaN     Rabies Risk\n",
      "877       NaN     Rabies Risk\n",
      "945       NaN     Rabies Risk\n",
      "963       NaN     Rabies Risk\n",
      "993       NaN     Rabies Risk\n",
      "1002      NaN     Rabies Risk\n",
      "1007      NaN     Rabies Risk\n",
      "1028      NaN     Rabies Risk\n",
      "1230      NaN     Rabies Risk\n",
      "1295      NaN     Rabies Risk\n",
      "1296      NaN     Rabies Risk\n",
      "1297      NaN     Rabies Risk\n",
      "1495      NaN     Rabies Risk\n",
      "1505      NaN     Rabies Risk\n",
      "1677      NaN     Rabies Risk\n",
      "1699      NaN     Rabies Risk\n",
      "1728      NaN     Rabies Risk\n",
      "1863      NaN     Rabies Risk\n",
      "1916      NaN     Rabies Risk\n",
      "1969      NaN     Rabies Risk\n",
      "...       ...             ...\n",
      "100322    NaN     Rabies Risk\n",
      "100354    NaN     Rabies Risk\n",
      "100477    NaN     Rabies Risk\n",
      "100505    NaN     Rabies Risk\n",
      "100506    NaN     Rabies Risk\n",
      "100521    NaN     Rabies Risk\n",
      "100547    NaN     Rabies Risk\n",
      "100554    NaN     Rabies Risk\n",
      "100555    NaN     Rabies Risk\n",
      "100556    NaN     Rabies Risk\n",
      "100557    NaN     Rabies Risk\n",
      "100600    NaN     Rabies Risk\n",
      "100601    NaN     Rabies Risk\n",
      "100670    NaN     Rabies Risk\n",
      "100756    NaN     Rabies Risk\n",
      "100798    NaN     Rabies Risk\n",
      "100799    NaN     Rabies Risk\n",
      "100829    NaN     Rabies Risk\n",
      "100897    NaN     Rabies Risk\n",
      "100922    NaN     Rabies Risk\n",
      "100927    NaN     Rabies Risk\n",
      "100953    NaN     Rabies Risk\n",
      "100955    NaN     Rabies Risk\n",
      "100960  Buddy     Rabies Risk\n",
      "101059    NaN     Rabies Risk\n",
      "101095    NaN     Rabies Risk\n",
      "101155    NaN     Rabies Risk\n",
      "101159    NaN     Rabies Risk\n",
      "101176    NaN     Rabies Risk\n",
      "101225    NaN     Rabies Risk\n",
      "\n",
      "[3064 rows x 2 columns]\n",
      "            Name Outcome Subtype\n",
      "217    *Lavender             Snr\n",
      "234          NaN             Snr\n",
      "241          NaN             Snr\n",
      "312          NaN             Snr\n",
      "313          NaN             Snr\n",
      "314       *Vanna             Snr\n",
      "315          NaN             Snr\n",
      "493          NaN             Snr\n",
      "498          NaN             Snr\n",
      "543          NaN             Snr\n",
      "547          NaN             Snr\n",
      "548       *Curry             Snr\n",
      "549          NaN             Snr\n",
      "550          NaN             Snr\n",
      "551          NaN             Snr\n",
      "552          NaN             Snr\n",
      "553          NaN             Snr\n",
      "554          NaN             Snr\n",
      "555          NaN             Snr\n",
      "556          NaN             Snr\n",
      "682          NaN             Snr\n",
      "686          NaN             Snr\n",
      "687          NaN             Snr\n",
      "688          NaN             Snr\n",
      "689          NaN             Snr\n",
      "690          NaN             Snr\n",
      "730          NaN             Snr\n",
      "841          NaN             Snr\n",
      "861          NaN             Snr\n",
      "862         June             Snr\n",
      "...          ...             ...\n",
      "36590        NaN             Snr\n",
      "36633        NaN             Snr\n",
      "36635  *Franklin             Snr\n",
      "36697        NaN             Snr\n",
      "36698        NaN             Snr\n",
      "36730        NaN             Snr\n",
      "36757        NaN             Snr\n",
      "36758        NaN             Snr\n",
      "36759        NaN             Snr\n",
      "36760        NaN             Snr\n",
      "36761        NaN             Snr\n",
      "36762        NaN             Snr\n",
      "36833        NaN             Snr\n",
      "36872        NaN             Snr\n",
      "36873        NaN             Snr\n",
      "36878        NaN             Snr\n",
      "36879        NaN             Snr\n",
      "36881        NaN             Snr\n",
      "36882    Whisper             Snr\n",
      "36883        NaN             Snr\n",
      "36884        NaN             Snr\n",
      "36885        NaN             Snr\n",
      "36887        NaN             Snr\n",
      "37028        NaN             Snr\n",
      "37612     Peanut             Snr\n",
      "43942        NaN             Snr\n",
      "43944        NaN             Snr\n",
      "43945      Bubba             Snr\n",
      "44459        NaN             Snr\n",
      "44809        NaN             Snr\n",
      "\n",
      "[1701 rows x 2 columns]\n",
      "             Name Outcome Subtype\n",
      "288           NaN       In Kennel\n",
      "361           NaN       In Kennel\n",
      "430           NaN       In Kennel\n",
      "488           NaN       In Kennel\n",
      "490           NaN       In Kennel\n",
      "528           NaN       In Kennel\n",
      "534           NaN       In Kennel\n",
      "726           NaN       In Kennel\n",
      "838           NaN       In Kennel\n",
      "1063          NaN       In Kennel\n",
      "1068          NaN       In Kennel\n",
      "1147          NaN       In Kennel\n",
      "1148          NaN       In Kennel\n",
      "1228          NaN       In Kennel\n",
      "1508          NaN       In Kennel\n",
      "1651          NaN       In Kennel\n",
      "2212          NaN       In Kennel\n",
      "2482          NaN       In Kennel\n",
      "2562          NaN       In Kennel\n",
      "3103       Beauty       In Kennel\n",
      "3118          NaN       In Kennel\n",
      "3381          NaN       In Kennel\n",
      "3670          NaN       In Kennel\n",
      "3728         Jude       In Kennel\n",
      "3971          NaN       In Kennel\n",
      "4836          NaN       In Kennel\n",
      "4838          NaN       In Kennel\n",
      "5215          NaN       In Kennel\n",
      "5220        Sasha       In Kennel\n",
      "5614          NaN       In Kennel\n",
      "...           ...             ...\n",
      "90227         NaN       In Kennel\n",
      "90343         NaN       In Kennel\n",
      "90347       Gizmo       In Kennel\n",
      "90488         NaN       In Kennel\n",
      "91576         NaN       In Kennel\n",
      "91968         NaN       In Kennel\n",
      "92292         NaN       In Kennel\n",
      "92518         NaN       In Kennel\n",
      "92681         NaN       In Kennel\n",
      "93553         NaN       In Kennel\n",
      "93900      *Eddie       In Kennel\n",
      "94449      *Pedro       In Kennel\n",
      "94918     *Jessie       In Kennel\n",
      "95625      Jasper       In Kennel\n",
      "96644         NaN       In Kennel\n",
      "96679         NaN       In Kennel\n",
      "98241       Pinto       In Kennel\n",
      "98302         NaN       In Kennel\n",
      "98306         NaN       In Kennel\n",
      "98523         NaN       In Kennel\n",
      "98884         NaN       In Kennel\n",
      "99261        *Max       In Kennel\n",
      "99784         NaN       In Kennel\n",
      "99949         NaN       In Kennel\n",
      "100102        NaN       In Kennel\n",
      "100229     Dillon       In Kennel\n",
      "100762        NaN       In Kennel\n",
      "100763        NaN       In Kennel\n",
      "101024  *Choochoo       In Kennel\n",
      "101262        NaN       In Kennel\n",
      "\n",
      "[473 rows x 2 columns]\n",
      "             Name Outcome Subtype\n",
      "397           NaN         Offsite\n",
      "8416     *Delilah         Offsite\n",
      "9384    Jeffrey G         Offsite\n",
      "9651      Truffle         Offsite\n",
      "11279     *Sawyer         Offsite\n",
      "11556       Clyde         Offsite\n",
      "11561        Lola         Offsite\n",
      "12096    *Giselle         Offsite\n",
      "15218      *Pilot         Offsite\n",
      "16361         Dax         Offsite\n",
      "18657   *Midnight         Offsite\n",
      "19844        Nina         Offsite\n",
      "23847     *Nutmeg         Offsite\n",
      "24570      Sammie         Offsite\n",
      "24571       Oscar         Offsite\n",
      "24577        Sage         Offsite\n",
      "29039       Silas         Offsite\n",
      "29051      Louisa         Offsite\n",
      "29052    *Mooshoo         Offsite\n",
      "29054      *Mouse         Offsite\n",
      "29055    *Tom Yum         Offsite\n",
      "29058         Tut         Offsite\n",
      "29059    *Sheriff         Offsite\n",
      "29064      *Mochi         Offsite\n",
      "29065     *Clover         Offsite\n",
      "29068      Copper         Offsite\n",
      "29072      *Alamo         Offsite\n",
      "29073     *Sloane         Offsite\n",
      "29074         NaN         Offsite\n",
      "29076    Achilles         Offsite\n",
      "...           ...             ...\n",
      "96024      Austin         Offsite\n",
      "96509        *Ava         Offsite\n",
      "96537   *Emmaline         Offsite\n",
      "96541       Chico         Offsite\n",
      "97629      *Spice         Offsite\n",
      "97630       *Iota         Offsite\n",
      "97870      *Fiona         Offsite\n",
      "98003        *Moe         Offsite\n",
      "98004       *Mary         Offsite\n",
      "98347      *Gilly         Offsite\n",
      "98349       Lucky         Offsite\n",
      "98844    *Shelley         Offsite\n",
      "98846     *Bonnie         Offsite\n",
      "99055     *Smidge         Offsite\n",
      "99056       *Tiny         Offsite\n",
      "99057      *Micro         Offsite\n",
      "99376   *Lil Baby         Offsite\n",
      "99377   *Adelaide         Offsite\n",
      "99378    *Harmony         Offsite\n",
      "99379     *Stubbs         Offsite\n",
      "99635    *Davinci         Offsite\n",
      "99713    *Skipper         Offsite\n",
      "99714       *Alex         Offsite\n",
      "100626    *Cookie         Offsite\n",
      "100629      *Ella         Offsite\n",
      "100636    *Alexei         Offsite\n",
      "100970   *Tatiana         Offsite\n",
      "101021    Stanley         Offsite\n",
      "101028     *Maria         Offsite\n",
      "101030     *Puffy         Offsite\n",
      "\n",
      "[379 rows x 2 columns]\n"
     ]
    },
    {
     "name": "stdout",
     "output_type": "stream",
     "text": [
      "             Name Outcome Subtype\n",
      "906         Vinny        Behavior\n",
      "5385        Levon        Behavior\n",
      "5387       Smokey        Behavior\n",
      "6529        Bruno        Behavior\n",
      "9074         Zeus        Behavior\n",
      "29122    King Max        Behavior\n",
      "29123      Pepper        Behavior\n",
      "34242    Springer        Behavior\n",
      "34253       Snoop        Behavior\n",
      "41741         Leo        Behavior\n",
      "45971       Teddy        Behavior\n",
      "47890       Gucci        Behavior\n",
      "54142        Boss        Behavior\n",
      "56301        Abel        Behavior\n",
      "63268        Baby        Behavior\n",
      "67252         NaN        Behavior\n",
      "69432     *Cooper        Behavior\n",
      "72183        Maia        Behavior\n",
      "72309       Molly        Behavior\n",
      "72909     *Fergie        Behavior\n",
      "73103     Zuester        Behavior\n",
      "73439        Skit        Behavior\n",
      "73520       Lucky        Behavior\n",
      "74687       Major        Behavior\n",
      "75109      *Dixie        Behavior\n",
      "75220      Thiago        Behavior\n",
      "76369      Cooper        Behavior\n",
      "77966         NaN        Behavior\n",
      "78571       Zorro        Behavior\n",
      "78614         NaN        Behavior\n",
      "...           ...             ...\n",
      "97224      Lluvia        Behavior\n",
      "97455     Crystal        Behavior\n",
      "97458      *Leroy        Behavior\n",
      "97779     Ricardo        Behavior\n",
      "97803         NaN        Behavior\n",
      "97807         NaN        Behavior\n",
      "97946       Tyson        Behavior\n",
      "98419    *Jasmine        Behavior\n",
      "98500       Rocky        Behavior\n",
      "98510     Diamond        Behavior\n",
      "98511     *Tucker        Behavior\n",
      "98516       Conan        Behavior\n",
      "98807         Rex        Behavior\n",
      "98934   *Allaster        Behavior\n",
      "98970     Bubbles        Behavior\n",
      "98972    Sherlock        Behavior\n",
      "98975     *Willie        Behavior\n",
      "99199         *Oz        Behavior\n",
      "99536      *Percy        Behavior\n",
      "99538    *Preston        Behavior\n",
      "99778        Tank        Behavior\n",
      "99780       Rosco        Behavior\n",
      "99804      *Ollie        Behavior\n",
      "99970     *Marcos        Behavior\n",
      "100341      *Cody        Behavior\n",
      "100831     *Tessa        Behavior\n",
      "101067   *Mallory        Behavior\n",
      "101068     Archie        Behavior\n",
      "101188        NaN        Behavior\n",
      "101268       Deco        Behavior\n",
      "\n",
      "[147 rows x 2 columns]\n",
      "                Name Outcome Subtype\n",
      "937           Avalon         Medical\n",
      "1231             NaN         Medical\n",
      "1273             NaN         Medical\n",
      "1427             NaN         Medical\n",
      "1503       *Marzipan         Medical\n",
      "2166          Boomer         Medical\n",
      "2566             NaN         Medical\n",
      "2927             NaN         Medical\n",
      "2935             NaN         Medical\n",
      "3168             NaN         Medical\n",
      "3242             NaN         Medical\n",
      "5279    Elliot Pound         Medical\n",
      "6263             NaN         Medical\n",
      "6454        *Toodles         Medical\n",
      "7616             NaN         Medical\n",
      "7661             NaN         Medical\n",
      "7703             NaN         Medical\n",
      "7861             NaN         Medical\n",
      "8479            Zeke         Medical\n",
      "8786             NaN         Medical\n",
      "11536            NaN         Medical\n",
      "11806            NaN         Medical\n",
      "13168            NaN         Medical\n",
      "14452            NaN         Medical\n",
      "14694            NaN         Medical\n",
      "15203            NaN         Medical\n",
      "15461          *Hope         Medical\n",
      "15775            NaN         Medical\n",
      "20188            Max         Medical\n",
      "20765            NaN         Medical\n",
      "...              ...             ...\n",
      "93868            NaN         Medical\n",
      "93924            NaN         Medical\n",
      "94037        Natasha         Medical\n",
      "94146            NaN         Medical\n",
      "94558            NaN         Medical\n",
      "94559            NaN         Medical\n",
      "94582            NaN         Medical\n",
      "94583            NaN         Medical\n",
      "95497          Kinda         Medical\n",
      "95743            NaN         Medical\n",
      "96251         Nestle         Medical\n",
      "96300            NaN         Medical\n",
      "96323            NaN         Medical\n",
      "97359            NaN         Medical\n",
      "97441            NaN         Medical\n",
      "98171            NaN         Medical\n",
      "98290            NaN         Medical\n",
      "98291            NaN         Medical\n",
      "98303            NaN         Medical\n",
      "98304            NaN         Medical\n",
      "98494        *Julian         Medical\n",
      "98761            NaN         Medical\n",
      "98809            NaN         Medical\n",
      "99074            NaN         Medical\n",
      "99698        *Harvey         Medical\n",
      "100065           NaN         Medical\n",
      "100954           NaN         Medical\n",
      "101240           NaN         Medical\n",
      "101249         Trudy         Medical\n",
      "101250         Hooch         Medical\n",
      "\n",
      "[297 rows x 2 columns]\n",
      "            Name Outcome Subtype\n",
      "1126         NaN      In Surgery\n",
      "1442         NaN      In Surgery\n",
      "3821       Teddy      In Surgery\n",
      "14409        NaN      In Surgery\n",
      "23004        NaN      In Surgery\n",
      "28075        NaN      In Surgery\n",
      "28500     *Pearl      In Surgery\n",
      "31957      Tramp      In Surgery\n",
      "32900        NaN      In Surgery\n",
      "35763    *Hester      In Surgery\n",
      "37672  *Franklin      In Surgery\n",
      "42763    Gunther      In Surgery\n",
      "43037   *Sparrow      In Surgery\n",
      "49420        NaN      In Surgery\n",
      "52438     *Harry      In Surgery\n",
      "56348        NaN      In Surgery\n",
      "69782        NaN      In Surgery\n",
      "70848      Candy      In Surgery\n",
      "95395        NaN      In Surgery\n",
      "95811       Otto      In Surgery\n",
      "96874        NaN      In Surgery\n",
      "        Name Outcome Subtype\n",
      "1394     Oso           Field\n",
      "2369  Gracie           Field\n",
      "6333     NaN           Field\n",
      "      Name Outcome Subtype\n",
      "1743  Coco      Customer S\n",
      "          Name Outcome Subtype\n",
      "2310       NaN         Enroute\n",
      "2677     Gibby         Enroute\n",
      "3195       NaN         Enroute\n",
      "3350       NaN         Enroute\n",
      "9583       NaN         Enroute\n",
      "11141      NaN         Enroute\n",
      "11861      NaN         Enroute\n",
      "12632      NaN         Enroute\n",
      "14479      NaN         Enroute\n",
      "14481      NaN         Enroute\n",
      "18954      NaN         Enroute\n",
      "19665      NaN         Enroute\n",
      "19777      NaN         Enroute\n",
      "20686      NaN         Enroute\n",
      "21150      NaN         Enroute\n",
      "21706      NaN         Enroute\n",
      "21716      NaN         Enroute\n",
      "22364   Spanky         Enroute\n",
      "24028      NaN         Enroute\n",
      "26063      NaN         Enroute\n",
      "27514      NaN         Enroute\n",
      "32003      NaN         Enroute\n",
      "32142      NaN         Enroute\n",
      "32243      NaN         Enroute\n",
      "32496      NaN         Enroute\n",
      "33541      NaN         Enroute\n",
      "33542      NaN         Enroute\n",
      "33543      NaN         Enroute\n",
      "33561      NaN         Enroute\n",
      "34631      NaN         Enroute\n",
      "...        ...             ...\n",
      "38714  Patches         Enroute\n",
      "38992      NaN         Enroute\n",
      "38993      NaN         Enroute\n",
      "38994      NaN         Enroute\n",
      "41015      NaN         Enroute\n",
      "44682      NaN         Enroute\n",
      "46068      NaN         Enroute\n",
      "49471      NaN         Enroute\n",
      "51141      NaN         Enroute\n",
      "53421     Trap         Enroute\n",
      "59823      Sam         Enroute\n",
      "61371      NaN         Enroute\n",
      "62272      NaN         Enroute\n",
      "64108      NaN         Enroute\n",
      "66143      NaN         Enroute\n",
      "66929      NaN         Enroute\n",
      "71564      NaN         Enroute\n",
      "74733      NaN         Enroute\n",
      "86601      NaN         Enroute\n",
      "86643      NaN         Enroute\n",
      "88499      NaN         Enroute\n",
      "89400      NaN         Enroute\n",
      "89739      NaN         Enroute\n",
      "90921      NaN         Enroute\n",
      "92548      NaN         Enroute\n",
      "93388      NaN         Enroute\n",
      "94543   Kimmie         Enroute\n",
      "96161      NaN         Enroute\n",
      "96771      NaN         Enroute\n",
      "98599      NaN         Enroute\n",
      "\n",
      "[63 rows x 2 columns]\n",
      "      Name Outcome Subtype\n",
      "2611   NaN        Underage\n",
      "32099  NaN        Underage\n",
      "35384  NaN        Underage\n",
      "48665  NaN        Underage\n",
      "53457  NaN        Underage\n",
      "53491  NaN        Underage\n",
      "53492  NaN        Underage\n",
      "53493  NaN        Underage\n",
      "53494  NaN        Underage\n",
      "53495  NaN        Underage\n",
      "53496  NaN        Underage\n",
      "53497  NaN        Underage\n",
      "53498  NaN        Underage\n",
      "53499  NaN        Underage\n",
      "53500  NaN        Underage\n",
      "53501  NaN        Underage\n",
      "54213  NaN        Underage\n",
      "54214  NaN        Underage\n",
      "54215  NaN        Underage\n",
      "54216  NaN        Underage\n",
      "54217  NaN        Underage\n",
      "54218  NaN        Underage\n",
      "54219  NaN        Underage\n",
      "72830  NaN        Underage\n",
      "72831  NaN        Underage\n",
      "72832  NaN        Underage\n",
      "72833  NaN        Underage\n",
      "72834  NaN        Underage\n",
      "72836  NaN        Underage\n",
      "         Name Outcome Subtype\n",
      "3423    *Fred            Barn\n",
      "38746  Ginger            Barn\n",
      "77063   Percy            Barn\n",
      "83311     NaN            Barn\n",
      "              Name Outcome Subtype\n",
      "3955          Jake      Aggressive\n",
      "4711         Tyler      Aggressive\n",
      "4976          Duke      Aggressive\n",
      "5297        Fenrir      Aggressive\n",
      "5298           Tex      Aggressive\n",
      "5350         Cecil      Aggressive\n",
      "6185          Tiny      Aggressive\n",
      "6188        Junior      Aggressive\n",
      "12752        Mateo      Aggressive\n",
      "18371       Gunner      Aggressive\n",
      "21125         Bear      Aggressive\n",
      "23034         Kash      Aggressive\n",
      "24939       Willie      Aggressive\n",
      "27585      Hustler      Aggressive\n",
      "28255       Minnie      Aggressive\n",
      "32957       Bonbon      Aggressive\n",
      "40003        Danny      Aggressive\n",
      "40305        Ralph      Aggressive\n",
      "40578       Capone      Aggressive\n",
      "42477         Zeus      Aggressive\n",
      "42639          Dro      Aggressive\n",
      "42983         Milo      Aggressive\n",
      "43354         King      Aggressive\n",
      "43359         Sumo      Aggressive\n",
      "44710          Taz      Aggressive\n",
      "45473    Alexander      Aggressive\n",
      "46559       Arthur      Aggressive\n",
      "47016   Chichi Boy      Aggressive\n",
      "47766       Jordan      Aggressive\n",
      "48513      Leonard      Aggressive\n",
      "...            ...             ...\n",
      "99152        *July      Aggressive\n",
      "99276         Blou      Aggressive\n",
      "99277       *Emmit      Aggressive\n",
      "99340          NaN      Aggressive\n",
      "99431       Cookie      Aggressive\n",
      "99433         Cece      Aggressive\n",
      "99485         Toby      Aggressive\n",
      "99625       Maddie      Aggressive\n",
      "99694          NaN      Aggressive\n",
      "99788         Kilo      Aggressive\n",
      "99806       Marley      Aggressive\n",
      "99884         Nala      Aggressive\n",
      "99930       *Bruce      Aggressive\n",
      "99931      *Thauti      Aggressive\n",
      "99968     Africano      Aggressive\n",
      "100017      Brutus      Aggressive\n",
      "100019        Coco      Aggressive\n",
      "100020     *Wilbur      Aggressive\n",
      "100021        Jedi      Aggressive\n",
      "100291       *Gabe      Aggressive\n",
      "100317     *Marley      Aggressive\n",
      "100318    *Petunia      Aggressive\n",
      "100729       Terra      Aggressive\n",
      "100839         NaN      Aggressive\n",
      "100846        Boss      Aggressive\n",
      "100848      *Dusty      Aggressive\n",
      "100996       Vegas      Aggressive\n",
      "101110       Crash      Aggressive\n",
      "101113     *Dodger      Aggressive\n",
      "101266       *Gage      Aggressive\n",
      "\n",
      "[518 rows x 2 columns]\n"
     ]
    },
    {
     "name": "stdout",
     "output_type": "stream",
     "text": [
      "            Name      Outcome Subtype\n",
      "22267      Mocha  Court/Investigation\n",
      "22268       Baby  Court/Investigation\n",
      "22269      Rusty  Court/Investigation\n",
      "22270      Bruce  Court/Investigation\n",
      "22271      Buddy  Court/Investigation\n",
      "33513      Cocoa  Court/Investigation\n",
      "33515     Cowboy  Court/Investigation\n",
      "33518      Bella  Court/Investigation\n",
      "47965       Odin  Court/Investigation\n",
      "54594       Rudy  Court/Investigation\n",
      "56387   Princess  Court/Investigation\n",
      "57358       Coco  Court/Investigation\n",
      "60829       King  Court/Investigation\n",
      "61012       Damu  Court/Investigation\n",
      "64655      Brick  Court/Investigation\n",
      "70567      Sasha  Court/Investigation\n",
      "73460      Tyson  Court/Investigation\n",
      "75809       Coby  Court/Investigation\n",
      "79466       King  Court/Investigation\n",
      "82738      Bella  Court/Investigation\n",
      "85521      Sissy  Court/Investigation\n",
      "100101     Chako  Court/Investigation\n",
      "100310     Gotti  Court/Investigation\n",
      "            Name Outcome Subtype\n",
      "28563    Stanley  Possible Theft\n",
      "35183      Buddy  Possible Theft\n",
      "47743  *Sapphire  Possible Theft\n",
      "61759     Twiggy  Possible Theft\n",
      "64750      Sasha  Possible Theft\n",
      "69498  *Amarillo  Possible Theft\n",
      "72949  *Amarillo  Possible Theft\n",
      "74521   Reginald  Possible Theft\n",
      "97941      *Iris  Possible Theft\n",
      "           Name Outcome Subtype\n",
      "37125       NaN            SCRP\n",
      "37170   Whiskey            SCRP\n",
      "37329       NaN            SCRP\n",
      "37366       NaN            SCRP\n",
      "37413       NaN            SCRP\n",
      "37506       NaN            SCRP\n",
      "37507     Zelda            SCRP\n",
      "37559       NaN            SCRP\n",
      "37560       NaN            SCRP\n",
      "37561       NaN            SCRP\n",
      "37652       NaN            SCRP\n",
      "37653       NaN            SCRP\n",
      "37690       NaN            SCRP\n",
      "37708       NaN            SCRP\n",
      "37709      Mimi            SCRP\n",
      "37747       NaN            SCRP\n",
      "37748       NaN            SCRP\n",
      "37839       NaN            SCRP\n",
      "37876       NaN            SCRP\n",
      "37877       NaN            SCRP\n",
      "37948       NaN            SCRP\n",
      "37993       NaN            SCRP\n",
      "37994       NaN            SCRP\n",
      "38088       NaN            SCRP\n",
      "38089       NaN            SCRP\n",
      "38190       NaN            SCRP\n",
      "38223       NaN            SCRP\n",
      "38224       NaN            SCRP\n",
      "38225       NaN            SCRP\n",
      "38302       NaN            SCRP\n",
      "...         ...             ...\n",
      "100788    Taboo            SCRP\n",
      "100789      NaN            SCRP\n",
      "100790      NaN            SCRP\n",
      "100791      NaN            SCRP\n",
      "100946      NaN            SCRP\n",
      "100947      NaN            SCRP\n",
      "100948      NaN            SCRP\n",
      "100949      NaN            SCRP\n",
      "100950      NaN            SCRP\n",
      "100984      NaN            SCRP\n",
      "101004      NaN            SCRP\n",
      "101005      NaN            SCRP\n",
      "101006      NaN            SCRP\n",
      "101139      NaN            SCRP\n",
      "101140      NaN            SCRP\n",
      "101141      NaN            SCRP\n",
      "101142      NaN            SCRP\n",
      "101143      NaN            SCRP\n",
      "101144      NaN            SCRP\n",
      "101145      NaN            SCRP\n",
      "101154      NaN            SCRP\n",
      "101156      NaN            SCRP\n",
      "101157      NaN            SCRP\n",
      "101158      NaN            SCRP\n",
      "101163      NaN            SCRP\n",
      "101164      NaN            SCRP\n",
      "101165      NaN            SCRP\n",
      "101235   Amalia            SCRP\n",
      "101242      NaN            SCRP\n",
      "101243      NaN            SCRP\n",
      "\n",
      "[3211 rows x 2 columns]\n"
     ]
    }
   ],
   "source": [
    "for i in ulist:\n",
    "    print(shelter_data.loc[shelter_data['Outcome Subtype']==i,['Name','Outcome Subtype']])"
   ]
  },
  {
   "cell_type": "code",
   "execution_count": 118,
   "metadata": {
    "scrolled": true
   },
   "outputs": [
    {
     "ename": "SyntaxError",
     "evalue": "unexpected EOF while parsing (<ipython-input-118-e17440b681b0>, line 2)",
     "output_type": "error",
     "traceback": [
      "\u001b[0;36m  File \u001b[0;32m\"<ipython-input-118-e17440b681b0>\"\u001b[0;36m, line \u001b[0;32m2\u001b[0m\n\u001b[0;31m    print(shelter_data.loc[(shelter_data['Outcome Subtype']==i) & (shelter_data['Outcome Type']=='Adoption'),['Animal Type']]\u001b[0m\n\u001b[0m                                                                                                                             ^\u001b[0m\n\u001b[0;31mSyntaxError\u001b[0m\u001b[0;31m:\u001b[0m unexpected EOF while parsing\n"
     ]
    }
   ],
   "source": [
    "for i in ulist:\n",
    "    print(shelter_data.loc[(shelter_data['Outcome Subtype']==i) & (shelter_data['Outcome Type']=='Adoption'),['Animal Type']]"
   ]
  },
  {
   "cell_type": "code",
   "execution_count": 122,
   "metadata": {
    "scrolled": true
   },
   "outputs": [
    {
     "data": {
      "text/html": [
       "<div>\n",
       "<style scoped>\n",
       "    .dataframe tbody tr th:only-of-type {\n",
       "        vertical-align: middle;\n",
       "    }\n",
       "\n",
       "    .dataframe tbody tr th {\n",
       "        vertical-align: top;\n",
       "    }\n",
       "\n",
       "    .dataframe thead th {\n",
       "        text-align: right;\n",
       "    }\n",
       "</style>\n",
       "<table border=\"1\" class=\"dataframe\">\n",
       "  <thead>\n",
       "    <tr style=\"text-align: right;\">\n",
       "      <th></th>\n",
       "      <th>Animal Type</th>\n",
       "    </tr>\n",
       "  </thead>\n",
       "  <tbody>\n",
       "    <tr>\n",
       "      <th>32</th>\n",
       "      <td>Cat</td>\n",
       "    </tr>\n",
       "    <tr>\n",
       "      <th>33</th>\n",
       "      <td>Cat</td>\n",
       "    </tr>\n",
       "    <tr>\n",
       "      <th>34</th>\n",
       "      <td>Cat</td>\n",
       "    </tr>\n",
       "    <tr>\n",
       "      <th>42</th>\n",
       "      <td>Cat</td>\n",
       "    </tr>\n",
       "    <tr>\n",
       "      <th>43</th>\n",
       "      <td>Cat</td>\n",
       "    </tr>\n",
       "    <tr>\n",
       "      <th>44</th>\n",
       "      <td>Cat</td>\n",
       "    </tr>\n",
       "    <tr>\n",
       "      <th>45</th>\n",
       "      <td>Cat</td>\n",
       "    </tr>\n",
       "    <tr>\n",
       "      <th>53</th>\n",
       "      <td>Cat</td>\n",
       "    </tr>\n",
       "    <tr>\n",
       "      <th>55</th>\n",
       "      <td>Cat</td>\n",
       "    </tr>\n",
       "    <tr>\n",
       "      <th>56</th>\n",
       "      <td>Cat</td>\n",
       "    </tr>\n",
       "    <tr>\n",
       "      <th>57</th>\n",
       "      <td>Cat</td>\n",
       "    </tr>\n",
       "    <tr>\n",
       "      <th>59</th>\n",
       "      <td>Cat</td>\n",
       "    </tr>\n",
       "    <tr>\n",
       "      <th>60</th>\n",
       "      <td>Cat</td>\n",
       "    </tr>\n",
       "    <tr>\n",
       "      <th>63</th>\n",
       "      <td>Cat</td>\n",
       "    </tr>\n",
       "    <tr>\n",
       "      <th>77</th>\n",
       "      <td>Cat</td>\n",
       "    </tr>\n",
       "    <tr>\n",
       "      <th>101</th>\n",
       "      <td>Cat</td>\n",
       "    </tr>\n",
       "    <tr>\n",
       "      <th>102</th>\n",
       "      <td>Cat</td>\n",
       "    </tr>\n",
       "    <tr>\n",
       "      <th>134</th>\n",
       "      <td>Cat</td>\n",
       "    </tr>\n",
       "    <tr>\n",
       "      <th>135</th>\n",
       "      <td>Cat</td>\n",
       "    </tr>\n",
       "    <tr>\n",
       "      <th>494</th>\n",
       "      <td>Cat</td>\n",
       "    </tr>\n",
       "    <tr>\n",
       "      <th>495</th>\n",
       "      <td>Cat</td>\n",
       "    </tr>\n",
       "    <tr>\n",
       "      <th>496</th>\n",
       "      <td>Cat</td>\n",
       "    </tr>\n",
       "    <tr>\n",
       "      <th>497</th>\n",
       "      <td>Cat</td>\n",
       "    </tr>\n",
       "    <tr>\n",
       "      <th>535</th>\n",
       "      <td>Cat</td>\n",
       "    </tr>\n",
       "    <tr>\n",
       "      <th>536</th>\n",
       "      <td>Cat</td>\n",
       "    </tr>\n",
       "    <tr>\n",
       "      <th>537</th>\n",
       "      <td>Cat</td>\n",
       "    </tr>\n",
       "    <tr>\n",
       "      <th>538</th>\n",
       "      <td>Cat</td>\n",
       "    </tr>\n",
       "    <tr>\n",
       "      <th>539</th>\n",
       "      <td>Cat</td>\n",
       "    </tr>\n",
       "    <tr>\n",
       "      <th>540</th>\n",
       "      <td>Cat</td>\n",
       "    </tr>\n",
       "    <tr>\n",
       "      <th>611</th>\n",
       "      <td>Cat</td>\n",
       "    </tr>\n",
       "    <tr>\n",
       "      <th>...</th>\n",
       "      <td>...</td>\n",
       "    </tr>\n",
       "    <tr>\n",
       "      <th>100018</th>\n",
       "      <td>Cat</td>\n",
       "    </tr>\n",
       "    <tr>\n",
       "      <th>100104</th>\n",
       "      <td>Cat</td>\n",
       "    </tr>\n",
       "    <tr>\n",
       "      <th>100105</th>\n",
       "      <td>Cat</td>\n",
       "    </tr>\n",
       "    <tr>\n",
       "      <th>100106</th>\n",
       "      <td>Cat</td>\n",
       "    </tr>\n",
       "    <tr>\n",
       "      <th>100134</th>\n",
       "      <td>Cat</td>\n",
       "    </tr>\n",
       "    <tr>\n",
       "      <th>100159</th>\n",
       "      <td>Cat</td>\n",
       "    </tr>\n",
       "    <tr>\n",
       "      <th>100197</th>\n",
       "      <td>Cat</td>\n",
       "    </tr>\n",
       "    <tr>\n",
       "      <th>100198</th>\n",
       "      <td>Cat</td>\n",
       "    </tr>\n",
       "    <tr>\n",
       "      <th>100240</th>\n",
       "      <td>Cat</td>\n",
       "    </tr>\n",
       "    <tr>\n",
       "      <th>100268</th>\n",
       "      <td>Cat</td>\n",
       "    </tr>\n",
       "    <tr>\n",
       "      <th>100332</th>\n",
       "      <td>Cat</td>\n",
       "    </tr>\n",
       "    <tr>\n",
       "      <th>100333</th>\n",
       "      <td>Cat</td>\n",
       "    </tr>\n",
       "    <tr>\n",
       "      <th>100353</th>\n",
       "      <td>Cat</td>\n",
       "    </tr>\n",
       "    <tr>\n",
       "      <th>100599</th>\n",
       "      <td>Cat</td>\n",
       "    </tr>\n",
       "    <tr>\n",
       "      <th>100632</th>\n",
       "      <td>Cat</td>\n",
       "    </tr>\n",
       "    <tr>\n",
       "      <th>100864</th>\n",
       "      <td>Cat</td>\n",
       "    </tr>\n",
       "    <tr>\n",
       "      <th>100918</th>\n",
       "      <td>Cat</td>\n",
       "    </tr>\n",
       "    <tr>\n",
       "      <th>100923</th>\n",
       "      <td>Cat</td>\n",
       "    </tr>\n",
       "    <tr>\n",
       "      <th>100924</th>\n",
       "      <td>Cat</td>\n",
       "    </tr>\n",
       "    <tr>\n",
       "      <th>100943</th>\n",
       "      <td>Cat</td>\n",
       "    </tr>\n",
       "    <tr>\n",
       "      <th>100944</th>\n",
       "      <td>Cat</td>\n",
       "    </tr>\n",
       "    <tr>\n",
       "      <th>101000</th>\n",
       "      <td>Cat</td>\n",
       "    </tr>\n",
       "    <tr>\n",
       "      <th>101054</th>\n",
       "      <td>Cat</td>\n",
       "    </tr>\n",
       "    <tr>\n",
       "      <th>101061</th>\n",
       "      <td>Cat</td>\n",
       "    </tr>\n",
       "    <tr>\n",
       "      <th>101069</th>\n",
       "      <td>Cat</td>\n",
       "    </tr>\n",
       "    <tr>\n",
       "      <th>101073</th>\n",
       "      <td>Cat</td>\n",
       "    </tr>\n",
       "    <tr>\n",
       "      <th>101118</th>\n",
       "      <td>Cat</td>\n",
       "    </tr>\n",
       "    <tr>\n",
       "      <th>101124</th>\n",
       "      <td>Cat</td>\n",
       "    </tr>\n",
       "    <tr>\n",
       "      <th>101147</th>\n",
       "      <td>Cat</td>\n",
       "    </tr>\n",
       "    <tr>\n",
       "      <th>101204</th>\n",
       "      <td>Cat</td>\n",
       "    </tr>\n",
       "  </tbody>\n",
       "</table>\n",
       "<p>4315 rows × 1 columns</p>\n",
       "</div>"
      ],
      "text/plain": [
       "       Animal Type\n",
       "32             Cat\n",
       "33             Cat\n",
       "34             Cat\n",
       "42             Cat\n",
       "43             Cat\n",
       "44             Cat\n",
       "45             Cat\n",
       "53             Cat\n",
       "55             Cat\n",
       "56             Cat\n",
       "57             Cat\n",
       "59             Cat\n",
       "60             Cat\n",
       "63             Cat\n",
       "77             Cat\n",
       "101            Cat\n",
       "102            Cat\n",
       "134            Cat\n",
       "135            Cat\n",
       "494            Cat\n",
       "495            Cat\n",
       "496            Cat\n",
       "497            Cat\n",
       "535            Cat\n",
       "536            Cat\n",
       "537            Cat\n",
       "538            Cat\n",
       "539            Cat\n",
       "540            Cat\n",
       "611            Cat\n",
       "...            ...\n",
       "100018         Cat\n",
       "100104         Cat\n",
       "100105         Cat\n",
       "100106         Cat\n",
       "100134         Cat\n",
       "100159         Cat\n",
       "100197         Cat\n",
       "100198         Cat\n",
       "100240         Cat\n",
       "100268         Cat\n",
       "100332         Cat\n",
       "100333         Cat\n",
       "100353         Cat\n",
       "100599         Cat\n",
       "100632         Cat\n",
       "100864         Cat\n",
       "100918         Cat\n",
       "100923         Cat\n",
       "100924         Cat\n",
       "100943         Cat\n",
       "100944         Cat\n",
       "101000         Cat\n",
       "101054         Cat\n",
       "101061         Cat\n",
       "101069         Cat\n",
       "101073         Cat\n",
       "101118         Cat\n",
       "101124         Cat\n",
       "101147         Cat\n",
       "101204         Cat\n",
       "\n",
       "[4315 rows x 1 columns]"
      ]
     },
     "execution_count": 122,
     "metadata": {},
     "output_type": "execute_result"
    }
   ],
   "source": [
    "new = shelter_data.loc[(shelter_data['Outcome Subtype']=='Foster') & (shelter_data['Outcome Type']=='Adoption') & (shelter_data['Animal Type']=='Cat'),['Animal Type']]\n",
    "new      \n",
    "          "
   ]
  },
  {
   "cell_type": "markdown",
   "metadata": {},
   "source": [
    "## Assessment & Reflection\n",
    "\n",
    "- One thing you did not know before?\n",
    "- Two things you want to remember?\n",
    "- One thing you're still confused by?"
   ]
  },
  {
   "cell_type": "code",
   "execution_count": null,
   "metadata": {},
   "outputs": [],
   "source": []
  }
 ],
 "metadata": {
  "kernelspec": {
   "display_name": "Python 3",
   "language": "python",
   "name": "python3"
  },
  "language_info": {
   "codemirror_mode": {
    "name": "ipython",
    "version": 3
   },
   "file_extension": ".py",
   "mimetype": "text/x-python",
   "name": "python",
   "nbconvert_exporter": "python",
   "pygments_lexer": "ipython3",
   "version": "3.7.3"
  }
 },
 "nbformat": 4,
 "nbformat_minor": 2
}
