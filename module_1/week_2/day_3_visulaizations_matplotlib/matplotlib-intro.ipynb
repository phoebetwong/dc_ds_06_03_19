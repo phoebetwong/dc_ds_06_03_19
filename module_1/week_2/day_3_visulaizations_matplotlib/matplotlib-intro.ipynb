{
 "cells": [
  {
   "cell_type": "markdown",
   "metadata": {},
   "source": [
    "![matplotlib](https://matplotlib.org/_static/logo2.png)\n",
    "# Data Visualization with Matplotlib\n",
    "\n",
    "\n",
    "### Scenario:\n",
    "![pups](shelter-pups.jpeg)\n",
    "It's back to our animal shelter data!!! \n",
    "\n",
    "If you do not have the dataset clean and ready from the last exercise, we have a few functions to help later in the lesson.\n",
    "\n",
    "While it is nice to have summary tables, visualizations are also great. We want a few visualizations to explore animal shelter demographics.\n",
    "\n",
    "\n",
    "### Activation: Why is visualization important?\n",
    "\n",
    "\n",
    "There are a lot of visualizations out there these days.\n",
    "\n",
    "Ultimately they are about quickly revealing relationships and anomolies.\n",
    "\n",
    "While we will review what makes a **GOOD** visualization later, we will cover a few basic types today.  \n",
    "\n",
    "\n",
    "### Learning Goals:\n",
    "\n",
    "After today, you will be able to:\n",
    "\n",
    "- Explain and understand different types plots and their use cases\n",
    "- Identify and adjust the anatomy of a matplotlib plot\n",
    "- Explain the difference between plot types and justify their use cases:\n",
    "    - barplots\n",
    "    - histogram\n",
    "    - scatter plot\n",
    "    - pie char\n",
    "- Visualize data using the matplotlib library in python \n",
    "\n",
    "\n",
    "### Step 1: Types of plots\n",
    "\n",
    "Before we start creating, let's take a look at some [types](https://datavizproject.com/) of visualizations.\n",
    "\n",
    "If you had to break these up into subgroups that fulfill a certain purpose, how would you break them up? Talk with your neighbors.\n",
    "\n",
    "\n",
    "Let's look at some [examples from python graphs](https://python-graph-gallery.com/)\n",
    "\n",
    "The Matplotlib plotting library provides a range of built in functions to start visualizing data with minimum effort. Let's import the module pyplot in matplotlib as well as numpy to generate some sample data before creating plots from our animal shelter data."
   ]
  },
  {
   "cell_type": "code",
   "execution_count": 2,
   "metadata": {},
   "outputs": [
    {
     "data": {
      "text/plain": [
       "Text(0.5, 1.0, 'Sankey diagram with default settings')"
      ]
     },
     "execution_count": 2,
     "metadata": {},
     "output_type": "execute_result"
    },
    {
     "data": {
      "image/png": "[encoded data removed]",
      "text/plain": [
       "<Figure size 432x288 with 1 Axes>"
      ]
     },
     "metadata": {},
     "output_type": "display_data"
    }
   ],
   "source": [
    "# Libraries\n",
    "import numpy as np\n",
    "import matplotlib.pyplot as plt\n",
    "from matplotlib.sankey import Sankey\n",
    "%matplotlib inline \n",
    "# basic sankey chart\n",
    "Sankey(flows=[0.25, 0.15, 0.60, -0.20, -0.15, -0.05, -0.50, -0.10], labels=['', '', '', 'First', 'Second', 'Third', 'Fourth', 'Fifth'], orientations=[-1, 1, 0, 1, 1, 1, 0,-1]).finish()\n",
    "plt.title(\"Sankey diagram with default settings\")\n"
   ]
  },
  {
   "cell_type": "markdown",
   "metadata": {},
   "source": [
    "### Please follow the instructions below to ensure your dataset for this lesson is in top shape\n",
    "1. Copy the code from the `intake`, `outcomes`, and `merge` `.py` files and paste them into code cells into this workbook\n",
    "2. examine the steps taken to transform and clean the code\n",
    "3. Run intake, then outcomes, then the merge file in the code cells\n",
    "4. Check the `.head()` of the new dataset\n",
    " "
   ]
  },
  {
   "cell_type": "code",
   "execution_count": 3,
   "metadata": {},
   "outputs": [
    {
     "name": "stderr",
     "output_type": "stream",
     "text": [
      "/Users/phoebe/anaconda3/lib/python3.7/site-packages/ipykernel_launcher.py:17: SettingWithCopyWarning: \n",
      "A value is trying to be set on a copy of a slice from a DataFrame.\n",
      "Try using .loc[row_indexer,col_indexer] = value instead\n",
      "\n",
      "See the caveats in the documentation: http://pandas.pydata.org/pandas-docs/stable/indexing.html#indexing-view-versus-copy\n",
      "/Users/phoebe/anaconda3/lib/python3.7/site-packages/ipykernel_launcher.py:18: SettingWithCopyWarning: \n",
      "A value is trying to be set on a copy of a slice from a DataFrame.\n",
      "Try using .loc[row_indexer,col_indexer] = value instead\n",
      "\n",
      "See the caveats in the documentation: http://pandas.pydata.org/pandas-docs/stable/indexing.html#indexing-view-versus-copy\n",
      "/Users/phoebe/anaconda3/lib/python3.7/site-packages/ipykernel_launcher.py:21: SettingWithCopyWarning: \n",
      "A value is trying to be set on a copy of a slice from a DataFrame.\n",
      "Try using .loc[row_indexer,col_indexer] = value instead\n",
      "\n",
      "See the caveats in the documentation: http://pandas.pydata.org/pandas-docs/stable/indexing.html#indexing-view-versus-copy\n",
      "/Users/phoebe/anaconda3/lib/python3.7/site-packages/ipykernel_launcher.py:22: SettingWithCopyWarning: \n",
      "A value is trying to be set on a copy of a slice from a DataFrame.\n",
      "Try using .loc[row_indexer,col_indexer] = value instead\n",
      "\n",
      "See the caveats in the documentation: http://pandas.pydata.org/pandas-docs/stable/indexing.html#indexing-view-versus-copy\n",
      "/Users/phoebe/anaconda3/lib/python3.7/site-packages/ipykernel_launcher.py:23: SettingWithCopyWarning: \n",
      "A value is trying to be set on a copy of a slice from a DataFrame.\n",
      "Try using .loc[row_indexer,col_indexer] = value instead\n",
      "\n",
      "See the caveats in the documentation: http://pandas.pydata.org/pandas-docs/stable/indexing.html#indexing-view-versus-copy\n"
     ]
    }
   ],
   "source": [
    "import pandas as pd\n",
    "\n",
    "# read in some data\n",
    "intakes = pd.read_csv('https://data.austintexas.gov/api/views/wter-evkm/rows.csv?accessType=DOWNLOAD')\n",
    "\n",
    "# rename columns\n",
    "new_names = ['id', 'name', 'i_date', 'monthyear', 'found_loc', 'intake_type', 'intake_con', 'type', 'sex', 'age', 'breed', 'color']\n",
    "intakes.columns = new_names\n",
    "\n",
    "# drop NaNs \n",
    "intakes.dropna(inplace=True)\n",
    "\n",
    "# keep only a few columns\n",
    "intake_data = intakes[['id','type', 'i_date', 'sex']]\n",
    "\n",
    "# Clean code\n",
    "intake_data['i_date']=intake_data['i_date'].map(lambda x: x[:10])\n",
    "intake_data['i_date'] =  pd.to_datetime(intake_data['i_date'], format='%m/%d/%Y', errors = 'ignore')\n",
    "\n",
    "# get more date info\n",
    "intake_data['i_month'] = intake_data['i_date'].map(lambda x: x.month)\n",
    "intake_data['year'] = intake_data['i_date'].map(lambda x: x.year)\n",
    "intake_data['i_weekday'] = intake_data['i_date'].map(lambda x: x.weekday())\n",
    "\n",
    "# drop \"unknown\" gender\n",
    "intake_data = intake_data[intake_data.sex != 'Unknown']\n",
    "\n",
    "# get sex variablle split\n",
    "intake_data['gender']= intake_data['sex'].str.split(\" \").str[1] \n",
    "intake_data['i_altered']= intake_data['sex'].str.split(\" \").str[0] \n",
    "\n"
   ]
  },
  {
   "cell_type": "code",
   "execution_count": 4,
   "metadata": {
    "scrolled": true
   },
   "outputs": [
    {
     "data": {
      "text/html": [
       "<div>\n",
       "<style scoped>\n",
       "    .dataframe tbody tr th:only-of-type {\n",
       "        vertical-align: middle;\n",
       "    }\n",
       "\n",
       "    .dataframe tbody tr th {\n",
       "        vertical-align: top;\n",
       "    }\n",
       "\n",
       "    .dataframe thead th {\n",
       "        text-align: right;\n",
       "    }\n",
       "</style>\n",
       "<table border=\"1\" class=\"dataframe\">\n",
       "  <thead>\n",
       "    <tr style=\"text-align: right;\">\n",
       "      <th></th>\n",
       "      <th>id</th>\n",
       "      <th>name</th>\n",
       "      <th>outcome</th>\n",
       "      <th>outcome_s</th>\n",
       "      <th>animal</th>\n",
       "      <th>breed</th>\n",
       "      <th>o_date</th>\n",
       "      <th>years_old</th>\n",
       "      <th>o_month</th>\n",
       "      <th>year</th>\n",
       "      <th>o_weekday</th>\n",
       "      <th>o_altered</th>\n",
       "    </tr>\n",
       "  </thead>\n",
       "  <tbody>\n",
       "    <tr>\n",
       "      <th>0</th>\n",
       "      <td>A787348</td>\n",
       "      <td>Bear</td>\n",
       "      <td>Adoption</td>\n",
       "      <td>NaN</td>\n",
       "      <td>Dog</td>\n",
       "      <td>Chihuahua Shorthair Mix</td>\n",
       "      <td>2019-06-12</td>\n",
       "      <td>2.416438</td>\n",
       "      <td>6</td>\n",
       "      <td>2019</td>\n",
       "      <td>2</td>\n",
       "      <td>Neutered</td>\n",
       "    </tr>\n",
       "    <tr>\n",
       "      <th>1</th>\n",
       "      <td>A671852</td>\n",
       "      <td>*Frances</td>\n",
       "      <td>Return to Owner</td>\n",
       "      <td>NaN</td>\n",
       "      <td>Dog</td>\n",
       "      <td>Pit Bull Mix</td>\n",
       "      <td>2019-06-12</td>\n",
       "      <td>10.367123</td>\n",
       "      <td>6</td>\n",
       "      <td>2019</td>\n",
       "      <td>2</td>\n",
       "      <td>Spayed</td>\n",
       "    </tr>\n",
       "    <tr>\n",
       "      <th>2</th>\n",
       "      <td>A791606</td>\n",
       "      <td>NaN</td>\n",
       "      <td>Adoption</td>\n",
       "      <td>Foster</td>\n",
       "      <td>Cat</td>\n",
       "      <td>Domestic Medium Hair Mix</td>\n",
       "      <td>2019-06-12</td>\n",
       "      <td>0.221918</td>\n",
       "      <td>6</td>\n",
       "      <td>2019</td>\n",
       "      <td>2</td>\n",
       "      <td>Neutered</td>\n",
       "    </tr>\n",
       "    <tr>\n",
       "      <th>3</th>\n",
       "      <td>A793533</td>\n",
       "      <td>*Pearl</td>\n",
       "      <td>Adoption</td>\n",
       "      <td>Foster</td>\n",
       "      <td>Cat</td>\n",
       "      <td>Manx Mix</td>\n",
       "      <td>2019-06-12</td>\n",
       "      <td>0.213699</td>\n",
       "      <td>6</td>\n",
       "      <td>2019</td>\n",
       "      <td>2</td>\n",
       "      <td>Spayed</td>\n",
       "    </tr>\n",
       "    <tr>\n",
       "      <th>4</th>\n",
       "      <td>A793534</td>\n",
       "      <td>*Emerald</td>\n",
       "      <td>Adoption</td>\n",
       "      <td>Foster</td>\n",
       "      <td>Cat</td>\n",
       "      <td>Manx Mix</td>\n",
       "      <td>2019-06-12</td>\n",
       "      <td>0.213699</td>\n",
       "      <td>6</td>\n",
       "      <td>2019</td>\n",
       "      <td>2</td>\n",
       "      <td>Neutered</td>\n",
       "    </tr>\n",
       "  </tbody>\n",
       "</table>\n",
       "</div>"
      ],
      "text/plain": [
       "        id      name          outcome outcome_s animal  \\\n",
       "0  A787348      Bear         Adoption       NaN    Dog   \n",
       "1  A671852  *Frances  Return to Owner       NaN    Dog   \n",
       "2  A791606       NaN         Adoption    Foster    Cat   \n",
       "3  A793533    *Pearl         Adoption    Foster    Cat   \n",
       "4  A793534  *Emerald         Adoption    Foster    Cat   \n",
       "\n",
       "                      breed     o_date  years_old  o_month  year  o_weekday  \\\n",
       "0   Chihuahua Shorthair Mix 2019-06-12   2.416438        6  2019          2   \n",
       "1              Pit Bull Mix 2019-06-12  10.367123        6  2019          2   \n",
       "2  Domestic Medium Hair Mix 2019-06-12   0.221918        6  2019          2   \n",
       "3                  Manx Mix 2019-06-12   0.213699        6  2019          2   \n",
       "4                  Manx Mix 2019-06-12   0.213699        6  2019          2   \n",
       "\n",
       "  o_altered  \n",
       "0  Neutered  \n",
       "1    Spayed  \n",
       "2  Neutered  \n",
       "3    Spayed  \n",
       "4  Neutered  "
      ]
     },
     "execution_count": 4,
     "metadata": {},
     "output_type": "execute_result"
    }
   ],
   "source": [
    "# Read in shelter data\n",
    "animal_outcomes=pd.read_csv('https://data.austintexas.gov/api/views/9t4d-g238/rows.csv?accessType=DOWNLOAD') \n",
    "\n",
    "# change names\n",
    "new_names = ['id', 'name', 'date', 'monthyear', 'dob', 'outcome', 'outcome_s', 'animal', 'sex', 'age', 'breed', 'color']\n",
    "animal_outcomes.columns = new_names\n",
    "\n",
    "# convert date formats\n",
    "animal_outcomes.date = animal_outcomes['date'].map(lambda x: x[:10])\n",
    "animal_outcomes['o_date'] =  pd.to_datetime(animal_outcomes['date'], format='%m/%d/%Y')\n",
    "animal_outcomes['dob'] =  pd.to_datetime(animal_outcomes['dob'], format='%m/%d/%Y')\n",
    "\n",
    "# get more date info\n",
    "animal_outcomes['o_month'] = animal_outcomes['o_date'].map(lambda x: x.month)\n",
    "animal_outcomes['year'] = animal_outcomes['o_date'].map(lambda x: x.year)\n",
    "animal_outcomes['o_weekday'] = animal_outcomes['o_date'].map(lambda x: x.weekday())\n",
    "\n",
    "#get age of animal\n",
    "# I do not know why I had to cast them again... but it only worked when i did\n",
    "animal_outcomes['date'] =pd.to_datetime(animal_outcomes['date'])\n",
    "animal_outcomes['dob'] =pd.to_datetime(animal_outcomes['dob'])\n",
    "animal_outcomes['age_in_days'] = animal_outcomes['date'] - animal_outcomes['dob']\n",
    "\n",
    "animal_outcomes['years_old'] = animal_outcomes.age_in_days.map(lambda x: x.days/365)\n",
    "\n",
    "# drop \"unknown\" gender\n",
    "animal_outcomes = animal_outcomes[animal_outcomes.sex != 'Unknown']\n",
    "\n",
    "# get sex variablle split\n",
    "animal_outcomes['gender']= animal_outcomes['sex'].str.split(\" \").str[1] \n",
    "animal_outcomes['o_altered']= animal_outcomes['sex'].str.split(\" \").str[0] \n",
    "\n",
    "outcomes_data = animal_outcomes[['id', 'name','outcome', 'outcome_s', 'animal','breed', 'o_date', 'years_old', 'o_month', 'year', 'o_weekday', 'o_altered']]\n",
    "\n",
    "outcomes_data.head()\n",
    "\n"
   ]
  },
  {
   "cell_type": "code",
   "execution_count": 34,
   "metadata": {},
   "outputs": [],
   "source": [
    "dog_age = animal_outcomes.loc[animal_outcomes['animal']==\"Dog\"]['years_old']"
   ]
  },
  {
   "cell_type": "code",
   "execution_count": 35,
   "metadata": {},
   "outputs": [],
   "source": [
    "cat_age = animal_outcomes.loc[animal_outcomes['animal']==\"Cat\"]['years_old']"
   ]
  },
  {
   "cell_type": "code",
   "execution_count": 5,
   "metadata": {},
   "outputs": [],
   "source": [
    "animal_shelter_df  = pd.merge(intake_data, outcomes_data, on=['id', 'year'],                                   how='left', suffixes=('_intake', '_outcome'))\n",
    "\n",
    "animal_shelter_df = animal_shelter_df[(~animal_shelter_df['o_date'].isna()) &                                           (animal_shelter_df['o_date'] > animal_shelter_df['i_date'])]\n",
    "\n",
    "animal_shelter_df['days_in_shelter'] = (animal_shelter_df['o_date'] - animal_shelter_df['i_date'])\n",
    "\n",
    "animal_shelter_df['days_in_shelter'] = animal_shelter_df['days_in_shelter'].apply(lambda x: x.days)\n",
    "                                                              \n",
    "\n"
   ]
  },
  {
   "cell_type": "code",
   "execution_count": 8,
   "metadata": {},
   "outputs": [
    {
     "data": {
      "text/html": [
       "<div>\n",
       "<style scoped>\n",
       "    .dataframe tbody tr th:only-of-type {\n",
       "        vertical-align: middle;\n",
       "    }\n",
       "\n",
       "    .dataframe tbody tr th {\n",
       "        vertical-align: top;\n",
       "    }\n",
       "\n",
       "    .dataframe thead th {\n",
       "        text-align: right;\n",
       "    }\n",
       "</style>\n",
       "<table border=\"1\" class=\"dataframe\">\n",
       "  <thead>\n",
       "    <tr style=\"text-align: right;\">\n",
       "      <th></th>\n",
       "      <th>id</th>\n",
       "      <th>type</th>\n",
       "      <th>i_date</th>\n",
       "      <th>sex</th>\n",
       "      <th>i_month</th>\n",
       "      <th>year</th>\n",
       "      <th>i_weekday</th>\n",
       "      <th>gender</th>\n",
       "      <th>i_altered</th>\n",
       "      <th>name</th>\n",
       "      <th>outcome</th>\n",
       "      <th>outcome_s</th>\n",
       "      <th>animal</th>\n",
       "      <th>breed</th>\n",
       "      <th>o_date</th>\n",
       "      <th>years_old</th>\n",
       "      <th>o_month</th>\n",
       "      <th>o_weekday</th>\n",
       "      <th>o_altered</th>\n",
       "      <th>days_in_shelter</th>\n",
       "    </tr>\n",
       "  </thead>\n",
       "  <tbody>\n",
       "    <tr>\n",
       "      <th>26</th>\n",
       "      <td>A671852</td>\n",
       "      <td>Dog</td>\n",
       "      <td>2019-06-10</td>\n",
       "      <td>Spayed Female</td>\n",
       "      <td>6</td>\n",
       "      <td>2019</td>\n",
       "      <td>0</td>\n",
       "      <td>Female</td>\n",
       "      <td>Spayed</td>\n",
       "      <td>*Frances</td>\n",
       "      <td>Return to Owner</td>\n",
       "      <td>NaN</td>\n",
       "      <td>Dog</td>\n",
       "      <td>Pit Bull Mix</td>\n",
       "      <td>2019-06-12</td>\n",
       "      <td>10.367123</td>\n",
       "      <td>6.0</td>\n",
       "      <td>2.0</td>\n",
       "      <td>Spayed</td>\n",
       "      <td>2</td>\n",
       "    </tr>\n",
       "    <tr>\n",
       "      <th>38</th>\n",
       "      <td>A797195</td>\n",
       "      <td>Cat</td>\n",
       "      <td>2019-06-10</td>\n",
       "      <td>Neutered Male</td>\n",
       "      <td>6</td>\n",
       "      <td>2019</td>\n",
       "      <td>0</td>\n",
       "      <td>Male</td>\n",
       "      <td>Neutered</td>\n",
       "      <td>Tom</td>\n",
       "      <td>Return to Owner</td>\n",
       "      <td>NaN</td>\n",
       "      <td>Cat</td>\n",
       "      <td>Domestic Shorthair Mix</td>\n",
       "      <td>2019-06-11</td>\n",
       "      <td>2.002740</td>\n",
       "      <td>6.0</td>\n",
       "      <td>1.0</td>\n",
       "      <td>Neutered</td>\n",
       "      <td>1</td>\n",
       "    </tr>\n",
       "    <tr>\n",
       "      <th>41</th>\n",
       "      <td>A797193</td>\n",
       "      <td>Dog</td>\n",
       "      <td>2019-06-10</td>\n",
       "      <td>Neutered Male</td>\n",
       "      <td>6</td>\n",
       "      <td>2019</td>\n",
       "      <td>0</td>\n",
       "      <td>Male</td>\n",
       "      <td>Neutered</td>\n",
       "      <td>Cooper</td>\n",
       "      <td>Return to Owner</td>\n",
       "      <td>NaN</td>\n",
       "      <td>Dog</td>\n",
       "      <td>Miniature Poodle/Cavalier Span</td>\n",
       "      <td>2019-06-11</td>\n",
       "      <td>8.005479</td>\n",
       "      <td>6.0</td>\n",
       "      <td>1.0</td>\n",
       "      <td>Neutered</td>\n",
       "      <td>1</td>\n",
       "    </tr>\n",
       "    <tr>\n",
       "      <th>55</th>\n",
       "      <td>A790305</td>\n",
       "      <td>Dog</td>\n",
       "      <td>2019-06-10</td>\n",
       "      <td>Intact Male</td>\n",
       "      <td>6</td>\n",
       "      <td>2019</td>\n",
       "      <td>0</td>\n",
       "      <td>Male</td>\n",
       "      <td>Intact</td>\n",
       "      <td>Rocky</td>\n",
       "      <td>Return to Owner</td>\n",
       "      <td>NaN</td>\n",
       "      <td>Dog</td>\n",
       "      <td>Siberian Husky</td>\n",
       "      <td>2019-06-11</td>\n",
       "      <td>1.263014</td>\n",
       "      <td>6.0</td>\n",
       "      <td>1.0</td>\n",
       "      <td>Intact</td>\n",
       "      <td>1</td>\n",
       "    </tr>\n",
       "    <tr>\n",
       "      <th>59</th>\n",
       "      <td>A797136</td>\n",
       "      <td>Dog</td>\n",
       "      <td>2019-06-09</td>\n",
       "      <td>Intact Female</td>\n",
       "      <td>6</td>\n",
       "      <td>2019</td>\n",
       "      <td>6</td>\n",
       "      <td>Female</td>\n",
       "      <td>Intact</td>\n",
       "      <td>Precious</td>\n",
       "      <td>Return to Owner</td>\n",
       "      <td>NaN</td>\n",
       "      <td>Dog</td>\n",
       "      <td>Chihuahua Shorthair</td>\n",
       "      <td>2019-06-10</td>\n",
       "      <td>10.008219</td>\n",
       "      <td>6.0</td>\n",
       "      <td>0.0</td>\n",
       "      <td>Intact</td>\n",
       "      <td>1</td>\n",
       "    </tr>\n",
       "    <tr>\n",
       "      <th>68</th>\n",
       "      <td>A795365</td>\n",
       "      <td>Dog</td>\n",
       "      <td>2019-06-09</td>\n",
       "      <td>Neutered Male</td>\n",
       "      <td>6</td>\n",
       "      <td>2019</td>\n",
       "      <td>6</td>\n",
       "      <td>Male</td>\n",
       "      <td>Neutered</td>\n",
       "      <td>*Marty</td>\n",
       "      <td>Adoption</td>\n",
       "      <td>NaN</td>\n",
       "      <td>Dog</td>\n",
       "      <td>Labrador Retriever Mix</td>\n",
       "      <td>2019-06-10</td>\n",
       "      <td>0.443836</td>\n",
       "      <td>6.0</td>\n",
       "      <td>0.0</td>\n",
       "      <td>Neutered</td>\n",
       "      <td>1</td>\n",
       "    </tr>\n",
       "    <tr>\n",
       "      <th>73</th>\n",
       "      <td>A797103</td>\n",
       "      <td>Dog</td>\n",
       "      <td>2019-06-09</td>\n",
       "      <td>Intact Male</td>\n",
       "      <td>6</td>\n",
       "      <td>2019</td>\n",
       "      <td>6</td>\n",
       "      <td>Male</td>\n",
       "      <td>Intact</td>\n",
       "      <td>Rocky</td>\n",
       "      <td>Adoption</td>\n",
       "      <td>NaN</td>\n",
       "      <td>Dog</td>\n",
       "      <td>Rat Terrier Mix</td>\n",
       "      <td>2019-06-11</td>\n",
       "      <td>0.257534</td>\n",
       "      <td>6.0</td>\n",
       "      <td>1.0</td>\n",
       "      <td>Neutered</td>\n",
       "      <td>2</td>\n",
       "    </tr>\n",
       "    <tr>\n",
       "      <th>77</th>\n",
       "      <td>A797078</td>\n",
       "      <td>Dog</td>\n",
       "      <td>2019-06-09</td>\n",
       "      <td>Spayed Female</td>\n",
       "      <td>6</td>\n",
       "      <td>2019</td>\n",
       "      <td>6</td>\n",
       "      <td>Female</td>\n",
       "      <td>Spayed</td>\n",
       "      <td>Baby</td>\n",
       "      <td>Return to Owner</td>\n",
       "      <td>NaN</td>\n",
       "      <td>Dog</td>\n",
       "      <td>Chihuahua Shorthair</td>\n",
       "      <td>2019-06-10</td>\n",
       "      <td>2.002740</td>\n",
       "      <td>6.0</td>\n",
       "      <td>0.0</td>\n",
       "      <td>Spayed</td>\n",
       "      <td>1</td>\n",
       "    </tr>\n",
       "    <tr>\n",
       "      <th>80</th>\n",
       "      <td>A794077</td>\n",
       "      <td>Dog</td>\n",
       "      <td>2019-06-08</td>\n",
       "      <td>Spayed Female</td>\n",
       "      <td>6</td>\n",
       "      <td>2019</td>\n",
       "      <td>5</td>\n",
       "      <td>Female</td>\n",
       "      <td>Spayed</td>\n",
       "      <td>Dolly</td>\n",
       "      <td>Return to Owner</td>\n",
       "      <td>NaN</td>\n",
       "      <td>Dog</td>\n",
       "      <td>Pit Bull Mix</td>\n",
       "      <td>2019-06-09</td>\n",
       "      <td>2.101370</td>\n",
       "      <td>6.0</td>\n",
       "      <td>6.0</td>\n",
       "      <td>Spayed</td>\n",
       "      <td>1</td>\n",
       "    </tr>\n",
       "    <tr>\n",
       "      <th>89</th>\n",
       "      <td>A753753</td>\n",
       "      <td>Dog</td>\n",
       "      <td>2019-06-08</td>\n",
       "      <td>Intact Female</td>\n",
       "      <td>6</td>\n",
       "      <td>2019</td>\n",
       "      <td>5</td>\n",
       "      <td>Female</td>\n",
       "      <td>Intact</td>\n",
       "      <td>Daisy</td>\n",
       "      <td>Return to Owner</td>\n",
       "      <td>NaN</td>\n",
       "      <td>Dog</td>\n",
       "      <td>Cane Corso Mix</td>\n",
       "      <td>2019-06-11</td>\n",
       "      <td>2.331507</td>\n",
       "      <td>6.0</td>\n",
       "      <td>1.0</td>\n",
       "      <td>Intact</td>\n",
       "      <td>3</td>\n",
       "    </tr>\n",
       "  </tbody>\n",
       "</table>\n",
       "</div>"
      ],
      "text/plain": [
       "         id type     i_date            sex  i_month  year  i_weekday  gender  \\\n",
       "26  A671852  Dog 2019-06-10  Spayed Female        6  2019          0  Female   \n",
       "38  A797195  Cat 2019-06-10  Neutered Male        6  2019          0    Male   \n",
       "41  A797193  Dog 2019-06-10  Neutered Male        6  2019          0    Male   \n",
       "55  A790305  Dog 2019-06-10    Intact Male        6  2019          0    Male   \n",
       "59  A797136  Dog 2019-06-09  Intact Female        6  2019          6  Female   \n",
       "68  A795365  Dog 2019-06-09  Neutered Male        6  2019          6    Male   \n",
       "73  A797103  Dog 2019-06-09    Intact Male        6  2019          6    Male   \n",
       "77  A797078  Dog 2019-06-09  Spayed Female        6  2019          6  Female   \n",
       "80  A794077  Dog 2019-06-08  Spayed Female        6  2019          5  Female   \n",
       "89  A753753  Dog 2019-06-08  Intact Female        6  2019          5  Female   \n",
       "\n",
       "   i_altered      name          outcome outcome_s animal  \\\n",
       "26    Spayed  *Frances  Return to Owner       NaN    Dog   \n",
       "38  Neutered       Tom  Return to Owner       NaN    Cat   \n",
       "41  Neutered    Cooper  Return to Owner       NaN    Dog   \n",
       "55    Intact     Rocky  Return to Owner       NaN    Dog   \n",
       "59    Intact  Precious  Return to Owner       NaN    Dog   \n",
       "68  Neutered    *Marty         Adoption       NaN    Dog   \n",
       "73    Intact     Rocky         Adoption       NaN    Dog   \n",
       "77    Spayed      Baby  Return to Owner       NaN    Dog   \n",
       "80    Spayed     Dolly  Return to Owner       NaN    Dog   \n",
       "89    Intact     Daisy  Return to Owner       NaN    Dog   \n",
       "\n",
       "                             breed     o_date  years_old  o_month  o_weekday  \\\n",
       "26                    Pit Bull Mix 2019-06-12  10.367123      6.0        2.0   \n",
       "38          Domestic Shorthair Mix 2019-06-11   2.002740      6.0        1.0   \n",
       "41  Miniature Poodle/Cavalier Span 2019-06-11   8.005479      6.0        1.0   \n",
       "55                  Siberian Husky 2019-06-11   1.263014      6.0        1.0   \n",
       "59             Chihuahua Shorthair 2019-06-10  10.008219      6.0        0.0   \n",
       "68          Labrador Retriever Mix 2019-06-10   0.443836      6.0        0.0   \n",
       "73                 Rat Terrier Mix 2019-06-11   0.257534      6.0        1.0   \n",
       "77             Chihuahua Shorthair 2019-06-10   2.002740      6.0        0.0   \n",
       "80                    Pit Bull Mix 2019-06-09   2.101370      6.0        6.0   \n",
       "89                  Cane Corso Mix 2019-06-11   2.331507      6.0        1.0   \n",
       "\n",
       "   o_altered  days_in_shelter  \n",
       "26    Spayed                2  \n",
       "38  Neutered                1  \n",
       "41  Neutered                1  \n",
       "55    Intact                1  \n",
       "59    Intact                1  \n",
       "68  Neutered                1  \n",
       "73  Neutered                2  \n",
       "77    Spayed                1  \n",
       "80    Spayed                1  \n",
       "89    Intact                3  "
      ]
     },
     "execution_count": 8,
     "metadata": {},
     "output_type": "execute_result"
    }
   ],
   "source": [
    "animal_shelter_df.head(10)"
   ]
  },
  {
   "cell_type": "code",
   "execution_count": 1,
   "metadata": {},
   "outputs": [],
   "source": [
    "# import libraries\n",
    "\n",
    "import matplotlib.pyplot as plt\n",
    "import numpy as np\n",
    "import pandas as pd\n",
    "# Set plot space as inline for inline plots display\n",
    "%matplotlib inline"
   ]
  },
  {
   "cell_type": "markdown",
   "metadata": {},
   "source": [
    "\n",
    "![msatplot](https://python-graph-gallery.com/wp-content/uploads/Logo_PGG_full-3.jpg)\n",
    "\n",
    "The [Python Graph Gallery](https://python-graph-gallery.com/matplotlib/) has some great resources to guide you through the code needed to create each type of matplotlib plot. \n",
    "\n",
    "### Plot Anatomy\n",
    "Let's spend some time on the terminology of a plot. There are a lot of options to set in matplotlib plots, so let's identify some common terminology. \n",
    "\n",
    "The sequence of events with matplotlib are:\n",
    "\n",
    "| Step | Code Example |\n",
    "| :---- | :------------ |\n",
    "| 1. Create axis object | `ax = plt.subplot()` |\n",
    "| 2. Create figure | `plt.bar` |\n",
    "| 3. Make adjustments | `plt.title`, `ax.set_xticks`, etc |\n",
    "| 4. Show final plot | `plt.show()` . |\n",
    "\n",
    "\n",
    "The [Pyplot tutorial](https://matplotlib.org/tutorials/introductory/pyplot.html) shows a list of options you can set within a plot.\n",
    "\n",
    "![matplotlib anatomy](https://matplotlib.org/_images/sphx_glr_anatomy_001.png)\n",
    "\n",
    "\n",
    "Let's look [how they created this plot.](https://matplotlib.org/gallery/showcase/anatomy.html)"
   ]
  },
  {
   "cell_type": "markdown",
   "metadata": {},
   "source": [
    "### 1 Barplots\n",
    "Barplots are used for displaying __one dimensional__, __discrete__ data. You call plt.bar with two arguments:\n",
    "- the x — a list of x-positions for each bar\n",
    "- the y-values — a list of heights for each bar"
   ]
  },
  {
   "cell_type": "code",
   "execution_count": 9,
   "metadata": {
    "scrolled": false
   },
   "outputs": [
    {
     "data": {
      "image/png": "[encoded data removed]",
      "text/plain": [
       "<Figure size 432x288 with 1 Axes>"
      ]
     },
     "metadata": {
      "needs_background": "light"
     },
     "output_type": "display_data"
    }
   ],
   "source": [
    "# an example of a bar plot \n",
    "ax = plt.subplot() # create an axis object, which the plot object which we can customize\n",
    "our_dogs = [\"dengue\", \"dolce\", \"murray\", \"dog_a\", \"dog_b\", \"dog_c\"] \n",
    "dogs_age =  [5, 8, 5, 4, 6, 7]\n",
    "\n",
    "plt.bar(range(len(our_dogs)), dogs_age)\n",
    "\n",
    "ax.set_xticks(range(0,len(our_dogs))) # set ticks values, as a method of the axes\n",
    "ax.set_xticklabels(our_dogs) # set tick labels, also as a method of the axes\n",
    "\n",
    "plt.title('age of random dogs')\n",
    "plt.xlabel('dogs')\n",
    "plt.ylabel('age')\n",
    "plt.show()"
   ]
  },
  {
   "cell_type": "markdown",
   "metadata": {},
   "source": [
    "[What is ax and figure?](https://stackoverflow.com/questions/34162443/why-do-many-examples-use-fig-ax-plt-subplots-in-matplotlib-pyplot-python)"
   ]
  },
  {
   "cell_type": "code",
   "execution_count": 18,
   "metadata": {
    "scrolled": false
   },
   "outputs": [
    {
     "data": {
      "text/plain": [
       "Text(0.5, 1.0, 'cat age')"
      ]
     },
     "execution_count": 18,
     "metadata": {},
     "output_type": "execute_result"
    },
    {
     "data": {
      "image/png": "[encoded data removed]",
      "text/plain": [
       "<Figure size 576x720 with 4 Axes>"
      ]
     },
     "metadata": {
      "needs_background": "light"
     },
     "output_type": "display_data"
    }
   ],
   "source": [
    "# utilizing the subplot function and creating subplots\n",
    "our_cats = [\"cat_1\", \"cat_2\", \"cat_3\", \"cat_4\", \"cat_5\", \"cat_6\"]\n",
    "cats_age =  [14, 16, 17, 20, 18, 24]\n",
    "fig = plt.figure(figsize = (8,10))\n",
    "ax1 = plt.subplot(2,2,4)\n",
    "plt.bar(range(len(our_dogs)),dogs_age, color = 'pink')\n",
    "plt.title('dog age')\n",
    "plt.subplot(2,2,2)\n",
    "plt.bar(range(len(our_cats)),cats_age, color = 'orange')\n",
    "plt.title('cat age')\n",
    "plt.subplot(2,2,3)\n",
    "plt.bar(range(len(our_cats)),cats_age, color = 'blue')\n",
    "plt.title('cat age')\n",
    "plt.subplot(2,2,1)\n",
    "plt.bar(range(len(our_cats)),cats_age, color = 'coral')\n",
    "plt.title('cat age')"
   ]
  },
  {
   "cell_type": "markdown",
   "metadata": {},
   "source": [
    "What is something that you notice here that needs to be fixed?"
   ]
  },
  {
   "cell_type": "code",
   "execution_count": 26,
   "metadata": {
    "scrolled": true
   },
   "outputs": [
    {
     "ename": "ValueError",
     "evalue": "shape mismatch: objects cannot be broadcast to a single shape",
     "output_type": "error",
     "traceback": [
      "\u001b[0;31m---------------------------------------------------------------------------\u001b[0m",
      "\u001b[0;31mValueError\u001b[0m                                Traceback (most recent call last)",
      "\u001b[0;32m<ipython-input-26-0ef9d128add7>\u001b[0m in \u001b[0;36m<module>\u001b[0;34m\u001b[0m\n\u001b[1;32m     33\u001b[0m \u001b[0;34m\u001b[0m\u001b[0m\n\u001b[1;32m     34\u001b[0m \u001b[0;34m\u001b[0m\u001b[0m\n\u001b[0;32m---> 35\u001b[0;31m \u001b[0mplt\u001b[0m\u001b[0;34m.\u001b[0m\u001b[0mbar\u001b[0m\u001b[0;34m(\u001b[0m\u001b[0mdc_values\u001b[0m\u001b[0;34m,\u001b[0m \u001b[0mdogs_age\u001b[0m \u001b[0;34m+\u001b[0m \u001b[0mcats_age\u001b[0m\u001b[0;34m,\u001b[0m \u001b[0mcolor\u001b[0m\u001b[0;34m=\u001b[0m\u001b[0;34m'blue'\u001b[0m\u001b[0;34m)\u001b[0m\u001b[0;34m\u001b[0m\u001b[0;34m\u001b[0m\u001b[0m\n\u001b[0m\u001b[1;32m     36\u001b[0m \u001b[0;34m\u001b[0m\u001b[0m\n\u001b[1;32m     37\u001b[0m \u001b[0;34m\u001b[0m\u001b[0m\n",
      "\u001b[0;32m~/anaconda3/lib/python3.7/site-packages/matplotlib/pyplot.py\u001b[0m in \u001b[0;36mbar\u001b[0;34m(x, height, width, bottom, align, data, **kwargs)\u001b[0m\n\u001b[1;32m   2432\u001b[0m     return gca().bar(\n\u001b[1;32m   2433\u001b[0m         \u001b[0mx\u001b[0m\u001b[0;34m,\u001b[0m \u001b[0mheight\u001b[0m\u001b[0;34m,\u001b[0m \u001b[0mwidth\u001b[0m\u001b[0;34m=\u001b[0m\u001b[0mwidth\u001b[0m\u001b[0;34m,\u001b[0m \u001b[0mbottom\u001b[0m\u001b[0;34m=\u001b[0m\u001b[0mbottom\u001b[0m\u001b[0;34m,\u001b[0m \u001b[0malign\u001b[0m\u001b[0;34m=\u001b[0m\u001b[0malign\u001b[0m\u001b[0;34m,\u001b[0m\u001b[0;34m\u001b[0m\u001b[0;34m\u001b[0m\u001b[0m\n\u001b[0;32m-> 2434\u001b[0;31m         **({\"data\": data} if data is not None else {}), **kwargs)\n\u001b[0m\u001b[1;32m   2435\u001b[0m \u001b[0;34m\u001b[0m\u001b[0m\n\u001b[1;32m   2436\u001b[0m \u001b[0;34m\u001b[0m\u001b[0m\n",
      "\u001b[0;32m~/anaconda3/lib/python3.7/site-packages/matplotlib/__init__.py\u001b[0m in \u001b[0;36minner\u001b[0;34m(ax, data, *args, **kwargs)\u001b[0m\n\u001b[1;32m   1587\u001b[0m     \u001b[0;32mdef\u001b[0m \u001b[0minner\u001b[0m\u001b[0;34m(\u001b[0m\u001b[0max\u001b[0m\u001b[0;34m,\u001b[0m \u001b[0;34m*\u001b[0m\u001b[0margs\u001b[0m\u001b[0;34m,\u001b[0m \u001b[0mdata\u001b[0m\u001b[0;34m=\u001b[0m\u001b[0;32mNone\u001b[0m\u001b[0;34m,\u001b[0m \u001b[0;34m**\u001b[0m\u001b[0mkwargs\u001b[0m\u001b[0;34m)\u001b[0m\u001b[0;34m:\u001b[0m\u001b[0;34m\u001b[0m\u001b[0;34m\u001b[0m\u001b[0m\n\u001b[1;32m   1588\u001b[0m         \u001b[0;32mif\u001b[0m \u001b[0mdata\u001b[0m \u001b[0;32mis\u001b[0m \u001b[0;32mNone\u001b[0m\u001b[0;34m:\u001b[0m\u001b[0;34m\u001b[0m\u001b[0;34m\u001b[0m\u001b[0m\n\u001b[0;32m-> 1589\u001b[0;31m             \u001b[0;32mreturn\u001b[0m \u001b[0mfunc\u001b[0m\u001b[0;34m(\u001b[0m\u001b[0max\u001b[0m\u001b[0;34m,\u001b[0m \u001b[0;34m*\u001b[0m\u001b[0mmap\u001b[0m\u001b[0;34m(\u001b[0m\u001b[0msanitize_sequence\u001b[0m\u001b[0;34m,\u001b[0m \u001b[0margs\u001b[0m\u001b[0;34m)\u001b[0m\u001b[0;34m,\u001b[0m \u001b[0;34m**\u001b[0m\u001b[0mkwargs\u001b[0m\u001b[0;34m)\u001b[0m\u001b[0;34m\u001b[0m\u001b[0;34m\u001b[0m\u001b[0m\n\u001b[0m\u001b[1;32m   1590\u001b[0m \u001b[0;34m\u001b[0m\u001b[0m\n\u001b[1;32m   1591\u001b[0m         \u001b[0mbound\u001b[0m \u001b[0;34m=\u001b[0m \u001b[0mnew_sig\u001b[0m\u001b[0;34m.\u001b[0m\u001b[0mbind\u001b[0m\u001b[0;34m(\u001b[0m\u001b[0max\u001b[0m\u001b[0;34m,\u001b[0m \u001b[0;34m*\u001b[0m\u001b[0margs\u001b[0m\u001b[0;34m,\u001b[0m \u001b[0;34m**\u001b[0m\u001b[0mkwargs\u001b[0m\u001b[0;34m)\u001b[0m\u001b[0;34m\u001b[0m\u001b[0;34m\u001b[0m\u001b[0m\n",
      "\u001b[0;32m~/anaconda3/lib/python3.7/site-packages/matplotlib/axes/_axes.py\u001b[0m in \u001b[0;36mbar\u001b[0;34m(self, x, height, width, bottom, align, **kwargs)\u001b[0m\n\u001b[1;32m   2373\u001b[0m         x, height, width, y, linewidth = np.broadcast_arrays(\n\u001b[1;32m   2374\u001b[0m             \u001b[0;31m# Make args iterable too.\u001b[0m\u001b[0;34m\u001b[0m\u001b[0;34m\u001b[0m\u001b[0;34m\u001b[0m\u001b[0m\n\u001b[0;32m-> 2375\u001b[0;31m             np.atleast_1d(x), height, width, y, linewidth)\n\u001b[0m\u001b[1;32m   2376\u001b[0m \u001b[0;34m\u001b[0m\u001b[0m\n\u001b[1;32m   2377\u001b[0m         \u001b[0;31m# Now that units have been converted, set the tick locations.\u001b[0m\u001b[0;34m\u001b[0m\u001b[0;34m\u001b[0m\u001b[0;34m\u001b[0m\u001b[0m\n",
      "\u001b[0;32m~/anaconda3/lib/python3.7/site-packages/numpy/lib/stride_tricks.py\u001b[0m in \u001b[0;36mbroadcast_arrays\u001b[0;34m(*args, **kwargs)\u001b[0m\n\u001b[1;32m    257\u001b[0m     \u001b[0margs\u001b[0m \u001b[0;34m=\u001b[0m \u001b[0;34m[\u001b[0m\u001b[0mnp\u001b[0m\u001b[0;34m.\u001b[0m\u001b[0marray\u001b[0m\u001b[0;34m(\u001b[0m\u001b[0m_m\u001b[0m\u001b[0;34m,\u001b[0m \u001b[0mcopy\u001b[0m\u001b[0;34m=\u001b[0m\u001b[0;32mFalse\u001b[0m\u001b[0;34m,\u001b[0m \u001b[0msubok\u001b[0m\u001b[0;34m=\u001b[0m\u001b[0msubok\u001b[0m\u001b[0;34m)\u001b[0m \u001b[0;32mfor\u001b[0m \u001b[0m_m\u001b[0m \u001b[0;32min\u001b[0m \u001b[0margs\u001b[0m\u001b[0;34m]\u001b[0m\u001b[0;34m\u001b[0m\u001b[0;34m\u001b[0m\u001b[0m\n\u001b[1;32m    258\u001b[0m \u001b[0;34m\u001b[0m\u001b[0m\n\u001b[0;32m--> 259\u001b[0;31m     \u001b[0mshape\u001b[0m \u001b[0;34m=\u001b[0m \u001b[0m_broadcast_shape\u001b[0m\u001b[0;34m(\u001b[0m\u001b[0;34m*\u001b[0m\u001b[0margs\u001b[0m\u001b[0;34m)\u001b[0m\u001b[0;34m\u001b[0m\u001b[0;34m\u001b[0m\u001b[0m\n\u001b[0m\u001b[1;32m    260\u001b[0m \u001b[0;34m\u001b[0m\u001b[0m\n\u001b[1;32m    261\u001b[0m     \u001b[0;32mif\u001b[0m \u001b[0mall\u001b[0m\u001b[0;34m(\u001b[0m\u001b[0marray\u001b[0m\u001b[0;34m.\u001b[0m\u001b[0mshape\u001b[0m \u001b[0;34m==\u001b[0m \u001b[0mshape\u001b[0m \u001b[0;32mfor\u001b[0m \u001b[0marray\u001b[0m \u001b[0;32min\u001b[0m \u001b[0margs\u001b[0m\u001b[0;34m)\u001b[0m\u001b[0;34m:\u001b[0m\u001b[0;34m\u001b[0m\u001b[0;34m\u001b[0m\u001b[0m\n",
      "\u001b[0;32m~/anaconda3/lib/python3.7/site-packages/numpy/lib/stride_tricks.py\u001b[0m in \u001b[0;36m_broadcast_shape\u001b[0;34m(*args)\u001b[0m\n\u001b[1;32m    191\u001b[0m     \u001b[0;31m# use the old-iterator because np.nditer does not handle size 0 arrays\u001b[0m\u001b[0;34m\u001b[0m\u001b[0;34m\u001b[0m\u001b[0;34m\u001b[0m\u001b[0m\n\u001b[1;32m    192\u001b[0m     \u001b[0;31m# consistently\u001b[0m\u001b[0;34m\u001b[0m\u001b[0;34m\u001b[0m\u001b[0;34m\u001b[0m\u001b[0m\n\u001b[0;32m--> 193\u001b[0;31m     \u001b[0mb\u001b[0m \u001b[0;34m=\u001b[0m \u001b[0mnp\u001b[0m\u001b[0;34m.\u001b[0m\u001b[0mbroadcast\u001b[0m\u001b[0;34m(\u001b[0m\u001b[0;34m*\u001b[0m\u001b[0margs\u001b[0m\u001b[0;34m[\u001b[0m\u001b[0;34m:\u001b[0m\u001b[0;36m32\u001b[0m\u001b[0;34m]\u001b[0m\u001b[0;34m)\u001b[0m\u001b[0;34m\u001b[0m\u001b[0;34m\u001b[0m\u001b[0m\n\u001b[0m\u001b[1;32m    194\u001b[0m     \u001b[0;31m# unfortunately, it cannot handle 32 or more arguments directly\u001b[0m\u001b[0;34m\u001b[0m\u001b[0;34m\u001b[0m\u001b[0;34m\u001b[0m\u001b[0m\n\u001b[1;32m    195\u001b[0m     \u001b[0;32mfor\u001b[0m \u001b[0mpos\u001b[0m \u001b[0;32min\u001b[0m \u001b[0mrange\u001b[0m\u001b[0;34m(\u001b[0m\u001b[0;36m32\u001b[0m\u001b[0;34m,\u001b[0m \u001b[0mlen\u001b[0m\u001b[0;34m(\u001b[0m\u001b[0margs\u001b[0m\u001b[0;34m)\u001b[0m\u001b[0;34m,\u001b[0m \u001b[0;36m31\u001b[0m\u001b[0;34m)\u001b[0m\u001b[0;34m:\u001b[0m\u001b[0;34m\u001b[0m\u001b[0;34m\u001b[0m\u001b[0m\n",
      "\u001b[0;31mValueError\u001b[0m: shape mismatch: objects cannot be broadcast to a single shape"
     ]
    },
    {
     "data": {
      "image/png": "[encoded data removed]",
      "text/plain": [
       "<Figure size 432x288 with 1 Axes>"
      ]
     },
     "metadata": {
      "needs_background": "light"
     },
     "output_type": "display_data"
    }
   ],
   "source": [
    "# we can create overlaid or side-by-side bargraph. You need to shift the x value by width to accommodate for two graphs.\n",
    "from matplotlib import pyplot as plt\n",
    "fig = plt.figure()\n",
    "\n",
    "\n",
    "n = 1  # This is our first dataset (out of 2)\n",
    "t = 3  # Number of datasets\n",
    "d = 6  # Number of sets of bars\n",
    "w = 0.8  # Width of each bar\n",
    "\n",
    "# essentially, this list comprehension gives us the position\n",
    "dog_values = [t*element + w*n for element in range(d)]\n",
    "\n",
    "# of the position of dogs\n",
    "plt.bar(dog_values, dogs_age, color='green')\n",
    "\n",
    "\n",
    "n = 2  # This is our second dataset (out of 2)\n",
    "t = 3  # Number of datasets\n",
    "d = 6  # Number of sets of bars\n",
    "w = 0.8  # Width of each bar\n",
    "\n",
    "cat_values = [t*element + w*n for element in range(d)]\n",
    "\n",
    "plt.bar(cat_values, cats_age, color='purple')\n",
    "\n",
    "n = 3  # This is our second dataset (out of 2)\n",
    "t = 3  # Number of datasets\n",
    "d = 6  # Number of sets of bars\n",
    "w = 0.8  # Width of each bar\n",
    "\n",
    "dc_values = [t*element + w*n for element in range(d)]\n",
    "\n",
    "\n",
    "plt.bar(dc_values, dogs_age + cats_age, color='blue')\n",
    "\n",
    "\n",
    "plt.legend([\"dogs\", \"cats\", \"dogs+cats\"])\n",
    "n = 1"
   ]
  },
  {
   "cell_type": "code",
   "execution_count": 8,
   "metadata": {},
   "outputs": [
    {
     "data": {
      "text/plain": [
       "[0.8, 2.8, 4.8, 6.8, 8.8, 10.8]"
      ]
     },
     "execution_count": 8,
     "metadata": {},
     "output_type": "execute_result"
    }
   ],
   "source": [
    "dog_values"
   ]
  },
  {
   "cell_type": "code",
   "execution_count": 9,
   "metadata": {},
   "outputs": [
    {
     "data": {
      "image/png": "[encoded data removed]",
      "text/plain": [
       "<Figure size 432x288 with 1 Axes>"
      ]
     },
     "metadata": {
      "needs_background": "light"
     },
     "output_type": "display_data"
    }
   ],
   "source": [
    "# stacked barplots\n",
    "ax = plt.subplot()\n",
    "music_festivals = [\"Coachella\", \"Govball\", \"EDC\", \"Ultra\"]\n",
    "ticket_sales_in_millon = [114, 62, 120, 116]\n",
    "people_attended_in_thousands = [126, 114, 130, 110]\n",
    "\n",
    "plt.bar(range(len(music_festivals)),\n",
    "        ticket_sales_in_millon)\n",
    "plt.bar(range(len(music_festivals)),\n",
    "        people_attended_in_thousands,\n",
    "        bottom=ticket_sales_in_millon)\n",
    "\n",
    "plt.legend([\"tix sales\", \"number of people\"])\n",
    "ax.set_xticks(range(0, len(music_festivals)))\n",
    "ax.set_xticklabels(music_festivals)\n",
    "plt.show()"
   ]
  },
  {
   "cell_type": "markdown",
   "metadata": {},
   "source": [
    "### Bar plot - animal shelter dataset\n",
    "\n",
    "Let's make a bar plot comparing dogs and cats by month when they are admitted to the shelter."
   ]
  },
  {
   "cell_type": "code",
   "execution_count": 21,
   "metadata": {},
   "outputs": [],
   "source": [
    "# Get data for Dog bar chart\n",
    "dog_month=animal_shelter_df[(animal_shelter_df['animal']=='Dog') & (animal_shelter_df['year']==2018) ].groupby('i_month').size()"
   ]
  },
  {
   "cell_type": "code",
   "execution_count": 22,
   "metadata": {
    "scrolled": true
   },
   "outputs": [
    {
     "data": {
      "text/plain": [
       "i_month\n",
       "1     750\n",
       "2     681\n",
       "3     839\n",
       "4     726\n",
       "5     693\n",
       "6     653\n",
       "7     681\n",
       "8     652\n",
       "9     734\n",
       "10    635\n",
       "11    514\n",
       "12    375\n",
       "dtype: int64"
      ]
     },
     "execution_count": 22,
     "metadata": {},
     "output_type": "execute_result"
    }
   ],
   "source": [
    "dog_month"
   ]
  },
  {
   "cell_type": "code",
   "execution_count": 25,
   "metadata": {
    "scrolled": false
   },
   "outputs": [
    {
     "data": {
      "image/png": "[encoded data removed]",
      "text/plain": [
       "<Figure size 432x288 with 1 Axes>"
      ]
     },
     "metadata": {
      "needs_background": "light"
     },
     "output_type": "display_data"
    }
   ],
   "source": [
    "# an example of a bar plot \n",
    "ax = plt.subplot() # create an axis object, which the plot object which we can customize\n",
    "Months = [\"Jan\", \"Feb\", \"Mar\", \"Apr\", \"May\", \"Jun\", \"Jul\", \"Aug\",\"Sep\",\"Oct\",\"Nov\",\"Dec\"] \n",
    "#dogs_age =  [5, 8, 5, 4, 6, 7]\n",
    "\n",
    "plt.bar(range(len(Months)), dog_month, color= 'grey')\n",
    "\n",
    "ax.set_xticks(range(0,len(Months))) # set ticks values, as a method of the axes\n",
    "ax.set_xticklabels(Months) # set tick labels, also as a method of the axes\n",
    "\n",
    "plt.title('2018 Dogs Adoption by Month')\n",
    "plt.xlabel('Month')\n",
    "plt.ylabel('Number of Adoption')\n",
    "plt.show()"
   ]
  },
  {
   "cell_type": "code",
   "execution_count": 10,
   "metadata": {},
   "outputs": [
    {
     "ename": "NameError",
     "evalue": "name 'animal_shelter_df' is not defined",
     "output_type": "error",
     "traceback": [
      "\u001b[0;31m---------------------------------------------------------------------------\u001b[0m",
      "\u001b[0;31mNameError\u001b[0m                                 Traceback (most recent call last)",
      "\u001b[0;32m<ipython-input-10-1f515440cc2c>\u001b[0m in \u001b[0;36m<module>\u001b[0;34m\u001b[0m\n\u001b[1;32m      1\u001b[0m \u001b[0;31m# Get data for Dog bar chart\u001b[0m\u001b[0;34m\u001b[0m\u001b[0;34m\u001b[0m\u001b[0;34m\u001b[0m\u001b[0m\n\u001b[0;32m----> 2\u001b[0;31m \u001b[0mdog_month\u001b[0m\u001b[0;34m=\u001b[0m\u001b[0manimal_shelter_df\u001b[0m\u001b[0;34m[\u001b[0m\u001b[0;34m(\u001b[0m\u001b[0manimal_shelter_df\u001b[0m\u001b[0;34m[\u001b[0m\u001b[0;34m'animal'\u001b[0m\u001b[0;34m]\u001b[0m\u001b[0;34m==\u001b[0m\u001b[0;34m'Dog'\u001b[0m\u001b[0;34m)\u001b[0m \u001b[0;34m&\u001b[0m \u001b[0;34m(\u001b[0m\u001b[0manimal_shelter_df\u001b[0m\u001b[0;34m[\u001b[0m\u001b[0;34m'year'\u001b[0m\u001b[0;34m]\u001b[0m\u001b[0;34m==\u001b[0m\u001b[0;36m2018\u001b[0m\u001b[0;34m)\u001b[0m \u001b[0;34m]\u001b[0m\u001b[0;34m.\u001b[0m\u001b[0mgroupby\u001b[0m\u001b[0;34m(\u001b[0m\u001b[0;34m'i_month'\u001b[0m\u001b[0;34m)\u001b[0m\u001b[0;34m.\u001b[0m\u001b[0msize\u001b[0m\u001b[0;34m(\u001b[0m\u001b[0;34m)\u001b[0m\u001b[0;34m\u001b[0m\u001b[0;34m\u001b[0m\u001b[0m\n\u001b[0m\u001b[1;32m      3\u001b[0m \u001b[0;34m\u001b[0m\u001b[0m\n\u001b[1;32m      4\u001b[0m \u001b[0;31m# Make chart\u001b[0m\u001b[0;34m\u001b[0m\u001b[0;34m\u001b[0m\u001b[0;34m\u001b[0m\u001b[0m\n\u001b[1;32m      5\u001b[0m \u001b[0max\u001b[0m \u001b[0;34m=\u001b[0m \u001b[0mplt\u001b[0m\u001b[0;34m.\u001b[0m\u001b[0msubplot\u001b[0m\u001b[0;34m(\u001b[0m\u001b[0;34m)\u001b[0m\u001b[0;34m\u001b[0m\u001b[0;34m\u001b[0m\u001b[0m\n",
      "\u001b[0;31mNameError\u001b[0m: name 'animal_shelter_df' is not defined"
     ]
    }
   ],
   "source": [
    "# Make chart\n",
    "ax = plt.subplot() \n",
    "months = dog_month.index "
   ]
  },
  {
   "cell_type": "markdown",
   "metadata": {},
   "source": [
    "### 2 Histogram\n",
    "Histograms are like barplots in the sense that it describe __one-dimensional__ data. A histogram divides the variable into bins, counts the number of observations in each bin, and shows the bins on the x-axis and the frequency on the y-axis. It is used for visualizing __continuous__ variables. <br>\n",
    "\n",
    "From the documentation: compute and draw the histogram of x. The return value is a tuple (__n, bins, patches__) or ([n0, n1, ...], bins, [patches0, patches1,...]) if the input contains multiple data."
   ]
  },
  {
   "attachments": {
    "Screen%20Shot%202019-02-03%20at%2010.13.45%20PM.png": {
     "image/png": "[encoded data removed]"
    }
   },
   "cell_type": "markdown",
   "metadata": {},
   "source": [
    "Comparison of barplots and histogram\n",
    "![Screen%20Shot%202019-02-03%20at%2010.13.45%20PM.png](attachment:Screen%20Shot%202019-02-03%20at%2010.13.45%20PM.png)"
   ]
  },
  {
   "cell_type": "code",
   "execution_count": 27,
   "metadata": {
    "scrolled": true
   },
   "outputs": [
    {
     "data": {
      "image/png": "[encoded data removed]",
      "text/plain": [
       "<Figure size 432x288 with 1 Axes>"
      ]
     },
     "metadata": {
      "needs_background": "light"
     },
     "output_type": "display_data"
    }
   ],
   "source": [
    "# Set seed for reproducability\n",
    "np.random.seed(2018)\n",
    "\n",
    "# Generate 1000 values from 0 standard normal distribution\n",
    "x = np.random.randn(100000)\n",
    "\n",
    "#Plot the distogram with hist() function\n",
    "plt.hist(x, bins = 1000)\n",
    "\n",
    "plt.xlabel('Normal random distribution')\n",
    "plt.ylabel('Frequency of Values')\n",
    "plt.title('Histograms')\n",
    "plt.show()"
   ]
  },
  {
   "cell_type": "code",
   "execution_count": 30,
   "metadata": {},
   "outputs": [
    {
     "data": {
      "text/plain": [
       "(array([0.29940361, 0.        , 0.        , 0.        , 0.        ,\n",
       "        0.        , 0.        , 0.29940361, 0.29940361, 0.        ,\n",
       "        0.        , 0.29940361, 0.        , 0.89821084, 0.29940361,\n",
       "        0.59880723, 0.        , 0.        , 0.        , 0.        ,\n",
       "        0.29940361, 0.59880723, 0.29940361, 0.29940361, 0.59880723,\n",
       "        0.        , 0.59880723, 0.        , 0.        , 0.29940361,\n",
       "        0.59880723, 0.        , 0.        , 0.        , 0.        ,\n",
       "        0.29940361, 0.29940361, 0.59880723, 0.59880723, 0.        ,\n",
       "        0.29940361, 0.59880723, 1.19761445, 0.89821084, 1.49701806,\n",
       "        1.49701806, 0.89821084, 1.19761445, 1.19761445, 0.        ,\n",
       "        2.09582529, 1.79642168, 0.89821084, 0.89821084, 1.79642168,\n",
       "        2.09582529, 1.79642168, 1.49701806, 1.79642168, 2.3952289 ,\n",
       "        2.99403613, 2.69463252, 2.69463252, 2.09582529, 4.49105419,\n",
       "        2.09582529, 1.79642168, 4.7904578 , 2.99403613, 1.79642168,\n",
       "        3.59284335, 2.99403613, 1.19761445, 2.3952289 , 1.79642168,\n",
       "        1.19761445, 2.69463252, 3.59284335, 5.98807226, 2.99403613,\n",
       "        3.59284335, 3.89224697, 3.89224697, 4.49105419, 1.79642168,\n",
       "        3.59284335, 4.7904578 , 1.79642168, 3.89224697, 3.29343974,\n",
       "        2.99403613, 2.99403613, 5.08986142, 4.49105419, 4.19165058,\n",
       "        2.69463252, 5.38926503, 4.49105419, 4.19165058, 2.69463252,\n",
       "        3.29343974, 4.49105419, 4.7904578 , 2.3952289 , 3.59284335,\n",
       "        5.68866864, 4.7904578 , 2.99403613, 4.19165058, 3.29343974,\n",
       "        3.59284335, 4.49105419, 3.89224697, 1.79642168, 5.38926503,\n",
       "        2.99403613, 1.49701806, 2.09582529, 3.29343974, 1.79642168,\n",
       "        3.59284335, 3.29343974, 1.79642168, 2.3952289 , 3.29343974,\n",
       "        3.29343974, 2.3952289 , 1.49701806, 4.49105419, 1.19761445,\n",
       "        0.59880723, 2.69463252, 1.19761445, 1.79642168, 0.89821084,\n",
       "        0.59880723, 2.3952289 , 1.79642168, 0.59880723, 2.09582529,\n",
       "        0.        , 0.89821084, 1.49701806, 1.49701806, 1.19761445,\n",
       "        1.19761445, 1.19761445, 1.79642168, 0.29940361, 0.89821084,\n",
       "        1.19761445, 0.59880723, 0.89821084, 0.59880723, 0.29940361,\n",
       "        1.49701806, 0.59880723, 0.29940361, 0.        , 0.29940361,\n",
       "        0.59880723, 0.59880723, 0.        , 0.        , 0.29940361,\n",
       "        0.        , 0.59880723, 0.29940361, 0.59880723, 0.        ,\n",
       "        0.        , 0.        , 0.        , 0.        , 0.        ,\n",
       "        0.29940361, 0.        , 0.29940361, 0.        , 0.29940361,\n",
       "        0.        , 0.29940361, 0.        , 0.        , 0.        ,\n",
       "        0.        , 0.        , 0.        , 0.        , 0.        ,\n",
       "        0.        , 0.        , 0.        , 0.        , 0.        ,\n",
       "        0.        , 0.        , 0.        , 0.        , 0.29940361]),\n",
       " array([0.182791  , 0.18613098, 0.18947095, 0.19281092, 0.1961509 ,\n",
       "        0.19949087, 0.20283084, 0.20617081, 0.20951079, 0.21285076,\n",
       "        0.21619073, 0.21953071, 0.22287068, 0.22621065, 0.22955063,\n",
       "        0.2328906 , 0.23623057, 0.23957055, 0.24291052, 0.24625049,\n",
       "        0.24959046, 0.25293044, 0.25627041, 0.25961038, 0.26295036,\n",
       "        0.26629033, 0.2696303 , 0.27297028, 0.27631025, 0.27965022,\n",
       "        0.28299019, 0.28633017, 0.28967014, 0.29301011, 0.29635009,\n",
       "        0.29969006, 0.30303003, 0.30637001, 0.30970998, 0.31304995,\n",
       "        0.31638993, 0.3197299 , 0.32306987, 0.32640984, 0.32974982,\n",
       "        0.33308979, 0.33642976, 0.33976974, 0.34310971, 0.34644968,\n",
       "        0.34978966, 0.35312963, 0.3564696 , 0.35980958, 0.36314955,\n",
       "        0.36648952, 0.36982949, 0.37316947, 0.37650944, 0.37984941,\n",
       "        0.38318939, 0.38652936, 0.38986933, 0.39320931, 0.39654928,\n",
       "        0.39988925, 0.40322922, 0.4065692 , 0.40990917, 0.41324914,\n",
       "        0.41658912, 0.41992909, 0.42326906, 0.42660904, 0.42994901,\n",
       "        0.43328898, 0.43662896, 0.43996893, 0.4433089 , 0.44664887,\n",
       "        0.44998885, 0.45332882, 0.45666879, 0.46000877, 0.46334874,\n",
       "        0.46668871, 0.47002869, 0.47336866, 0.47670863, 0.48004861,\n",
       "        0.48338858, 0.48672855, 0.49006852, 0.4934085 , 0.49674847,\n",
       "        0.50008844, 0.50342842, 0.50676839, 0.51010836, 0.51344834,\n",
       "        0.51678831, 0.52012828, 0.52346825, 0.52680823, 0.5301482 ,\n",
       "        0.53348817, 0.53682815, 0.54016812, 0.54350809, 0.54684807,\n",
       "        0.55018804, 0.55352801, 0.55686799, 0.56020796, 0.56354793,\n",
       "        0.5668879 , 0.57022788, 0.57356785, 0.57690782, 0.5802478 ,\n",
       "        0.58358777, 0.58692774, 0.59026772, 0.59360769, 0.59694766,\n",
       "        0.60028764, 0.60362761, 0.60696758, 0.61030755, 0.61364753,\n",
       "        0.6169875 , 0.62032747, 0.62366745, 0.62700742, 0.63034739,\n",
       "        0.63368737, 0.63702734, 0.64036731, 0.64370729, 0.64704726,\n",
       "        0.65038723, 0.6537272 , 0.65706718, 0.66040715, 0.66374712,\n",
       "        0.6670871 , 0.67042707, 0.67376704, 0.67710702, 0.68044699,\n",
       "        0.68378696, 0.68712693, 0.69046691, 0.69380688, 0.69714685,\n",
       "        0.70048683, 0.7038268 , 0.70716677, 0.71050675, 0.71384672,\n",
       "        0.71718669, 0.72052667, 0.72386664, 0.72720661, 0.73054658,\n",
       "        0.73388656, 0.73722653, 0.7405665 , 0.74390648, 0.74724645,\n",
       "        0.75058642, 0.7539264 , 0.75726637, 0.76060634, 0.76394632,\n",
       "        0.76728629, 0.77062626, 0.77396623, 0.77730621, 0.78064618,\n",
       "        0.78398615, 0.78732613, 0.7906661 , 0.79400607, 0.79734605,\n",
       "        0.80068602, 0.80402599, 0.80736596, 0.81070594, 0.81404591,\n",
       "        0.81738588, 0.82072586, 0.82406583, 0.8274058 , 0.83074578,\n",
       "        0.83408575, 0.83742572, 0.8407657 , 0.84410567, 0.84744564,\n",
       "        0.85078561]),\n",
       " <a list of 200 Patch objects>)"
      ]
     },
     "execution_count": 30,
     "metadata": {},
     "output_type": "execute_result"
    },
    {
     "data": {
      "image/png": "[encoded data removed]",
      "text/plain": [
       "<Figure size 720x576 with 1 Axes>"
      ]
     },
     "metadata": {
      "needs_background": "light"
     },
     "output_type": "display_data"
    }
   ],
   "source": [
    "# overlaid histograms for two distributions\n",
    "# plotting two histograms \n",
    "mu1, sigma1 = 0, 0.1 # mean and standard deviation\n",
    "s1 = np.random.normal(mu1, sigma1, 1000)\n",
    "mu2, sigma2 = 0.5, 0.1\n",
    "s2 = np.random.normal(mu2, sigma2, 1000)\n",
    "plt.figure(figsize = (10,8))\n",
    "plt.hist(s1, bins = 200, density = True, alpha=.5)\n",
    "plt.hist(s2, bins = 200, density = True, alpha=.5)"
   ]
  },
  {
   "cell_type": "markdown",
   "metadata": {},
   "source": [
    "### Histogram - animal shelter dataset\n",
    "\n",
    "Let's make a **historgram** comparing dogs and cats by age when they are admitted to the shelter."
   ]
  },
  {
   "cell_type": "code",
   "execution_count": 37,
   "metadata": {},
   "outputs": [
    {
     "data": {
      "text/plain": [
       "(array([5.07239032e-01, 8.30734647e-01, 2.62901467e-01, 6.37317083e-02,\n",
       "        2.09170735e-02, 1.81390247e-01, 1.54917075e-02, 6.77843913e-02,\n",
       "        1.01317075e-02, 3.68663420e-02, 8.17073183e-03, 3.31404883e-02,\n",
       "        1.15697563e-02, 5.09853666e-03, 2.35970735e-02, 5.09853666e-03,\n",
       "        2.20936589e-02, 4.51024397e-03, 2.61463419e-02, 6.20975619e-03,\n",
       "        9.87024405e-03, 5.36000008e-03, 2.15707320e-03, 2.55580492e-02,\n",
       "        2.54926833e-03, 6.60195132e-03, 1.89560978e-03, 1.23541465e-02,\n",
       "        2.41853662e-03, 6.66731717e-03, 2.74536589e-03, 1.96097564e-03,\n",
       "        5.22926837e-03, 1.24195124e-03, 5.94829277e-03, 8.49756110e-04,\n",
       "        1.96097564e-03, 5.22926837e-04, 2.09170735e-03, 3.26829273e-04,\n",
       "        0.00000000e+00, 1.30731709e-03, 6.53658546e-05, 2.61463419e-04,\n",
       "        6.53658546e-05, 8.49756110e-04, 6.53658546e-05, 0.00000000e+00,\n",
       "        0.00000000e+00, 1.96097564e-04]),\n",
       " array([-0.26575342,  0.17989041,  0.62553425,  1.07117808,  1.51682192,\n",
       "         1.96246575,  2.40810959,  2.85375342,  3.29939726,  3.7450411 ,\n",
       "         4.19068493,  4.63632877,  5.0819726 ,  5.52761644,  5.97326027,\n",
       "         6.41890411,  6.86454795,  7.31019178,  7.75583562,  8.20147945,\n",
       "         8.64712329,  9.09276712,  9.53841096,  9.98405479, 10.42969863,\n",
       "        10.87534247, 11.3209863 , 11.76663014, 12.21227397, 12.65791781,\n",
       "        13.10356164, 13.54920548, 13.99484932, 14.44049315, 14.88613699,\n",
       "        15.33178082, 15.77742466, 16.22306849, 16.66871233, 17.11435616,\n",
       "        17.56      , 18.00564384, 18.45128767, 18.89693151, 19.34257534,\n",
       "        19.78821918, 20.23386301, 20.67950685, 21.12515068, 21.57079452,\n",
       "        22.01643836]),\n",
       " <a list of 50 Patch objects>)"
      ]
     },
     "execution_count": 37,
     "metadata": {},
     "output_type": "execute_result"
    },
    {
     "data": {
      "image/png": "[encoded data removed]",
      "text/plain": [
       "<Figure size 720x576 with 1 Axes>"
      ]
     },
     "metadata": {
      "needs_background": "light"
     },
     "output_type": "display_data"
    }
   ],
   "source": [
    "# overlaid histograms for two distributions\n",
    "# plotting two histograms \n",
    "mu1, sigma1 = 0, 0.1 # mean and standard deviation\n",
    "mu2, sigma2 = 0.5, 0.1\n",
    "plt.figure(figsize = (10,8))\n",
    "plt.hist(dog_age, bins = 50, density = True, alpha=.5)\n",
    "plt.hist(cat_age, bins = 50, density = True, alpha=.5)"
   ]
  },
  {
   "cell_type": "markdown",
   "metadata": {},
   "source": [
    "### 3. Scatterplot - visualizing two dimensional data\n",
    "Scatterplots are usually used for visualizing two dimensional data (observations with two variables). It allows us to examine the relationship between two variables, thus it is sometimes called a correlation plot. "
   ]
  },
  {
   "cell_type": "code",
   "execution_count": null,
   "metadata": {},
   "outputs": [],
   "source": [
    "# generate some data -> the sine wave\n",
    "x = np.linspace(0, 10, 30)\n",
    "y = np.sin(x)\n",
    "plt.scatter(x, y, label = \"Function: sin(x)\" )\n",
    "plt.title('Scatter Plot in Matplotlib')\n",
    "plt.legend()"
   ]
  },
  {
   "cell_type": "code",
   "execution_count": null,
   "metadata": {
    "scrolled": true
   },
   "outputs": [],
   "source": [
    "# examining correlation with height and weight \n",
    "height = [63,62,60,63,64,65,68,67,64,71,72,70,73]\n",
    "weight = [120,115,114,119,125,130,135,140,128,140,150,165,180]\n",
    "plt.scatter(height, weight,color = 'r')"
   ]
  },
  {
   "cell_type": "markdown",
   "metadata": {},
   "source": [
    "Scatterplots, again, are great for examining the relationship between two variables. We can create pair-wise scatterplot for variables in a dataframe if we want to find their the correlations between variables. Later in this course, we will learn about correlation heatmap. \n",
    "\n",
    "\n",
    "### Scatterplot - animal shelter data\n",
    "\n",
    "For dogs that are adopted, create a scatter plot comparing age to how long a dog spends in the shelter between intake and adoption."
   ]
  },
  {
   "cell_type": "code",
   "execution_count": null,
   "metadata": {},
   "outputs": [],
   "source": []
  },
  {
   "cell_type": "markdown",
   "metadata": {},
   "source": [
    "### 4 - Pie Charts"
   ]
  },
  {
   "cell_type": "code",
   "execution_count": null,
   "metadata": {
    "scrolled": true
   },
   "outputs": [],
   "source": [
    "# pie chart \n",
    "music_genre = ['R&B', 'Rock', 'Country', 'House', 'Hip Pop', 'Techno']\n",
    "num_people_like = [15, 5, 3, 7, 18, 3]\n",
    "\n",
    "#Make your plot here\n",
    "plt.figure(figsize=(10,8))\n",
    "plt.pie(num_people_like ,labels=music_genre, autopct=\"%1d%%\")\n",
    "\n",
    "plt.axis('equal')\n",
    "plt.title('Music Preference')\n",
    "\n",
    "plt.show()\n",
    "plt.savefig(\"music_pie_chart.jpeg\")\n",
    "# saves the image to the directory"
   ]
  },
  {
   "cell_type": "markdown",
   "metadata": {},
   "source": [
    "### Pie chart - animal shelter data\n",
    "\n",
    "While pie charts are frowned upon, people might still ask you to make them.\n",
    "\n",
    "Make a pie chart of cat outcomes."
   ]
  },
  {
   "cell_type": "markdown",
   "metadata": {},
   "source": [
    "## Putting it together:\n",
    "\n",
    "If at any point you have questions about what a matplotlib function does, you have the `help()` function. "
   ]
  },
  {
   "cell_type": "code",
   "execution_count": null,
   "metadata": {},
   "outputs": [],
   "source": [
    "help(plt.axis)"
   ]
  },
  {
   "cell_type": "markdown",
   "metadata": {},
   "source": [
    "What is one question that we had from earlier that we could answer with a visualization?\n",
    "\n",
    "Please make that plot and then share it with a neighbor. "
   ]
  },
  {
   "cell_type": "code",
   "execution_count": null,
   "metadata": {},
   "outputs": [],
   "source": []
  },
  {
   "cell_type": "markdown",
   "metadata": {},
   "source": [
    "## Assessment and reflection "
   ]
  }
 ],
 "metadata": {
  "kernelspec": {
   "display_name": "Python 3",
   "language": "python",
   "name": "python3"
  },
  "language_info": {
   "codemirror_mode": {
    "name": "ipython",
    "version": 3
   },
   "file_extension": ".py",
   "mimetype": "text/x-python",
   "name": "python",
   "nbconvert_exporter": "python",
   "pygments_lexer": "ipython3",
   "version": "3.7.3"
  }
 },
 "nbformat": 4,
 "nbformat_minor": 2
}
