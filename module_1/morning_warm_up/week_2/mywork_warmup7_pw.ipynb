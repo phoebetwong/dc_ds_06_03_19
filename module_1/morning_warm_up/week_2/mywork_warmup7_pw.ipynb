{
 "cells": [
  {
   "cell_type": "code",
   "execution_count": 1,
   "metadata": {},
   "outputs": [],
   "source": [
    "### Import packages\n",
    "import matplotlib.pyplot as plt\n",
    "from IPython.display import Image"
   ]
  },
  {
   "cell_type": "code",
   "execution_count": null,
   "metadata": {},
   "outputs": [],
   "source": [
    "### 1. open the notebook with the CO2 data\n",
    "##last time we picked columns 0, 1 and 3. Choose this time columns 0, 1, 3 and 4.\n",
    "###Whenever there is a missing value (-99.99) replace it with the corresponding value at column 4."
   ]
  },
  {
   "cell_type": "code",
   "execution_count": null,
   "metadata": {},
   "outputs": [],
   "source": [
    "### 2. \n",
    " - Create a new directory in your documents folder\n",
    " name it visualizations \n",
    " - in it create a folder named warm-up-mod1\n",
    "- list all folders in your documents folder \n",
    "`use ls`\n",
    "\n",
    "### 3. Using matplotlib we want to create the following figure : \n",
    "![Alt Image Text](./plots/CO2_warmup.png)\n",
    "\n",
    "- Each month is signaled by different colour \n",
    "- Add an yearly average (red) (use groupby with mean)\n",
    "- Notice the starting year on the x-axis\n",
    "- Notice the range on the Y-axis\n",
    "\n",
    "### 4. Push your notebook to your github branch \n",
    "\n",
    "### 5. save your image into the visualizations folder we have created \n",
    "\n",
    "`plt.savefig`\n",
    "\n",
    "#### [optional] Play with the scales of axis to make the difference among months more apparent"
   ]
  }
 ],
 "metadata": {
  "kernelspec": {
   "display_name": "Python 3",
   "language": "python",
   "name": "python3"
  },
  "language_info": {
   "codemirror_mode": {
    "name": "ipython",
    "version": 3
   },
   "file_extension": ".py",
   "mimetype": "text/x-python",
   "name": "python",
   "nbconvert_exporter": "python",
   "pygments_lexer": "ipython3",
   "version": "3.7.3"
  }
 },
 "nbformat": 4,
 "nbformat_minor": 2
}
