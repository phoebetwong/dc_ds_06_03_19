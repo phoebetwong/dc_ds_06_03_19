{
 "cells": [
  {
   "cell_type": "code",
   "execution_count": null,
   "metadata": {},
   "outputs": [],
   "source": [
    "### Import packages \n",
    "`import matplotlib.pyplot as plt\n",
    " `\n",
    "`import seaborn as sns`\n",
    "\n",
    "`import numpy as np`\n",
    "\n",
    "### 1. Create fake data from normal distribution with 100 observations\n",
    "\n",
    "`use numpy random.normal`\n",
    "\n",
    "### 2. Plot a histogram to see the distribution using matplotlib\n",
    "![](./plots/hist_matplot.png)\n",
    "\n",
    "\n",
    "### 3. Switch to seaborn and add a smooth distribution line on top of histogram \n",
    "![](./plots/hist_sns.png)\n",
    "\n",
    "\n",
    "### 4. Add titles to plots and save them in your visualizations folder using python commands\n",
    "\n",
    "### 5. Let's create fake linear regression data\n",
    "- create weights (only one here!) and noise (give 0.1 as std for noise) from random normal as well \n",
    "- apply y = w * x + noise \n",
    "\n",
    "\n",
    "### 6. Create a scatter plot of x to y\n",
    "\n",
    "### 7. Plot the regression line\n",
    "\n",
    "![](./plots/linear_reg_line.png)\n",
    "\n",
    "### 8. Calculate the mean squared error \n",
    "\n",
    "### 9. Plot the noise with respect to the predictors - this is a plot to check \n",
    "-  If the x's are independent from the errors - so for linear regression model to hold we need it to look like a scattered cloud  \n",
    "\n",
    "![](./plots/noise_lr.png)\n",
    "\n",
    "### 10. Push all to your github branch\n",
    "\n",
    "### 11. [optional] Create functions for the different steps in this warm-up (e.g. def x_from_standard_normal)\n",
    "\n",
    "### 12. [optional] Create a new array the same size as x and append them together                - Adjust y equation accordingly\n"
   ]
  }
 ],
 "metadata": {
  "kernelspec": {
   "display_name": "Python 3",
   "language": "python",
   "name": "python3"
  },
  "language_info": {
   "codemirror_mode": {
    "name": "ipython",
    "version": 3
   },
   "file_extension": ".py",
   "mimetype": "text/x-python",
   "name": "python",
   "nbconvert_exporter": "python",
   "pygments_lexer": "ipython3",
   "version": "3.7.3"
  }
 },
 "nbformat": 4,
 "nbformat_minor": 2
}
