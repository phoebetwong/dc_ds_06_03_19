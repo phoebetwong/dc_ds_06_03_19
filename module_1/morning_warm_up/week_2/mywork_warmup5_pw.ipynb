{
 "cells": [
  {
   "cell_type": "code",
   "execution_count": 5,
   "metadata": {
    "collapsed": true
   },
   "outputs": [
    {
     "data": {
      "text/plain": [
       "['a0',\n",
       " 'a1',\n",
       " 'a2',\n",
       " 'a3',\n",
       " 'a4',\n",
       " 'a5',\n",
       " 'a6',\n",
       " 'a7',\n",
       " 'a8',\n",
       " 'a9',\n",
       " 'a10',\n",
       " 'a11',\n",
       " 'a12',\n",
       " 'a13',\n",
       " 'a14',\n",
       " 'a15',\n",
       " 'a16',\n",
       " 'a17',\n",
       " 'a18',\n",
       " 'a19',\n",
       " 'a20',\n",
       " 'a21',\n",
       " 'a22',\n",
       " 'a23',\n",
       " 'a24',\n",
       " 'a25',\n",
       " 'a26',\n",
       " 'a27',\n",
       " 'a28',\n",
       " 'a29',\n",
       " 'a30',\n",
       " 'a31']"
      ]
     },
     "execution_count": 5,
     "metadata": {},
     "output_type": "execute_result"
    }
   ],
   "source": [
    "## create your first simulation\n",
    "\n",
    "### 1. Create a list with 32 names\n",
    "names = []\n",
    "for i in range(32):\n",
    "    names.append(f\"a{i}\")\n",
    "names "
   ]
  },
  {
   "cell_type": "code",
   "execution_count": 88,
   "metadata": {},
   "outputs": [],
   "source": [
    "### 2. Loop through the list in pairs (pick two records at a time)\n",
    "\n",
    "def pairs(n):\n",
    "    pair=[]\n",
    "    for i in range(len(n)):\n",
    "        if i%2 == 0:\n",
    "            pair.append([n[i],n[i+1]])\n",
    "    return pair"
   ]
  },
  {
   "cell_type": "code",
   "execution_count": 87,
   "metadata": {},
   "outputs": [],
   "source": [
    "### 3. Use numpy random to throw a coin (virtual coin)\n",
    "import numpy as np\n",
    "a = int(np.random.randint(2, size=1))"
   ]
  },
  {
   "cell_type": "code",
   "execution_count": 85,
   "metadata": {},
   "outputs": [],
   "source": [
    "### 4. If heads delete first record, else delete the second record \n",
    "def winners(p):\n",
    "    winners=[]\n",
    "    coin = int(np.random.randint(2, size=1))\n",
    "    for i in range(len(p)):\n",
    "        if coin == 1:\n",
    "            winners.append(p[i][0])\n",
    "        else:\n",
    "            winners.append(p[i][1])\n",
    "    return winners"
   ]
  },
  {
   "cell_type": "code",
   "execution_count": 90,
   "metadata": {},
   "outputs": [],
   "source": [
    "### 5. Continue till there is one winner \n",
    "def final_winner(fw):\n",
    "    pair_names = pairs(fw)\n",
    "    winner_names = winners(pair_names)\n",
    "    for i in range(len(fw)):\n",
    "        if len(winner_names)>1:\n",
    "            pair_names = pairs(winner_names)\n",
    "            winner_names = winners(pair_names)\n",
    "    return winner_names\n",
    "\n"
   ]
  },
  {
   "cell_type": "code",
   "execution_count": 89,
   "metadata": {},
   "outputs": [
    {
     "data": {
      "text/plain": [
       "['a0']"
      ]
     },
     "execution_count": 89,
     "metadata": {},
     "output_type": "execute_result"
    }
   ],
   "source": [
    "### 6. Print the winner's name \n",
    "final_winner(names)"
   ]
  },
  {
   "cell_type": "code",
   "execution_count": 83,
   "metadata": {},
   "outputs": [],
   "source": [
    "### 7. Execute from terminal"
   ]
  },
  {
   "cell_type": "code",
   "execution_count": null,
   "metadata": {},
   "outputs": [],
   "source": []
  }
 ],
 "metadata": {
  "kernelspec": {
   "display_name": "Python 3",
   "language": "python",
   "name": "python3"
  },
  "language_info": {
   "codemirror_mode": {
    "name": "ipython",
    "version": 3
   },
   "file_extension": ".py",
   "mimetype": "text/x-python",
   "name": "python",
   "nbconvert_exporter": "python",
   "pygments_lexer": "ipython3",
   "version": "3.7.3"
  }
 },
 "nbformat": 4,
 "nbformat_minor": 2
}
