{
 "cells": [
  {
   "cell_type": "markdown",
   "metadata": {},
   "source": [
    "### 1. Create a dictionary where each object contains a list of one float (Age) and one string (Family name) (at least 5 objects)\n",
    "\n",
    "Example:\n",
    "`{Charles: [23.4, \"Darwin\"], Alan: [42.5, \"Turing\"]}`"
   ]
  },
  {
   "cell_type": "code",
   "execution_count": 4,
   "metadata": {},
   "outputs": [],
   "source": [
    "people = {\"Charles\": [23.4, \"Darwin\"], \"Alan\": [42.5, \"Turing\"], \"Fred\": [38.4, \"Nietzsche\"], \"Maynard\": [70.1, \"Keynes\"], \"Phoebe\":[38.8, \"Wong\"]}"
   ]
  },
  {
   "cell_type": "code",
   "execution_count": 5,
   "metadata": {},
   "outputs": [
    {
     "name": "stdout",
     "output_type": "stream",
     "text": [
      "{'Charles': [23.4, 'Darwin'], 'Alan': [42.5, 'Turing'], 'Fred': [38.4, 'Nietzsche'], 'Maynard': [70.1, 'Keynes'], 'Phoebe': [38.8, 'Wong']}\n"
     ]
    }
   ],
   "source": [
    "print(people)"
   ]
  },
  {
   "cell_type": "code",
   "execution_count": 7,
   "metadata": {},
   "outputs": [
    {
     "data": {
      "text/plain": [
       "38.8"
      ]
     },
     "execution_count": 7,
     "metadata": {},
     "output_type": "execute_result"
    }
   ],
   "source": [
    "people[\"Phoebe\"][0]"
   ]
  },
  {
   "cell_type": "markdown",
   "metadata": {},
   "source": [
    "people = [{'Family Name': 'Darwin', 'Age': 23.4},{'Family Name': 'Turing', 'Age': 42.5}]"
   ]
  },
  {
   "cell_type": "markdown",
   "metadata": {},
   "source": [
    "### 2. Delete one object from the dictionary"
   ]
  },
  {
   "cell_type": "code",
   "execution_count": 15,
   "metadata": {},
   "outputs": [
    {
     "name": "stdout",
     "output_type": "stream",
     "text": [
      "{'Charles': [23.4, 'Darwin'], 'Alan': [42.5, 'Turing'], 'Fred': [38.4, 'Nietzsche'], 'Maynard': [70.1, 'Keynes']}\n"
     ]
    }
   ],
   "source": [
    "people.pop('Phoebe')\n",
    "print(people)"
   ]
  },
  {
   "cell_type": "markdown",
   "metadata": {},
   "source": [
    "### 3. Replace the float number of one of your objects - we are changing a list entry inside a dictionary record! look at Darwin's new age\n",
    "\n",
    "Example:\n",
    "`{Charles: [99.73, \"Darwin\"], Alan: [42.5, \"Turing\"]}`"
   ]
  },
  {
   "cell_type": "code",
   "execution_count": 4,
   "metadata": {},
   "outputs": [
    {
     "data": {
      "text/plain": [
       "{'Charles': [99.73, 'Darwin'],\n",
       " 'Alan': [42.5, 'Turing'],\n",
       " 'Fred': [38.4, 'Nietzsche'],\n",
       " 'Maynard': [70.1, 'Keynes']}"
      ]
     },
     "execution_count": 4,
     "metadata": {},
     "output_type": "execute_result"
    }
   ],
   "source": [
    "people[\"Charles\"][0]=99.73\n",
    "print(people)"
   ]
  },
  {
   "cell_type": "markdown",
   "metadata": {},
   "source": [
    "### 4. write a for loop that goes through all records in the dictionary, prints the family name and assigns the float numbers into one merged list (see ages)\n",
    "\n",
    "`ages = [23.4, 22.9, 552.9]`"
   ]
  },
  {
   "cell_type": "code",
   "execution_count": 9,
   "metadata": {},
   "outputs": [
    {
     "data": {
      "text/plain": [
       "23.4"
      ]
     },
     "execution_count": 9,
     "metadata": {},
     "output_type": "execute_result"
    }
   ],
   "source": [
    "people['Charles'][0]"
   ]
  },
  {
   "cell_type": "code",
   "execution_count": 6,
   "metadata": {},
   "outputs": [
    {
     "name": "stdout",
     "output_type": "stream",
     "text": [
      "Darwin\n",
      "Turing\n",
      "Nietzsche\n",
      "Keynes\n",
      "Wong\n",
      "[23.4, 42.5, 38.4, 70.1, 38.8]\n"
     ]
    }
   ],
   "source": [
    "age =[]\n",
    "for p in people:\n",
    "    print(people[p][1])\n",
    "    age.append(people[p][0])\n",
    "print(age)"
   ]
  },
  {
   "cell_type": "code",
   "execution_count": 16,
   "metadata": {},
   "outputs": [
    {
     "data": {
      "text/plain": [
       "{'Charles': [23.4, 'Darwin'],\n",
       " 'Alan': [42.5, 'Turing'],\n",
       " 'Fred': [38.4, 'Nietzsche'],\n",
       " 'Maynard': [70.1, 'Keynes']}"
      ]
     },
     "execution_count": 16,
     "metadata": {},
     "output_type": "execute_result"
    }
   ],
   "source": [
    "people"
   ]
  },
  {
   "cell_type": "code",
   "execution_count": 18,
   "metadata": {},
   "outputs": [
    {
     "name": "stdout",
     "output_type": "stream",
     "text": [
      "Darwin\n",
      "Turing\n",
      "Nietzsche\n",
      "Keynes\n",
      "[23.4, 42.5, 38.4, 70.1, 38.8, 23.4, 42.5, 38.4, 70.1]\n"
     ]
    }
   ],
   "source": [
    "for key, value in people.items():\n",
    "    print(value[1])\n",
    "    age.append(value[0])\n",
    "print(age)"
   ]
  },
  {
   "cell_type": "markdown",
   "metadata": {},
   "source": [
    "### 5. Download your notebbok as a .py (regular python script) save it somewhere you know\n",
    "\n",
    "### 6. Go to terminal, navigate to the folder where you have saved the script and execute it through the terminal\n",
    "\n",
    "`use commandds: \n",
    "cd and \n",
    "python your_script.py`\n",
    "\n",
    "\n",
    "### [optional] Calculate with a for loop the median and mean of the ages list"
   ]
  },
  {
   "cell_type": "code",
   "execution_count": 19,
   "metadata": {},
   "outputs": [
    {
     "data": {
      "text/plain": [
       "56.3"
      ]
     },
     "execution_count": 19,
     "metadata": {},
     "output_type": "execute_result"
    }
   ],
   "source": [
    "import statistics\n",
    "age =[]\n",
    "for p in people:\n",
    "    age.append(people[p][0])\n",
    "statistics.median(age)"
   ]
  },
  {
   "cell_type": "code",
   "execution_count": 20,
   "metadata": {},
   "outputs": [
    {
     "data": {
      "text/plain": [
       "56.3"
      ]
     },
     "execution_count": 20,
     "metadata": {},
     "output_type": "execute_result"
    }
   ],
   "source": [
    "(42.5+70.1)/2"
   ]
  },
  {
   "cell_type": "code",
   "execution_count": 18,
   "metadata": {},
   "outputs": [
    {
     "name": "stdout",
     "output_type": "stream",
     "text": [
      "mean is 62.68\n"
     ]
    }
   ],
   "source": [
    "sum=0\n",
    "for p in people:\n",
    "    sum += people[p][0]\n",
    "print (\"mean is \" + str(round(sum/len(people),2)))"
   ]
  },
  {
   "cell_type": "code",
   "execution_count": 21,
   "metadata": {},
   "outputs": [
    {
     "data": {
      "text/plain": [
       "[99.73, 42.5, 38.4, 70.1]"
      ]
     },
     "execution_count": 21,
     "metadata": {},
     "output_type": "execute_result"
    }
   ],
   "source": [
    "age"
   ]
  },
  {
   "cell_type": "code",
   "execution_count": 22,
   "metadata": {},
   "outputs": [
    {
     "name": "stdout",
     "output_type": "stream",
     "text": [
      "[38.4, 42.5, 70.1, 99.73]\n"
     ]
    }
   ],
   "source": [
    "age.sort()\n",
    "print(age)"
   ]
  },
  {
   "cell_type": "code",
   "execution_count": 35,
   "metadata": {
    "scrolled": true
   },
   "outputs": [
    {
     "data": {
      "text/plain": [
       "0"
      ]
     },
     "execution_count": 35,
     "metadata": {},
     "output_type": "execute_result"
    }
   ],
   "source": [
    "len(age)%2"
   ]
  },
  {
   "cell_type": "code",
   "execution_count": 44,
   "metadata": {},
   "outputs": [
    {
     "data": {
      "text/plain": [
       "100"
      ]
     },
     "execution_count": 44,
     "metadata": {},
     "output_type": "execute_result"
    }
   ],
   "source": [
    "(round(age[3]))"
   ]
  },
  {
   "cell_type": "raw",
   "metadata": {},
   "source": [
    "a = round(5/2)\n",
    "print (a)"
   ]
  },
  {
   "cell_type": "code",
   "execution_count": 45,
   "metadata": {},
   "outputs": [
    {
     "data": {
      "text/plain": [
       "42.5"
      ]
     },
     "execution_count": 45,
     "metadata": {},
     "output_type": "execute_result"
    }
   ],
   "source": [
    "age[int(len(age)/2-1)]"
   ]
  },
  {
   "cell_type": "code",
   "execution_count": 32,
   "metadata": {},
   "outputs": [
    {
     "data": {
      "text/plain": [
       "70.1"
      ]
     },
     "execution_count": 32,
     "metadata": {},
     "output_type": "execute_result"
    }
   ],
   "source": [
    "n= int(len(age)/2)\n",
    "age[n]"
   ]
  },
  {
   "cell_type": "code",
   "execution_count": 49,
   "metadata": {},
   "outputs": [
    {
     "name": "stdout",
     "output_type": "stream",
     "text": [
      "no\n"
     ]
    }
   ],
   "source": [
    "#v = 1\n",
    "if False:\n",
    "    print('yes')a\n",
    "else: \n",
    "    print('no')"
   ]
  },
  {
   "cell_type": "code",
   "execution_count": 50,
   "metadata": {},
   "outputs": [
    {
     "name": "stdout",
     "output_type": "stream",
     "text": [
      "yes\n"
     ]
    }
   ],
   "source": [
    "if True:\n",
    "    print('yes')\n",
    "else:\n",
    "    print('no')"
   ]
  },
  {
   "cell_type": "code",
   "execution_count": null,
   "metadata": {},
   "outputs": [],
   "source": [
    "age[round()]"
   ]
  },
  {
   "cell_type": "code",
   "execution_count": 61,
   "metadata": {},
   "outputs": [
    {
     "name": "stdout",
     "output_type": "stream",
     "text": [
      "median is 56.3\n"
     ]
    }
   ],
   "source": [
    "def mymed(age):\n",
    "    age.sort()\n",
    "    if len(age)%2 == 0:\n",
    "        med = (age[int(len(age)/2)]+age[int(len(age)/2-1)])/2\n",
    "    else:    \n",
    "        med = age[round(len(age)/2)]\n",
    "    return \"median is \" + str(round(med,2))\n",
    "\n",
    "print(mymed(age))\n",
    "        \n",
    "    "
   ]
  },
  {
   "cell_type": "code",
   "execution_count": 58,
   "metadata": {},
   "outputs": [
    {
     "data": {
      "text/plain": [
       "'median is 3'"
      ]
     },
     "execution_count": 58,
     "metadata": {},
     "output_type": "execute_result"
    }
   ],
   "source": [
    "age1 = [1,2,3,4,5]\n",
    "mymed(age1)"
   ]
  },
  {
   "cell_type": "code",
   "execution_count": 59,
   "metadata": {},
   "outputs": [
    {
     "data": {
      "text/plain": [
       "'median is 2.5'"
      ]
     },
     "execution_count": 59,
     "metadata": {},
     "output_type": "execute_result"
    }
   ],
   "source": [
    "age2=[1,2,3,4]\n",
    "mymed(age2)"
   ]
  },
  {
   "cell_type": "code",
   "execution_count": 60,
   "metadata": {},
   "outputs": [
    {
     "data": {
      "text/plain": [
       "'median is 3.5'"
      ]
     },
     "execution_count": 60,
     "metadata": {},
     "output_type": "execute_result"
    }
   ],
   "source": [
    "age3=[1,2,3,4,5,6]\n",
    "mymed(age3)"
   ]
  },
  {
   "cell_type": "code",
   "execution_count": null,
   "metadata": {},
   "outputs": [],
   "source": []
  }
 ],
 "metadata": {
  "kernelspec": {
   "display_name": "Python 3",
   "language": "python",
   "name": "python3"
  },
  "language_info": {
   "codemirror_mode": {
    "name": "ipython",
    "version": 3
   },
   "file_extension": ".py",
   "mimetype": "text/x-python",
   "name": "python",
   "nbconvert_exporter": "python",
   "pygments_lexer": "ipython3",
   "version": "3.7.3"
  }
 },
 "nbformat": 4,
 "nbformat_minor": 2
}
